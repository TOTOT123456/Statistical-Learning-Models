{
  "cells": [
    {
      "cell_type": "markdown",
      "id": "8ce1517f-7258-406d-9139-9adadb1a1570",
      "metadata": {
        "id": "8ce1517f-7258-406d-9139-9adadb1a1570"
      },
      "source": [
        "<img src=\"https://www.luxonis.com/logo.svg\" width=\"400\">\n",
        "\n",
        "# DataDreamer Tutorial: Generating a dataset for object detection, training a model, and deploying it to the OAK"
      ]
    },
    {
      "cell_type": "markdown",
      "id": "622efdfa",
      "metadata": {
        "id": "622efdfa"
      },
      "source": [
        "Install the required dependencies."
      ]
    },
    {
      "cell_type": "code",
      "execution_count": 1,
      "id": "b5_2ivH03etO",
      "metadata": {
        "colab": {
          "base_uri": "https://localhost:8080/",
          "height": 1000
        },
        "id": "b5_2ivH03etO",
        "outputId": "3989e7a8-a37f-4fb6-fcb4-3521d5e480c9"
      },
      "outputs": [
        {
          "output_type": "stream",
          "name": "stdout",
          "text": [
            "Collecting datadreamer\n",
            "  Downloading datadreamer-0.2.1-py3-none-any.whl.metadata (32 kB)\n",
            "Collecting torch<=2.5.1,>=2.0.0 (from datadreamer)\n",
            "  Downloading torch-2.5.1-cp311-cp311-manylinux1_x86_64.whl.metadata (28 kB)\n",
            "Requirement already satisfied: torchvision>=0.16.0 in /usr/local/lib/python3.11/dist-packages (from datadreamer) (0.21.0+cu124)\n",
            "Requirement already satisfied: transformers>=4.45.2 in /usr/local/lib/python3.11/dist-packages (from datadreamer) (4.54.1)\n",
            "Requirement already satisfied: diffusers>=0.31.0 in /usr/local/lib/python3.11/dist-packages (from datadreamer) (0.34.0)\n",
            "Collecting compel>=2.0.0 (from datadreamer)\n",
            "  Downloading compel-2.1.1-py3-none-any.whl.metadata (13 kB)\n",
            "Requirement already satisfied: tqdm>=4.0.0 in /usr/local/lib/python3.11/dist-packages (from datadreamer) (4.67.1)\n",
            "Requirement already satisfied: Pillow>=9.0.0 in /usr/local/lib/python3.11/dist-packages (from datadreamer) (11.3.0)\n",
            "Requirement already satisfied: numpy>=1.22.0 in /usr/local/lib/python3.11/dist-packages (from datadreamer) (2.0.2)\n",
            "Requirement already satisfied: matplotlib>=3.6.0 in /usr/local/lib/python3.11/dist-packages (from datadreamer) (3.10.0)\n",
            "Requirement already satisfied: opencv-python>=4.7.0 in /usr/local/lib/python3.11/dist-packages (from datadreamer) (4.12.0.88)\n",
            "Requirement already satisfied: accelerate>=0.25.0 in /usr/local/lib/python3.11/dist-packages (from datadreamer) (1.9.0)\n",
            "Requirement already satisfied: scipy>=1.10.0 in /usr/local/lib/python3.11/dist-packages (from datadreamer) (1.16.1)\n",
            "Collecting bitsandbytes>=0.42.0 (from datadreamer)\n",
            "  Downloading bitsandbytes-0.46.1-py3-none-manylinux_2_24_x86_64.whl.metadata (10 kB)\n",
            "Requirement already satisfied: nltk>=3.8.1 in /usr/local/lib/python3.11/dist-packages (from datadreamer) (3.9.1)\n",
            "Collecting luxonis-ml>=0.6.1 (from luxonis-ml[all]>=0.6.1->datadreamer)\n",
            "  Downloading luxonis_ml-0.7.3-py3-none-any.whl.metadata (26 kB)\n",
            "Requirement already satisfied: python-box>=7.1.1 in /usr/local/lib/python3.11/dist-packages (from datadreamer) (7.3.2)\n",
            "Requirement already satisfied: gcsfs>=2023.1.0 in /usr/local/lib/python3.11/dist-packages (from datadreamer) (2025.3.0)\n",
            "Requirement already satisfied: sentencepiece>=0.2.0 in /usr/local/lib/python3.11/dist-packages (from datadreamer) (0.2.0)\n",
            "Collecting optimum-quanto>=0.2.6 (from datadreamer)\n",
            "  Downloading optimum_quanto-0.2.7-py3-none-any.whl.metadata (13 kB)\n",
            "Requirement already satisfied: huggingface_hub>=0.28.1 in /usr/local/lib/python3.11/dist-packages (from datadreamer) (0.34.3)\n",
            "Collecting loguru>=0.7.0 (from datadreamer)\n",
            "  Downloading loguru-0.7.3-py3-none-any.whl.metadata (22 kB)\n",
            "Requirement already satisfied: pycocotools>=2.0.7 in /usr/local/lib/python3.11/dist-packages (from datadreamer) (2.0.10)\n",
            "Collecting sam2>=1.1.0 (from datadreamer)\n",
            "  Downloading sam2-1.1.0.tar.gz (152 kB)\n",
            "\u001b[2K     \u001b[90m━━━━━━━━━━━━━━━━━━━━━━━━━━━━━━━━━━━━━━\u001b[0m \u001b[32m152.8/152.8 kB\u001b[0m \u001b[31m10.8 MB/s\u001b[0m eta \u001b[36m0:00:00\u001b[0m\n",
            "\u001b[?25h  Installing build dependencies ... \u001b[?25l\u001b[?25hdone\n",
            "  Getting requirements to build wheel ... \u001b[?25l\u001b[?25hdone\n",
            "  Preparing metadata (pyproject.toml) ... \u001b[?25l\u001b[?25hdone\n",
            "Requirement already satisfied: packaging>=20.0 in /usr/local/lib/python3.11/dist-packages (from accelerate>=0.25.0->datadreamer) (25.0)\n",
            "Requirement already satisfied: psutil in /usr/local/lib/python3.11/dist-packages (from accelerate>=0.25.0->datadreamer) (5.9.5)\n",
            "Requirement already satisfied: pyyaml in /usr/local/lib/python3.11/dist-packages (from accelerate>=0.25.0->datadreamer) (6.0.2)\n",
            "Requirement already satisfied: safetensors>=0.4.3 in /usr/local/lib/python3.11/dist-packages (from accelerate>=0.25.0->datadreamer) (0.5.3)\n",
            "Requirement already satisfied: pyparsing~=3.0 in /usr/local/lib/python3.11/dist-packages (from compel>=2.0.0->datadreamer) (3.2.3)\n",
            "Requirement already satisfied: importlib_metadata in /usr/local/lib/python3.11/dist-packages (from diffusers>=0.31.0->datadreamer) (8.7.0)\n",
            "Requirement already satisfied: filelock in /usr/local/lib/python3.11/dist-packages (from diffusers>=0.31.0->datadreamer) (3.18.0)\n",
            "Requirement already satisfied: regex!=2019.12.17 in /usr/local/lib/python3.11/dist-packages (from diffusers>=0.31.0->datadreamer) (2024.11.6)\n",
            "Requirement already satisfied: requests in /usr/local/lib/python3.11/dist-packages (from diffusers>=0.31.0->datadreamer) (2.32.3)\n",
            "Requirement already satisfied: aiohttp!=4.0.0a0,!=4.0.0a1 in /usr/local/lib/python3.11/dist-packages (from gcsfs>=2023.1.0->datadreamer) (3.12.15)\n",
            "Requirement already satisfied: decorator>4.1.2 in /usr/local/lib/python3.11/dist-packages (from gcsfs>=2023.1.0->datadreamer) (4.4.2)\n",
            "Requirement already satisfied: fsspec==2025.3.0 in /usr/local/lib/python3.11/dist-packages (from gcsfs>=2023.1.0->datadreamer) (2025.3.0)\n",
            "Requirement already satisfied: google-auth>=1.2 in /usr/local/lib/python3.11/dist-packages (from gcsfs>=2023.1.0->datadreamer) (2.38.0)\n",
            "Requirement already satisfied: google-auth-oauthlib in /usr/local/lib/python3.11/dist-packages (from gcsfs>=2023.1.0->datadreamer) (1.2.2)\n",
            "Requirement already satisfied: google-cloud-storage in /usr/local/lib/python3.11/dist-packages (from gcsfs>=2023.1.0->datadreamer) (2.19.0)\n",
            "Requirement already satisfied: typing-extensions>=3.7.4.3 in /usr/local/lib/python3.11/dist-packages (from huggingface_hub>=0.28.1->datadreamer) (4.14.1)\n",
            "Requirement already satisfied: hf-xet<2.0.0,>=1.1.3 in /usr/local/lib/python3.11/dist-packages (from huggingface_hub>=0.28.1->datadreamer) (1.1.5)\n",
            "Requirement already satisfied: pydantic~=2.7 in /usr/local/lib/python3.11/dist-packages (from luxonis-ml>=0.6.1->luxonis-ml[all]>=0.6.1->datadreamer) (2.11.7)\n",
            "Collecting pydantic-settings~=2.1 (from luxonis-ml>=0.6.1->luxonis-ml[all]>=0.6.1->datadreamer)\n",
            "  Downloading pydantic_settings-2.10.1-py3-none-any.whl.metadata (3.4 kB)\n",
            "Requirement already satisfied: rich~=13.6 in /usr/local/lib/python3.11/dist-packages (from luxonis-ml>=0.6.1->luxonis-ml[all]>=0.6.1->datadreamer) (13.9.4)\n",
            "Requirement already satisfied: typer~=0.12 in /usr/local/lib/python3.11/dist-packages (from luxonis-ml>=0.6.1->luxonis-ml[all]>=0.6.1->datadreamer) (0.16.0)\n",
            "Requirement already satisfied: typeguard~=4.1 in /usr/local/lib/python3.11/dist-packages (from luxonis-ml>=0.6.1->luxonis-ml[all]>=0.6.1->datadreamer) (4.4.4)\n",
            "Collecting aiobotocore<2.18 (from luxonis-ml>=0.6.1->luxonis-ml[all]>=0.6.1->datadreamer)\n",
            "  Downloading aiobotocore-2.17.0-py3-none-any.whl.metadata (23 kB)\n",
            "Collecting numpy>=1.22.0 (from datadreamer)\n",
            "  Downloading numpy-1.26.4-cp311-cp311-manylinux_2_17_x86_64.manylinux2014_x86_64.whl.metadata (61 kB)\n",
            "\u001b[2K     \u001b[90m━━━━━━━━━━━━━━━━━━━━━━━━━━━━━━━━━━━━━━━━\u001b[0m \u001b[32m61.0/61.0 kB\u001b[0m \u001b[31m6.0 MB/s\u001b[0m eta \u001b[36m0:00:00\u001b[0m\n",
            "\u001b[?25hRequirement already satisfied: albumentations>=2.0.0 in /usr/local/lib/python3.11/dist-packages (from luxonis-ml[all]>=0.6.1->datadreamer) (2.0.8)\n",
            "Collecting pyarrow~=17.0 (from luxonis-ml[all]>=0.6.1->datadreamer)\n",
            "  Downloading pyarrow-17.0.0-cp311-cp311-manylinux_2_28_x86_64.whl.metadata (3.3 kB)\n",
            "Collecting polars~=0.20 (from polars[timezone]~=0.20; extra == \"all\"->luxonis-ml[all]>=0.6.1->datadreamer)\n",
            "  Downloading polars-0.20.31-cp38-abi3-manylinux_2_17_x86_64.manylinux2014_x86_64.whl.metadata (14 kB)\n",
            "Collecting ordered-set~=4.0 (from luxonis-ml[all]>=0.6.1->datadreamer)\n",
            "  Downloading ordered_set-4.1.0-py3-none-any.whl.metadata (5.3 kB)\n",
            "Collecting semver~=3.0 (from luxonis-ml[all]>=0.6.1->datadreamer)\n",
            "  Downloading semver-3.0.4-py3-none-any.whl.metadata (6.8 kB)\n",
            "Collecting bidict~=0.21 (from luxonis-ml[all]>=0.6.1->datadreamer)\n",
            "  Downloading bidict-0.23.1-py3-none-any.whl.metadata (8.7 kB)\n",
            "Collecting gdown~=4.7 (from luxonis-ml[all]>=0.6.1->datadreamer)\n",
            "  Downloading gdown-4.7.3-py3-none-any.whl.metadata (4.4 kB)\n",
            "Requirement already satisfied: defusedxml~=0.7 in /usr/local/lib/python3.11/dist-packages (from luxonis-ml[all]>=0.6.1->datadreamer) (0.7.1)\n",
            "Collecting pillow-heif<0.22.0 (from luxonis-ml[all]>=0.6.1->datadreamer)\n",
            "  Downloading pillow_heif-0.21.0-cp311-cp311-manylinux_2_17_x86_64.manylinux2014_x86_64.whl.metadata (9.8 kB)\n",
            "Collecting unique-names-generator>=1.0.2 (from luxonis-ml[all]>=0.6.1->datadreamer)\n",
            "  Downloading unique_names_generator-1.0.2-py2.py3-none-any.whl.metadata (2.7 kB)\n",
            "Collecting docker>=6.1.3 (from luxonis-ml[all]>=0.6.1->datadreamer)\n",
            "  Downloading docker-7.1.0-py3-none-any.whl.metadata (3.8 kB)\n",
            "Collecting KDEpy>=1.1.5 (from luxonis-ml[all]>=0.6.1->datadreamer)\n",
            "  Downloading kdepy-1.1.12-cp311-cp311-manylinux_2_17_x86_64.manylinux2014_x86_64.whl.metadata (7.7 kB)\n",
            "Collecting kmedoids>=0.4.3 (from luxonis-ml[all]>=0.6.1->datadreamer)\n",
            "  Downloading kmedoids-0.5.3.1-cp311-cp311-manylinux_2_28_x86_64.whl.metadata (9.6 kB)\n",
            "Collecting onnx>=1.14.0 (from luxonis-ml[all]>=0.6.1->datadreamer)\n",
            "  Downloading onnx-1.18.0-cp311-cp311-manylinux_2_17_x86_64.manylinux2014_x86_64.whl.metadata (6.9 kB)\n",
            "Collecting onnxruntime-gpu>=1.15.1 (from luxonis-ml[all]>=0.6.1->datadreamer)\n",
            "  Downloading onnxruntime_gpu-1.22.0-cp311-cp311-manylinux_2_27_x86_64.manylinux_2_28_x86_64.whl.metadata (4.9 kB)\n",
            "Collecting qdrant-client>=1.4.0 (from luxonis-ml[all]>=0.6.1->datadreamer)\n",
            "  Downloading qdrant_client-1.15.1-py3-none-any.whl.metadata (11 kB)\n",
            "Collecting weaviate-client>=4.4b2 (from luxonis-ml[all]>=0.6.1->datadreamer)\n",
            "  Downloading weaviate_client-4.16.6-py3-none-any.whl.metadata (3.7 kB)\n",
            "Requirement already satisfied: scikit-learn>=1.3.0 in /usr/local/lib/python3.11/dist-packages (from luxonis-ml[all]>=0.6.1->datadreamer) (1.6.1)\n",
            "Collecting roboflow~=1.1.0 (from luxonis-ml[all]>=0.6.1->datadreamer)\n",
            "  Downloading roboflow-1.1.67-py3-none-any.whl.metadata (9.7 kB)\n",
            "Collecting s3fs>=2023.3.0 (from luxonis-ml[all]>=0.6.1->datadreamer)\n",
            "  Downloading s3fs-2025.7.0-py3-none-any.whl.metadata (1.4 kB)\n",
            "Collecting mlflow~=3.1 (from luxonis-ml[all]>=0.6.1->datadreamer)\n",
            "  Downloading mlflow-3.2.0-py3-none-any.whl.metadata (29 kB)\n",
            "Requirement already satisfied: contourpy>=1.0.1 in /usr/local/lib/python3.11/dist-packages (from matplotlib>=3.6.0->datadreamer) (1.3.3)\n",
            "Requirement already satisfied: cycler>=0.10 in /usr/local/lib/python3.11/dist-packages (from matplotlib>=3.6.0->datadreamer) (0.12.1)\n",
            "Requirement already satisfied: fonttools>=4.22.0 in /usr/local/lib/python3.11/dist-packages (from matplotlib>=3.6.0->datadreamer) (4.59.0)\n",
            "Requirement already satisfied: kiwisolver>=1.3.1 in /usr/local/lib/python3.11/dist-packages (from matplotlib>=3.6.0->datadreamer) (1.4.8)\n",
            "Requirement already satisfied: python-dateutil>=2.7 in /usr/local/lib/python3.11/dist-packages (from matplotlib>=3.6.0->datadreamer) (2.9.0.post0)\n",
            "Requirement already satisfied: click in /usr/local/lib/python3.11/dist-packages (from nltk>=3.8.1->datadreamer) (8.2.1)\n",
            "Requirement already satisfied: joblib in /usr/local/lib/python3.11/dist-packages (from nltk>=3.8.1->datadreamer) (1.5.1)\n",
            "INFO: pip is looking at multiple versions of opencv-python to determine which version is compatible with other requirements. This could take a while.\n",
            "Collecting opencv-python>=4.7.0 (from datadreamer)\n",
            "  Downloading opencv_python-4.11.0.86-cp37-abi3-manylinux_2_17_x86_64.manylinux2014_x86_64.whl.metadata (20 kB)\n",
            "INFO: pip is looking at multiple versions of optimum-quanto to determine which version is compatible with other requirements. This could take a while.\n",
            "Collecting optimum-quanto>=0.2.6 (from datadreamer)\n",
            "  Downloading optimum_quanto-0.2.6-py3-none-any.whl.metadata (13 kB)\n",
            "Collecting ninja (from optimum-quanto>=0.2.6->datadreamer)\n",
            "  Downloading ninja-1.11.1.4-py3-none-manylinux_2_12_x86_64.manylinux2010_x86_64.whl.metadata (5.0 kB)\n",
            "Collecting hydra-core>=1.3.2 (from sam2>=1.1.0->datadreamer)\n",
            "  Downloading hydra_core-1.3.2-py3-none-any.whl.metadata (5.5 kB)\n",
            "Collecting iopath>=0.1.10 (from sam2>=1.1.0->datadreamer)\n",
            "  Downloading iopath-0.1.10.tar.gz (42 kB)\n",
            "\u001b[2K     \u001b[90m━━━━━━━━━━━━━━━━━━━━━━━━━━━━━━━━━━━━━━━━\u001b[0m \u001b[32m42.2/42.2 kB\u001b[0m \u001b[31m4.1 MB/s\u001b[0m eta \u001b[36m0:00:00\u001b[0m\n",
            "\u001b[?25h  Preparing metadata (setup.py) ... \u001b[?25l\u001b[?25hdone\n",
            "Requirement already satisfied: networkx in /usr/local/lib/python3.11/dist-packages (from torch<=2.5.1,>=2.0.0->datadreamer) (3.5)\n",
            "Requirement already satisfied: jinja2 in /usr/local/lib/python3.11/dist-packages (from torch<=2.5.1,>=2.0.0->datadreamer) (3.1.6)\n",
            "Collecting nvidia-cuda-nvrtc-cu12==12.4.127 (from torch<=2.5.1,>=2.0.0->datadreamer)\n",
            "  Downloading nvidia_cuda_nvrtc_cu12-12.4.127-py3-none-manylinux2014_x86_64.whl.metadata (1.5 kB)\n",
            "Collecting nvidia-cuda-runtime-cu12==12.4.127 (from torch<=2.5.1,>=2.0.0->datadreamer)\n",
            "  Downloading nvidia_cuda_runtime_cu12-12.4.127-py3-none-manylinux2014_x86_64.whl.metadata (1.5 kB)\n",
            "Collecting nvidia-cuda-cupti-cu12==12.4.127 (from torch<=2.5.1,>=2.0.0->datadreamer)\n",
            "  Downloading nvidia_cuda_cupti_cu12-12.4.127-py3-none-manylinux2014_x86_64.whl.metadata (1.6 kB)\n",
            "Collecting nvidia-cudnn-cu12==9.1.0.70 (from torch<=2.5.1,>=2.0.0->datadreamer)\n",
            "  Downloading nvidia_cudnn_cu12-9.1.0.70-py3-none-manylinux2014_x86_64.whl.metadata (1.6 kB)\n",
            "Collecting nvidia-cublas-cu12==12.4.5.8 (from torch<=2.5.1,>=2.0.0->datadreamer)\n",
            "  Downloading nvidia_cublas_cu12-12.4.5.8-py3-none-manylinux2014_x86_64.whl.metadata (1.5 kB)\n",
            "Collecting nvidia-cufft-cu12==11.2.1.3 (from torch<=2.5.1,>=2.0.0->datadreamer)\n",
            "  Downloading nvidia_cufft_cu12-11.2.1.3-py3-none-manylinux2014_x86_64.whl.metadata (1.5 kB)\n",
            "Collecting nvidia-curand-cu12==10.3.5.147 (from torch<=2.5.1,>=2.0.0->datadreamer)\n",
            "  Downloading nvidia_curand_cu12-10.3.5.147-py3-none-manylinux2014_x86_64.whl.metadata (1.5 kB)\n",
            "Collecting nvidia-cusolver-cu12==11.6.1.9 (from torch<=2.5.1,>=2.0.0->datadreamer)\n",
            "  Downloading nvidia_cusolver_cu12-11.6.1.9-py3-none-manylinux2014_x86_64.whl.metadata (1.6 kB)\n",
            "Collecting nvidia-cusparse-cu12==12.3.1.170 (from torch<=2.5.1,>=2.0.0->datadreamer)\n",
            "  Downloading nvidia_cusparse_cu12-12.3.1.170-py3-none-manylinux2014_x86_64.whl.metadata (1.6 kB)\n",
            "Collecting nvidia-nccl-cu12==2.21.5 (from torch<=2.5.1,>=2.0.0->datadreamer)\n",
            "  Downloading nvidia_nccl_cu12-2.21.5-py3-none-manylinux2014_x86_64.whl.metadata (1.8 kB)\n",
            "Requirement already satisfied: nvidia-nvtx-cu12==12.4.127 in /usr/local/lib/python3.11/dist-packages (from torch<=2.5.1,>=2.0.0->datadreamer) (12.4.127)\n",
            "Collecting nvidia-nvjitlink-cu12==12.4.127 (from torch<=2.5.1,>=2.0.0->datadreamer)\n",
            "  Downloading nvidia_nvjitlink_cu12-12.4.127-py3-none-manylinux2014_x86_64.whl.metadata (1.5 kB)\n",
            "Collecting triton==3.1.0 (from torch<=2.5.1,>=2.0.0->datadreamer)\n",
            "  Downloading triton-3.1.0-cp311-cp311-manylinux_2_17_x86_64.manylinux2014_x86_64.whl.metadata (1.3 kB)\n",
            "Requirement already satisfied: sympy==1.13.1 in /usr/local/lib/python3.11/dist-packages (from torch<=2.5.1,>=2.0.0->datadreamer) (1.13.1)\n",
            "Requirement already satisfied: mpmath<1.4,>=1.1.0 in /usr/local/lib/python3.11/dist-packages (from sympy==1.13.1->torch<=2.5.1,>=2.0.0->datadreamer) (1.3.0)\n",
            "INFO: pip is looking at multiple versions of torchvision to determine which version is compatible with other requirements. This could take a while.\n",
            "Collecting torchvision>=0.16.0 (from datadreamer)\n",
            "  Downloading torchvision-0.23.0-cp311-cp311-manylinux_2_28_x86_64.whl.metadata (6.1 kB)\n",
            "  Downloading torchvision-0.22.1-cp311-cp311-manylinux_2_28_x86_64.whl.metadata (6.1 kB)\n",
            "  Downloading torchvision-0.22.0-cp311-cp311-manylinux_2_28_x86_64.whl.metadata (6.1 kB)\n",
            "  Downloading torchvision-0.21.0-cp311-cp311-manylinux1_x86_64.whl.metadata (6.1 kB)\n",
            "  Downloading torchvision-0.20.1-cp311-cp311-manylinux1_x86_64.whl.metadata (6.1 kB)\n",
            "Requirement already satisfied: tokenizers<0.22,>=0.21 in /usr/local/lib/python3.11/dist-packages (from transformers>=4.45.2->datadreamer) (0.21.4)\n",
            "Collecting aioitertools<1.0.0,>=0.5.1 (from aiobotocore<2.18->luxonis-ml>=0.6.1->luxonis-ml[all]>=0.6.1->datadreamer)\n",
            "  Downloading aioitertools-0.12.0-py3-none-any.whl.metadata (3.8 kB)\n",
            "Collecting botocore<1.35.94,>=1.35.74 (from aiobotocore<2.18->luxonis-ml>=0.6.1->luxonis-ml[all]>=0.6.1->datadreamer)\n",
            "  Downloading botocore-1.35.93-py3-none-any.whl.metadata (5.7 kB)\n",
            "Collecting jmespath<2.0.0,>=0.7.1 (from aiobotocore<2.18->luxonis-ml>=0.6.1->luxonis-ml[all]>=0.6.1->datadreamer)\n",
            "  Downloading jmespath-1.0.1-py3-none-any.whl.metadata (7.6 kB)\n",
            "Requirement already satisfied: multidict<7.0.0,>=6.0.0 in /usr/local/lib/python3.11/dist-packages (from aiobotocore<2.18->luxonis-ml>=0.6.1->luxonis-ml[all]>=0.6.1->datadreamer) (6.6.3)\n",
            "Requirement already satisfied: urllib3!=2.2.0,<3,>=1.25.4 in /usr/local/lib/python3.11/dist-packages (from aiobotocore<2.18->luxonis-ml>=0.6.1->luxonis-ml[all]>=0.6.1->datadreamer) (2.5.0)\n",
            "Requirement already satisfied: wrapt<2.0.0,>=1.10.10 in /usr/local/lib/python3.11/dist-packages (from aiobotocore<2.18->luxonis-ml>=0.6.1->luxonis-ml[all]>=0.6.1->datadreamer) (1.17.2)\n",
            "Requirement already satisfied: aiohappyeyeballs>=2.5.0 in /usr/local/lib/python3.11/dist-packages (from aiohttp!=4.0.0a0,!=4.0.0a1->gcsfs>=2023.1.0->datadreamer) (2.6.1)\n",
            "Requirement already satisfied: aiosignal>=1.4.0 in /usr/local/lib/python3.11/dist-packages (from aiohttp!=4.0.0a0,!=4.0.0a1->gcsfs>=2023.1.0->datadreamer) (1.4.0)\n",
            "Requirement already satisfied: attrs>=17.3.0 in /usr/local/lib/python3.11/dist-packages (from aiohttp!=4.0.0a0,!=4.0.0a1->gcsfs>=2023.1.0->datadreamer) (25.3.0)\n",
            "Requirement already satisfied: frozenlist>=1.1.1 in /usr/local/lib/python3.11/dist-packages (from aiohttp!=4.0.0a0,!=4.0.0a1->gcsfs>=2023.1.0->datadreamer) (1.7.0)\n",
            "Requirement already satisfied: propcache>=0.2.0 in /usr/local/lib/python3.11/dist-packages (from aiohttp!=4.0.0a0,!=4.0.0a1->gcsfs>=2023.1.0->datadreamer) (0.3.2)\n",
            "Requirement already satisfied: yarl<2.0,>=1.17.0 in /usr/local/lib/python3.11/dist-packages (from aiohttp!=4.0.0a0,!=4.0.0a1->gcsfs>=2023.1.0->datadreamer) (1.20.1)\n",
            "Requirement already satisfied: albucore==0.0.24 in /usr/local/lib/python3.11/dist-packages (from albumentations>=2.0.0->luxonis-ml[all]>=0.6.1->datadreamer) (0.0.24)\n",
            "Requirement already satisfied: opencv-python-headless>=4.9.0.80 in /usr/local/lib/python3.11/dist-packages (from albumentations>=2.0.0->luxonis-ml[all]>=0.6.1->datadreamer) (4.12.0.88)\n",
            "Requirement already satisfied: stringzilla>=3.10.4 in /usr/local/lib/python3.11/dist-packages (from albucore==0.0.24->albumentations>=2.0.0->luxonis-ml[all]>=0.6.1->datadreamer) (3.12.5)\n",
            "Requirement already satisfied: simsimd>=5.9.2 in /usr/local/lib/python3.11/dist-packages (from albucore==0.0.24->albumentations>=2.0.0->luxonis-ml[all]>=0.6.1->datadreamer) (6.5.0)\n",
            "Requirement already satisfied: six in /usr/local/lib/python3.11/dist-packages (from gdown~=4.7->luxonis-ml[all]>=0.6.1->datadreamer) (1.17.0)\n",
            "Requirement already satisfied: beautifulsoup4 in /usr/local/lib/python3.11/dist-packages (from gdown~=4.7->luxonis-ml[all]>=0.6.1->datadreamer) (4.13.4)\n",
            "Requirement already satisfied: cachetools<6.0,>=2.0.0 in /usr/local/lib/python3.11/dist-packages (from google-auth>=1.2->gcsfs>=2023.1.0->datadreamer) (5.5.2)\n",
            "Requirement already satisfied: pyasn1-modules>=0.2.1 in /usr/local/lib/python3.11/dist-packages (from google-auth>=1.2->gcsfs>=2023.1.0->datadreamer) (0.4.2)\n",
            "Requirement already satisfied: rsa<5,>=3.1.4 in /usr/local/lib/python3.11/dist-packages (from google-auth>=1.2->gcsfs>=2023.1.0->datadreamer) (4.9.1)\n",
            "Requirement already satisfied: omegaconf<2.4,>=2.2 in /usr/local/lib/python3.11/dist-packages (from hydra-core>=1.3.2->sam2>=1.1.0->datadreamer) (2.3.0)\n",
            "Requirement already satisfied: antlr4-python3-runtime==4.9.* in /usr/local/lib/python3.11/dist-packages (from hydra-core>=1.3.2->sam2>=1.1.0->datadreamer) (4.9.3)\n",
            "Collecting portalocker (from iopath>=0.1.10->sam2>=1.1.0->datadreamer)\n",
            "  Downloading portalocker-3.2.0-py3-none-any.whl.metadata (8.7 kB)\n",
            "Collecting mlflow-skinny==3.2.0 (from mlflow~=3.1->luxonis-ml[all]>=0.6.1->datadreamer)\n",
            "  Downloading mlflow_skinny-3.2.0-py3-none-any.whl.metadata (30 kB)\n",
            "Collecting mlflow-tracing==3.2.0 (from mlflow~=3.1->luxonis-ml[all]>=0.6.1->datadreamer)\n",
            "  Downloading mlflow_tracing-3.2.0-py3-none-any.whl.metadata (19 kB)\n",
            "Requirement already satisfied: Flask<4 in /usr/local/lib/python3.11/dist-packages (from mlflow~=3.1->luxonis-ml[all]>=0.6.1->datadreamer) (3.1.1)\n",
            "Collecting alembic!=1.10.0,<2 (from mlflow~=3.1->luxonis-ml[all]>=0.6.1->datadreamer)\n",
            "  Downloading alembic-1.16.4-py3-none-any.whl.metadata (7.3 kB)\n",
            "Collecting graphene<4 (from mlflow~=3.1->luxonis-ml[all]>=0.6.1->datadreamer)\n",
            "  Downloading graphene-3.4.3-py2.py3-none-any.whl.metadata (6.9 kB)\n",
            "Collecting gunicorn<24 (from mlflow~=3.1->luxonis-ml[all]>=0.6.1->datadreamer)\n",
            "  Downloading gunicorn-23.0.0-py3-none-any.whl.metadata (4.4 kB)\n",
            "Requirement already satisfied: pandas<3 in /usr/local/lib/python3.11/dist-packages (from mlflow~=3.1->luxonis-ml[all]>=0.6.1->datadreamer) (2.2.2)\n",
            "Requirement already satisfied: sqlalchemy<3,>=1.4.0 in /usr/local/lib/python3.11/dist-packages (from mlflow~=3.1->luxonis-ml[all]>=0.6.1->datadreamer) (2.0.42)\n",
            "Requirement already satisfied: cloudpickle<4 in /usr/local/lib/python3.11/dist-packages (from mlflow-skinny==3.2.0->mlflow~=3.1->luxonis-ml[all]>=0.6.1->datadreamer) (3.1.1)\n",
            "Collecting databricks-sdk<1,>=0.20.0 (from mlflow-skinny==3.2.0->mlflow~=3.1->luxonis-ml[all]>=0.6.1->datadreamer)\n",
            "  Downloading databricks_sdk-0.62.0-py3-none-any.whl.metadata (39 kB)\n",
            "Requirement already satisfied: fastapi<1 in /usr/local/lib/python3.11/dist-packages (from mlflow-skinny==3.2.0->mlflow~=3.1->luxonis-ml[all]>=0.6.1->datadreamer) (0.116.1)\n",
            "Requirement already satisfied: gitpython<4,>=3.1.9 in /usr/local/lib/python3.11/dist-packages (from mlflow-skinny==3.2.0->mlflow~=3.1->luxonis-ml[all]>=0.6.1->datadreamer) (3.1.45)\n",
            "Collecting opentelemetry-api<3,>=1.9.0 (from mlflow-skinny==3.2.0->mlflow~=3.1->luxonis-ml[all]>=0.6.1->datadreamer)\n",
            "  Downloading opentelemetry_api-1.36.0-py3-none-any.whl.metadata (1.5 kB)\n",
            "Collecting opentelemetry-sdk<3,>=1.9.0 (from mlflow-skinny==3.2.0->mlflow~=3.1->luxonis-ml[all]>=0.6.1->datadreamer)\n",
            "  Downloading opentelemetry_sdk-1.36.0-py3-none-any.whl.metadata (1.5 kB)\n",
            "Requirement already satisfied: protobuf<7,>=3.12.0 in /usr/local/lib/python3.11/dist-packages (from mlflow-skinny==3.2.0->mlflow~=3.1->luxonis-ml[all]>=0.6.1->datadreamer) (5.29.5)\n",
            "Requirement already satisfied: sqlparse<1,>=0.4.0 in /usr/local/lib/python3.11/dist-packages (from mlflow-skinny==3.2.0->mlflow~=3.1->luxonis-ml[all]>=0.6.1->datadreamer) (0.5.3)\n",
            "Requirement already satisfied: uvicorn<1 in /usr/local/lib/python3.11/dist-packages (from mlflow-skinny==3.2.0->mlflow~=3.1->luxonis-ml[all]>=0.6.1->datadreamer) (0.35.0)\n",
            "Requirement already satisfied: zipp>=3.20 in /usr/local/lib/python3.11/dist-packages (from importlib_metadata->diffusers>=0.31.0->datadreamer) (3.23.0)\n",
            "Collecting coloredlogs (from onnxruntime-gpu>=1.15.1->luxonis-ml[all]>=0.6.1->datadreamer)\n",
            "  Downloading coloredlogs-15.0.1-py2.py3-none-any.whl.metadata (12 kB)\n",
            "Requirement already satisfied: flatbuffers in /usr/local/lib/python3.11/dist-packages (from onnxruntime-gpu>=1.15.1->luxonis-ml[all]>=0.6.1->datadreamer) (25.2.10)\n",
            "Requirement already satisfied: annotated-types>=0.6.0 in /usr/local/lib/python3.11/dist-packages (from pydantic~=2.7->luxonis-ml>=0.6.1->luxonis-ml[all]>=0.6.1->datadreamer) (0.7.0)\n",
            "Requirement already satisfied: pydantic-core==2.33.2 in /usr/local/lib/python3.11/dist-packages (from pydantic~=2.7->luxonis-ml>=0.6.1->luxonis-ml[all]>=0.6.1->datadreamer) (2.33.2)\n",
            "Requirement already satisfied: typing-inspection>=0.4.0 in /usr/local/lib/python3.11/dist-packages (from pydantic~=2.7->luxonis-ml>=0.6.1->luxonis-ml[all]>=0.6.1->datadreamer) (0.4.1)\n",
            "Collecting python-dotenv>=0.21.0 (from pydantic-settings~=2.1->luxonis-ml>=0.6.1->luxonis-ml[all]>=0.6.1->datadreamer)\n",
            "  Downloading python_dotenv-1.1.1-py3-none-any.whl.metadata (24 kB)\n",
            "Requirement already satisfied: grpcio>=1.41.0 in /usr/local/lib/python3.11/dist-packages (from qdrant-client>=1.4.0->luxonis-ml[all]>=0.6.1->datadreamer) (1.74.0)\n",
            "Requirement already satisfied: httpx>=0.20.0 in /usr/local/lib/python3.11/dist-packages (from httpx[http2]>=0.20.0->qdrant-client>=1.4.0->luxonis-ml[all]>=0.6.1->datadreamer) (0.28.1)\n",
            "Requirement already satisfied: charset-normalizer<4,>=2 in /usr/local/lib/python3.11/dist-packages (from requests->diffusers>=0.31.0->datadreamer) (3.4.2)\n",
            "Requirement already satisfied: idna<4,>=2.5 in /usr/local/lib/python3.11/dist-packages (from requests->diffusers>=0.31.0->datadreamer) (3.10)\n",
            "Requirement already satisfied: certifi>=2017.4.17 in /usr/local/lib/python3.11/dist-packages (from requests->diffusers>=0.31.0->datadreamer) (2025.8.3)\n",
            "Requirement already satisfied: markdown-it-py>=2.2.0 in /usr/local/lib/python3.11/dist-packages (from rich~=13.6->luxonis-ml>=0.6.1->luxonis-ml[all]>=0.6.1->datadreamer) (3.0.0)\n",
            "Requirement already satisfied: pygments<3.0.0,>=2.13.0 in /usr/local/lib/python3.11/dist-packages (from rich~=13.6->luxonis-ml>=0.6.1->luxonis-ml[all]>=0.6.1->datadreamer) (2.19.2)\n",
            "Collecting idna<4,>=2.5 (from requests->diffusers>=0.31.0->datadreamer)\n",
            "  Downloading idna-3.7-py3-none-any.whl.metadata (9.9 kB)\n",
            "Collecting opencv-python-headless>=4.9.0.80 (from albumentations>=2.0.0->luxonis-ml[all]>=0.6.1->datadreamer)\n",
            "  Downloading opencv_python_headless-4.10.0.84-cp37-abi3-manylinux_2_17_x86_64.manylinux2014_x86_64.whl.metadata (20 kB)\n",
            "Requirement already satisfied: requests-toolbelt in /usr/local/lib/python3.11/dist-packages (from roboflow~=1.1.0->luxonis-ml[all]>=0.6.1->datadreamer) (1.0.0)\n",
            "Collecting filetype (from roboflow~=1.1.0->luxonis-ml[all]>=0.6.1->datadreamer)\n",
            "  Downloading filetype-1.2.0-py2.py3-none-any.whl.metadata (6.5 kB)\n",
            "INFO: pip is looking at multiple versions of s3fs to determine which version is compatible with other requirements. This could take a while.\n",
            "Collecting s3fs>=2023.3.0 (from luxonis-ml[all]>=0.6.1->datadreamer)\n",
            "  Downloading s3fs-2025.5.1-py3-none-any.whl.metadata (1.9 kB)\n",
            "  Downloading s3fs-2025.5.0-py3-none-any.whl.metadata (1.9 kB)\n",
            "  Downloading s3fs-2025.3.2-py3-none-any.whl.metadata (1.9 kB)\n",
            "  Downloading s3fs-2025.3.1-py3-none-any.whl.metadata (1.9 kB)\n",
            "  Downloading s3fs-2025.3.0-py3-none-any.whl.metadata (1.9 kB)\n",
            "Requirement already satisfied: threadpoolctl>=3.1.0 in /usr/local/lib/python3.11/dist-packages (from scikit-learn>=1.3.0->luxonis-ml[all]>=0.6.1->datadreamer) (3.6.0)\n",
            "Requirement already satisfied: shellingham>=1.3.0 in /usr/local/lib/python3.11/dist-packages (from typer~=0.12->luxonis-ml>=0.6.1->luxonis-ml[all]>=0.6.1->datadreamer) (1.5.4)\n",
            "Collecting validators<1.0.0,>=0.34.0 (from weaviate-client>=4.4b2->luxonis-ml[all]>=0.6.1->datadreamer)\n",
            "  Downloading validators-0.35.0-py3-none-any.whl.metadata (3.9 kB)\n",
            "Collecting authlib<2.0.0,>=1.2.1 (from weaviate-client>=4.4b2->luxonis-ml[all]>=0.6.1->datadreamer)\n",
            "  Downloading authlib-1.6.1-py2.py3-none-any.whl.metadata (1.6 kB)\n",
            "Collecting grpcio-health-checking<1.80.0,>=1.59.5 (from weaviate-client>=4.4b2->luxonis-ml[all]>=0.6.1->datadreamer)\n",
            "  Downloading grpcio_health_checking-1.74.0-py3-none-any.whl.metadata (1.0 kB)\n",
            "Collecting deprecation<3.0.0,>=2.1.0 (from weaviate-client>=4.4b2->luxonis-ml[all]>=0.6.1->datadreamer)\n",
            "  Downloading deprecation-2.1.0-py2.py3-none-any.whl.metadata (4.6 kB)\n",
            "Requirement already satisfied: requests-oauthlib>=0.7.0 in /usr/local/lib/python3.11/dist-packages (from google-auth-oauthlib->gcsfs>=2023.1.0->datadreamer) (2.0.0)\n",
            "Requirement already satisfied: google-api-core<3.0.0dev,>=2.15.0 in /usr/local/lib/python3.11/dist-packages (from google-cloud-storage->gcsfs>=2023.1.0->datadreamer) (2.25.1)\n",
            "Requirement already satisfied: google-cloud-core<3.0dev,>=2.3.0 in /usr/local/lib/python3.11/dist-packages (from google-cloud-storage->gcsfs>=2023.1.0->datadreamer) (2.4.3)\n",
            "Requirement already satisfied: google-resumable-media>=2.7.2 in /usr/local/lib/python3.11/dist-packages (from google-cloud-storage->gcsfs>=2023.1.0->datadreamer) (2.7.2)\n",
            "Requirement already satisfied: google-crc32c<2.0dev,>=1.0 in /usr/local/lib/python3.11/dist-packages (from google-cloud-storage->gcsfs>=2023.1.0->datadreamer) (1.7.1)\n",
            "Requirement already satisfied: MarkupSafe>=2.0 in /usr/local/lib/python3.11/dist-packages (from jinja2->torch<=2.5.1,>=2.0.0->datadreamer) (3.0.2)\n",
            "Requirement already satisfied: Mako in /usr/lib/python3/dist-packages (from alembic!=1.10.0,<2->mlflow~=3.1->luxonis-ml[all]>=0.6.1->datadreamer) (1.1.3)\n",
            "Requirement already satisfied: cryptography in /usr/local/lib/python3.11/dist-packages (from authlib<2.0.0,>=1.2.1->weaviate-client>=4.4b2->luxonis-ml[all]>=0.6.1->datadreamer) (43.0.3)\n",
            "Requirement already satisfied: blinker>=1.9.0 in /usr/local/lib/python3.11/dist-packages (from Flask<4->mlflow~=3.1->luxonis-ml[all]>=0.6.1->datadreamer) (1.9.0)\n",
            "Requirement already satisfied: itsdangerous>=2.2.0 in /usr/local/lib/python3.11/dist-packages (from Flask<4->mlflow~=3.1->luxonis-ml[all]>=0.6.1->datadreamer) (2.2.0)\n",
            "Requirement already satisfied: werkzeug>=3.1.0 in /usr/local/lib/python3.11/dist-packages (from Flask<4->mlflow~=3.1->luxonis-ml[all]>=0.6.1->datadreamer) (3.1.3)\n",
            "Requirement already satisfied: googleapis-common-protos<2.0.0,>=1.56.2 in /usr/local/lib/python3.11/dist-packages (from google-api-core<3.0.0dev,>=2.15.0->google-cloud-storage->gcsfs>=2023.1.0->datadreamer) (1.70.0)\n",
            "Requirement already satisfied: proto-plus<2.0.0,>=1.22.3 in /usr/local/lib/python3.11/dist-packages (from google-api-core<3.0.0dev,>=2.15.0->google-cloud-storage->gcsfs>=2023.1.0->datadreamer) (1.26.1)\n",
            "Collecting graphql-core<3.3,>=3.1 (from graphene<4->mlflow~=3.1->luxonis-ml[all]>=0.6.1->datadreamer)\n",
            "  Downloading graphql_core-3.2.6-py3-none-any.whl.metadata (11 kB)\n",
            "Collecting graphql-relay<3.3,>=3.1 (from graphene<4->mlflow~=3.1->luxonis-ml[all]>=0.6.1->datadreamer)\n",
            "  Downloading graphql_relay-3.2.0-py3-none-any.whl.metadata (12 kB)\n",
            "Collecting protobuf<7,>=3.12.0 (from mlflow-skinny==3.2.0->mlflow~=3.1->luxonis-ml[all]>=0.6.1->datadreamer)\n",
            "  Downloading protobuf-6.31.1-cp39-abi3-manylinux2014_x86_64.whl.metadata (593 bytes)\n",
            "Requirement already satisfied: anyio in /usr/local/lib/python3.11/dist-packages (from httpx>=0.20.0->httpx[http2]>=0.20.0->qdrant-client>=1.4.0->luxonis-ml[all]>=0.6.1->datadreamer) (4.10.0)\n",
            "Requirement already satisfied: httpcore==1.* in /usr/local/lib/python3.11/dist-packages (from httpx>=0.20.0->httpx[http2]>=0.20.0->qdrant-client>=1.4.0->luxonis-ml[all]>=0.6.1->datadreamer) (1.0.9)\n",
            "Requirement already satisfied: h11>=0.16 in /usr/local/lib/python3.11/dist-packages (from httpcore==1.*->httpx>=0.20.0->httpx[http2]>=0.20.0->qdrant-client>=1.4.0->luxonis-ml[all]>=0.6.1->datadreamer) (0.16.0)\n",
            "Requirement already satisfied: h2<5,>=3 in /usr/local/lib/python3.11/dist-packages (from httpx[http2]>=0.20.0->qdrant-client>=1.4.0->luxonis-ml[all]>=0.6.1->datadreamer) (4.2.0)\n",
            "Requirement already satisfied: mdurl~=0.1 in /usr/local/lib/python3.11/dist-packages (from markdown-it-py>=2.2.0->rich~=13.6->luxonis-ml>=0.6.1->luxonis-ml[all]>=0.6.1->datadreamer) (0.1.2)\n",
            "Requirement already satisfied: pytz>=2020.1 in /usr/local/lib/python3.11/dist-packages (from pandas<3->mlflow~=3.1->luxonis-ml[all]>=0.6.1->datadreamer) (2025.2)\n",
            "Requirement already satisfied: tzdata>=2022.7 in /usr/local/lib/python3.11/dist-packages (from pandas<3->mlflow~=3.1->luxonis-ml[all]>=0.6.1->datadreamer) (2025.2)\n",
            "Requirement already satisfied: pyasn1<0.7.0,>=0.6.1 in /usr/local/lib/python3.11/dist-packages (from pyasn1-modules>=0.2.1->google-auth>=1.2->gcsfs>=2023.1.0->datadreamer) (0.6.1)\n",
            "Requirement already satisfied: oauthlib>=3.0.0 in /usr/local/lib/python3.11/dist-packages (from requests-oauthlib>=0.7.0->google-auth-oauthlib->gcsfs>=2023.1.0->datadreamer) (3.3.1)\n",
            "Requirement already satisfied: greenlet>=1 in /usr/local/lib/python3.11/dist-packages (from sqlalchemy<3,>=1.4.0->mlflow~=3.1->luxonis-ml[all]>=0.6.1->datadreamer) (3.2.3)\n",
            "Requirement already satisfied: soupsieve>1.2 in /usr/local/lib/python3.11/dist-packages (from beautifulsoup4->gdown~=4.7->luxonis-ml[all]>=0.6.1->datadreamer) (2.7)\n",
            "Collecting humanfriendly>=9.1 (from coloredlogs->onnxruntime-gpu>=1.15.1->luxonis-ml[all]>=0.6.1->datadreamer)\n",
            "  Downloading humanfriendly-10.0-py2.py3-none-any.whl.metadata (9.2 kB)\n",
            "Requirement already satisfied: PySocks!=1.5.7,>=1.5.6 in /usr/local/lib/python3.11/dist-packages (from requests[socks]->gdown~=4.7->luxonis-ml[all]>=0.6.1->datadreamer) (1.7.1)\n",
            "Requirement already satisfied: starlette<0.48.0,>=0.40.0 in /usr/local/lib/python3.11/dist-packages (from fastapi<1->mlflow-skinny==3.2.0->mlflow~=3.1->luxonis-ml[all]>=0.6.1->datadreamer) (0.47.2)\n",
            "Requirement already satisfied: gitdb<5,>=4.0.1 in /usr/local/lib/python3.11/dist-packages (from gitpython<4,>=3.1.9->mlflow-skinny==3.2.0->mlflow~=3.1->luxonis-ml[all]>=0.6.1->datadreamer) (4.0.12)\n",
            "Requirement already satisfied: hyperframe<7,>=6.1 in /usr/local/lib/python3.11/dist-packages (from h2<5,>=3->httpx[http2]>=0.20.0->qdrant-client>=1.4.0->luxonis-ml[all]>=0.6.1->datadreamer) (6.1.0)\n",
            "Requirement already satisfied: hpack<5,>=4.1 in /usr/local/lib/python3.11/dist-packages (from h2<5,>=3->httpx[http2]>=0.20.0->qdrant-client>=1.4.0->luxonis-ml[all]>=0.6.1->datadreamer) (4.1.0)\n",
            "Collecting opentelemetry-semantic-conventions==0.57b0 (from opentelemetry-sdk<3,>=1.9.0->mlflow-skinny==3.2.0->mlflow~=3.1->luxonis-ml[all]>=0.6.1->datadreamer)\n",
            "  Downloading opentelemetry_semantic_conventions-0.57b0-py3-none-any.whl.metadata (2.4 kB)\n",
            "Requirement already satisfied: sniffio>=1.1 in /usr/local/lib/python3.11/dist-packages (from anyio->httpx>=0.20.0->httpx[http2]>=0.20.0->qdrant-client>=1.4.0->luxonis-ml[all]>=0.6.1->datadreamer) (1.3.1)\n",
            "Requirement already satisfied: cffi>=1.12 in /usr/local/lib/python3.11/dist-packages (from cryptography->authlib<2.0.0,>=1.2.1->weaviate-client>=4.4b2->luxonis-ml[all]>=0.6.1->datadreamer) (1.17.1)\n",
            "Requirement already satisfied: pycparser in /usr/local/lib/python3.11/dist-packages (from cffi>=1.12->cryptography->authlib<2.0.0,>=1.2.1->weaviate-client>=4.4b2->luxonis-ml[all]>=0.6.1->datadreamer) (2.22)\n",
            "Requirement already satisfied: smmap<6,>=3.0.1 in /usr/local/lib/python3.11/dist-packages (from gitdb<5,>=4.0.1->gitpython<4,>=3.1.9->mlflow-skinny==3.2.0->mlflow~=3.1->luxonis-ml[all]>=0.6.1->datadreamer) (5.0.2)\n",
            "Downloading datadreamer-0.2.1-py3-none-any.whl (112 kB)\n",
            "\u001b[2K   \u001b[90m━━━━━━━━━━━━━━━━━━━━━━━━━━━━━━━━━━━━━━━━\u001b[0m \u001b[32m112.2/112.2 kB\u001b[0m \u001b[31m11.8 MB/s\u001b[0m eta \u001b[36m0:00:00\u001b[0m\n",
            "\u001b[?25hDownloading bitsandbytes-0.46.1-py3-none-manylinux_2_24_x86_64.whl (72.9 MB)\n",
            "\u001b[2K   \u001b[90m━━━━━━━━━━━━━━━━━━━━━━━━━━━━━━━━━━━━━━━━\u001b[0m \u001b[32m72.9/72.9 MB\u001b[0m \u001b[31m13.6 MB/s\u001b[0m eta \u001b[36m0:00:00\u001b[0m\n",
            "\u001b[?25hDownloading compel-2.1.1-py3-none-any.whl (31 kB)\n",
            "Downloading loguru-0.7.3-py3-none-any.whl (61 kB)\n",
            "\u001b[2K   \u001b[90m━━━━━━━━━━━━━━━━━━━━━━━━━━━━━━━━━━━━━━━━\u001b[0m \u001b[32m61.6/61.6 kB\u001b[0m \u001b[31m6.4 MB/s\u001b[0m eta \u001b[36m0:00:00\u001b[0m\n",
            "\u001b[?25hDownloading luxonis_ml-0.7.3-py3-none-any.whl (230 kB)\n",
            "\u001b[2K   \u001b[90m━━━━━━━━━━━━━━━━━━━━━━━━━━━━━━━━━━━━━━━━\u001b[0m \u001b[32m230.5/230.5 kB\u001b[0m \u001b[31m22.9 MB/s\u001b[0m eta \u001b[36m0:00:00\u001b[0m\n",
            "\u001b[?25hDownloading numpy-1.26.4-cp311-cp311-manylinux_2_17_x86_64.manylinux2014_x86_64.whl (18.3 MB)\n",
            "\u001b[2K   \u001b[90m━━━━━━━━━━━━━━━━━━━━━━━━━━━━━━━━━━━━━━━━\u001b[0m \u001b[32m18.3/18.3 MB\u001b[0m \u001b[31m107.8 MB/s\u001b[0m eta \u001b[36m0:00:00\u001b[0m\n",
            "\u001b[?25hDownloading opencv_python-4.11.0.86-cp37-abi3-manylinux_2_17_x86_64.manylinux2014_x86_64.whl (63.0 MB)\n",
            "\u001b[2K   \u001b[90m━━━━━━━━━━━━━━━━━━━━━━━━━━━━━━━━━━━━━━━━\u001b[0m \u001b[32m63.0/63.0 MB\u001b[0m \u001b[31m10.9 MB/s\u001b[0m eta \u001b[36m0:00:00\u001b[0m\n",
            "\u001b[?25hDownloading optimum_quanto-0.2.6-py3-none-any.whl (165 kB)\n",
            "\u001b[2K   \u001b[90m━━━━━━━━━━━━━━━━━━━━━━━━━━━━━━━━━━━━━━━━\u001b[0m \u001b[32m165.1/165.1 kB\u001b[0m \u001b[31m16.2 MB/s\u001b[0m eta \u001b[36m0:00:00\u001b[0m\n",
            "\u001b[?25hDownloading torch-2.5.1-cp311-cp311-manylinux1_x86_64.whl (906.5 MB)\n",
            "\u001b[2K   \u001b[90m━━━━━━━━━━━━━━━━━━━━━━━━━━━━━━━━━━━━━━━━\u001b[0m \u001b[32m906.5/906.5 MB\u001b[0m \u001b[31m1.5 MB/s\u001b[0m eta \u001b[36m0:00:00\u001b[0m\n",
            "\u001b[?25hDownloading nvidia_cublas_cu12-12.4.5.8-py3-none-manylinux2014_x86_64.whl (363.4 MB)\n",
            "\u001b[2K   \u001b[90m━━━━━━━━━━━━━━━━━━━━━━━━━━━━━━━━━━━━━━━━\u001b[0m \u001b[32m363.4/363.4 MB\u001b[0m \u001b[31m3.7 MB/s\u001b[0m eta \u001b[36m0:00:00\u001b[0m\n",
            "\u001b[?25hDownloading nvidia_cuda_cupti_cu12-12.4.127-py3-none-manylinux2014_x86_64.whl (13.8 MB)\n",
            "\u001b[2K   \u001b[90m━━━━━━━━━━━━━━━━━━━━━━━━━━━━━━━━━━━━━━━━\u001b[0m \u001b[32m13.8/13.8 MB\u001b[0m \u001b[31m115.2 MB/s\u001b[0m eta \u001b[36m0:00:00\u001b[0m\n",
            "\u001b[?25hDownloading nvidia_cuda_nvrtc_cu12-12.4.127-py3-none-manylinux2014_x86_64.whl (24.6 MB)\n",
            "\u001b[2K   \u001b[90m━━━━━━━━━━━━━━━━━━━━━━━━━━━━━━━━━━━━━━━━\u001b[0m \u001b[32m24.6/24.6 MB\u001b[0m \u001b[31m91.9 MB/s\u001b[0m eta \u001b[36m0:00:00\u001b[0m\n",
            "\u001b[?25hDownloading nvidia_cuda_runtime_cu12-12.4.127-py3-none-manylinux2014_x86_64.whl (883 kB)\n",
            "\u001b[2K   \u001b[90m━━━━━━━━━━━━━━━━━━━━━━━━━━━━━━━━━━━━━━━━\u001b[0m \u001b[32m883.7/883.7 kB\u001b[0m \u001b[31m60.5 MB/s\u001b[0m eta \u001b[36m0:00:00\u001b[0m\n",
            "\u001b[?25hDownloading nvidia_cudnn_cu12-9.1.0.70-py3-none-manylinux2014_x86_64.whl (664.8 MB)\n",
            "\u001b[2K   \u001b[90m━━━━━━━━━━━━━━━━━━━━━━━━━━━━━━━━━━━━━━━\u001b[0m \u001b[32m664.8/664.8 MB\u001b[0m \u001b[31m828.1 kB/s\u001b[0m eta \u001b[36m0:00:00\u001b[0m\n",
            "\u001b[?25hDownloading nvidia_cufft_cu12-11.2.1.3-py3-none-manylinux2014_x86_64.whl (211.5 MB)\n",
            "\u001b[2K   \u001b[90m━━━━━━━━━━━━━━━━━━━━━━━━━━━━━━━━━━━━━━━━\u001b[0m \u001b[32m211.5/211.5 MB\u001b[0m \u001b[31m6.5 MB/s\u001b[0m eta \u001b[36m0:00:00\u001b[0m\n",
            "\u001b[?25hDownloading nvidia_curand_cu12-10.3.5.147-py3-none-manylinux2014_x86_64.whl (56.3 MB)\n",
            "\u001b[2K   \u001b[90m━━━━━━━━━━━━━━━━━━━━━━━━━━━━━━━━━━━━━━━━\u001b[0m \u001b[32m56.3/56.3 MB\u001b[0m \u001b[31m14.8 MB/s\u001b[0m eta \u001b[36m0:00:00\u001b[0m\n",
            "\u001b[?25hDownloading nvidia_cusolver_cu12-11.6.1.9-py3-none-manylinux2014_x86_64.whl (127.9 MB)\n",
            "\u001b[2K   \u001b[90m━━━━━━━━━━━━━━━━━━━━━━━━━━━━━━━━━━━━━━━━\u001b[0m \u001b[32m127.9/127.9 MB\u001b[0m \u001b[31m7.4 MB/s\u001b[0m eta \u001b[36m0:00:00\u001b[0m\n",
            "\u001b[?25hDownloading nvidia_cusparse_cu12-12.3.1.170-py3-none-manylinux2014_x86_64.whl (207.5 MB)\n",
            "\u001b[2K   \u001b[90m━━━━━━━━━━━━━━━━━━━━━━━━━━━━━━━━━━━━━━━━\u001b[0m \u001b[32m207.5/207.5 MB\u001b[0m \u001b[31m6.8 MB/s\u001b[0m eta \u001b[36m0:00:00\u001b[0m\n",
            "\u001b[?25hDownloading nvidia_nccl_cu12-2.21.5-py3-none-manylinux2014_x86_64.whl (188.7 MB)\n",
            "\u001b[2K   \u001b[90m━━━━━━━━━━━━━━━━━━━━━━━━━━━━━━━━━━━━━━━━\u001b[0m \u001b[32m188.7/188.7 MB\u001b[0m \u001b[31m6.0 MB/s\u001b[0m eta \u001b[36m0:00:00\u001b[0m\n",
            "\u001b[?25hDownloading nvidia_nvjitlink_cu12-12.4.127-py3-none-manylinux2014_x86_64.whl (21.1 MB)\n",
            "\u001b[2K   \u001b[90m━━━━━━━━━━━━━━━━━━━━━━━━━━━━━━━━━━━━━━━━\u001b[0m \u001b[32m21.1/21.1 MB\u001b[0m \u001b[31m74.7 MB/s\u001b[0m eta \u001b[36m0:00:00\u001b[0m\n",
            "\u001b[?25hDownloading triton-3.1.0-cp311-cp311-manylinux_2_17_x86_64.manylinux2014_x86_64.whl (209.5 MB)\n",
            "\u001b[2K   \u001b[90m━━━━━━━━━━━━━━━━━━━━━━━━━━━━━━━━━━━━━━━━\u001b[0m \u001b[32m209.5/209.5 MB\u001b[0m \u001b[31m6.3 MB/s\u001b[0m eta \u001b[36m0:00:00\u001b[0m\n",
            "\u001b[?25hDownloading torchvision-0.20.1-cp311-cp311-manylinux1_x86_64.whl (7.2 MB)\n",
            "\u001b[2K   \u001b[90m━━━━━━━━━━━━━━━━━━━━━━━━━━━━━━━━━━━━━━━━\u001b[0m \u001b[32m7.2/7.2 MB\u001b[0m \u001b[31m111.5 MB/s\u001b[0m eta \u001b[36m0:00:00\u001b[0m\n",
            "\u001b[?25hDownloading aiobotocore-2.17.0-py3-none-any.whl (77 kB)\n",
            "\u001b[2K   \u001b[90m━━━━━━━━━━━━━━━━━━━━━━━━━━━━━━━━━━━━━━━━\u001b[0m \u001b[32m77.6/77.6 kB\u001b[0m \u001b[31m8.2 MB/s\u001b[0m eta \u001b[36m0:00:00\u001b[0m\n",
            "\u001b[?25hDownloading bidict-0.23.1-py3-none-any.whl (32 kB)\n",
            "Downloading docker-7.1.0-py3-none-any.whl (147 kB)\n",
            "\u001b[2K   \u001b[90m━━━━━━━━━━━━━━━━━━━━━━━━━━━━━━━━━━━━━━━━\u001b[0m \u001b[32m147.8/147.8 kB\u001b[0m \u001b[31m16.1 MB/s\u001b[0m eta \u001b[36m0:00:00\u001b[0m\n",
            "\u001b[?25hDownloading gdown-4.7.3-py3-none-any.whl (16 kB)\n",
            "Downloading hydra_core-1.3.2-py3-none-any.whl (154 kB)\n",
            "\u001b[2K   \u001b[90m━━━━━━━━━━━━━━━━━━━━━━━━━━━━━━━━━━━━━━━━\u001b[0m \u001b[32m154.5/154.5 kB\u001b[0m \u001b[31m16.7 MB/s\u001b[0m eta \u001b[36m0:00:00\u001b[0m\n",
            "\u001b[?25hDownloading kdepy-1.1.12-cp311-cp311-manylinux_2_17_x86_64.manylinux2014_x86_64.whl (691 kB)\n",
            "\u001b[2K   \u001b[90m━━━━━━━━━━━━━━━━━━━━━━━━━━━━━━━━━━━━━━━━\u001b[0m \u001b[32m691.5/691.5 kB\u001b[0m \u001b[31m54.4 MB/s\u001b[0m eta \u001b[36m0:00:00\u001b[0m\n",
            "\u001b[?25hDownloading kmedoids-0.5.3.1-cp311-cp311-manylinux_2_28_x86_64.whl (528 kB)\n",
            "\u001b[2K   \u001b[90m━━━━━━━━━━━━━━━━━━━━━━━━━━━━━━━━━━━━━━━━\u001b[0m \u001b[32m528.2/528.2 kB\u001b[0m \u001b[31m47.3 MB/s\u001b[0m eta \u001b[36m0:00:00\u001b[0m\n",
            "\u001b[?25hDownloading mlflow-3.2.0-py3-none-any.whl (25.8 MB)\n",
            "\u001b[2K   \u001b[90m━━━━━━━━━━━━━━━━━━━━━━━━━━━━━━━━━━━━━━━━\u001b[0m \u001b[32m25.8/25.8 MB\u001b[0m \u001b[31m85.1 MB/s\u001b[0m eta \u001b[36m0:00:00\u001b[0m\n",
            "\u001b[?25hDownloading mlflow_skinny-3.2.0-py3-none-any.whl (2.0 MB)\n",
            "\u001b[2K   \u001b[90m━━━━━━━━━━━━━━━━━━━━━━━━━━━━━━━━━━━━━━━━\u001b[0m \u001b[32m2.0/2.0 MB\u001b[0m \u001b[31m90.9 MB/s\u001b[0m eta \u001b[36m0:00:00\u001b[0m\n",
            "\u001b[?25hDownloading mlflow_tracing-3.2.0-py3-none-any.whl (1.1 MB)\n",
            "\u001b[2K   \u001b[90m━━━━━━━━━━━━━━━━━━━━━━━━━━━━━━━━━━━━━━━━\u001b[0m \u001b[32m1.1/1.1 MB\u001b[0m \u001b[31m69.8 MB/s\u001b[0m eta \u001b[36m0:00:00\u001b[0m\n",
            "\u001b[?25hDownloading onnx-1.18.0-cp311-cp311-manylinux_2_17_x86_64.manylinux2014_x86_64.whl (17.6 MB)\n",
            "\u001b[2K   \u001b[90m━━━━━━━━━━━━━━━━━━━━━━━━━━━━━━━━━━━━━━━━\u001b[0m \u001b[32m17.6/17.6 MB\u001b[0m \u001b[31m100.3 MB/s\u001b[0m eta \u001b[36m0:00:00\u001b[0m\n",
            "\u001b[?25hDownloading onnxruntime_gpu-1.22.0-cp311-cp311-manylinux_2_27_x86_64.manylinux_2_28_x86_64.whl (283.2 MB)\n",
            "\u001b[2K   \u001b[90m━━━━━━━━━━━━━━━━━━━━━━━━━━━━━━━━━━━━━━━━\u001b[0m \u001b[32m283.2/283.2 MB\u001b[0m \u001b[31m5.3 MB/s\u001b[0m eta \u001b[36m0:00:00\u001b[0m\n",
            "\u001b[?25hDownloading ordered_set-4.1.0-py3-none-any.whl (7.6 kB)\n",
            "Downloading pillow_heif-0.21.0-cp311-cp311-manylinux_2_17_x86_64.manylinux2014_x86_64.whl (7.8 MB)\n",
            "\u001b[2K   \u001b[90m━━━━━━━━━━━━━━━━━━━━━━━━━━━━━━━━━━━━━━━━\u001b[0m \u001b[32m7.8/7.8 MB\u001b[0m \u001b[31m25.9 MB/s\u001b[0m eta \u001b[36m0:00:00\u001b[0m\n",
            "\u001b[?25hDownloading polars-0.20.31-cp38-abi3-manylinux_2_17_x86_64.manylinux2014_x86_64.whl (28.8 MB)\n",
            "\u001b[2K   \u001b[90m━━━━━━━━━━━━━━━━━━━━━━━━━━━━━━━━━━━━━━━━\u001b[0m \u001b[32m28.8/28.8 MB\u001b[0m \u001b[31m54.9 MB/s\u001b[0m eta \u001b[36m0:00:00\u001b[0m\n",
            "\u001b[?25hDownloading pyarrow-17.0.0-cp311-cp311-manylinux_2_28_x86_64.whl (39.9 MB)\n",
            "\u001b[2K   \u001b[90m━━━━━━━━━━━━━━━━━━━━━━━━━━━━━━━━━━━━━━━━\u001b[0m \u001b[32m39.9/39.9 MB\u001b[0m \u001b[31m16.5 MB/s\u001b[0m eta \u001b[36m0:00:00\u001b[0m\n",
            "\u001b[?25hDownloading pydantic_settings-2.10.1-py3-none-any.whl (45 kB)\n",
            "\u001b[2K   \u001b[90m━━━━━━━━━━━━━━━━━━━━━━━━━━━━━━━━━━━━━━━━\u001b[0m \u001b[32m45.2/45.2 kB\u001b[0m \u001b[31m4.4 MB/s\u001b[0m eta \u001b[36m0:00:00\u001b[0m\n",
            "\u001b[?25hDownloading qdrant_client-1.15.1-py3-none-any.whl (337 kB)\n",
            "\u001b[2K   \u001b[90m━━━━━━━━━━━━━━━━━━━━━━━━━━━━━━━━━━━━━━━━\u001b[0m \u001b[32m337.3/337.3 kB\u001b[0m \u001b[31m31.8 MB/s\u001b[0m eta \u001b[36m0:00:00\u001b[0m\n",
            "\u001b[?25hDownloading roboflow-1.1.67-py3-none-any.whl (86 kB)\n",
            "\u001b[2K   \u001b[90m━━━━━━━━━━━━━━━━━━━━━━━━━━━━━━━━━━━━━━━━\u001b[0m \u001b[32m86.7/86.7 kB\u001b[0m \u001b[31m9.0 MB/s\u001b[0m eta \u001b[36m0:00:00\u001b[0m\n",
            "\u001b[?25hDownloading idna-3.7-py3-none-any.whl (66 kB)\n",
            "\u001b[2K   \u001b[90m━━━━━━━━━━━━━━━━━━━━━━━━━━━━━━━━━━━━━━━━\u001b[0m \u001b[32m66.8/66.8 kB\u001b[0m \u001b[31m6.9 MB/s\u001b[0m eta \u001b[36m0:00:00\u001b[0m\n",
            "\u001b[?25hDownloading opencv_python_headless-4.10.0.84-cp37-abi3-manylinux_2_17_x86_64.manylinux2014_x86_64.whl (49.9 MB)\n",
            "\u001b[2K   \u001b[90m━━━━━━━━━━━━━━━━━━━━━━━━━━━━━━━━━━━━━━━━\u001b[0m \u001b[32m49.9/49.9 MB\u001b[0m \u001b[31m14.6 MB/s\u001b[0m eta \u001b[36m0:00:00\u001b[0m\n",
            "\u001b[?25hDownloading s3fs-2025.3.0-py3-none-any.whl (30 kB)\n",
            "Downloading semver-3.0.4-py3-none-any.whl (17 kB)\n",
            "Downloading unique_names_generator-1.0.2-py2.py3-none-any.whl (27 kB)\n",
            "Downloading weaviate_client-4.16.6-py3-none-any.whl (597 kB)\n",
            "\u001b[2K   \u001b[90m━━━━━━━━━━━━━━━━━━━━━━━━━━━━━━━━━━━━━━━━\u001b[0m \u001b[32m597.5/597.5 kB\u001b[0m \u001b[31m47.6 MB/s\u001b[0m eta \u001b[36m0:00:00\u001b[0m\n",
            "\u001b[?25hDownloading ninja-1.11.1.4-py3-none-manylinux_2_12_x86_64.manylinux2010_x86_64.whl (422 kB)\n",
            "\u001b[2K   \u001b[90m━━━━━━━━━━━━━━━━━━━━━━━━━━━━━━━━━━━━━━━━\u001b[0m \u001b[32m422.8/422.8 kB\u001b[0m \u001b[31m34.1 MB/s\u001b[0m eta \u001b[36m0:00:00\u001b[0m\n",
            "\u001b[?25hDownloading aioitertools-0.12.0-py3-none-any.whl (24 kB)\n",
            "Downloading alembic-1.16.4-py3-none-any.whl (247 kB)\n",
            "\u001b[2K   \u001b[90m━━━━━━━━━━━━━━━━━━━━━━━━━━━━━━━━━━━━━━━━\u001b[0m \u001b[32m247.0/247.0 kB\u001b[0m \u001b[31m22.8 MB/s\u001b[0m eta \u001b[36m0:00:00\u001b[0m\n",
            "\u001b[?25hDownloading authlib-1.6.1-py2.py3-none-any.whl (239 kB)\n",
            "\u001b[2K   \u001b[90m━━━━━━━━━━━━━━━━━━━━━━━━━━━━━━━━━━━━━━━━\u001b[0m \u001b[32m239.3/239.3 kB\u001b[0m \u001b[31m19.7 MB/s\u001b[0m eta \u001b[36m0:00:00\u001b[0m\n",
            "\u001b[?25hDownloading botocore-1.35.93-py3-none-any.whl (13.3 MB)\n",
            "\u001b[2K   \u001b[90m━━━━━━━━━━━━━━━━━━━━━━━━━━━━━━━━━━━━━━━━\u001b[0m \u001b[32m13.3/13.3 MB\u001b[0m \u001b[31m112.4 MB/s\u001b[0m eta \u001b[36m0:00:00\u001b[0m\n",
            "\u001b[?25hDownloading deprecation-2.1.0-py2.py3-none-any.whl (11 kB)\n",
            "Downloading graphene-3.4.3-py2.py3-none-any.whl (114 kB)\n",
            "\u001b[2K   \u001b[90m━━━━━━━━━━━━━━━━━━━━━━━━━━━━━━━━━━━━━━━━\u001b[0m \u001b[32m114.9/114.9 kB\u001b[0m \u001b[31m12.7 MB/s\u001b[0m eta \u001b[36m0:00:00\u001b[0m\n",
            "\u001b[?25hDownloading grpcio_health_checking-1.74.0-py3-none-any.whl (18 kB)\n",
            "Downloading gunicorn-23.0.0-py3-none-any.whl (85 kB)\n",
            "\u001b[2K   \u001b[90m━━━━━━━━━━━━━━━━━━━━━━━━━━━━━━━━━━━━━━━━\u001b[0m \u001b[32m85.0/85.0 kB\u001b[0m \u001b[31m9.0 MB/s\u001b[0m eta \u001b[36m0:00:00\u001b[0m\n",
            "\u001b[?25hDownloading jmespath-1.0.1-py3-none-any.whl (20 kB)\n",
            "Downloading portalocker-3.2.0-py3-none-any.whl (22 kB)\n",
            "Downloading protobuf-6.31.1-cp39-abi3-manylinux2014_x86_64.whl (321 kB)\n",
            "\u001b[2K   \u001b[90m━━━━━━━━━━━━━━━━━━━━━━━━━━━━━━━━━━━━━━━━\u001b[0m \u001b[32m321.1/321.1 kB\u001b[0m \u001b[31m28.1 MB/s\u001b[0m eta \u001b[36m0:00:00\u001b[0m\n",
            "\u001b[?25hDownloading python_dotenv-1.1.1-py3-none-any.whl (20 kB)\n",
            "Downloading validators-0.35.0-py3-none-any.whl (44 kB)\n",
            "\u001b[2K   \u001b[90m━━━━━━━━━━━━━━━━━━━━━━━━━━━━━━━━━━━━━━━━\u001b[0m \u001b[32m44.7/44.7 kB\u001b[0m \u001b[31m3.9 MB/s\u001b[0m eta \u001b[36m0:00:00\u001b[0m\n",
            "\u001b[?25hDownloading coloredlogs-15.0.1-py2.py3-none-any.whl (46 kB)\n",
            "\u001b[2K   \u001b[90m━━━━━━━━━━━━━━━━━━━━━━━━━━━━━━━━━━━━━━━━\u001b[0m \u001b[32m46.0/46.0 kB\u001b[0m \u001b[31m4.8 MB/s\u001b[0m eta \u001b[36m0:00:00\u001b[0m\n",
            "\u001b[?25hDownloading filetype-1.2.0-py2.py3-none-any.whl (19 kB)\n",
            "Downloading databricks_sdk-0.62.0-py3-none-any.whl (681 kB)\n",
            "\u001b[2K   \u001b[90m━━━━━━━━━━━━━━━━━━━━━━━━━━━━━━━━━━━━━━━━\u001b[0m \u001b[32m681.8/681.8 kB\u001b[0m \u001b[31m48.2 MB/s\u001b[0m eta \u001b[36m0:00:00\u001b[0m\n",
            "\u001b[?25hDownloading graphql_core-3.2.6-py3-none-any.whl (203 kB)\n",
            "\u001b[2K   \u001b[90m━━━━━━━━━━━━━━━━━━━━━━━━━━━━━━━━━━━━━━━━\u001b[0m \u001b[32m203.4/203.4 kB\u001b[0m \u001b[31m19.6 MB/s\u001b[0m eta \u001b[36m0:00:00\u001b[0m\n",
            "\u001b[?25hDownloading graphql_relay-3.2.0-py3-none-any.whl (16 kB)\n",
            "Downloading humanfriendly-10.0-py2.py3-none-any.whl (86 kB)\n",
            "\u001b[2K   \u001b[90m━━━━━━━━━━━━━━━━━━━━━━━━━━━━━━━━━━━━━━━━\u001b[0m \u001b[32m86.8/86.8 kB\u001b[0m \u001b[31m9.1 MB/s\u001b[0m eta \u001b[36m0:00:00\u001b[0m\n",
            "\u001b[?25hDownloading opentelemetry_api-1.36.0-py3-none-any.whl (65 kB)\n",
            "\u001b[2K   \u001b[90m━━━━━━━━━━━━━━━━━━━━━━━━━━━━━━━━━━━━━━━━\u001b[0m \u001b[32m65.6/65.6 kB\u001b[0m \u001b[31m7.1 MB/s\u001b[0m eta \u001b[36m0:00:00\u001b[0m\n",
            "\u001b[?25hDownloading opentelemetry_sdk-1.36.0-py3-none-any.whl (119 kB)\n",
            "\u001b[2K   \u001b[90m━━━━━━━━━━━━━━━━━━━━━━━━━━━━━━━━━━━━━━━━\u001b[0m \u001b[32m120.0/120.0 kB\u001b[0m \u001b[31m12.2 MB/s\u001b[0m eta \u001b[36m0:00:00\u001b[0m\n",
            "\u001b[?25hDownloading opentelemetry_semantic_conventions-0.57b0-py3-none-any.whl (201 kB)\n",
            "\u001b[2K   \u001b[90m━━━━━━━━━━━━━━━━━━━━━━━━━━━━━━━━━━━━━━━━\u001b[0m \u001b[32m201.6/201.6 kB\u001b[0m \u001b[31m20.4 MB/s\u001b[0m eta \u001b[36m0:00:00\u001b[0m\n",
            "\u001b[?25hBuilding wheels for collected packages: sam2, iopath\n",
            "  Building wheel for sam2 (pyproject.toml) ... \u001b[?25l\u001b[?25hdone\n",
            "  Created wheel for sam2: filename=sam2-1.1.0-cp311-cp311-linux_x86_64.whl size=473607 sha256=963dafd77c7fe4a44d08532114697864fafe99c42f0b3d85f975e2b4e13de197\n",
            "  Stored in directory: /root/.cache/pip/wheels/d5/c6/ed/164df00d6a31203bc2cd1f65385761825e32a77417b90cc3c7\n",
            "  Building wheel for iopath (setup.py) ... \u001b[?25l\u001b[?25hdone\n",
            "  Created wheel for iopath: filename=iopath-0.1.10-py3-none-any.whl size=31527 sha256=cb41243f6bdc3bb41a6bd986b9dda274832a541d1e15587b9bf7e35b1d16bc8c\n",
            "  Stored in directory: /root/.cache/pip/wheels/ba/5e/16/6117f8fe7e9c0c161a795e10d94645ebcf301ccbd01f66d8ec\n",
            "Successfully built sam2 iopath\n",
            "Installing collected packages: kmedoids, filetype, validators, unique-names-generator, triton, semver, python-dotenv, protobuf, portalocker, polars, pillow-heif, ordered-set, nvidia-nvjitlink-cu12, nvidia-nccl-cu12, nvidia-curand-cu12, nvidia-cufft-cu12, nvidia-cuda-runtime-cu12, nvidia-cuda-nvrtc-cu12, nvidia-cuda-cupti-cu12, nvidia-cublas-cu12, numpy, ninja, loguru, jmespath, idna, humanfriendly, gunicorn, graphql-core, deprecation, bidict, aioitertools, pyarrow, opentelemetry-api, opencv-python-headless, opencv-python, onnx, nvidia-cusparse-cu12, nvidia-cudnn-cu12, iopath, hydra-core, grpcio-health-checking, graphql-relay, coloredlogs, botocore, alembic, pydantic-settings, opentelemetry-semantic-conventions, onnxruntime-gpu, nvidia-cusolver-cu12, KDEpy, graphene, docker, databricks-sdk, authlib, weaviate-client, torch, roboflow, opentelemetry-sdk, gdown, aiobotocore, torchvision, s3fs, qdrant-client, optimum-quanto, mlflow-tracing, mlflow-skinny, luxonis-ml, bitsandbytes, sam2, mlflow, compel, datadreamer\n",
            "  Attempting uninstall: triton\n",
            "    Found existing installation: triton 3.2.0\n",
            "    Uninstalling triton-3.2.0:\n",
            "      Successfully uninstalled triton-3.2.0\n",
            "  Attempting uninstall: protobuf\n",
            "    Found existing installation: protobuf 5.29.5\n",
            "    Uninstalling protobuf-5.29.5:\n",
            "      Successfully uninstalled protobuf-5.29.5\n",
            "  Attempting uninstall: polars\n",
            "    Found existing installation: polars 1.25.2\n",
            "    Uninstalling polars-1.25.2:\n",
            "      Successfully uninstalled polars-1.25.2\n",
            "  Attempting uninstall: nvidia-nvjitlink-cu12\n",
            "    Found existing installation: nvidia-nvjitlink-cu12 12.5.82\n",
            "    Uninstalling nvidia-nvjitlink-cu12-12.5.82:\n",
            "      Successfully uninstalled nvidia-nvjitlink-cu12-12.5.82\n",
            "  Attempting uninstall: nvidia-nccl-cu12\n",
            "    Found existing installation: nvidia-nccl-cu12 2.23.4\n",
            "    Uninstalling nvidia-nccl-cu12-2.23.4:\n",
            "      Successfully uninstalled nvidia-nccl-cu12-2.23.4\n",
            "  Attempting uninstall: nvidia-curand-cu12\n",
            "    Found existing installation: nvidia-curand-cu12 10.3.6.82\n",
            "    Uninstalling nvidia-curand-cu12-10.3.6.82:\n",
            "      Successfully uninstalled nvidia-curand-cu12-10.3.6.82\n",
            "  Attempting uninstall: nvidia-cufft-cu12\n",
            "    Found existing installation: nvidia-cufft-cu12 11.2.3.61\n",
            "    Uninstalling nvidia-cufft-cu12-11.2.3.61:\n",
            "      Successfully uninstalled nvidia-cufft-cu12-11.2.3.61\n",
            "  Attempting uninstall: nvidia-cuda-runtime-cu12\n",
            "    Found existing installation: nvidia-cuda-runtime-cu12 12.5.82\n",
            "    Uninstalling nvidia-cuda-runtime-cu12-12.5.82:\n",
            "      Successfully uninstalled nvidia-cuda-runtime-cu12-12.5.82\n",
            "  Attempting uninstall: nvidia-cuda-nvrtc-cu12\n",
            "    Found existing installation: nvidia-cuda-nvrtc-cu12 12.5.82\n",
            "    Uninstalling nvidia-cuda-nvrtc-cu12-12.5.82:\n",
            "      Successfully uninstalled nvidia-cuda-nvrtc-cu12-12.5.82\n",
            "  Attempting uninstall: nvidia-cuda-cupti-cu12\n",
            "    Found existing installation: nvidia-cuda-cupti-cu12 12.5.82\n",
            "    Uninstalling nvidia-cuda-cupti-cu12-12.5.82:\n",
            "      Successfully uninstalled nvidia-cuda-cupti-cu12-12.5.82\n",
            "  Attempting uninstall: nvidia-cublas-cu12\n",
            "    Found existing installation: nvidia-cublas-cu12 12.5.3.2\n",
            "    Uninstalling nvidia-cublas-cu12-12.5.3.2:\n",
            "      Successfully uninstalled nvidia-cublas-cu12-12.5.3.2\n",
            "  Attempting uninstall: numpy\n",
            "    Found existing installation: numpy 2.0.2\n",
            "    Uninstalling numpy-2.0.2:\n",
            "      Successfully uninstalled numpy-2.0.2\n",
            "  Attempting uninstall: idna\n",
            "    Found existing installation: idna 3.10\n",
            "    Uninstalling idna-3.10:\n",
            "      Successfully uninstalled idna-3.10\n",
            "  Attempting uninstall: pyarrow\n",
            "    Found existing installation: pyarrow 18.1.0\n",
            "    Uninstalling pyarrow-18.1.0:\n",
            "      Successfully uninstalled pyarrow-18.1.0\n",
            "  Attempting uninstall: opencv-python-headless\n",
            "    Found existing installation: opencv-python-headless 4.12.0.88\n",
            "    Uninstalling opencv-python-headless-4.12.0.88:\n",
            "      Successfully uninstalled opencv-python-headless-4.12.0.88\n",
            "  Attempting uninstall: opencv-python\n",
            "    Found existing installation: opencv-python 4.12.0.88\n",
            "    Uninstalling opencv-python-4.12.0.88:\n",
            "      Successfully uninstalled opencv-python-4.12.0.88\n",
            "  Attempting uninstall: nvidia-cusparse-cu12\n",
            "    Found existing installation: nvidia-cusparse-cu12 12.5.1.3\n",
            "    Uninstalling nvidia-cusparse-cu12-12.5.1.3:\n",
            "      Successfully uninstalled nvidia-cusparse-cu12-12.5.1.3\n",
            "  Attempting uninstall: nvidia-cudnn-cu12\n",
            "    Found existing installation: nvidia-cudnn-cu12 9.3.0.75\n",
            "    Uninstalling nvidia-cudnn-cu12-9.3.0.75:\n",
            "      Successfully uninstalled nvidia-cudnn-cu12-9.3.0.75\n",
            "  Attempting uninstall: nvidia-cusolver-cu12\n",
            "    Found existing installation: nvidia-cusolver-cu12 11.6.3.83\n",
            "    Uninstalling nvidia-cusolver-cu12-11.6.3.83:\n",
            "      Successfully uninstalled nvidia-cusolver-cu12-11.6.3.83\n",
            "  Attempting uninstall: torch\n",
            "    Found existing installation: torch 2.6.0+cu124\n",
            "    Uninstalling torch-2.6.0+cu124:\n",
            "      Successfully uninstalled torch-2.6.0+cu124\n",
            "  Attempting uninstall: gdown\n",
            "    Found existing installation: gdown 5.2.0\n",
            "    Uninstalling gdown-5.2.0:\n",
            "      Successfully uninstalled gdown-5.2.0\n",
            "  Attempting uninstall: torchvision\n",
            "    Found existing installation: torchvision 0.21.0+cu124\n",
            "    Uninstalling torchvision-0.21.0+cu124:\n",
            "      Successfully uninstalled torchvision-0.21.0+cu124\n",
            "\u001b[31mERROR: pip's dependency resolver does not currently take into account all the packages that are installed. This behaviour is the source of the following dependency conflicts.\n",
            "cudf-polars-cu12 25.6.0 requires polars<1.29,>=1.25, but you have polars 0.20.31 which is incompatible.\n",
            "torchaudio 2.6.0+cu124 requires torch==2.6.0, but you have torch 2.5.1 which is incompatible.\n",
            "opencv-contrib-python 4.12.0.88 requires numpy<2.3.0,>=2; python_version >= \"3.9\", but you have numpy 1.26.4 which is incompatible.\n",
            "grpcio-status 1.71.2 requires protobuf<6.0dev,>=5.26.1, but you have protobuf 6.31.1 which is incompatible.\n",
            "tensorflow 2.19.0 requires protobuf!=4.21.0,!=4.21.1,!=4.21.2,!=4.21.3,!=4.21.4,!=4.21.5,<6.0.0dev,>=3.20.3, but you have protobuf 6.31.1 which is incompatible.\n",
            "thinc 8.3.6 requires numpy<3.0.0,>=2.0.0, but you have numpy 1.26.4 which is incompatible.\n",
            "google-ai-generativelanguage 0.6.15 requires protobuf!=4.21.0,!=4.21.1,!=4.21.2,!=4.21.3,!=4.21.4,!=4.21.5,<6.0.0dev,>=3.20.2, but you have protobuf 6.31.1 which is incompatible.\u001b[0m\u001b[31m\n",
            "\u001b[0mSuccessfully installed KDEpy-1.1.12 aiobotocore-2.17.0 aioitertools-0.12.0 alembic-1.16.4 authlib-1.6.1 bidict-0.23.1 bitsandbytes-0.46.1 botocore-1.35.93 coloredlogs-15.0.1 compel-2.1.1 databricks-sdk-0.62.0 datadreamer-0.2.1 deprecation-2.1.0 docker-7.1.0 filetype-1.2.0 gdown-4.7.3 graphene-3.4.3 graphql-core-3.2.6 graphql-relay-3.2.0 grpcio-health-checking-1.74.0 gunicorn-23.0.0 humanfriendly-10.0 hydra-core-1.3.2 idna-3.7 iopath-0.1.10 jmespath-1.0.1 kmedoids-0.5.3.1 loguru-0.7.3 luxonis-ml-0.7.3 mlflow-3.2.0 mlflow-skinny-3.2.0 mlflow-tracing-3.2.0 ninja-1.11.1.4 numpy-1.26.4 nvidia-cublas-cu12-12.4.5.8 nvidia-cuda-cupti-cu12-12.4.127 nvidia-cuda-nvrtc-cu12-12.4.127 nvidia-cuda-runtime-cu12-12.4.127 nvidia-cudnn-cu12-9.1.0.70 nvidia-cufft-cu12-11.2.1.3 nvidia-curand-cu12-10.3.5.147 nvidia-cusolver-cu12-11.6.1.9 nvidia-cusparse-cu12-12.3.1.170 nvidia-nccl-cu12-2.21.5 nvidia-nvjitlink-cu12-12.4.127 onnx-1.18.0 onnxruntime-gpu-1.22.0 opencv-python-4.11.0.86 opencv-python-headless-4.10.0.84 opentelemetry-api-1.36.0 opentelemetry-sdk-1.36.0 opentelemetry-semantic-conventions-0.57b0 optimum-quanto-0.2.6 ordered-set-4.1.0 pillow-heif-0.21.0 polars-0.20.31 portalocker-3.2.0 protobuf-6.31.1 pyarrow-17.0.0 pydantic-settings-2.10.1 python-dotenv-1.1.1 qdrant-client-1.15.1 roboflow-1.1.67 s3fs-2025.3.0 sam2-1.1.0 semver-3.0.4 torch-2.5.1 torchvision-0.20.1 triton-3.1.0 unique-names-generator-1.0.2 validators-0.35.0 weaviate-client-4.16.6\n"
          ]
        },
        {
          "output_type": "display_data",
          "data": {
            "application/vnd.colab-display-data+json": {
              "pip_warning": {
                "packages": [
                  "google",
                  "numpy"
                ]
              },
              "id": "ebe5afc42cbf47849412bff2427d885b"
            }
          },
          "metadata": {}
        }
      ],
      "source": [
        "!pip install datadreamer"
      ]
    },
    {
      "cell_type": "markdown",
      "id": "c3704c07",
      "metadata": {
        "id": "c3704c07"
      },
      "source": [
        "## 🗃️ Generate a dataset with your own classes (might take some time to download all models)"
      ]
    },
    {
      "cell_type": "markdown",
      "id": "M4v-QieP4tXL",
      "metadata": {
        "id": "M4v-QieP4tXL"
      },
      "source": [
        "Make sure you are using the GPU runtime type (in Google Colab).\n",
        "\n",
        "~8 min to generate 100 images\n",
        "\n",
        "~2 min to annotate them"
      ]
    },
    {
      "cell_type": "code",
      "execution_count": 2,
      "id": "6ab1e2f9",
      "metadata": {
        "colab": {
          "base_uri": "https://localhost:8080/"
        },
        "id": "6ab1e2f9",
        "outputId": "78d3efc4-71af-492b-cfc3-8dce22c9dfc3",
        "scrolled": true
      },
      "outputs": [
        {
          "output_type": "stream",
          "name": "stdout",
          "text": [
            "2025-08-08 08:21:02.630386: E external/local_xla/xla/stream_executor/cuda/cuda_fft.cc:467] Unable to register cuFFT factory: Attempting to register factory for plugin cuFFT when one has already been registered\n",
            "WARNING: All log messages before absl::InitializeLog() is called are written to STDERR\n",
            "E0000 00:00:1754641262.872148    4972 cuda_dnn.cc:8579] Unable to register cuDNN factory: Attempting to register factory for plugin cuDNN when one has already been registered\n",
            "E0000 00:00:1754641262.938617    4972 cuda_blas.cc:1407] Unable to register cuBLAS factory: Attempting to register factory for plugin cuBLAS when one has already been registered\n",
            "W0000 00:00:1754641263.418276    4972 computation_placer.cc:177] computation placer already registered. Please check linkage and avoid linking the same target more than once.\n",
            "W0000 00:00:1754641263.418324    4972 computation_placer.cc:177] computation placer already registered. Please check linkage and avoid linking the same target more than once.\n",
            "W0000 00:00:1754641263.418328    4972 computation_placer.cc:177] computation placer already registered. Please check linkage and avoid linking the same target more than once.\n",
            "W0000 00:00:1754641263.418332    4972 computation_placer.cc:177] computation placer already registered. Please check linkage and avoid linking the same target more than once.\n",
            "2025-08-08 08:21:03.464825: I tensorflow/core/platform/cpu_feature_guard.cc:210] This TensorFlow binary is optimized to use available CPU instructions in performance-critical operations.\n",
            "To enable the following instructions: AVX2 AVX512F FMA, in other operations, rebuild TensorFlow with the appropriate compiler flags.\n",
            "AttributeError: 'MessageFactory' object has no attribute 'GetPrototype'\n",
            "AttributeError: 'MessageFactory' object has no attribute 'GetPrototype'\n",
            "AttributeError: 'MessageFactory' object has no attribute 'GetPrototype'\n",
            "AttributeError: 'MessageFactory' object has no attribute 'GetPrototype'\n",
            "AttributeError: 'MessageFactory' object has no attribute 'GetPrototype'\n",
            "[nltk_data] Downloading package wordnet to /root/nltk_data...\n",
            "[nltk_data]   Package wordnet is already up-to-date!\n",
            "\u001b[32mINFO    \u001b[0m Profanity filter is checking classes: \u001b[1m[\u001b[0m\u001b[32m'robot'\u001b[0m, \u001b]8;id=234053;file:///usr/local/lib/python3.11/dist-packages/datadreamer/prompt_generation/profanity_filter.py\u001b\\\u001b[2mprofanity_filter.py\u001b[0m\u001b]8;;\u001b\\\u001b[2m:\u001b[0m\u001b]8;id=146316;file:///usr/local/lib/python3.11/dist-packages/datadreamer/prompt_generation/profanity_filter.py#168\u001b\\\u001b[2m168\u001b[0m\u001b]8;;\u001b\\\n",
            "         \u001b[32m'tractor'\u001b[0m, \u001b[32m'horse'\u001b[0m, \u001b[32m'car'\u001b[0m, \u001b[32m'person'\u001b[0m, \u001b[32m'bear'\u001b[0m\u001b[1m]\u001b[0m    \u001b[2m                       \u001b[0m\n",
            "\u001b[32mINFO    \u001b[0m Initializing SDXL Turbo on cuda\u001b[33m...\u001b[0m     \u001b]8;id=234053;file:///usr/local/lib/python3.11/dist-packages/datadreamer/image_generation/sdxl_turbo_image_generator.py\u001b\\\u001b[2msdxl_turbo_image_generator.py\u001b[0m\u001b]8;;\u001b\\\u001b[2m:\u001b[0m\u001b]8;id=146316;file:///usr/local/lib/python3.11/dist-packages/datadreamer/image_generation/sdxl_turbo_image_generator.py#40\u001b\\\u001b[2m40\u001b[0m\u001b]8;;\u001b\\\n",
            "Loading pipeline components...: 100% 7/7 [00:04<00:00,  1.58it/s]\n",
            "Generating images:   0% 0/100 [00:00<?, ?it/s]\n",
            "  0% 0/4 [00:00<?, ?it/s]\u001b[A\n",
            " 25% 1/4 [00:22<01:06, 22.27s/it]\u001b[A\n",
            " 50% 2/4 [00:22<00:18,  9.24s/it]\u001b[A\n",
            " 75% 3/4 [00:22<00:05,  5.08s/it]\u001b[A\n",
            "100% 4/4 [00:22<00:00,  5.67s/it]\n",
            "Generating images:   1% 1/100 [00:37<1:02:17, 37.75s/it]\n",
            "  0% 0/4 [00:00<?, ?it/s]\u001b[A\n",
            " 25% 1/4 [00:02<00:06,  2.29s/it]\u001b[A\n",
            " 50% 2/4 [00:02<00:02,  1.02s/it]\u001b[A\n",
            " 75% 3/4 [00:02<00:00,  1.61it/s]\u001b[A\n",
            "100% 4/4 [00:02<00:00,  1.48it/s]\n",
            "Generating images:   2% 2/100 [00:45<32:22, 19.82s/it]  \n",
            "  0% 0/4 [00:00<?, ?it/s]\u001b[A\n",
            " 25% 1/4 [00:01<00:05,  1.99s/it]\u001b[A\n",
            " 50% 2/4 [00:02<00:01,  1.08it/s]\u001b[A\n",
            " 75% 3/4 [00:02<00:00,  1.67it/s]\u001b[A\n",
            "100% 4/4 [00:02<00:00,  1.55it/s]\n",
            "Generating images:   3% 3/100 [00:51<22:01, 13.63s/it]\n",
            "  0% 0/4 [00:00<?, ?it/s]\u001b[A\n",
            " 25% 1/4 [00:01<00:05,  1.99s/it]\u001b[A\n",
            " 50% 2/4 [00:02<00:01,  1.11it/s]\u001b[A\n",
            " 75% 3/4 [00:02<00:00,  1.82it/s]\u001b[A\n",
            "100% 4/4 [00:02<00:00,  1.67it/s]\n",
            "Generating images:   4% 4/100 [00:57<17:02, 10.65s/it]\n",
            "  0% 0/4 [00:00<?, ?it/s]\u001b[A\n",
            " 25% 1/4 [00:01<00:05,  1.96s/it]\u001b[A\n",
            " 50% 2/4 [00:02<00:01,  1.06it/s]\u001b[A\n",
            " 75% 3/4 [00:02<00:00,  1.66it/s]\u001b[A\n",
            "100% 4/4 [00:02<00:00,  1.54it/s]\n",
            "Generating images:   5% 5/100 [01:03<14:23,  9.08s/it]\n",
            "  0% 0/4 [00:00<?, ?it/s]\u001b[A\n",
            " 25% 1/4 [00:01<00:05,  1.87s/it]\u001b[A\n",
            " 50% 2/4 [00:02<00:01,  1.18it/s]\u001b[A\n",
            " 75% 3/4 [00:02<00:00,  1.88it/s]\u001b[A\n",
            "100% 4/4 [00:02<00:00,  1.75it/s]\n",
            "Generating images:   6% 6/100 [01:09<12:34,  8.02s/it]\n",
            "  0% 0/4 [00:00<?, ?it/s]\u001b[A\n",
            " 25% 1/4 [00:01<00:05,  1.98s/it]\u001b[A\n",
            " 50% 2/4 [00:02<00:01,  1.09it/s]\u001b[A\n",
            " 75% 3/4 [00:02<00:00,  1.68it/s]\u001b[A\n",
            "100% 4/4 [00:02<00:00,  1.54it/s]\n",
            "Generating images:   7% 7/100 [01:15<11:33,  7.46s/it]\n",
            "  0% 0/4 [00:00<?, ?it/s]\u001b[A\n",
            " 25% 1/4 [00:01<00:05,  1.85s/it]\u001b[A\n",
            " 50% 2/4 [00:01<00:01,  1.18it/s]\u001b[A\n",
            " 75% 3/4 [00:02<00:00,  1.90it/s]\u001b[A\n",
            "100% 4/4 [00:02<00:00,  1.76it/s]\n",
            "Generating images:   8% 8/100 [01:21<10:43,  6.99s/it]\n",
            "  0% 0/4 [00:00<?, ?it/s]\u001b[A\n",
            " 25% 1/4 [00:02<00:06,  2.04s/it]\u001b[A\n",
            " 50% 2/4 [00:02<00:01,  1.04it/s]\u001b[A\n",
            " 75% 3/4 [00:02<00:00,  1.61it/s]\u001b[A\n",
            "100% 4/4 [00:02<00:00,  1.54it/s]\n",
            "Generating images:   9% 9/100 [01:28<10:16,  6.78s/it]\n",
            "  0% 0/4 [00:00<?, ?it/s]\u001b[A\n",
            " 25% 1/4 [00:01<00:05,  1.87s/it]\u001b[A\n",
            " 50% 2/4 [00:02<00:01,  1.18it/s]\u001b[A\n",
            " 75% 3/4 [00:02<00:00,  1.89it/s]\u001b[A\n",
            "100% 4/4 [00:02<00:00,  1.74it/s]\n",
            "Generating images:  10% 10/100 [01:34<09:49,  6.55s/it]\n",
            "  0% 0/4 [00:00<?, ?it/s]\u001b[A\n",
            " 25% 1/4 [00:02<00:06,  2.11s/it]\u001b[A\n",
            " 50% 2/4 [00:02<00:01,  1.01it/s]\u001b[A\n",
            " 75% 3/4 [00:02<00:00,  1.68it/s]\u001b[A\n",
            "100% 4/4 [00:02<00:00,  1.55it/s]\n",
            "Generating images:  11% 11/100 [01:40<09:36,  6.48s/it]\n",
            "  0% 0/4 [00:00<?, ?it/s]\u001b[A\n",
            " 25% 1/4 [00:01<00:05,  1.89s/it]\u001b[A\n",
            " 50% 2/4 [00:02<00:01,  1.15it/s]\u001b[A\n",
            " 75% 3/4 [00:02<00:00,  1.87it/s]\u001b[A\n",
            "100% 4/4 [00:02<00:00,  1.73it/s]\n",
            "Generating images:  12% 12/100 [01:46<09:18,  6.35s/it]\n",
            "  0% 0/4 [00:00<?, ?it/s]\u001b[A\n",
            " 25% 1/4 [00:02<00:06,  2.10s/it]\u001b[A\n",
            " 50% 2/4 [00:02<00:01,  1.05it/s]\u001b[A\n",
            " 75% 3/4 [00:02<00:00,  1.73it/s]\u001b[A\n",
            "100% 4/4 [00:02<00:00,  1.59it/s]\n",
            "Generating images:  13% 13/100 [01:52<09:10,  6.33s/it]\n",
            "  0% 0/4 [00:00<?, ?it/s]\u001b[A\n",
            " 25% 1/4 [00:01<00:05,  1.85s/it]\u001b[A\n",
            " 50% 2/4 [00:01<00:01,  1.19it/s]\u001b[A\n",
            " 75% 3/4 [00:02<00:00,  1.92it/s]\u001b[A\n",
            "100% 4/4 [00:02<00:00,  1.73it/s]\n",
            "Generating images:  14% 14/100 [01:58<08:57,  6.25s/it]\n",
            "  0% 0/4 [00:00<?, ?it/s]\u001b[A\n",
            " 25% 1/4 [00:02<00:06,  2.00s/it]\u001b[A\n",
            " 50% 2/4 [00:02<00:01,  1.10it/s]\u001b[A\n",
            " 75% 3/4 [00:02<00:00,  1.79it/s]\u001b[A\n",
            "100% 4/4 [00:02<00:00,  1.65it/s]\n",
            "Generating images:  15% 15/100 [02:05<08:49,  6.23s/it]\n",
            "  0% 0/4 [00:00<?, ?it/s]\u001b[A\n",
            " 25% 1/4 [00:01<00:05,  1.88s/it]\u001b[A\n",
            " 50% 2/4 [00:02<00:01,  1.17it/s]\u001b[A\n",
            " 75% 3/4 [00:02<00:00,  1.90it/s]\u001b[A\n",
            "100% 4/4 [00:02<00:00,  1.74it/s]\n",
            "Generating images:  16% 16/100 [02:11<08:36,  6.15s/it]\n",
            "  0% 0/4 [00:00<?, ?it/s]\u001b[A\n",
            " 25% 1/4 [00:02<00:06,  2.05s/it]\u001b[A\n",
            " 50% 2/4 [00:02<00:01,  1.08it/s]\u001b[A\n",
            " 75% 3/4 [00:02<00:00,  1.76it/s]\u001b[A\n",
            "100% 4/4 [00:02<00:00,  1.62it/s]\n",
            "Generating images:  17% 17/100 [02:17<08:31,  6.16s/it]\n",
            "  0% 0/4 [00:00<?, ?it/s]\u001b[A\n",
            " 25% 1/4 [00:01<00:05,  1.83s/it]\u001b[A\n",
            " 50% 2/4 [00:01<00:01,  1.19it/s]\u001b[A\n",
            " 75% 3/4 [00:02<00:00,  1.91it/s]\u001b[A\n",
            "100% 4/4 [00:02<00:00,  1.76it/s]\n",
            "Generating images:  18% 18/100 [02:23<08:19,  6.09s/it]\n",
            "  0% 0/4 [00:00<?, ?it/s]\u001b[A\n",
            " 25% 1/4 [00:02<00:06,  2.05s/it]\u001b[A\n",
            " 50% 2/4 [00:02<00:01,  1.08it/s]\u001b[A\n",
            " 75% 3/4 [00:02<00:00,  1.74it/s]\u001b[A\n",
            "100% 4/4 [00:02<00:00,  1.61it/s]\n",
            "Generating images:  19% 19/100 [02:29<08:14,  6.11s/it]\n",
            "  0% 0/4 [00:00<?, ?it/s]\u001b[A\n",
            " 25% 1/4 [00:01<00:05,  1.84s/it]\u001b[A\n",
            " 50% 2/4 [00:01<00:01,  1.19it/s]\u001b[A\n",
            " 75% 3/4 [00:02<00:00,  1.92it/s]\u001b[A\n",
            "100% 4/4 [00:02<00:00,  1.77it/s]\n",
            "Generating images:  20% 20/100 [02:35<08:04,  6.05s/it]\n",
            "  0% 0/4 [00:00<?, ?it/s]\u001b[A\n",
            " 25% 1/4 [00:02<00:06,  2.06s/it]\u001b[A\n",
            " 50% 2/4 [00:02<00:01,  1.07it/s]\u001b[A\n",
            " 75% 3/4 [00:02<00:00,  1.75it/s]\u001b[A\n",
            "100% 4/4 [00:02<00:00,  1.60it/s]\n",
            "Generating images:  21% 21/100 [02:41<08:00,  6.08s/it]\n",
            "  0% 0/4 [00:00<?, ?it/s]\u001b[A\n",
            " 25% 1/4 [00:01<00:05,  1.91s/it]\u001b[A\n",
            " 50% 2/4 [00:02<00:01,  1.06it/s]\u001b[A\n",
            " 75% 3/4 [00:02<00:00,  1.63it/s]\u001b[A\n",
            "100% 4/4 [00:02<00:00,  1.57it/s]\n",
            "Generating images:  22% 22/100 [02:47<07:57,  6.12s/it]\n",
            "  0% 0/4 [00:00<?, ?it/s]\u001b[A\n",
            " 25% 1/4 [00:02<00:06,  2.02s/it]\u001b[A\n",
            " 50% 2/4 [00:02<00:01,  1.08it/s]\u001b[A\n",
            " 75% 3/4 [00:02<00:00,  1.76it/s]\u001b[A\n",
            "100% 4/4 [00:02<00:00,  1.62it/s]\n",
            "Generating images:  23% 23/100 [02:53<07:53,  6.15s/it]\n",
            "  0% 0/4 [00:00<?, ?it/s]\u001b[A\n",
            " 25% 1/4 [00:01<00:05,  1.86s/it]\u001b[A\n",
            " 50% 2/4 [00:02<00:01,  1.17it/s]\u001b[A\n",
            " 75% 3/4 [00:02<00:00,  1.89it/s]\u001b[A\n",
            "100% 4/4 [00:02<00:00,  1.73it/s]\n",
            "Generating images:  24% 24/100 [02:59<07:43,  6.10s/it]\n",
            "  0% 0/4 [00:00<?, ?it/s]\u001b[A\n",
            " 25% 1/4 [00:02<00:06,  2.02s/it]\u001b[A\n",
            " 50% 2/4 [00:02<00:01,  1.09it/s]\u001b[A\n",
            " 75% 3/4 [00:02<00:00,  1.79it/s]\u001b[A\n",
            "100% 4/4 [00:02<00:00,  1.64it/s]\n",
            "Generating images:  25% 25/100 [03:06<07:40,  6.13s/it]\n",
            "  0% 0/4 [00:00<?, ?it/s]\u001b[A\n",
            " 25% 1/4 [00:01<00:05,  1.84s/it]\u001b[A\n",
            " 50% 2/4 [00:01<00:01,  1.19it/s]\u001b[A\n",
            " 75% 3/4 [00:02<00:00,  1.92it/s]\u001b[A\n",
            "100% 4/4 [00:02<00:00,  1.76it/s]\n",
            "Generating images:  26% 26/100 [03:12<07:30,  6.08s/it]\n",
            "  0% 0/4 [00:00<?, ?it/s]\u001b[A\n",
            " 25% 1/4 [00:02<00:06,  2.04s/it]\u001b[A\n",
            " 50% 2/4 [00:02<00:01,  1.09it/s]\u001b[A\n",
            " 75% 3/4 [00:02<00:00,  1.78it/s]\u001b[A\n",
            "100% 4/4 [00:02<00:00,  1.63it/s]\n",
            "Generating images:  27% 27/100 [03:18<07:27,  6.12s/it]\n",
            "  0% 0/4 [00:00<?, ?it/s]\u001b[A\n",
            " 25% 1/4 [00:01<00:05,  1.84s/it]\u001b[A\n",
            " 50% 2/4 [00:01<00:01,  1.19it/s]\u001b[A\n",
            " 75% 3/4 [00:02<00:00,  1.87it/s]\u001b[A\n",
            "100% 4/4 [00:02<00:00,  1.74it/s]\n",
            "Generating images:  28% 28/100 [03:24<07:18,  6.09s/it]\n",
            "  0% 0/4 [00:00<?, ?it/s]\u001b[A\n",
            " 25% 1/4 [00:02<00:06,  2.05s/it]\u001b[A\n",
            " 50% 2/4 [00:02<00:01,  1.07it/s]\u001b[A\n",
            " 75% 3/4 [00:02<00:00,  1.74it/s]\u001b[A\n",
            "100% 4/4 [00:02<00:00,  1.60it/s]\n",
            "Generating images:  29% 29/100 [03:30<07:18,  6.17s/it]\n",
            "  0% 0/4 [00:00<?, ?it/s]\u001b[A\n",
            " 25% 1/4 [00:01<00:05,  1.88s/it]\u001b[A\n",
            " 50% 2/4 [00:02<00:01,  1.17it/s]\u001b[A\n",
            " 75% 3/4 [00:02<00:00,  1.88it/s]\u001b[A\n",
            "100% 4/4 [00:02<00:00,  1.72it/s]\n",
            "Generating images:  30% 30/100 [03:36<07:10,  6.15s/it]\n",
            "  0% 0/4 [00:00<?, ?it/s]\u001b[A\n",
            " 25% 1/4 [00:02<00:06,  2.10s/it]\u001b[A\n",
            " 50% 2/4 [00:02<00:01,  1.05it/s]\u001b[A\n",
            " 75% 3/4 [00:02<00:00,  1.69it/s]\u001b[A\n",
            "100% 4/4 [00:02<00:00,  1.57it/s]\n",
            "Generating images:  31% 31/100 [03:43<07:14,  6.29s/it]\n",
            "  0% 0/4 [00:00<?, ?it/s]\u001b[A\n",
            " 25% 1/4 [00:01<00:05,  1.95s/it]\u001b[A\n",
            " 50% 2/4 [00:02<00:01,  1.12it/s]\u001b[A\n",
            " 75% 3/4 [00:02<00:00,  1.82it/s]\u001b[A\n",
            "100% 4/4 [00:02<00:00,  1.68it/s]\n",
            "Generating images:  32% 32/100 [03:49<07:09,  6.32s/it]\n",
            "  0% 0/4 [00:00<?, ?it/s]\u001b[A\n",
            " 25% 1/4 [00:01<00:05,  1.97s/it]\u001b[A\n",
            " 50% 2/4 [00:02<00:01,  1.12it/s]\u001b[A\n",
            " 75% 3/4 [00:02<00:00,  1.82it/s]\u001b[A\n",
            "100% 4/4 [00:02<00:00,  1.68it/s]\n",
            "Generating images:  33% 33/100 [03:56<07:05,  6.35s/it]\n",
            "  0% 0/4 [00:00<?, ?it/s]\u001b[A\n",
            " 25% 1/4 [00:01<00:05,  1.85s/it]\u001b[A\n",
            " 50% 2/4 [00:01<00:01,  1.18it/s]\u001b[A\n",
            " 75% 3/4 [00:02<00:00,  1.89it/s]\u001b[A\n",
            "100% 4/4 [00:02<00:00,  1.75it/s]\n",
            "Generating images:  34% 34/100 [04:02<06:51,  6.23s/it]\n",
            "  0% 0/4 [00:00<?, ?it/s]\u001b[A\n",
            " 25% 1/4 [00:01<00:05,  1.86s/it]\u001b[A\n",
            " 50% 2/4 [00:01<00:01,  1.18it/s]\u001b[A\n",
            " 75% 3/4 [00:02<00:00,  1.87it/s]\u001b[A\n",
            "100% 4/4 [00:02<00:00,  1.74it/s]\n",
            "Generating images:  35% 35/100 [04:08<06:47,  6.27s/it]\n",
            "  0% 0/4 [00:00<?, ?it/s]\u001b[A\n",
            " 25% 1/4 [00:01<00:05,  1.85s/it]\u001b[A\n",
            " 50% 2/4 [00:01<00:01,  1.18it/s]\u001b[A\n",
            " 75% 3/4 [00:02<00:00,  1.89it/s]\u001b[A\n",
            "100% 4/4 [00:02<00:00,  1.75it/s]\n",
            "Generating images:  36% 36/100 [04:14<06:36,  6.19s/it]\n",
            "  0% 0/4 [00:00<?, ?it/s]\u001b[A\n",
            " 25% 1/4 [00:01<00:05,  1.86s/it]\u001b[A\n",
            " 50% 2/4 [00:01<00:01,  1.18it/s]\u001b[A\n",
            " 75% 3/4 [00:02<00:00,  1.88it/s]\u001b[A\n",
            "100% 4/4 [00:02<00:00,  1.75it/s]\n",
            "Generating images:  37% 37/100 [04:20<06:32,  6.23s/it]\n",
            "  0% 0/4 [00:00<?, ?it/s]\u001b[A\n",
            " 25% 1/4 [00:01<00:05,  1.85s/it]\u001b[A\n",
            " 50% 2/4 [00:01<00:01,  1.18it/s]\u001b[A\n",
            " 75% 3/4 [00:02<00:00,  1.90it/s]\u001b[A\n",
            "100% 4/4 [00:02<00:00,  1.76it/s]\n",
            "Generating images:  38% 38/100 [04:26<06:22,  6.16s/it]\n",
            "  0% 0/4 [00:00<?, ?it/s]\u001b[A\n",
            " 25% 1/4 [00:01<00:05,  1.86s/it]\u001b[A\n",
            " 50% 2/4 [00:01<00:01,  1.18it/s]\u001b[A\n",
            " 75% 3/4 [00:02<00:00,  1.90it/s]\u001b[A\n",
            "100% 4/4 [00:02<00:00,  1.75it/s]\n",
            "Generating images:  39% 39/100 [04:33<06:17,  6.19s/it]\n",
            "  0% 0/4 [00:00<?, ?it/s]\u001b[A\n",
            " 25% 1/4 [00:01<00:05,  1.82s/it]\u001b[A\n",
            " 50% 2/4 [00:01<00:01,  1.20it/s]\u001b[A\n",
            " 75% 3/4 [00:02<00:00,  1.91it/s]\u001b[A\n",
            "100% 4/4 [00:02<00:00,  1.78it/s]\n",
            "Generating images:  40% 40/100 [04:39<06:07,  6.12s/it]\n",
            "  0% 0/4 [00:00<?, ?it/s]\u001b[A\n",
            " 25% 1/4 [00:01<00:05,  1.82s/it]\u001b[A\n",
            " 50% 2/4 [00:01<00:01,  1.20it/s]\u001b[A\n",
            " 75% 3/4 [00:02<00:00,  1.90it/s]\u001b[A\n",
            "100% 4/4 [00:02<00:00,  1.77it/s]\n",
            "Generating images:  41% 41/100 [04:45<06:03,  6.16s/it]\n",
            "  0% 0/4 [00:00<?, ?it/s]\u001b[A\n",
            " 25% 1/4 [00:01<00:05,  1.83s/it]\u001b[A\n",
            " 50% 2/4 [00:01<00:01,  1.19it/s]\u001b[A\n",
            " 75% 3/4 [00:02<00:00,  1.93it/s]\u001b[A\n",
            "100% 4/4 [00:02<00:00,  1.77it/s]\n",
            "Generating images:  42% 42/100 [04:51<05:54,  6.11s/it]\n",
            "  0% 0/4 [00:00<?, ?it/s]\u001b[A\n",
            " 25% 1/4 [00:01<00:05,  1.83s/it]\u001b[A\n",
            " 50% 2/4 [00:01<00:01,  1.19it/s]\u001b[A\n",
            " 75% 3/4 [00:02<00:00,  1.91it/s]\u001b[A\n",
            "100% 4/4 [00:02<00:00,  1.76it/s]\n",
            "Generating images:  43% 43/100 [04:57<05:49,  6.14s/it]\n",
            "  0% 0/4 [00:00<?, ?it/s]\u001b[A\n",
            " 25% 1/4 [00:01<00:05,  1.84s/it]\u001b[A\n",
            " 50% 2/4 [00:01<00:01,  1.18it/s]\u001b[A\n",
            " 75% 3/4 [00:02<00:00,  1.90it/s]\u001b[A\n",
            "100% 4/4 [00:02<00:00,  1.75it/s]\n",
            "Generating images:  44% 44/100 [05:03<05:43,  6.13s/it]\n",
            "  0% 0/4 [00:00<?, ?it/s]\u001b[A\n",
            " 25% 1/4 [00:01<00:05,  1.86s/it]\u001b[A\n",
            " 50% 2/4 [00:02<00:01,  1.18it/s]\u001b[A\n",
            " 75% 3/4 [00:02<00:00,  1.90it/s]\u001b[A\n",
            "100% 4/4 [00:02<00:00,  1.75it/s]\n",
            "Generating images:  45% 45/100 [05:09<05:38,  6.16s/it]\n",
            "  0% 0/4 [00:00<?, ?it/s]\u001b[A\n",
            " 25% 1/4 [00:01<00:05,  1.85s/it]\u001b[A\n",
            " 50% 2/4 [00:02<00:01,  1.17it/s]\u001b[A\n",
            " 75% 3/4 [00:02<00:00,  1.89it/s]\u001b[A\n",
            "100% 4/4 [00:02<00:00,  1.75it/s]\n",
            "Generating images:  46% 46/100 [05:15<05:31,  6.13s/it]\n",
            "  0% 0/4 [00:00<?, ?it/s]\u001b[A\n",
            " 25% 1/4 [00:01<00:05,  1.83s/it]\u001b[A\n",
            " 50% 2/4 [00:01<00:01,  1.19it/s]\u001b[A\n",
            " 75% 3/4 [00:02<00:00,  1.90it/s]\u001b[A\n",
            "100% 4/4 [00:02<00:00,  1.75it/s]\n",
            "Generating images:  47% 47/100 [05:22<05:26,  6.15s/it]\n",
            "  0% 0/4 [00:00<?, ?it/s]\u001b[A\n",
            " 25% 1/4 [00:01<00:05,  1.86s/it]\u001b[A\n",
            " 50% 2/4 [00:02<00:01,  1.17it/s]\u001b[A\n",
            " 75% 3/4 [00:02<00:00,  1.89it/s]\u001b[A\n",
            "100% 4/4 [00:02<00:00,  1.73it/s]\n",
            "Generating images:  48% 48/100 [05:28<05:20,  6.16s/it]\n",
            "  0% 0/4 [00:00<?, ?it/s]\u001b[A\n",
            " 25% 1/4 [00:01<00:05,  1.92s/it]\u001b[A\n",
            " 50% 2/4 [00:02<00:01,  1.15it/s]\u001b[A\n",
            " 75% 3/4 [00:02<00:00,  1.85it/s]\u001b[A\n",
            "100% 4/4 [00:02<00:00,  1.67it/s]\n",
            "Generating images:  49% 49/100 [05:34<05:17,  6.22s/it]\n",
            "  0% 0/4 [00:00<?, ?it/s]\u001b[A\n",
            " 25% 1/4 [00:01<00:05,  1.96s/it]\u001b[A\n",
            " 50% 2/4 [00:02<00:01,  1.12it/s]\u001b[A\n",
            " 75% 3/4 [00:02<00:00,  1.82it/s]\u001b[A\n",
            "100% 4/4 [00:02<00:00,  1.67it/s]\n",
            "Generating images:  50% 50/100 [05:41<05:21,  6.43s/it]\n",
            "  0% 0/4 [00:00<?, ?it/s]\u001b[A\n",
            " 25% 1/4 [00:01<00:05,  1.92s/it]\u001b[A\n",
            " 50% 2/4 [00:02<00:01,  1.14it/s]\u001b[A\n",
            " 75% 3/4 [00:02<00:00,  1.85it/s]\u001b[A\n",
            "100% 4/4 [00:02<00:00,  1.69it/s]\n",
            "Generating images:  51% 51/100 [05:47<05:10,  6.35s/it]\n",
            "  0% 0/4 [00:00<?, ?it/s]\u001b[A\n",
            " 25% 1/4 [00:01<00:05,  1.87s/it]\u001b[A\n",
            " 50% 2/4 [00:02<00:01,  1.15it/s]\u001b[A\n",
            " 75% 3/4 [00:02<00:00,  1.77it/s]\u001b[A\n",
            "100% 4/4 [00:02<00:00,  1.65it/s]\n",
            "Generating images:  52% 52/100 [05:53<05:04,  6.34s/it]\n",
            "  0% 0/4 [00:00<?, ?it/s]\u001b[A\n",
            " 25% 1/4 [00:01<00:05,  1.84s/it]\u001b[A\n",
            " 50% 2/4 [00:02<00:01,  1.17it/s]\u001b[A\n",
            " 75% 3/4 [00:02<00:00,  1.91it/s]\u001b[A\n",
            "100% 4/4 [00:02<00:00,  1.76it/s]\n",
            "Generating images:  53% 53/100 [05:59<04:52,  6.23s/it]\n",
            "  0% 0/4 [00:00<?, ?it/s]\u001b[A\n",
            " 25% 1/4 [00:01<00:05,  1.83s/it]\u001b[A\n",
            " 50% 2/4 [00:02<00:01,  1.14it/s]\u001b[A\n",
            " 75% 3/4 [00:02<00:00,  1.78it/s]\u001b[A\n",
            "100% 4/4 [00:02<00:00,  1.66it/s]\n",
            "Generating images:  54% 54/100 [06:06<04:46,  6.23s/it]\n",
            "  0% 0/4 [00:00<?, ?it/s]\u001b[A\n",
            " 25% 1/4 [00:01<00:05,  1.88s/it]\u001b[A\n",
            " 50% 2/4 [00:02<00:01,  1.16it/s]\u001b[A\n",
            " 75% 3/4 [00:02<00:00,  1.87it/s]\u001b[A\n",
            "100% 4/4 [00:02<00:00,  1.72it/s]\n",
            "Generating images:  55% 55/100 [06:12<04:37,  6.17s/it]\n",
            "  0% 0/4 [00:00<?, ?it/s]\u001b[A\n",
            " 25% 1/4 [00:01<00:05,  1.87s/it]\u001b[A\n",
            " 50% 2/4 [00:02<00:01,  1.13it/s]\u001b[A\n",
            " 75% 3/4 [00:02<00:00,  1.78it/s]\u001b[A\n",
            "100% 4/4 [00:02<00:00,  1.65it/s]\n",
            "Generating images:  56% 56/100 [06:18<04:32,  6.20s/it]\n",
            "  0% 0/4 [00:00<?, ?it/s]\u001b[A\n",
            " 25% 1/4 [00:01<00:05,  1.85s/it]\u001b[A\n",
            " 50% 2/4 [00:01<00:01,  1.19it/s]\u001b[A\n",
            " 75% 3/4 [00:02<00:00,  1.90it/s]\u001b[A\n",
            "100% 4/4 [00:02<00:00,  1.76it/s]\n",
            "Generating images:  57% 57/100 [06:24<04:23,  6.13s/it]\n",
            "  0% 0/4 [00:00<?, ?it/s]\u001b[A\n",
            " 25% 1/4 [00:01<00:05,  1.85s/it]\u001b[A\n",
            " 50% 2/4 [00:02<00:01,  1.13it/s]\u001b[A\n",
            " 75% 3/4 [00:02<00:00,  1.77it/s]\u001b[A\n",
            "100% 4/4 [00:02<00:00,  1.65it/s]\n",
            "Generating images:  58% 58/100 [06:30<04:19,  6.18s/it]\n",
            "  0% 0/4 [00:00<?, ?it/s]\u001b[A\n",
            " 25% 1/4 [00:01<00:05,  1.83s/it]\u001b[A\n",
            " 50% 2/4 [00:01<00:01,  1.20it/s]\u001b[A\n",
            " 75% 3/4 [00:02<00:00,  1.90it/s]\u001b[A\n",
            "100% 4/4 [00:02<00:00,  1.77it/s]\n",
            "Generating images:  59% 59/100 [06:36<04:10,  6.11s/it]\n",
            "  0% 0/4 [00:00<?, ?it/s]\u001b[A\n",
            " 25% 1/4 [00:02<00:07,  2.34s/it]\u001b[A\n",
            " 50% 2/4 [00:02<00:02,  1.09s/it]\u001b[A\n",
            " 75% 3/4 [00:02<00:00,  1.45it/s]\u001b[A\n",
            "100% 4/4 [00:02<00:00,  1.34it/s]\n",
            "Generating images:  60% 60/100 [06:44<04:21,  6.54s/it]\n",
            "  0% 0/4 [00:00<?, ?it/s]\u001b[A\n",
            " 25% 1/4 [00:01<00:05,  1.84s/it]\u001b[A\n",
            " 50% 2/4 [00:01<00:01,  1.18it/s]\u001b[A\n",
            " 75% 3/4 [00:02<00:00,  1.86it/s]\u001b[A\n",
            "100% 4/4 [00:02<00:00,  1.73it/s]\n",
            "Generating images:  61% 61/100 [06:50<04:08,  6.38s/it]\n",
            "  0% 0/4 [00:00<?, ?it/s]\u001b[A\n",
            " 25% 1/4 [00:02<00:06,  2.03s/it]\u001b[A\n",
            " 50% 2/4 [00:02<00:01,  1.06it/s]\u001b[A\n",
            " 75% 3/4 [00:02<00:00,  1.65it/s]\u001b[A\n",
            "100% 4/4 [00:02<00:00,  1.51it/s]\n",
            "Generating images:  62% 62/100 [06:56<04:01,  6.36s/it]\n",
            "  0% 0/4 [00:00<?, ?it/s]\u001b[A\n",
            " 25% 1/4 [00:01<00:05,  1.89s/it]\u001b[A\n",
            " 50% 2/4 [00:02<00:01,  1.16it/s]\u001b[A\n",
            " 75% 3/4 [00:02<00:00,  1.88it/s]\u001b[A\n",
            "100% 4/4 [00:02<00:00,  1.73it/s]\n",
            "Generating images:  63% 63/100 [07:02<03:51,  6.25s/it]\n",
            "  0% 0/4 [00:00<?, ?it/s]\u001b[A\n",
            " 25% 1/4 [00:02<00:06,  2.03s/it]\u001b[A\n",
            " 50% 2/4 [00:02<00:01,  1.04it/s]\u001b[A\n",
            " 75% 3/4 [00:02<00:00,  1.61it/s]\u001b[A\n",
            "100% 4/4 [00:02<00:00,  1.53it/s]\n",
            "Generating images:  64% 64/100 [07:08<03:46,  6.28s/it]\n",
            "  0% 0/4 [00:00<?, ?it/s]\u001b[A\n",
            " 25% 1/4 [00:01<00:05,  1.88s/it]\u001b[A\n",
            " 50% 2/4 [00:02<00:01,  1.16it/s]\u001b[A\n",
            " 75% 3/4 [00:02<00:00,  1.88it/s]\u001b[A\n",
            "100% 4/4 [00:02<00:00,  1.73it/s]\n",
            "Generating images:  65% 65/100 [07:14<03:37,  6.22s/it]\n",
            "  0% 0/4 [00:00<?, ?it/s]\u001b[A\n",
            " 25% 1/4 [00:02<00:06,  2.10s/it]\u001b[A\n",
            " 50% 2/4 [00:02<00:01,  1.01it/s]\u001b[A\n",
            " 75% 3/4 [00:02<00:00,  1.67it/s]\u001b[A\n",
            "100% 4/4 [00:02<00:00,  1.54it/s]\n",
            "Generating images:  66% 66/100 [07:21<03:32,  6.25s/it]\n",
            "  0% 0/4 [00:00<?, ?it/s]\u001b[A\n",
            " 25% 1/4 [00:01<00:05,  1.88s/it]\u001b[A\n",
            " 50% 2/4 [00:02<00:01,  1.15it/s]\u001b[A\n",
            " 75% 3/4 [00:02<00:00,  1.86it/s]\u001b[A\n",
            "100% 4/4 [00:02<00:00,  1.71it/s]\n",
            "Generating images:  67% 67/100 [07:27<03:24,  6.20s/it]\n",
            "  0% 0/4 [00:00<?, ?it/s]\u001b[A\n",
            " 25% 1/4 [00:02<00:06,  2.09s/it]\u001b[A\n",
            " 50% 2/4 [00:02<00:01,  1.05it/s]\u001b[A\n",
            " 75% 3/4 [00:02<00:00,  1.71it/s]\u001b[A\n",
            "100% 4/4 [00:02<00:00,  1.57it/s]\n",
            "Generating images:  68% 68/100 [07:34<03:27,  6.50s/it]\n",
            "  0% 0/4 [00:00<?, ?it/s]\u001b[A\n",
            " 25% 1/4 [00:01<00:05,  1.93s/it]\u001b[A\n",
            " 50% 2/4 [00:02<00:01,  1.14it/s]\u001b[A\n",
            " 75% 3/4 [00:02<00:00,  1.82it/s]\u001b[A\n",
            "100% 4/4 [00:02<00:00,  1.69it/s]\n",
            "Generating images:  69% 69/100 [07:40<03:18,  6.42s/it]\n",
            "  0% 0/4 [00:00<?, ?it/s]\u001b[A\n",
            " 25% 1/4 [00:02<00:06,  2.06s/it]\u001b[A\n",
            " 50% 2/4 [00:02<00:01,  1.07it/s]\u001b[A\n",
            " 75% 3/4 [00:02<00:00,  1.74it/s]\u001b[A\n",
            "100% 4/4 [00:02<00:00,  1.59it/s]\n",
            "Generating images:  70% 70/100 [07:47<03:13,  6.45s/it]\n",
            "  0% 0/4 [00:00<?, ?it/s]\u001b[A\n",
            " 25% 1/4 [00:01<00:05,  1.90s/it]\u001b[A\n",
            " 50% 2/4 [00:02<00:01,  1.16it/s]\u001b[A\n",
            " 75% 3/4 [00:02<00:00,  1.87it/s]\u001b[A\n",
            "100% 4/4 [00:02<00:00,  1.72it/s]\n",
            "Generating images:  71% 71/100 [07:53<03:03,  6.34s/it]\n",
            "  0% 0/4 [00:00<?, ?it/s]\u001b[A\n",
            " 25% 1/4 [00:01<00:05,  1.96s/it]\u001b[A\n",
            " 50% 2/4 [00:02<00:01,  1.11it/s]\u001b[A\n",
            " 75% 3/4 [00:02<00:00,  1.81it/s]\u001b[A\n",
            "100% 4/4 [00:02<00:00,  1.66it/s]\n",
            "Generating images:  72% 72/100 [07:59<02:58,  6.39s/it]\n",
            "  0% 0/4 [00:00<?, ?it/s]\u001b[A\n",
            " 25% 1/4 [00:01<00:05,  1.84s/it]\u001b[A\n",
            " 50% 2/4 [00:01<00:01,  1.18it/s]\u001b[A\n",
            " 75% 3/4 [00:02<00:00,  1.90it/s]\u001b[A\n",
            "100% 4/4 [00:02<00:00,  1.75it/s]\n",
            "Generating images:  73% 73/100 [08:05<02:49,  6.27s/it]\n",
            "  0% 0/4 [00:00<?, ?it/s]\u001b[A\n",
            " 25% 1/4 [00:01<00:05,  1.91s/it]\u001b[A\n",
            " 50% 2/4 [00:02<00:01,  1.15it/s]\u001b[A\n",
            " 75% 3/4 [00:02<00:00,  1.84it/s]\u001b[A\n",
            "100% 4/4 [00:02<00:00,  1.70it/s]\n",
            "Generating images:  74% 74/100 [08:12<02:44,  6.33s/it]\n",
            "  0% 0/4 [00:00<?, ?it/s]\u001b[A\n",
            " 25% 1/4 [00:01<00:05,  1.87s/it]\u001b[A\n",
            " 50% 2/4 [00:02<00:01,  1.17it/s]\u001b[A\n",
            " 75% 3/4 [00:02<00:00,  1.83it/s]\u001b[A\n",
            "100% 4/4 [00:02<00:00,  1.72it/s]\n",
            "Generating images:  75% 75/100 [08:18<02:36,  6.26s/it]\n",
            "  0% 0/4 [00:00<?, ?it/s]\u001b[A\n",
            " 25% 1/4 [00:01<00:05,  1.87s/it]\u001b[A\n",
            " 50% 2/4 [00:02<00:01,  1.17it/s]\u001b[A\n",
            " 75% 3/4 [00:02<00:00,  1.89it/s]\u001b[A\n",
            "100% 4/4 [00:02<00:00,  1.73it/s]\n",
            "Generating images:  76% 76/100 [08:24<02:31,  6.30s/it]\n",
            "  0% 0/4 [00:00<?, ?it/s]\u001b[A\n",
            " 25% 1/4 [00:01<00:05,  1.86s/it]\u001b[A\n",
            " 50% 2/4 [00:02<00:01,  1.17it/s]\u001b[A\n",
            " 75% 3/4 [00:02<00:00,  1.89it/s]\u001b[A\n",
            "100% 4/4 [00:02<00:00,  1.74it/s]\n",
            "Generating images:  77% 77/100 [08:30<02:23,  6.23s/it]\n",
            "  0% 0/4 [00:00<?, ?it/s]\u001b[A\n",
            " 25% 1/4 [00:01<00:05,  1.86s/it]\u001b[A\n",
            " 50% 2/4 [00:02<00:01,  1.17it/s]\u001b[A\n",
            " 75% 3/4 [00:02<00:00,  1.89it/s]\u001b[A\n",
            "100% 4/4 [00:02<00:00,  1.74it/s]\n",
            "Generating images:  78% 78/100 [08:37<02:17,  6.27s/it]\n",
            "  0% 0/4 [00:00<?, ?it/s]\u001b[A\n",
            " 25% 1/4 [00:01<00:05,  1.84s/it]\u001b[A\n",
            " 50% 2/4 [00:02<00:01,  1.17it/s]\u001b[A\n",
            " 75% 3/4 [00:02<00:00,  1.89it/s]\u001b[A\n",
            "100% 4/4 [00:02<00:00,  1.75it/s]\n",
            "Generating images:  79% 79/100 [08:43<02:10,  6.20s/it]\n",
            "  0% 0/4 [00:00<?, ?it/s]\u001b[A\n",
            " 25% 1/4 [00:01<00:05,  1.84s/it]\u001b[A\n",
            " 50% 2/4 [00:02<00:01,  1.17it/s]\u001b[A\n",
            " 75% 3/4 [00:02<00:00,  1.87it/s]\u001b[A\n",
            "100% 4/4 [00:02<00:00,  1.74it/s]\n",
            "Generating images:  80% 80/100 [08:49<02:04,  6.22s/it]\n",
            "  0% 0/4 [00:00<?, ?it/s]\u001b[A\n",
            " 25% 1/4 [00:01<00:05,  1.85s/it]\u001b[A\n",
            " 50% 2/4 [00:01<00:01,  1.18it/s]\u001b[A\n",
            " 75% 3/4 [00:02<00:00,  1.87it/s]\u001b[A\n",
            "100% 4/4 [00:02<00:00,  1.75it/s]\n",
            "Generating images:  81% 81/100 [08:55<01:57,  6.18s/it]\n",
            "  0% 0/4 [00:00<?, ?it/s]\u001b[A\n",
            " 25% 1/4 [00:01<00:05,  1.85s/it]\u001b[A\n",
            " 50% 2/4 [00:01<00:01,  1.18it/s]\u001b[A\n",
            " 75% 3/4 [00:02<00:00,  1.89it/s]\u001b[A\n",
            "100% 4/4 [00:02<00:00,  1.73it/s]\n",
            "Generating images:  82% 82/100 [09:01<01:51,  6.19s/it]\n",
            "  0% 0/4 [00:00<?, ?it/s]\u001b[A\n",
            " 25% 1/4 [00:01<00:05,  1.85s/it]\u001b[A\n",
            " 50% 2/4 [00:01<00:01,  1.18it/s]\u001b[A\n",
            " 75% 3/4 [00:02<00:00,  1.90it/s]\u001b[A\n",
            "100% 4/4 [00:02<00:00,  1.76it/s]\n",
            "Generating images:  83% 83/100 [09:08<01:44,  6.16s/it]\n",
            "  0% 0/4 [00:00<?, ?it/s]\u001b[A\n",
            " 25% 1/4 [00:01<00:05,  1.85s/it]\u001b[A\n",
            " 50% 2/4 [00:01<00:01,  1.18it/s]\u001b[A\n",
            " 75% 3/4 [00:02<00:00,  1.90it/s]\u001b[A\n",
            "100% 4/4 [00:02<00:00,  1.75it/s]\n",
            "Generating images:  84% 84/100 [09:14<01:38,  6.17s/it]\n",
            "  0% 0/4 [00:00<?, ?it/s]\u001b[A\n",
            " 25% 1/4 [00:01<00:05,  1.87s/it]\u001b[A\n",
            " 50% 2/4 [00:02<00:01,  1.17it/s]\u001b[A\n",
            " 75% 3/4 [00:02<00:00,  1.88it/s]\u001b[A\n",
            "100% 4/4 [00:02<00:00,  1.74it/s]\n",
            "Generating images:  85% 85/100 [09:20<01:32,  6.16s/it]\n",
            "  0% 0/4 [00:00<?, ?it/s]\u001b[A\n",
            " 25% 1/4 [00:01<00:05,  1.87s/it]\u001b[A\n",
            " 50% 2/4 [00:02<00:01,  1.16it/s]\u001b[A\n",
            " 75% 3/4 [00:02<00:00,  1.89it/s]\u001b[A\n",
            "100% 4/4 [00:02<00:00,  1.74it/s]\n",
            "Generating images:  86% 86/100 [09:26<01:26,  6.17s/it]\n",
            "  0% 0/4 [00:00<?, ?it/s]\u001b[A\n",
            " 25% 1/4 [00:01<00:05,  1.87s/it]\u001b[A\n",
            " 50% 2/4 [00:02<00:01,  1.15it/s]\u001b[A\n",
            " 75% 3/4 [00:02<00:00,  1.83it/s]\u001b[A\n",
            "100% 4/4 [00:02<00:00,  1.71it/s]\n",
            "Generating images:  87% 87/100 [09:32<01:20,  6.19s/it]\n",
            "  0% 0/4 [00:00<?, ?it/s]\u001b[A\n",
            " 25% 1/4 [00:01<00:05,  1.89s/it]\u001b[A\n",
            " 50% 2/4 [00:02<00:01,  1.15it/s]\u001b[A\n",
            " 75% 3/4 [00:02<00:00,  1.85it/s]\u001b[A\n",
            "100% 4/4 [00:02<00:00,  1.71it/s]\n",
            "Generating images:  88% 88/100 [09:39<01:14,  6.21s/it]\n",
            "  0% 0/4 [00:00<?, ?it/s]\u001b[A\n",
            " 25% 1/4 [00:01<00:05,  1.93s/it]\u001b[A\n",
            " 50% 2/4 [00:02<00:01,  1.13it/s]\u001b[A\n",
            " 75% 3/4 [00:02<00:00,  1.83it/s]\u001b[A\n",
            "100% 4/4 [00:02<00:00,  1.69it/s]\n",
            "Generating images:  89% 89/100 [09:45<01:08,  6.25s/it]\n",
            "  0% 0/4 [00:00<?, ?it/s]\u001b[A\n",
            " 25% 1/4 [00:01<00:05,  1.90s/it]\u001b[A\n",
            " 50% 2/4 [00:02<00:01,  1.14it/s]\u001b[A\n",
            " 75% 3/4 [00:02<00:00,  1.85it/s]\u001b[A\n",
            "100% 4/4 [00:02<00:00,  1.70it/s]\n",
            "Generating images:  90% 90/100 [09:51<01:02,  6.22s/it]\n",
            "  0% 0/4 [00:00<?, ?it/s]\u001b[A\n",
            " 25% 1/4 [00:01<00:05,  1.87s/it]\u001b[A\n",
            " 50% 2/4 [00:02<00:01,  1.17it/s]\u001b[A\n",
            " 75% 3/4 [00:02<00:00,  1.85it/s]\u001b[A\n",
            "100% 4/4 [00:02<00:00,  1.69it/s]\n",
            "Generating images:  91% 91/100 [09:57<00:55,  6.20s/it]\n",
            "  0% 0/4 [00:00<?, ?it/s]\u001b[A\n",
            " 25% 1/4 [00:01<00:05,  1.84s/it]\u001b[A\n",
            " 50% 2/4 [00:01<00:01,  1.18it/s]\u001b[A\n",
            " 75% 3/4 [00:02<00:00,  1.91it/s]\u001b[A\n",
            "100% 4/4 [00:02<00:00,  1.76it/s]\n",
            "Generating images:  92% 92/100 [10:03<00:48,  6.08s/it]\n",
            "  0% 0/4 [00:00<?, ?it/s]\u001b[A\n",
            " 25% 1/4 [00:01<00:05,  1.82s/it]\u001b[A\n",
            " 50% 2/4 [00:01<00:01,  1.18it/s]\u001b[A\n",
            " 75% 3/4 [00:02<00:00,  1.90it/s]\u001b[A\n",
            "100% 4/4 [00:02<00:00,  1.75it/s]\n",
            "Generating images:  93% 93/100 [10:09<00:42,  6.05s/it]\n",
            "  0% 0/4 [00:00<?, ?it/s]\u001b[A\n",
            " 25% 1/4 [00:01<00:05,  1.83s/it]\u001b[A\n",
            " 50% 2/4 [00:01<00:01,  1.19it/s]\u001b[A\n",
            " 75% 3/4 [00:02<00:00,  1.90it/s]\u001b[A\n",
            "100% 4/4 [00:02<00:00,  1.74it/s]\n",
            "Generating images:  94% 94/100 [10:15<00:35,  5.98s/it]\n",
            "  0% 0/4 [00:00<?, ?it/s]\u001b[A\n",
            " 25% 1/4 [00:01<00:05,  1.85s/it]\u001b[A\n",
            " 50% 2/4 [00:02<00:01,  1.18it/s]\u001b[A\n",
            " 75% 3/4 [00:02<00:00,  1.89it/s]\u001b[A\n",
            "100% 4/4 [00:02<00:00,  1.75it/s]\n",
            "Generating images:  95% 95/100 [10:21<00:29,  5.97s/it]\n",
            "  0% 0/4 [00:00<?, ?it/s]\u001b[A\n",
            " 25% 1/4 [00:01<00:05,  1.83s/it]\u001b[A\n",
            " 50% 2/4 [00:01<00:01,  1.17it/s]\u001b[A\n",
            " 75% 3/4 [00:02<00:00,  1.90it/s]\u001b[A\n",
            "100% 4/4 [00:02<00:00,  1.76it/s]\n",
            "Generating images:  96% 96/100 [10:27<00:23,  5.95s/it]\n",
            "  0% 0/4 [00:00<?, ?it/s]\u001b[A\n",
            " 25% 1/4 [00:01<00:05,  1.87s/it]\u001b[A\n",
            " 50% 2/4 [00:02<00:01,  1.15it/s]\u001b[A\n",
            " 75% 3/4 [00:02<00:00,  1.88it/s]\u001b[A\n",
            "100% 4/4 [00:02<00:00,  1.73it/s]\n",
            "Generating images:  97% 97/100 [10:33<00:17,  5.96s/it]\n",
            "  0% 0/4 [00:00<?, ?it/s]\u001b[A\n",
            " 25% 1/4 [00:01<00:05,  1.84s/it]\u001b[A\n",
            " 50% 2/4 [00:01<00:01,  1.19it/s]\u001b[A\n",
            " 75% 3/4 [00:02<00:00,  1.91it/s]\u001b[A\n",
            "100% 4/4 [00:02<00:00,  1.76it/s]\n",
            "Generating images:  98% 98/100 [10:39<00:11,  5.95s/it]\n",
            "  0% 0/4 [00:00<?, ?it/s]\u001b[A\n",
            " 25% 1/4 [00:01<00:05,  1.84s/it]\u001b[A\n",
            " 50% 2/4 [00:01<00:01,  1.18it/s]\u001b[A\n",
            " 75% 3/4 [00:02<00:00,  1.90it/s]\u001b[A\n",
            "100% 4/4 [00:02<00:00,  1.75it/s]\n",
            "Generating images:  99% 99/100 [10:45<00:06,  6.18s/it]\n",
            "  0% 0/4 [00:00<?, ?it/s]\u001b[A\n",
            " 25% 1/4 [00:01<00:05,  1.86s/it]\u001b[A\n",
            " 50% 2/4 [00:02<00:01,  1.18it/s]\u001b[A\n",
            " 75% 3/4 [00:02<00:00,  1.88it/s]\u001b[A\n",
            "100% 4/4 [00:02<00:00,  1.75it/s]\n",
            "Generating images: 100% 100/100 [10:51<00:00,  6.11s/it]\u001b[32mINFO    \u001b[0m Initializing OWLv2 base model\u001b[33m...\u001b[0m                  \u001b]8;id=91161;file:///usr/local/lib/python3.11/dist-packages/datadreamer/dataset_annotation/owlv2_annotator.py\u001b\\\u001b[2mowlv2_annotator.py\u001b[0m\u001b]8;;\u001b\\\u001b[2m:\u001b[0m\u001b]8;id=619176;file:///usr/local/lib/python3.11/dist-packages/datadreamer/dataset_annotation/owlv2_annotator.py#60\u001b\\\u001b[2m60\u001b[0m\u001b]8;;\u001b\\\n",
            "\n",
            "config.json: 100% 414/414 [00:00<00:00, 2.13MB/s]\n",
            "\n",
            "model.safetensors:   0% 0.00/620M [00:00<?, ?B/s]\u001b[A\n",
            "model.safetensors:   0% 49.5k/620M [00:01<4:26:19, 38.8kB/s]\u001b[A\n",
            "model.safetensors:   0% 479k/620M [00:01<26:38, 388kB/s]    \u001b[A\n",
            "model.safetensors:   0% 1.32M/620M [00:01<08:34, 1.20MB/s]\u001b[A\n",
            "model.safetensors:   1% 4.98M/620M [00:01<02:04, 4.93MB/s]\u001b[A\n",
            "model.safetensors:   2% 14.3M/620M [00:02<00:36, 16.4MB/s]\u001b[A\n",
            "model.safetensors:   4% 27.4M/620M [00:02<00:17, 34.3MB/s]\u001b[A\n",
            "model.safetensors:   5% 33.9M/620M [00:02<00:22, 26.0MB/s]\u001b[A\n",
            "model.safetensors:   7% 42.1M/620M [00:02<00:17, 32.7MB/s]\u001b[A\n",
            "model.safetensors:   8% 48.7M/620M [00:02<00:16, 35.0MB/s]\u001b[A\n",
            "model.safetensors:   9% 54.7M/620M [00:02<00:15, 37.3MB/s]\u001b[A\n",
            "model.safetensors:  11% 70.4M/620M [00:03<00:09, 57.4MB/s]\u001b[A\n",
            "model.safetensors:  13% 79.4M/620M [00:03<00:08, 63.5MB/s]\u001b[A\n",
            "model.safetensors:  14% 88.3M/620M [00:03<00:07, 68.0MB/s]\u001b[A\n",
            "model.safetensors:  17% 103M/620M [00:03<00:06, 83.1MB/s] \u001b[A\n",
            "model.safetensors:  19% 117M/620M [00:03<00:05, 93.1MB/s]\u001b[A\n",
            "model.safetensors:  22% 137M/620M [00:04<00:16, 29.9MB/s]\u001b[A\n",
            "model.safetensors:  24% 146M/620M [00:05<00:14, 33.5MB/s]\u001b[A\n",
            "model.safetensors:  25% 156M/620M [00:05<00:12, 38.4MB/s]\u001b[A\n",
            "model.safetensors:  27% 165M/620M [00:05<00:11, 38.3MB/s]\u001b[A\n",
            "model.safetensors:  30% 184M/620M [00:05<00:07, 55.0MB/s]\u001b[A\n",
            "model.safetensors:  34% 212M/620M [00:05<00:04, 83.5MB/s]\u001b[A\n",
            "model.safetensors:  37% 230M/620M [00:05<00:03, 98.6MB/s]\u001b[A\n",
            "model.safetensors:  40% 249M/620M [00:06<00:07, 47.4MB/s]\u001b[A\n",
            "model.safetensors:  43% 268M/620M [00:06<00:05, 61.0MB/s]\u001b[A\n",
            "model.safetensors:  46% 286M/620M [00:06<00:04, 73.7MB/s]\u001b[A\n",
            "model.safetensors:  49% 307M/620M [00:07<00:03, 79.6MB/s]\u001b[A\n",
            "model.safetensors:  55% 341M/620M [00:08<00:08, 32.8MB/s]\u001b[A\n",
            "model.safetensors:  66% 408M/620M [00:09<00:03, 53.5MB/s]\u001b[A\n",
            "model.safetensors:  71% 442M/620M [00:09<00:02, 67.0MB/s]\u001b[A\n",
            "model.safetensors:  78% 486M/620M [00:16<00:08, 16.7MB/s]\u001b[A\n",
            "model.safetensors:  89% 553M/620M [00:18<00:03, 21.4MB/s]\u001b[A\n",
            "model.safetensors: 100% 620M/620M [00:24<00:00, 25.4MB/s]\n",
            "Using a slow image processor as `use_fast` is unset and a slow processor was saved with this model. `use_fast=True` will be the default behavior in v4.52, even if the model was saved with a slow processor. This will result in minor differences in outputs. You'll still be able to use a slow processor with `use_fast=False`.\n",
            "\n",
            "preprocessor_config.json: 100% 425/425 [00:00<00:00, 3.99MB/s]\n",
            "\n",
            "tokenizer_config.json: 1.10kB [00:00, 283kB/s]\n",
            "\n",
            "vocab.json: 1.06MB [00:00, 30.1MB/s]\n",
            "\n",
            "merges.txt: 525kB [00:00, 102MB/s]\n",
            "\n",
            "added_tokens.json: 100% 67.0/67.0 [00:00<00:00, 646kB/s]\n",
            "\n",
            "special_tokens_map.json: 100% 121/121 [00:00<00:00, 1.24MB/s]\n",
            "\n",
            "Annotating images:   0% 0/100 [00:00<?, ?it/s]\u001b[A\u001b[33mWARNING \u001b[0m \u001b[35m/usr/local/lib/python3.11/dist-packages/transformers/mod\u001b[0m \u001b]8;id=529903;file:///usr/local/lib/python3.11/dist-packages/luxonis_ml/utils/logging.py\u001b\\\u001b[2mlogging.py\u001b[0m\u001b]8;;\u001b\\\u001b[2m:\u001b[0m\u001b]8;id=631262;file:///usr/local/lib/python3.11/dist-packages/luxonis_ml/utils/logging.py#104\u001b\\\u001b[2m104\u001b[0m\u001b]8;;\u001b\\\n",
            "         \u001b[35mels/owlv2/\u001b[0m\u001b[95mprocessing_owlv2.py\u001b[0m:\u001b[1;36m201\u001b[0m: FutureWarning:        \u001b[2m              \u001b[0m\n",
            "         `post_process_object_detection` method is deprecated for \u001b[2m              \u001b[0m\n",
            "         OwlVitProcessor and will be removed in v5. Use           \u001b[2m              \u001b[0m\n",
            "         `post_process_grounded_object_detection` instead.        \u001b[2m              \u001b[0m\n",
            "           \u001b[1;35mwarnings.warn\u001b[0m\u001b[1m(\u001b[0m                                         \u001b[2m              \u001b[0m\n",
            "                                                                  \u001b[2m              \u001b[0m\n",
            "\n",
            "Annotating images:   1% 1/100 [00:02<04:24,  2.67s/it]\u001b[A\u001b[33mWARNING \u001b[0m \u001b[35m/usr/local/lib/python3.11/dist-packages/transformers/mod\u001b[0m \u001b]8;id=681453;file:///usr/local/lib/python3.11/dist-packages/luxonis_ml/utils/logging.py\u001b\\\u001b[2mlogging.py\u001b[0m\u001b]8;;\u001b\\\u001b[2m:\u001b[0m\u001b]8;id=735392;file:///usr/local/lib/python3.11/dist-packages/luxonis_ml/utils/logging.py#104\u001b\\\u001b[2m104\u001b[0m\u001b]8;;\u001b\\\n",
            "         \u001b[35mels/owlv2/\u001b[0m\u001b[95mprocessing_owlv2.py\u001b[0m:\u001b[1;36m201\u001b[0m: FutureWarning:        \u001b[2m              \u001b[0m\n",
            "         `post_process_object_detection` method is deprecated for \u001b[2m              \u001b[0m\n",
            "         OwlVitProcessor and will be removed in v5. Use           \u001b[2m              \u001b[0m\n",
            "         `post_process_grounded_object_detection` instead.        \u001b[2m              \u001b[0m\n",
            "           \u001b[1;35mwarnings.warn\u001b[0m\u001b[1m(\u001b[0m                                         \u001b[2m              \u001b[0m\n",
            "                                                                  \u001b[2m              \u001b[0m\n",
            "\n",
            "Annotating images:   2% 2/100 [00:03<02:56,  1.80s/it]\u001b[A\u001b[33mWARNING \u001b[0m \u001b[35m/usr/local/lib/python3.11/dist-packages/transformers/mod\u001b[0m \u001b]8;id=617889;file:///usr/local/lib/python3.11/dist-packages/luxonis_ml/utils/logging.py\u001b\\\u001b[2mlogging.py\u001b[0m\u001b]8;;\u001b\\\u001b[2m:\u001b[0m\u001b]8;id=291704;file:///usr/local/lib/python3.11/dist-packages/luxonis_ml/utils/logging.py#104\u001b\\\u001b[2m104\u001b[0m\u001b]8;;\u001b\\\n",
            "         \u001b[35mels/owlv2/\u001b[0m\u001b[95mprocessing_owlv2.py\u001b[0m:\u001b[1;36m201\u001b[0m: FutureWarning:        \u001b[2m              \u001b[0m\n",
            "         `post_process_object_detection` method is deprecated for \u001b[2m              \u001b[0m\n",
            "         OwlVitProcessor and will be removed in v5. Use           \u001b[2m              \u001b[0m\n",
            "         `post_process_grounded_object_detection` instead.        \u001b[2m              \u001b[0m\n",
            "           \u001b[1;35mwarnings.warn\u001b[0m\u001b[1m(\u001b[0m                                         \u001b[2m              \u001b[0m\n",
            "                                                                  \u001b[2m              \u001b[0m\n",
            "\n",
            "Annotating images:   3% 3/100 [00:05<02:27,  1.53s/it]\u001b[A\u001b[33mWARNING \u001b[0m \u001b[35m/usr/local/lib/python3.11/dist-packages/transformers/mod\u001b[0m \u001b]8;id=844962;file:///usr/local/lib/python3.11/dist-packages/luxonis_ml/utils/logging.py\u001b\\\u001b[2mlogging.py\u001b[0m\u001b]8;;\u001b\\\u001b[2m:\u001b[0m\u001b]8;id=167414;file:///usr/local/lib/python3.11/dist-packages/luxonis_ml/utils/logging.py#104\u001b\\\u001b[2m104\u001b[0m\u001b]8;;\u001b\\\n",
            "         \u001b[35mels/owlv2/\u001b[0m\u001b[95mprocessing_owlv2.py\u001b[0m:\u001b[1;36m201\u001b[0m: FutureWarning:        \u001b[2m              \u001b[0m\n",
            "         `post_process_object_detection` method is deprecated for \u001b[2m              \u001b[0m\n",
            "         OwlVitProcessor and will be removed in v5. Use           \u001b[2m              \u001b[0m\n",
            "         `post_process_grounded_object_detection` instead.        \u001b[2m              \u001b[0m\n",
            "           \u001b[1;35mwarnings.warn\u001b[0m\u001b[1m(\u001b[0m                                         \u001b[2m              \u001b[0m\n",
            "                                                                  \u001b[2m              \u001b[0m\n",
            "\n",
            "Annotating images:   4% 4/100 [00:06<02:15,  1.41s/it]\u001b[A\u001b[33mWARNING \u001b[0m \u001b[35m/usr/local/lib/python3.11/dist-packages/transformers/mod\u001b[0m \u001b]8;id=163032;file:///usr/local/lib/python3.11/dist-packages/luxonis_ml/utils/logging.py\u001b\\\u001b[2mlogging.py\u001b[0m\u001b]8;;\u001b\\\u001b[2m:\u001b[0m\u001b]8;id=225772;file:///usr/local/lib/python3.11/dist-packages/luxonis_ml/utils/logging.py#104\u001b\\\u001b[2m104\u001b[0m\u001b]8;;\u001b\\\n",
            "         \u001b[35mels/owlv2/\u001b[0m\u001b[95mprocessing_owlv2.py\u001b[0m:\u001b[1;36m201\u001b[0m: FutureWarning:        \u001b[2m              \u001b[0m\n",
            "         `post_process_object_detection` method is deprecated for \u001b[2m              \u001b[0m\n",
            "         OwlVitProcessor and will be removed in v5. Use           \u001b[2m              \u001b[0m\n",
            "         `post_process_grounded_object_detection` instead.        \u001b[2m              \u001b[0m\n",
            "           \u001b[1;35mwarnings.warn\u001b[0m\u001b[1m(\u001b[0m                                         \u001b[2m              \u001b[0m\n",
            "                                                                  \u001b[2m              \u001b[0m\n",
            "\n",
            "Annotating images:   5% 5/100 [00:07<02:07,  1.35s/it]\u001b[A\u001b[33mWARNING \u001b[0m \u001b[35m/usr/local/lib/python3.11/dist-packages/transformers/mod\u001b[0m \u001b]8;id=398382;file:///usr/local/lib/python3.11/dist-packages/luxonis_ml/utils/logging.py\u001b\\\u001b[2mlogging.py\u001b[0m\u001b]8;;\u001b\\\u001b[2m:\u001b[0m\u001b]8;id=101414;file:///usr/local/lib/python3.11/dist-packages/luxonis_ml/utils/logging.py#104\u001b\\\u001b[2m104\u001b[0m\u001b]8;;\u001b\\\n",
            "         \u001b[35mels/owlv2/\u001b[0m\u001b[95mprocessing_owlv2.py\u001b[0m:\u001b[1;36m201\u001b[0m: FutureWarning:        \u001b[2m              \u001b[0m\n",
            "         `post_process_object_detection` method is deprecated for \u001b[2m              \u001b[0m\n",
            "         OwlVitProcessor and will be removed in v5. Use           \u001b[2m              \u001b[0m\n",
            "         `post_process_grounded_object_detection` instead.        \u001b[2m              \u001b[0m\n",
            "           \u001b[1;35mwarnings.warn\u001b[0m\u001b[1m(\u001b[0m                                         \u001b[2m              \u001b[0m\n",
            "                                                                  \u001b[2m              \u001b[0m\n",
            "\n",
            "Annotating images:   6% 6/100 [00:08<02:02,  1.31s/it]\u001b[A\u001b[33mWARNING \u001b[0m \u001b[35m/usr/local/lib/python3.11/dist-packages/transformers/mod\u001b[0m \u001b]8;id=277370;file:///usr/local/lib/python3.11/dist-packages/luxonis_ml/utils/logging.py\u001b\\\u001b[2mlogging.py\u001b[0m\u001b]8;;\u001b\\\u001b[2m:\u001b[0m\u001b]8;id=846335;file:///usr/local/lib/python3.11/dist-packages/luxonis_ml/utils/logging.py#104\u001b\\\u001b[2m104\u001b[0m\u001b]8;;\u001b\\\n",
            "         \u001b[35mels/owlv2/\u001b[0m\u001b[95mprocessing_owlv2.py\u001b[0m:\u001b[1;36m201\u001b[0m: FutureWarning:        \u001b[2m              \u001b[0m\n",
            "         `post_process_object_detection` method is deprecated for \u001b[2m              \u001b[0m\n",
            "         OwlVitProcessor and will be removed in v5. Use           \u001b[2m              \u001b[0m\n",
            "         `post_process_grounded_object_detection` instead.        \u001b[2m              \u001b[0m\n",
            "           \u001b[1;35mwarnings.warn\u001b[0m\u001b[1m(\u001b[0m                                         \u001b[2m              \u001b[0m\n",
            "                                                                  \u001b[2m              \u001b[0m\n",
            "\n",
            "Annotating images:   7% 7/100 [00:09<01:58,  1.28s/it]\u001b[A\u001b[33mWARNING \u001b[0m \u001b[35m/usr/local/lib/python3.11/dist-packages/transformers/mod\u001b[0m \u001b]8;id=130889;file:///usr/local/lib/python3.11/dist-packages/luxonis_ml/utils/logging.py\u001b\\\u001b[2mlogging.py\u001b[0m\u001b]8;;\u001b\\\u001b[2m:\u001b[0m\u001b]8;id=967096;file:///usr/local/lib/python3.11/dist-packages/luxonis_ml/utils/logging.py#104\u001b\\\u001b[2m104\u001b[0m\u001b]8;;\u001b\\\n",
            "         \u001b[35mels/owlv2/\u001b[0m\u001b[95mprocessing_owlv2.py\u001b[0m:\u001b[1;36m201\u001b[0m: FutureWarning:        \u001b[2m              \u001b[0m\n",
            "         `post_process_object_detection` method is deprecated for \u001b[2m              \u001b[0m\n",
            "         OwlVitProcessor and will be removed in v5. Use           \u001b[2m              \u001b[0m\n",
            "         `post_process_grounded_object_detection` instead.        \u001b[2m              \u001b[0m\n",
            "           \u001b[1;35mwarnings.warn\u001b[0m\u001b[1m(\u001b[0m                                         \u001b[2m              \u001b[0m\n",
            "                                                                  \u001b[2m              \u001b[0m\n",
            "\n",
            "Annotating images:   8% 8/100 [00:11<01:55,  1.25s/it]\u001b[A\u001b[33mWARNING \u001b[0m \u001b[35m/usr/local/lib/python3.11/dist-packages/transformers/mod\u001b[0m \u001b]8;id=869693;file:///usr/local/lib/python3.11/dist-packages/luxonis_ml/utils/logging.py\u001b\\\u001b[2mlogging.py\u001b[0m\u001b]8;;\u001b\\\u001b[2m:\u001b[0m\u001b]8;id=659176;file:///usr/local/lib/python3.11/dist-packages/luxonis_ml/utils/logging.py#104\u001b\\\u001b[2m104\u001b[0m\u001b]8;;\u001b\\\n",
            "         \u001b[35mels/owlv2/\u001b[0m\u001b[95mprocessing_owlv2.py\u001b[0m:\u001b[1;36m201\u001b[0m: FutureWarning:        \u001b[2m              \u001b[0m\n",
            "         `post_process_object_detection` method is deprecated for \u001b[2m              \u001b[0m\n",
            "         OwlVitProcessor and will be removed in v5. Use           \u001b[2m              \u001b[0m\n",
            "         `post_process_grounded_object_detection` instead.        \u001b[2m              \u001b[0m\n",
            "           \u001b[1;35mwarnings.warn\u001b[0m\u001b[1m(\u001b[0m                                         \u001b[2m              \u001b[0m\n",
            "                                                                  \u001b[2m              \u001b[0m\n",
            "\n",
            "Annotating images:   9% 9/100 [00:12<01:53,  1.25s/it]\u001b[A\u001b[33mWARNING \u001b[0m \u001b[35m/usr/local/lib/python3.11/dist-packages/transformers/mod\u001b[0m \u001b]8;id=605397;file:///usr/local/lib/python3.11/dist-packages/luxonis_ml/utils/logging.py\u001b\\\u001b[2mlogging.py\u001b[0m\u001b]8;;\u001b\\\u001b[2m:\u001b[0m\u001b]8;id=201629;file:///usr/local/lib/python3.11/dist-packages/luxonis_ml/utils/logging.py#104\u001b\\\u001b[2m104\u001b[0m\u001b]8;;\u001b\\\n",
            "         \u001b[35mels/owlv2/\u001b[0m\u001b[95mprocessing_owlv2.py\u001b[0m:\u001b[1;36m201\u001b[0m: FutureWarning:        \u001b[2m              \u001b[0m\n",
            "         `post_process_object_detection` method is deprecated for \u001b[2m              \u001b[0m\n",
            "         OwlVitProcessor and will be removed in v5. Use           \u001b[2m              \u001b[0m\n",
            "         `post_process_grounded_object_detection` instead.        \u001b[2m              \u001b[0m\n",
            "           \u001b[1;35mwarnings.warn\u001b[0m\u001b[1m(\u001b[0m                                         \u001b[2m              \u001b[0m\n",
            "                                                                  \u001b[2m              \u001b[0m\n",
            "\n",
            "Annotating images:  10% 10/100 [00:13<01:53,  1.26s/it]\u001b[A\u001b[33mWARNING \u001b[0m \u001b[35m/usr/local/lib/python3.11/dist-packages/transformers/mod\u001b[0m \u001b]8;id=238968;file:///usr/local/lib/python3.11/dist-packages/luxonis_ml/utils/logging.py\u001b\\\u001b[2mlogging.py\u001b[0m\u001b]8;;\u001b\\\u001b[2m:\u001b[0m\u001b]8;id=810620;file:///usr/local/lib/python3.11/dist-packages/luxonis_ml/utils/logging.py#104\u001b\\\u001b[2m104\u001b[0m\u001b]8;;\u001b\\\n",
            "         \u001b[35mels/owlv2/\u001b[0m\u001b[95mprocessing_owlv2.py\u001b[0m:\u001b[1;36m201\u001b[0m: FutureWarning:        \u001b[2m              \u001b[0m\n",
            "         `post_process_object_detection` method is deprecated for \u001b[2m              \u001b[0m\n",
            "         OwlVitProcessor and will be removed in v5. Use           \u001b[2m              \u001b[0m\n",
            "         `post_process_grounded_object_detection` instead.        \u001b[2m              \u001b[0m\n",
            "           \u001b[1;35mwarnings.warn\u001b[0m\u001b[1m(\u001b[0m                                         \u001b[2m              \u001b[0m\n",
            "                                                                  \u001b[2m              \u001b[0m\n",
            "\n",
            "Annotating images:  11% 11/100 [00:14<01:51,  1.25s/it]\u001b[A\u001b[33mWARNING \u001b[0m \u001b[35m/usr/local/lib/python3.11/dist-packages/transformers/mod\u001b[0m \u001b]8;id=908573;file:///usr/local/lib/python3.11/dist-packages/luxonis_ml/utils/logging.py\u001b\\\u001b[2mlogging.py\u001b[0m\u001b]8;;\u001b\\\u001b[2m:\u001b[0m\u001b]8;id=105907;file:///usr/local/lib/python3.11/dist-packages/luxonis_ml/utils/logging.py#104\u001b\\\u001b[2m104\u001b[0m\u001b]8;;\u001b\\\n",
            "         \u001b[35mels/owlv2/\u001b[0m\u001b[95mprocessing_owlv2.py\u001b[0m:\u001b[1;36m201\u001b[0m: FutureWarning:        \u001b[2m              \u001b[0m\n",
            "         `post_process_object_detection` method is deprecated for \u001b[2m              \u001b[0m\n",
            "         OwlVitProcessor and will be removed in v5. Use           \u001b[2m              \u001b[0m\n",
            "         `post_process_grounded_object_detection` instead.        \u001b[2m              \u001b[0m\n",
            "           \u001b[1;35mwarnings.warn\u001b[0m\u001b[1m(\u001b[0m                                         \u001b[2m              \u001b[0m\n",
            "                                                                  \u001b[2m              \u001b[0m\n",
            "\n",
            "Annotating images:  12% 12/100 [00:16<01:49,  1.24s/it]\u001b[A\u001b[33mWARNING \u001b[0m \u001b[35m/usr/local/lib/python3.11/dist-packages/transformers/mod\u001b[0m \u001b]8;id=874628;file:///usr/local/lib/python3.11/dist-packages/luxonis_ml/utils/logging.py\u001b\\\u001b[2mlogging.py\u001b[0m\u001b]8;;\u001b\\\u001b[2m:\u001b[0m\u001b]8;id=382554;file:///usr/local/lib/python3.11/dist-packages/luxonis_ml/utils/logging.py#104\u001b\\\u001b[2m104\u001b[0m\u001b]8;;\u001b\\\n",
            "         \u001b[35mels/owlv2/\u001b[0m\u001b[95mprocessing_owlv2.py\u001b[0m:\u001b[1;36m201\u001b[0m: FutureWarning:        \u001b[2m              \u001b[0m\n",
            "         `post_process_object_detection` method is deprecated for \u001b[2m              \u001b[0m\n",
            "         OwlVitProcessor and will be removed in v5. Use           \u001b[2m              \u001b[0m\n",
            "         `post_process_grounded_object_detection` instead.        \u001b[2m              \u001b[0m\n",
            "           \u001b[1;35mwarnings.warn\u001b[0m\u001b[1m(\u001b[0m                                         \u001b[2m              \u001b[0m\n",
            "                                                                  \u001b[2m              \u001b[0m\n",
            "\n",
            "Annotating images:  13% 13/100 [00:17<01:47,  1.24s/it]\u001b[A\u001b[33mWARNING \u001b[0m \u001b[35m/usr/local/lib/python3.11/dist-packages/transformers/mod\u001b[0m \u001b]8;id=702729;file:///usr/local/lib/python3.11/dist-packages/luxonis_ml/utils/logging.py\u001b\\\u001b[2mlogging.py\u001b[0m\u001b]8;;\u001b\\\u001b[2m:\u001b[0m\u001b]8;id=279946;file:///usr/local/lib/python3.11/dist-packages/luxonis_ml/utils/logging.py#104\u001b\\\u001b[2m104\u001b[0m\u001b]8;;\u001b\\\n",
            "         \u001b[35mels/owlv2/\u001b[0m\u001b[95mprocessing_owlv2.py\u001b[0m:\u001b[1;36m201\u001b[0m: FutureWarning:        \u001b[2m              \u001b[0m\n",
            "         `post_process_object_detection` method is deprecated for \u001b[2m              \u001b[0m\n",
            "         OwlVitProcessor and will be removed in v5. Use           \u001b[2m              \u001b[0m\n",
            "         `post_process_grounded_object_detection` instead.        \u001b[2m              \u001b[0m\n",
            "           \u001b[1;35mwarnings.warn\u001b[0m\u001b[1m(\u001b[0m                                         \u001b[2m              \u001b[0m\n",
            "                                                                  \u001b[2m              \u001b[0m\n",
            "\n",
            "Annotating images:  14% 14/100 [00:18<01:45,  1.23s/it]\u001b[A\u001b[33mWARNING \u001b[0m \u001b[35m/usr/local/lib/python3.11/dist-packages/transformers/mod\u001b[0m \u001b]8;id=74870;file:///usr/local/lib/python3.11/dist-packages/luxonis_ml/utils/logging.py\u001b\\\u001b[2mlogging.py\u001b[0m\u001b]8;;\u001b\\\u001b[2m:\u001b[0m\u001b]8;id=638720;file:///usr/local/lib/python3.11/dist-packages/luxonis_ml/utils/logging.py#104\u001b\\\u001b[2m104\u001b[0m\u001b]8;;\u001b\\\n",
            "         \u001b[35mels/owlv2/\u001b[0m\u001b[95mprocessing_owlv2.py\u001b[0m:\u001b[1;36m201\u001b[0m: FutureWarning:        \u001b[2m              \u001b[0m\n",
            "         `post_process_object_detection` method is deprecated for \u001b[2m              \u001b[0m\n",
            "         OwlVitProcessor and will be removed in v5. Use           \u001b[2m              \u001b[0m\n",
            "         `post_process_grounded_object_detection` instead.        \u001b[2m              \u001b[0m\n",
            "           \u001b[1;35mwarnings.warn\u001b[0m\u001b[1m(\u001b[0m                                         \u001b[2m              \u001b[0m\n",
            "                                                                  \u001b[2m              \u001b[0m\n",
            "\n",
            "Annotating images:  15% 15/100 [00:19<01:44,  1.23s/it]\u001b[A\u001b[33mWARNING \u001b[0m \u001b[35m/usr/local/lib/python3.11/dist-packages/transformers/mod\u001b[0m \u001b]8;id=256702;file:///usr/local/lib/python3.11/dist-packages/luxonis_ml/utils/logging.py\u001b\\\u001b[2mlogging.py\u001b[0m\u001b]8;;\u001b\\\u001b[2m:\u001b[0m\u001b]8;id=171339;file:///usr/local/lib/python3.11/dist-packages/luxonis_ml/utils/logging.py#104\u001b\\\u001b[2m104\u001b[0m\u001b]8;;\u001b\\\n",
            "         \u001b[35mels/owlv2/\u001b[0m\u001b[95mprocessing_owlv2.py\u001b[0m:\u001b[1;36m201\u001b[0m: FutureWarning:        \u001b[2m              \u001b[0m\n",
            "         `post_process_object_detection` method is deprecated for \u001b[2m              \u001b[0m\n",
            "         OwlVitProcessor and will be removed in v5. Use           \u001b[2m              \u001b[0m\n",
            "         `post_process_grounded_object_detection` instead.        \u001b[2m              \u001b[0m\n",
            "           \u001b[1;35mwarnings.warn\u001b[0m\u001b[1m(\u001b[0m                                         \u001b[2m              \u001b[0m\n",
            "                                                                  \u001b[2m              \u001b[0m\n",
            "\n",
            "Annotating images:  16% 16/100 [00:21<01:43,  1.23s/it]\u001b[A\u001b[33mWARNING \u001b[0m \u001b[35m/usr/local/lib/python3.11/dist-packages/transformers/mod\u001b[0m \u001b]8;id=671088;file:///usr/local/lib/python3.11/dist-packages/luxonis_ml/utils/logging.py\u001b\\\u001b[2mlogging.py\u001b[0m\u001b]8;;\u001b\\\u001b[2m:\u001b[0m\u001b]8;id=721590;file:///usr/local/lib/python3.11/dist-packages/luxonis_ml/utils/logging.py#104\u001b\\\u001b[2m104\u001b[0m\u001b]8;;\u001b\\\n",
            "         \u001b[35mels/owlv2/\u001b[0m\u001b[95mprocessing_owlv2.py\u001b[0m:\u001b[1;36m201\u001b[0m: FutureWarning:        \u001b[2m              \u001b[0m\n",
            "         `post_process_object_detection` method is deprecated for \u001b[2m              \u001b[0m\n",
            "         OwlVitProcessor and will be removed in v5. Use           \u001b[2m              \u001b[0m\n",
            "         `post_process_grounded_object_detection` instead.        \u001b[2m              \u001b[0m\n",
            "           \u001b[1;35mwarnings.warn\u001b[0m\u001b[1m(\u001b[0m                                         \u001b[2m              \u001b[0m\n",
            "                                                                  \u001b[2m              \u001b[0m\n",
            "\n",
            "Annotating images:  17% 17/100 [00:22<01:43,  1.25s/it]\u001b[A\u001b[33mWARNING \u001b[0m \u001b[35m/usr/local/lib/python3.11/dist-packages/transformers/mod\u001b[0m \u001b]8;id=883794;file:///usr/local/lib/python3.11/dist-packages/luxonis_ml/utils/logging.py\u001b\\\u001b[2mlogging.py\u001b[0m\u001b]8;;\u001b\\\u001b[2m:\u001b[0m\u001b]8;id=805635;file:///usr/local/lib/python3.11/dist-packages/luxonis_ml/utils/logging.py#104\u001b\\\u001b[2m104\u001b[0m\u001b]8;;\u001b\\\n",
            "         \u001b[35mels/owlv2/\u001b[0m\u001b[95mprocessing_owlv2.py\u001b[0m:\u001b[1;36m201\u001b[0m: FutureWarning:        \u001b[2m              \u001b[0m\n",
            "         `post_process_object_detection` method is deprecated for \u001b[2m              \u001b[0m\n",
            "         OwlVitProcessor and will be removed in v5. Use           \u001b[2m              \u001b[0m\n",
            "         `post_process_grounded_object_detection` instead.        \u001b[2m              \u001b[0m\n",
            "           \u001b[1;35mwarnings.warn\u001b[0m\u001b[1m(\u001b[0m                                         \u001b[2m              \u001b[0m\n",
            "                                                                  \u001b[2m              \u001b[0m\n",
            "\n",
            "Annotating images:  18% 18/100 [00:23<01:42,  1.25s/it]\u001b[A\u001b[33mWARNING \u001b[0m \u001b[35m/usr/local/lib/python3.11/dist-packages/transformers/mod\u001b[0m \u001b]8;id=33659;file:///usr/local/lib/python3.11/dist-packages/luxonis_ml/utils/logging.py\u001b\\\u001b[2mlogging.py\u001b[0m\u001b]8;;\u001b\\\u001b[2m:\u001b[0m\u001b]8;id=844151;file:///usr/local/lib/python3.11/dist-packages/luxonis_ml/utils/logging.py#104\u001b\\\u001b[2m104\u001b[0m\u001b]8;;\u001b\\\n",
            "         \u001b[35mels/owlv2/\u001b[0m\u001b[95mprocessing_owlv2.py\u001b[0m:\u001b[1;36m201\u001b[0m: FutureWarning:        \u001b[2m              \u001b[0m\n",
            "         `post_process_object_detection` method is deprecated for \u001b[2m              \u001b[0m\n",
            "         OwlVitProcessor and will be removed in v5. Use           \u001b[2m              \u001b[0m\n",
            "         `post_process_grounded_object_detection` instead.        \u001b[2m              \u001b[0m\n",
            "           \u001b[1;35mwarnings.warn\u001b[0m\u001b[1m(\u001b[0m                                         \u001b[2m              \u001b[0m\n",
            "                                                                  \u001b[2m              \u001b[0m\n",
            "\n",
            "Annotating images:  19% 19/100 [00:24<01:41,  1.25s/it]\u001b[A\u001b[33mWARNING \u001b[0m \u001b[35m/usr/local/lib/python3.11/dist-packages/transformers/mod\u001b[0m \u001b]8;id=221231;file:///usr/local/lib/python3.11/dist-packages/luxonis_ml/utils/logging.py\u001b\\\u001b[2mlogging.py\u001b[0m\u001b]8;;\u001b\\\u001b[2m:\u001b[0m\u001b]8;id=957492;file:///usr/local/lib/python3.11/dist-packages/luxonis_ml/utils/logging.py#104\u001b\\\u001b[2m104\u001b[0m\u001b]8;;\u001b\\\n",
            "         \u001b[35mels/owlv2/\u001b[0m\u001b[95mprocessing_owlv2.py\u001b[0m:\u001b[1;36m201\u001b[0m: FutureWarning:        \u001b[2m              \u001b[0m\n",
            "         `post_process_object_detection` method is deprecated for \u001b[2m              \u001b[0m\n",
            "         OwlVitProcessor and will be removed in v5. Use           \u001b[2m              \u001b[0m\n",
            "         `post_process_grounded_object_detection` instead.        \u001b[2m              \u001b[0m\n",
            "           \u001b[1;35mwarnings.warn\u001b[0m\u001b[1m(\u001b[0m                                         \u001b[2m              \u001b[0m\n",
            "                                                                  \u001b[2m              \u001b[0m\n",
            "\n",
            "Annotating images:  20% 20/100 [00:26<01:40,  1.26s/it]\u001b[A\u001b[33mWARNING \u001b[0m \u001b[35m/usr/local/lib/python3.11/dist-packages/transformers/mod\u001b[0m \u001b]8;id=329963;file:///usr/local/lib/python3.11/dist-packages/luxonis_ml/utils/logging.py\u001b\\\u001b[2mlogging.py\u001b[0m\u001b]8;;\u001b\\\u001b[2m:\u001b[0m\u001b]8;id=222955;file:///usr/local/lib/python3.11/dist-packages/luxonis_ml/utils/logging.py#104\u001b\\\u001b[2m104\u001b[0m\u001b]8;;\u001b\\\n",
            "         \u001b[35mels/owlv2/\u001b[0m\u001b[95mprocessing_owlv2.py\u001b[0m:\u001b[1;36m201\u001b[0m: FutureWarning:        \u001b[2m              \u001b[0m\n",
            "         `post_process_object_detection` method is deprecated for \u001b[2m              \u001b[0m\n",
            "         OwlVitProcessor and will be removed in v5. Use           \u001b[2m              \u001b[0m\n",
            "         `post_process_grounded_object_detection` instead.        \u001b[2m              \u001b[0m\n",
            "           \u001b[1;35mwarnings.warn\u001b[0m\u001b[1m(\u001b[0m                                         \u001b[2m              \u001b[0m\n",
            "                                                                  \u001b[2m              \u001b[0m\n",
            "\n",
            "Annotating images:  21% 21/100 [00:27<01:39,  1.25s/it]\u001b[A\u001b[33mWARNING \u001b[0m \u001b[35m/usr/local/lib/python3.11/dist-packages/transformers/mod\u001b[0m \u001b]8;id=958972;file:///usr/local/lib/python3.11/dist-packages/luxonis_ml/utils/logging.py\u001b\\\u001b[2mlogging.py\u001b[0m\u001b]8;;\u001b\\\u001b[2m:\u001b[0m\u001b]8;id=674079;file:///usr/local/lib/python3.11/dist-packages/luxonis_ml/utils/logging.py#104\u001b\\\u001b[2m104\u001b[0m\u001b]8;;\u001b\\\n",
            "         \u001b[35mels/owlv2/\u001b[0m\u001b[95mprocessing_owlv2.py\u001b[0m:\u001b[1;36m201\u001b[0m: FutureWarning:        \u001b[2m              \u001b[0m\n",
            "         `post_process_object_detection` method is deprecated for \u001b[2m              \u001b[0m\n",
            "         OwlVitProcessor and will be removed in v5. Use           \u001b[2m              \u001b[0m\n",
            "         `post_process_grounded_object_detection` instead.        \u001b[2m              \u001b[0m\n",
            "           \u001b[1;35mwarnings.warn\u001b[0m\u001b[1m(\u001b[0m                                         \u001b[2m              \u001b[0m\n",
            "                                                                  \u001b[2m              \u001b[0m\n",
            "\n",
            "Annotating images:  22% 22/100 [00:28<01:37,  1.25s/it]\u001b[A\u001b[33mWARNING \u001b[0m \u001b[35m/usr/local/lib/python3.11/dist-packages/transformers/mod\u001b[0m \u001b]8;id=258607;file:///usr/local/lib/python3.11/dist-packages/luxonis_ml/utils/logging.py\u001b\\\u001b[2mlogging.py\u001b[0m\u001b]8;;\u001b\\\u001b[2m:\u001b[0m\u001b]8;id=781177;file:///usr/local/lib/python3.11/dist-packages/luxonis_ml/utils/logging.py#104\u001b\\\u001b[2m104\u001b[0m\u001b]8;;\u001b\\\n",
            "         \u001b[35mels/owlv2/\u001b[0m\u001b[95mprocessing_owlv2.py\u001b[0m:\u001b[1;36m201\u001b[0m: FutureWarning:        \u001b[2m              \u001b[0m\n",
            "         `post_process_object_detection` method is deprecated for \u001b[2m              \u001b[0m\n",
            "         OwlVitProcessor and will be removed in v5. Use           \u001b[2m              \u001b[0m\n",
            "         `post_process_grounded_object_detection` instead.        \u001b[2m              \u001b[0m\n",
            "           \u001b[1;35mwarnings.warn\u001b[0m\u001b[1m(\u001b[0m                                         \u001b[2m              \u001b[0m\n",
            "                                                                  \u001b[2m              \u001b[0m\n",
            "\n",
            "Annotating images:  23% 23/100 [00:29<01:36,  1.25s/it]\u001b[A\u001b[33mWARNING \u001b[0m \u001b[35m/usr/local/lib/python3.11/dist-packages/transformers/mod\u001b[0m \u001b]8;id=612982;file:///usr/local/lib/python3.11/dist-packages/luxonis_ml/utils/logging.py\u001b\\\u001b[2mlogging.py\u001b[0m\u001b]8;;\u001b\\\u001b[2m:\u001b[0m\u001b]8;id=449245;file:///usr/local/lib/python3.11/dist-packages/luxonis_ml/utils/logging.py#104\u001b\\\u001b[2m104\u001b[0m\u001b]8;;\u001b\\\n",
            "         \u001b[35mels/owlv2/\u001b[0m\u001b[95mprocessing_owlv2.py\u001b[0m:\u001b[1;36m201\u001b[0m: FutureWarning:        \u001b[2m              \u001b[0m\n",
            "         `post_process_object_detection` method is deprecated for \u001b[2m              \u001b[0m\n",
            "         OwlVitProcessor and will be removed in v5. Use           \u001b[2m              \u001b[0m\n",
            "         `post_process_grounded_object_detection` instead.        \u001b[2m              \u001b[0m\n",
            "           \u001b[1;35mwarnings.warn\u001b[0m\u001b[1m(\u001b[0m                                         \u001b[2m              \u001b[0m\n",
            "                                                                  \u001b[2m              \u001b[0m\n",
            "\n",
            "Annotating images:  24% 24/100 [00:31<01:34,  1.25s/it]\u001b[A\u001b[33mWARNING \u001b[0m \u001b[35m/usr/local/lib/python3.11/dist-packages/transformers/mod\u001b[0m \u001b]8;id=229974;file:///usr/local/lib/python3.11/dist-packages/luxonis_ml/utils/logging.py\u001b\\\u001b[2mlogging.py\u001b[0m\u001b]8;;\u001b\\\u001b[2m:\u001b[0m\u001b]8;id=145051;file:///usr/local/lib/python3.11/dist-packages/luxonis_ml/utils/logging.py#104\u001b\\\u001b[2m104\u001b[0m\u001b]8;;\u001b\\\n",
            "         \u001b[35mels/owlv2/\u001b[0m\u001b[95mprocessing_owlv2.py\u001b[0m:\u001b[1;36m201\u001b[0m: FutureWarning:        \u001b[2m              \u001b[0m\n",
            "         `post_process_object_detection` method is deprecated for \u001b[2m              \u001b[0m\n",
            "         OwlVitProcessor and will be removed in v5. Use           \u001b[2m              \u001b[0m\n",
            "         `post_process_grounded_object_detection` instead.        \u001b[2m              \u001b[0m\n",
            "           \u001b[1;35mwarnings.warn\u001b[0m\u001b[1m(\u001b[0m                                         \u001b[2m              \u001b[0m\n",
            "                                                                  \u001b[2m              \u001b[0m\n",
            "\n",
            "Annotating images:  25% 25/100 [00:32<01:32,  1.24s/it]\u001b[A\u001b[33mWARNING \u001b[0m \u001b[35m/usr/local/lib/python3.11/dist-packages/transformers/mod\u001b[0m \u001b]8;id=49405;file:///usr/local/lib/python3.11/dist-packages/luxonis_ml/utils/logging.py\u001b\\\u001b[2mlogging.py\u001b[0m\u001b]8;;\u001b\\\u001b[2m:\u001b[0m\u001b]8;id=902931;file:///usr/local/lib/python3.11/dist-packages/luxonis_ml/utils/logging.py#104\u001b\\\u001b[2m104\u001b[0m\u001b]8;;\u001b\\\n",
            "         \u001b[35mels/owlv2/\u001b[0m\u001b[95mprocessing_owlv2.py\u001b[0m:\u001b[1;36m201\u001b[0m: FutureWarning:        \u001b[2m              \u001b[0m\n",
            "         `post_process_object_detection` method is deprecated for \u001b[2m              \u001b[0m\n",
            "         OwlVitProcessor and will be removed in v5. Use           \u001b[2m              \u001b[0m\n",
            "         `post_process_grounded_object_detection` instead.        \u001b[2m              \u001b[0m\n",
            "           \u001b[1;35mwarnings.warn\u001b[0m\u001b[1m(\u001b[0m                                         \u001b[2m              \u001b[0m\n",
            "                                                                  \u001b[2m              \u001b[0m\n",
            "\n",
            "Annotating images:  26% 26/100 [00:33<01:30,  1.23s/it]\u001b[A\u001b[33mWARNING \u001b[0m \u001b[35m/usr/local/lib/python3.11/dist-packages/transformers/mod\u001b[0m \u001b]8;id=830555;file:///usr/local/lib/python3.11/dist-packages/luxonis_ml/utils/logging.py\u001b\\\u001b[2mlogging.py\u001b[0m\u001b]8;;\u001b\\\u001b[2m:\u001b[0m\u001b]8;id=713536;file:///usr/local/lib/python3.11/dist-packages/luxonis_ml/utils/logging.py#104\u001b\\\u001b[2m104\u001b[0m\u001b]8;;\u001b\\\n",
            "         \u001b[35mels/owlv2/\u001b[0m\u001b[95mprocessing_owlv2.py\u001b[0m:\u001b[1;36m201\u001b[0m: FutureWarning:        \u001b[2m              \u001b[0m\n",
            "         `post_process_object_detection` method is deprecated for \u001b[2m              \u001b[0m\n",
            "         OwlVitProcessor and will be removed in v5. Use           \u001b[2m              \u001b[0m\n",
            "         `post_process_grounded_object_detection` instead.        \u001b[2m              \u001b[0m\n",
            "           \u001b[1;35mwarnings.warn\u001b[0m\u001b[1m(\u001b[0m                                         \u001b[2m              \u001b[0m\n",
            "                                                                  \u001b[2m              \u001b[0m\n",
            "\n",
            "Annotating images:  27% 27/100 [00:34<01:29,  1.23s/it]\u001b[A\u001b[33mWARNING \u001b[0m \u001b[35m/usr/local/lib/python3.11/dist-packages/transformers/mod\u001b[0m \u001b]8;id=400156;file:///usr/local/lib/python3.11/dist-packages/luxonis_ml/utils/logging.py\u001b\\\u001b[2mlogging.py\u001b[0m\u001b]8;;\u001b\\\u001b[2m:\u001b[0m\u001b]8;id=624834;file:///usr/local/lib/python3.11/dist-packages/luxonis_ml/utils/logging.py#104\u001b\\\u001b[2m104\u001b[0m\u001b]8;;\u001b\\\n",
            "         \u001b[35mels/owlv2/\u001b[0m\u001b[95mprocessing_owlv2.py\u001b[0m:\u001b[1;36m201\u001b[0m: FutureWarning:        \u001b[2m              \u001b[0m\n",
            "         `post_process_object_detection` method is deprecated for \u001b[2m              \u001b[0m\n",
            "         OwlVitProcessor and will be removed in v5. Use           \u001b[2m              \u001b[0m\n",
            "         `post_process_grounded_object_detection` instead.        \u001b[2m              \u001b[0m\n",
            "           \u001b[1;35mwarnings.warn\u001b[0m\u001b[1m(\u001b[0m                                         \u001b[2m              \u001b[0m\n",
            "                                                                  \u001b[2m              \u001b[0m\n",
            "\n",
            "Annotating images:  28% 28/100 [00:36<01:29,  1.24s/it]\u001b[A\u001b[33mWARNING \u001b[0m \u001b[35m/usr/local/lib/python3.11/dist-packages/transformers/mod\u001b[0m \u001b]8;id=902592;file:///usr/local/lib/python3.11/dist-packages/luxonis_ml/utils/logging.py\u001b\\\u001b[2mlogging.py\u001b[0m\u001b]8;;\u001b\\\u001b[2m:\u001b[0m\u001b]8;id=988210;file:///usr/local/lib/python3.11/dist-packages/luxonis_ml/utils/logging.py#104\u001b\\\u001b[2m104\u001b[0m\u001b]8;;\u001b\\\n",
            "         \u001b[35mels/owlv2/\u001b[0m\u001b[95mprocessing_owlv2.py\u001b[0m:\u001b[1;36m201\u001b[0m: FutureWarning:        \u001b[2m              \u001b[0m\n",
            "         `post_process_object_detection` method is deprecated for \u001b[2m              \u001b[0m\n",
            "         OwlVitProcessor and will be removed in v5. Use           \u001b[2m              \u001b[0m\n",
            "         `post_process_grounded_object_detection` instead.        \u001b[2m              \u001b[0m\n",
            "           \u001b[1;35mwarnings.warn\u001b[0m\u001b[1m(\u001b[0m                                         \u001b[2m              \u001b[0m\n",
            "                                                                  \u001b[2m              \u001b[0m\n",
            "\n",
            "Annotating images:  29% 29/100 [00:37<01:30,  1.27s/it]\u001b[A\u001b[33mWARNING \u001b[0m \u001b[35m/usr/local/lib/python3.11/dist-packages/transformers/mod\u001b[0m \u001b]8;id=714825;file:///usr/local/lib/python3.11/dist-packages/luxonis_ml/utils/logging.py\u001b\\\u001b[2mlogging.py\u001b[0m\u001b]8;;\u001b\\\u001b[2m:\u001b[0m\u001b]8;id=927767;file:///usr/local/lib/python3.11/dist-packages/luxonis_ml/utils/logging.py#104\u001b\\\u001b[2m104\u001b[0m\u001b]8;;\u001b\\\n",
            "         \u001b[35mels/owlv2/\u001b[0m\u001b[95mprocessing_owlv2.py\u001b[0m:\u001b[1;36m201\u001b[0m: FutureWarning:        \u001b[2m              \u001b[0m\n",
            "         `post_process_object_detection` method is deprecated for \u001b[2m              \u001b[0m\n",
            "         OwlVitProcessor and will be removed in v5. Use           \u001b[2m              \u001b[0m\n",
            "         `post_process_grounded_object_detection` instead.        \u001b[2m              \u001b[0m\n",
            "           \u001b[1;35mwarnings.warn\u001b[0m\u001b[1m(\u001b[0m                                         \u001b[2m              \u001b[0m\n",
            "                                                                  \u001b[2m              \u001b[0m\n",
            "\n",
            "Annotating images:  30% 30/100 [00:38<01:29,  1.28s/it]\u001b[A\u001b[33mWARNING \u001b[0m \u001b[35m/usr/local/lib/python3.11/dist-packages/transformers/mod\u001b[0m \u001b]8;id=672097;file:///usr/local/lib/python3.11/dist-packages/luxonis_ml/utils/logging.py\u001b\\\u001b[2mlogging.py\u001b[0m\u001b]8;;\u001b\\\u001b[2m:\u001b[0m\u001b]8;id=356699;file:///usr/local/lib/python3.11/dist-packages/luxonis_ml/utils/logging.py#104\u001b\\\u001b[2m104\u001b[0m\u001b]8;;\u001b\\\n",
            "         \u001b[35mels/owlv2/\u001b[0m\u001b[95mprocessing_owlv2.py\u001b[0m:\u001b[1;36m201\u001b[0m: FutureWarning:        \u001b[2m              \u001b[0m\n",
            "         `post_process_object_detection` method is deprecated for \u001b[2m              \u001b[0m\n",
            "         OwlVitProcessor and will be removed in v5. Use           \u001b[2m              \u001b[0m\n",
            "         `post_process_grounded_object_detection` instead.        \u001b[2m              \u001b[0m\n",
            "           \u001b[1;35mwarnings.warn\u001b[0m\u001b[1m(\u001b[0m                                         \u001b[2m              \u001b[0m\n",
            "                                                                  \u001b[2m              \u001b[0m\n",
            "\n",
            "Annotating images:  31% 31/100 [00:39<01:27,  1.27s/it]\u001b[A\u001b[33mWARNING \u001b[0m \u001b[35m/usr/local/lib/python3.11/dist-packages/transformers/mod\u001b[0m \u001b]8;id=475763;file:///usr/local/lib/python3.11/dist-packages/luxonis_ml/utils/logging.py\u001b\\\u001b[2mlogging.py\u001b[0m\u001b]8;;\u001b\\\u001b[2m:\u001b[0m\u001b]8;id=3402;file:///usr/local/lib/python3.11/dist-packages/luxonis_ml/utils/logging.py#104\u001b\\\u001b[2m104\u001b[0m\u001b]8;;\u001b\\\n",
            "         \u001b[35mels/owlv2/\u001b[0m\u001b[95mprocessing_owlv2.py\u001b[0m:\u001b[1;36m201\u001b[0m: FutureWarning:        \u001b[2m              \u001b[0m\n",
            "         `post_process_object_detection` method is deprecated for \u001b[2m              \u001b[0m\n",
            "         OwlVitProcessor and will be removed in v5. Use           \u001b[2m              \u001b[0m\n",
            "         `post_process_grounded_object_detection` instead.        \u001b[2m              \u001b[0m\n",
            "           \u001b[1;35mwarnings.warn\u001b[0m\u001b[1m(\u001b[0m                                         \u001b[2m              \u001b[0m\n",
            "                                                                  \u001b[2m              \u001b[0m\n",
            "\n",
            "Annotating images:  32% 32/100 [00:41<01:26,  1.28s/it]\u001b[A\u001b[33mWARNING \u001b[0m \u001b[35m/usr/local/lib/python3.11/dist-packages/transformers/mod\u001b[0m \u001b]8;id=524902;file:///usr/local/lib/python3.11/dist-packages/luxonis_ml/utils/logging.py\u001b\\\u001b[2mlogging.py\u001b[0m\u001b]8;;\u001b\\\u001b[2m:\u001b[0m\u001b]8;id=798975;file:///usr/local/lib/python3.11/dist-packages/luxonis_ml/utils/logging.py#104\u001b\\\u001b[2m104\u001b[0m\u001b]8;;\u001b\\\n",
            "         \u001b[35mels/owlv2/\u001b[0m\u001b[95mprocessing_owlv2.py\u001b[0m:\u001b[1;36m201\u001b[0m: FutureWarning:        \u001b[2m              \u001b[0m\n",
            "         `post_process_object_detection` method is deprecated for \u001b[2m              \u001b[0m\n",
            "         OwlVitProcessor and will be removed in v5. Use           \u001b[2m              \u001b[0m\n",
            "         `post_process_grounded_object_detection` instead.        \u001b[2m              \u001b[0m\n",
            "           \u001b[1;35mwarnings.warn\u001b[0m\u001b[1m(\u001b[0m                                         \u001b[2m              \u001b[0m\n",
            "                                                                  \u001b[2m              \u001b[0m\n",
            "\n",
            "Annotating images:  33% 33/100 [00:42<01:25,  1.27s/it]\u001b[A\u001b[33mWARNING \u001b[0m \u001b[35m/usr/local/lib/python3.11/dist-packages/transformers/mod\u001b[0m \u001b]8;id=912804;file:///usr/local/lib/python3.11/dist-packages/luxonis_ml/utils/logging.py\u001b\\\u001b[2mlogging.py\u001b[0m\u001b]8;;\u001b\\\u001b[2m:\u001b[0m\u001b]8;id=655674;file:///usr/local/lib/python3.11/dist-packages/luxonis_ml/utils/logging.py#104\u001b\\\u001b[2m104\u001b[0m\u001b]8;;\u001b\\\n",
            "         \u001b[35mels/owlv2/\u001b[0m\u001b[95mprocessing_owlv2.py\u001b[0m:\u001b[1;36m201\u001b[0m: FutureWarning:        \u001b[2m              \u001b[0m\n",
            "         `post_process_object_detection` method is deprecated for \u001b[2m              \u001b[0m\n",
            "         OwlVitProcessor and will be removed in v5. Use           \u001b[2m              \u001b[0m\n",
            "         `post_process_grounded_object_detection` instead.        \u001b[2m              \u001b[0m\n",
            "           \u001b[1;35mwarnings.warn\u001b[0m\u001b[1m(\u001b[0m                                         \u001b[2m              \u001b[0m\n",
            "                                                                  \u001b[2m              \u001b[0m\n",
            "\n",
            "Annotating images:  34% 34/100 [00:43<01:23,  1.27s/it]\u001b[A\u001b[33mWARNING \u001b[0m \u001b[35m/usr/local/lib/python3.11/dist-packages/transformers/mod\u001b[0m \u001b]8;id=638551;file:///usr/local/lib/python3.11/dist-packages/luxonis_ml/utils/logging.py\u001b\\\u001b[2mlogging.py\u001b[0m\u001b]8;;\u001b\\\u001b[2m:\u001b[0m\u001b]8;id=208573;file:///usr/local/lib/python3.11/dist-packages/luxonis_ml/utils/logging.py#104\u001b\\\u001b[2m104\u001b[0m\u001b]8;;\u001b\\\n",
            "         \u001b[35mels/owlv2/\u001b[0m\u001b[95mprocessing_owlv2.py\u001b[0m:\u001b[1;36m201\u001b[0m: FutureWarning:        \u001b[2m              \u001b[0m\n",
            "         `post_process_object_detection` method is deprecated for \u001b[2m              \u001b[0m\n",
            "         OwlVitProcessor and will be removed in v5. Use           \u001b[2m              \u001b[0m\n",
            "         `post_process_grounded_object_detection` instead.        \u001b[2m              \u001b[0m\n",
            "           \u001b[1;35mwarnings.warn\u001b[0m\u001b[1m(\u001b[0m                                         \u001b[2m              \u001b[0m\n",
            "                                                                  \u001b[2m              \u001b[0m\n",
            "\n",
            "Annotating images:  35% 35/100 [00:44<01:22,  1.26s/it]\u001b[A\u001b[33mWARNING \u001b[0m \u001b[35m/usr/local/lib/python3.11/dist-packages/transformers/mod\u001b[0m \u001b]8;id=565579;file:///usr/local/lib/python3.11/dist-packages/luxonis_ml/utils/logging.py\u001b\\\u001b[2mlogging.py\u001b[0m\u001b]8;;\u001b\\\u001b[2m:\u001b[0m\u001b]8;id=999816;file:///usr/local/lib/python3.11/dist-packages/luxonis_ml/utils/logging.py#104\u001b\\\u001b[2m104\u001b[0m\u001b]8;;\u001b\\\n",
            "         \u001b[35mels/owlv2/\u001b[0m\u001b[95mprocessing_owlv2.py\u001b[0m:\u001b[1;36m201\u001b[0m: FutureWarning:        \u001b[2m              \u001b[0m\n",
            "         `post_process_object_detection` method is deprecated for \u001b[2m              \u001b[0m\n",
            "         OwlVitProcessor and will be removed in v5. Use           \u001b[2m              \u001b[0m\n",
            "         `post_process_grounded_object_detection` instead.        \u001b[2m              \u001b[0m\n",
            "           \u001b[1;35mwarnings.warn\u001b[0m\u001b[1m(\u001b[0m                                         \u001b[2m              \u001b[0m\n",
            "                                                                  \u001b[2m              \u001b[0m\n",
            "\n",
            "Annotating images:  36% 36/100 [00:46<01:20,  1.27s/it]\u001b[A\u001b[33mWARNING \u001b[0m \u001b[35m/usr/local/lib/python3.11/dist-packages/transformers/mod\u001b[0m \u001b]8;id=599;file:///usr/local/lib/python3.11/dist-packages/luxonis_ml/utils/logging.py\u001b\\\u001b[2mlogging.py\u001b[0m\u001b]8;;\u001b\\\u001b[2m:\u001b[0m\u001b]8;id=628038;file:///usr/local/lib/python3.11/dist-packages/luxonis_ml/utils/logging.py#104\u001b\\\u001b[2m104\u001b[0m\u001b]8;;\u001b\\\n",
            "         \u001b[35mels/owlv2/\u001b[0m\u001b[95mprocessing_owlv2.py\u001b[0m:\u001b[1;36m201\u001b[0m: FutureWarning:        \u001b[2m              \u001b[0m\n",
            "         `post_process_object_detection` method is deprecated for \u001b[2m              \u001b[0m\n",
            "         OwlVitProcessor and will be removed in v5. Use           \u001b[2m              \u001b[0m\n",
            "         `post_process_grounded_object_detection` instead.        \u001b[2m              \u001b[0m\n",
            "           \u001b[1;35mwarnings.warn\u001b[0m\u001b[1m(\u001b[0m                                         \u001b[2m              \u001b[0m\n",
            "                                                                  \u001b[2m              \u001b[0m\n",
            "\n",
            "Annotating images:  37% 37/100 [00:47<01:19,  1.26s/it]\u001b[A\u001b[33mWARNING \u001b[0m \u001b[35m/usr/local/lib/python3.11/dist-packages/transformers/mod\u001b[0m \u001b]8;id=974230;file:///usr/local/lib/python3.11/dist-packages/luxonis_ml/utils/logging.py\u001b\\\u001b[2mlogging.py\u001b[0m\u001b]8;;\u001b\\\u001b[2m:\u001b[0m\u001b]8;id=380612;file:///usr/local/lib/python3.11/dist-packages/luxonis_ml/utils/logging.py#104\u001b\\\u001b[2m104\u001b[0m\u001b]8;;\u001b\\\n",
            "         \u001b[35mels/owlv2/\u001b[0m\u001b[95mprocessing_owlv2.py\u001b[0m:\u001b[1;36m201\u001b[0m: FutureWarning:        \u001b[2m              \u001b[0m\n",
            "         `post_process_object_detection` method is deprecated for \u001b[2m              \u001b[0m\n",
            "         OwlVitProcessor and will be removed in v5. Use           \u001b[2m              \u001b[0m\n",
            "         `post_process_grounded_object_detection` instead.        \u001b[2m              \u001b[0m\n",
            "           \u001b[1;35mwarnings.warn\u001b[0m\u001b[1m(\u001b[0m                                         \u001b[2m              \u001b[0m\n",
            "                                                                  \u001b[2m              \u001b[0m\n",
            "\n",
            "Annotating images:  38% 38/100 [00:48<01:18,  1.26s/it]\u001b[A\u001b[33mWARNING \u001b[0m \u001b[35m/usr/local/lib/python3.11/dist-packages/transformers/mod\u001b[0m \u001b]8;id=251083;file:///usr/local/lib/python3.11/dist-packages/luxonis_ml/utils/logging.py\u001b\\\u001b[2mlogging.py\u001b[0m\u001b]8;;\u001b\\\u001b[2m:\u001b[0m\u001b]8;id=60738;file:///usr/local/lib/python3.11/dist-packages/luxonis_ml/utils/logging.py#104\u001b\\\u001b[2m104\u001b[0m\u001b]8;;\u001b\\\n",
            "         \u001b[35mels/owlv2/\u001b[0m\u001b[95mprocessing_owlv2.py\u001b[0m:\u001b[1;36m201\u001b[0m: FutureWarning:        \u001b[2m              \u001b[0m\n",
            "         `post_process_object_detection` method is deprecated for \u001b[2m              \u001b[0m\n",
            "         OwlVitProcessor and will be removed in v5. Use           \u001b[2m              \u001b[0m\n",
            "         `post_process_grounded_object_detection` instead.        \u001b[2m              \u001b[0m\n",
            "           \u001b[1;35mwarnings.warn\u001b[0m\u001b[1m(\u001b[0m                                         \u001b[2m              \u001b[0m\n",
            "                                                                  \u001b[2m              \u001b[0m\n",
            "\n",
            "Annotating images:  39% 39/100 [00:50<01:18,  1.29s/it]\u001b[A\u001b[33mWARNING \u001b[0m \u001b[35m/usr/local/lib/python3.11/dist-packages/transformers/mod\u001b[0m \u001b]8;id=82582;file:///usr/local/lib/python3.11/dist-packages/luxonis_ml/utils/logging.py\u001b\\\u001b[2mlogging.py\u001b[0m\u001b]8;;\u001b\\\u001b[2m:\u001b[0m\u001b]8;id=89814;file:///usr/local/lib/python3.11/dist-packages/luxonis_ml/utils/logging.py#104\u001b\\\u001b[2m104\u001b[0m\u001b]8;;\u001b\\\n",
            "         \u001b[35mels/owlv2/\u001b[0m\u001b[95mprocessing_owlv2.py\u001b[0m:\u001b[1;36m201\u001b[0m: FutureWarning:        \u001b[2m              \u001b[0m\n",
            "         `post_process_object_detection` method is deprecated for \u001b[2m              \u001b[0m\n",
            "         OwlVitProcessor and will be removed in v5. Use           \u001b[2m              \u001b[0m\n",
            "         `post_process_grounded_object_detection` instead.        \u001b[2m              \u001b[0m\n",
            "           \u001b[1;35mwarnings.warn\u001b[0m\u001b[1m(\u001b[0m                                         \u001b[2m              \u001b[0m\n",
            "                                                                  \u001b[2m              \u001b[0m\n",
            "\n",
            "Annotating images:  40% 40/100 [00:51<01:16,  1.28s/it]\u001b[A\u001b[33mWARNING \u001b[0m \u001b[35m/usr/local/lib/python3.11/dist-packages/transformers/mod\u001b[0m \u001b]8;id=797549;file:///usr/local/lib/python3.11/dist-packages/luxonis_ml/utils/logging.py\u001b\\\u001b[2mlogging.py\u001b[0m\u001b]8;;\u001b\\\u001b[2m:\u001b[0m\u001b]8;id=558582;file:///usr/local/lib/python3.11/dist-packages/luxonis_ml/utils/logging.py#104\u001b\\\u001b[2m104\u001b[0m\u001b]8;;\u001b\\\n",
            "         \u001b[35mels/owlv2/\u001b[0m\u001b[95mprocessing_owlv2.py\u001b[0m:\u001b[1;36m201\u001b[0m: FutureWarning:        \u001b[2m              \u001b[0m\n",
            "         `post_process_object_detection` method is deprecated for \u001b[2m              \u001b[0m\n",
            "         OwlVitProcessor and will be removed in v5. Use           \u001b[2m              \u001b[0m\n",
            "         `post_process_grounded_object_detection` instead.        \u001b[2m              \u001b[0m\n",
            "           \u001b[1;35mwarnings.warn\u001b[0m\u001b[1m(\u001b[0m                                         \u001b[2m              \u001b[0m\n",
            "                                                                  \u001b[2m              \u001b[0m\n",
            "\n",
            "Annotating images:  41% 41/100 [00:52<01:15,  1.28s/it]\u001b[A\u001b[33mWARNING \u001b[0m \u001b[35m/usr/local/lib/python3.11/dist-packages/transformers/mod\u001b[0m \u001b]8;id=498369;file:///usr/local/lib/python3.11/dist-packages/luxonis_ml/utils/logging.py\u001b\\\u001b[2mlogging.py\u001b[0m\u001b]8;;\u001b\\\u001b[2m:\u001b[0m\u001b]8;id=992842;file:///usr/local/lib/python3.11/dist-packages/luxonis_ml/utils/logging.py#104\u001b\\\u001b[2m104\u001b[0m\u001b]8;;\u001b\\\n",
            "         \u001b[35mels/owlv2/\u001b[0m\u001b[95mprocessing_owlv2.py\u001b[0m:\u001b[1;36m201\u001b[0m: FutureWarning:        \u001b[2m              \u001b[0m\n",
            "         `post_process_object_detection` method is deprecated for \u001b[2m              \u001b[0m\n",
            "         OwlVitProcessor and will be removed in v5. Use           \u001b[2m              \u001b[0m\n",
            "         `post_process_grounded_object_detection` instead.        \u001b[2m              \u001b[0m\n",
            "           \u001b[1;35mwarnings.warn\u001b[0m\u001b[1m(\u001b[0m                                         \u001b[2m              \u001b[0m\n",
            "                                                                  \u001b[2m              \u001b[0m\n",
            "\n",
            "Annotating images:  42% 42/100 [00:53<01:13,  1.28s/it]\u001b[A\u001b[33mWARNING \u001b[0m \u001b[35m/usr/local/lib/python3.11/dist-packages/transformers/mod\u001b[0m \u001b]8;id=914812;file:///usr/local/lib/python3.11/dist-packages/luxonis_ml/utils/logging.py\u001b\\\u001b[2mlogging.py\u001b[0m\u001b]8;;\u001b\\\u001b[2m:\u001b[0m\u001b]8;id=636059;file:///usr/local/lib/python3.11/dist-packages/luxonis_ml/utils/logging.py#104\u001b\\\u001b[2m104\u001b[0m\u001b]8;;\u001b\\\n",
            "         \u001b[35mels/owlv2/\u001b[0m\u001b[95mprocessing_owlv2.py\u001b[0m:\u001b[1;36m201\u001b[0m: FutureWarning:        \u001b[2m              \u001b[0m\n",
            "         `post_process_object_detection` method is deprecated for \u001b[2m              \u001b[0m\n",
            "         OwlVitProcessor and will be removed in v5. Use           \u001b[2m              \u001b[0m\n",
            "         `post_process_grounded_object_detection` instead.        \u001b[2m              \u001b[0m\n",
            "           \u001b[1;35mwarnings.warn\u001b[0m\u001b[1m(\u001b[0m                                         \u001b[2m              \u001b[0m\n",
            "                                                                  \u001b[2m              \u001b[0m\n",
            "\n",
            "Annotating images:  43% 43/100 [00:55<01:12,  1.27s/it]\u001b[A\u001b[33mWARNING \u001b[0m \u001b[35m/usr/local/lib/python3.11/dist-packages/transformers/mod\u001b[0m \u001b]8;id=791952;file:///usr/local/lib/python3.11/dist-packages/luxonis_ml/utils/logging.py\u001b\\\u001b[2mlogging.py\u001b[0m\u001b]8;;\u001b\\\u001b[2m:\u001b[0m\u001b]8;id=765388;file:///usr/local/lib/python3.11/dist-packages/luxonis_ml/utils/logging.py#104\u001b\\\u001b[2m104\u001b[0m\u001b]8;;\u001b\\\n",
            "         \u001b[35mels/owlv2/\u001b[0m\u001b[95mprocessing_owlv2.py\u001b[0m:\u001b[1;36m201\u001b[0m: FutureWarning:        \u001b[2m              \u001b[0m\n",
            "         `post_process_object_detection` method is deprecated for \u001b[2m              \u001b[0m\n",
            "         OwlVitProcessor and will be removed in v5. Use           \u001b[2m              \u001b[0m\n",
            "         `post_process_grounded_object_detection` instead.        \u001b[2m              \u001b[0m\n",
            "           \u001b[1;35mwarnings.warn\u001b[0m\u001b[1m(\u001b[0m                                         \u001b[2m              \u001b[0m\n",
            "                                                                  \u001b[2m              \u001b[0m\n",
            "\n",
            "Annotating images:  44% 44/100 [00:56<01:10,  1.26s/it]\u001b[A\u001b[33mWARNING \u001b[0m \u001b[35m/usr/local/lib/python3.11/dist-packages/transformers/mod\u001b[0m \u001b]8;id=418373;file:///usr/local/lib/python3.11/dist-packages/luxonis_ml/utils/logging.py\u001b\\\u001b[2mlogging.py\u001b[0m\u001b]8;;\u001b\\\u001b[2m:\u001b[0m\u001b]8;id=704314;file:///usr/local/lib/python3.11/dist-packages/luxonis_ml/utils/logging.py#104\u001b\\\u001b[2m104\u001b[0m\u001b]8;;\u001b\\\n",
            "         \u001b[35mels/owlv2/\u001b[0m\u001b[95mprocessing_owlv2.py\u001b[0m:\u001b[1;36m201\u001b[0m: FutureWarning:        \u001b[2m              \u001b[0m\n",
            "         `post_process_object_detection` method is deprecated for \u001b[2m              \u001b[0m\n",
            "         OwlVitProcessor and will be removed in v5. Use           \u001b[2m              \u001b[0m\n",
            "         `post_process_grounded_object_detection` instead.        \u001b[2m              \u001b[0m\n",
            "           \u001b[1;35mwarnings.warn\u001b[0m\u001b[1m(\u001b[0m                                         \u001b[2m              \u001b[0m\n",
            "                                                                  \u001b[2m              \u001b[0m\n",
            "\n",
            "Annotating images:  45% 45/100 [00:57<01:09,  1.26s/it]\u001b[A\u001b[33mWARNING \u001b[0m \u001b[35m/usr/local/lib/python3.11/dist-packages/transformers/mod\u001b[0m \u001b]8;id=542717;file:///usr/local/lib/python3.11/dist-packages/luxonis_ml/utils/logging.py\u001b\\\u001b[2mlogging.py\u001b[0m\u001b]8;;\u001b\\\u001b[2m:\u001b[0m\u001b]8;id=473417;file:///usr/local/lib/python3.11/dist-packages/luxonis_ml/utils/logging.py#104\u001b\\\u001b[2m104\u001b[0m\u001b]8;;\u001b\\\n",
            "         \u001b[35mels/owlv2/\u001b[0m\u001b[95mprocessing_owlv2.py\u001b[0m:\u001b[1;36m201\u001b[0m: FutureWarning:        \u001b[2m              \u001b[0m\n",
            "         `post_process_object_detection` method is deprecated for \u001b[2m              \u001b[0m\n",
            "         OwlVitProcessor and will be removed in v5. Use           \u001b[2m              \u001b[0m\n",
            "         `post_process_grounded_object_detection` instead.        \u001b[2m              \u001b[0m\n",
            "           \u001b[1;35mwarnings.warn\u001b[0m\u001b[1m(\u001b[0m                                         \u001b[2m              \u001b[0m\n",
            "                                                                  \u001b[2m              \u001b[0m\n",
            "\n",
            "Annotating images:  46% 46/100 [00:58<01:07,  1.26s/it]\u001b[A\u001b[33mWARNING \u001b[0m \u001b[35m/usr/local/lib/python3.11/dist-packages/transformers/mod\u001b[0m \u001b]8;id=354508;file:///usr/local/lib/python3.11/dist-packages/luxonis_ml/utils/logging.py\u001b\\\u001b[2mlogging.py\u001b[0m\u001b]8;;\u001b\\\u001b[2m:\u001b[0m\u001b]8;id=22056;file:///usr/local/lib/python3.11/dist-packages/luxonis_ml/utils/logging.py#104\u001b\\\u001b[2m104\u001b[0m\u001b]8;;\u001b\\\n",
            "         \u001b[35mels/owlv2/\u001b[0m\u001b[95mprocessing_owlv2.py\u001b[0m:\u001b[1;36m201\u001b[0m: FutureWarning:        \u001b[2m              \u001b[0m\n",
            "         `post_process_object_detection` method is deprecated for \u001b[2m              \u001b[0m\n",
            "         OwlVitProcessor and will be removed in v5. Use           \u001b[2m              \u001b[0m\n",
            "         `post_process_grounded_object_detection` instead.        \u001b[2m              \u001b[0m\n",
            "           \u001b[1;35mwarnings.warn\u001b[0m\u001b[1m(\u001b[0m                                         \u001b[2m              \u001b[0m\n",
            "                                                                  \u001b[2m              \u001b[0m\n",
            "\n",
            "Annotating images:  47% 47/100 [01:00<01:06,  1.26s/it]\u001b[A\u001b[33mWARNING \u001b[0m \u001b[35m/usr/local/lib/python3.11/dist-packages/transformers/mod\u001b[0m \u001b]8;id=230914;file:///usr/local/lib/python3.11/dist-packages/luxonis_ml/utils/logging.py\u001b\\\u001b[2mlogging.py\u001b[0m\u001b]8;;\u001b\\\u001b[2m:\u001b[0m\u001b]8;id=7540;file:///usr/local/lib/python3.11/dist-packages/luxonis_ml/utils/logging.py#104\u001b\\\u001b[2m104\u001b[0m\u001b]8;;\u001b\\\n",
            "         \u001b[35mels/owlv2/\u001b[0m\u001b[95mprocessing_owlv2.py\u001b[0m:\u001b[1;36m201\u001b[0m: FutureWarning:        \u001b[2m              \u001b[0m\n",
            "         `post_process_object_detection` method is deprecated for \u001b[2m              \u001b[0m\n",
            "         OwlVitProcessor and will be removed in v5. Use           \u001b[2m              \u001b[0m\n",
            "         `post_process_grounded_object_detection` instead.        \u001b[2m              \u001b[0m\n",
            "           \u001b[1;35mwarnings.warn\u001b[0m\u001b[1m(\u001b[0m                                         \u001b[2m              \u001b[0m\n",
            "                                                                  \u001b[2m              \u001b[0m\n",
            "\n",
            "Annotating images:  48% 48/100 [01:01<01:05,  1.26s/it]\u001b[A\u001b[33mWARNING \u001b[0m \u001b[35m/usr/local/lib/python3.11/dist-packages/transformers/mod\u001b[0m \u001b]8;id=240062;file:///usr/local/lib/python3.11/dist-packages/luxonis_ml/utils/logging.py\u001b\\\u001b[2mlogging.py\u001b[0m\u001b]8;;\u001b\\\u001b[2m:\u001b[0m\u001b]8;id=70674;file:///usr/local/lib/python3.11/dist-packages/luxonis_ml/utils/logging.py#104\u001b\\\u001b[2m104\u001b[0m\u001b]8;;\u001b\\\n",
            "         \u001b[35mels/owlv2/\u001b[0m\u001b[95mprocessing_owlv2.py\u001b[0m:\u001b[1;36m201\u001b[0m: FutureWarning:        \u001b[2m              \u001b[0m\n",
            "         `post_process_object_detection` method is deprecated for \u001b[2m              \u001b[0m\n",
            "         OwlVitProcessor and will be removed in v5. Use           \u001b[2m              \u001b[0m\n",
            "         `post_process_grounded_object_detection` instead.        \u001b[2m              \u001b[0m\n",
            "           \u001b[1;35mwarnings.warn\u001b[0m\u001b[1m(\u001b[0m                                         \u001b[2m              \u001b[0m\n",
            "                                                                  \u001b[2m              \u001b[0m\n",
            "\n",
            "Annotating images:  49% 49/100 [01:02<01:04,  1.27s/it]\u001b[A\u001b[33mWARNING \u001b[0m \u001b[35m/usr/local/lib/python3.11/dist-packages/transformers/mod\u001b[0m \u001b]8;id=74299;file:///usr/local/lib/python3.11/dist-packages/luxonis_ml/utils/logging.py\u001b\\\u001b[2mlogging.py\u001b[0m\u001b]8;;\u001b\\\u001b[2m:\u001b[0m\u001b]8;id=539131;file:///usr/local/lib/python3.11/dist-packages/luxonis_ml/utils/logging.py#104\u001b\\\u001b[2m104\u001b[0m\u001b]8;;\u001b\\\n",
            "         \u001b[35mels/owlv2/\u001b[0m\u001b[95mprocessing_owlv2.py\u001b[0m:\u001b[1;36m201\u001b[0m: FutureWarning:        \u001b[2m              \u001b[0m\n",
            "         `post_process_object_detection` method is deprecated for \u001b[2m              \u001b[0m\n",
            "         OwlVitProcessor and will be removed in v5. Use           \u001b[2m              \u001b[0m\n",
            "         `post_process_grounded_object_detection` instead.        \u001b[2m              \u001b[0m\n",
            "           \u001b[1;35mwarnings.warn\u001b[0m\u001b[1m(\u001b[0m                                         \u001b[2m              \u001b[0m\n",
            "                                                                  \u001b[2m              \u001b[0m\n",
            "\n",
            "Annotating images:  50% 50/100 [01:04<01:03,  1.27s/it]\u001b[A\u001b[33mWARNING \u001b[0m \u001b[35m/usr/local/lib/python3.11/dist-packages/transformers/mod\u001b[0m \u001b]8;id=224643;file:///usr/local/lib/python3.11/dist-packages/luxonis_ml/utils/logging.py\u001b\\\u001b[2mlogging.py\u001b[0m\u001b]8;;\u001b\\\u001b[2m:\u001b[0m\u001b]8;id=565427;file:///usr/local/lib/python3.11/dist-packages/luxonis_ml/utils/logging.py#104\u001b\\\u001b[2m104\u001b[0m\u001b]8;;\u001b\\\n",
            "         \u001b[35mels/owlv2/\u001b[0m\u001b[95mprocessing_owlv2.py\u001b[0m:\u001b[1;36m201\u001b[0m: FutureWarning:        \u001b[2m              \u001b[0m\n",
            "         `post_process_object_detection` method is deprecated for \u001b[2m              \u001b[0m\n",
            "         OwlVitProcessor and will be removed in v5. Use           \u001b[2m              \u001b[0m\n",
            "         `post_process_grounded_object_detection` instead.        \u001b[2m              \u001b[0m\n",
            "           \u001b[1;35mwarnings.warn\u001b[0m\u001b[1m(\u001b[0m                                         \u001b[2m              \u001b[0m\n",
            "                                                                  \u001b[2m              \u001b[0m\n",
            "\n",
            "Annotating images:  51% 51/100 [01:05<01:02,  1.27s/it]\u001b[A\u001b[33mWARNING \u001b[0m \u001b[35m/usr/local/lib/python3.11/dist-packages/transformers/mod\u001b[0m \u001b]8;id=598782;file:///usr/local/lib/python3.11/dist-packages/luxonis_ml/utils/logging.py\u001b\\\u001b[2mlogging.py\u001b[0m\u001b]8;;\u001b\\\u001b[2m:\u001b[0m\u001b]8;id=604201;file:///usr/local/lib/python3.11/dist-packages/luxonis_ml/utils/logging.py#104\u001b\\\u001b[2m104\u001b[0m\u001b]8;;\u001b\\\n",
            "         \u001b[35mels/owlv2/\u001b[0m\u001b[95mprocessing_owlv2.py\u001b[0m:\u001b[1;36m201\u001b[0m: FutureWarning:        \u001b[2m              \u001b[0m\n",
            "         `post_process_object_detection` method is deprecated for \u001b[2m              \u001b[0m\n",
            "         OwlVitProcessor and will be removed in v5. Use           \u001b[2m              \u001b[0m\n",
            "         `post_process_grounded_object_detection` instead.        \u001b[2m              \u001b[0m\n",
            "           \u001b[1;35mwarnings.warn\u001b[0m\u001b[1m(\u001b[0m                                         \u001b[2m              \u001b[0m\n",
            "                                                                  \u001b[2m              \u001b[0m\n",
            "\n",
            "Annotating images:  52% 52/100 [01:06<01:00,  1.26s/it]\u001b[A\u001b[33mWARNING \u001b[0m \u001b[35m/usr/local/lib/python3.11/dist-packages/transformers/mod\u001b[0m \u001b]8;id=846721;file:///usr/local/lib/python3.11/dist-packages/luxonis_ml/utils/logging.py\u001b\\\u001b[2mlogging.py\u001b[0m\u001b]8;;\u001b\\\u001b[2m:\u001b[0m\u001b]8;id=426833;file:///usr/local/lib/python3.11/dist-packages/luxonis_ml/utils/logging.py#104\u001b\\\u001b[2m104\u001b[0m\u001b]8;;\u001b\\\n",
            "         \u001b[35mels/owlv2/\u001b[0m\u001b[95mprocessing_owlv2.py\u001b[0m:\u001b[1;36m201\u001b[0m: FutureWarning:        \u001b[2m              \u001b[0m\n",
            "         `post_process_object_detection` method is deprecated for \u001b[2m              \u001b[0m\n",
            "         OwlVitProcessor and will be removed in v5. Use           \u001b[2m              \u001b[0m\n",
            "         `post_process_grounded_object_detection` instead.        \u001b[2m              \u001b[0m\n",
            "           \u001b[1;35mwarnings.warn\u001b[0m\u001b[1m(\u001b[0m                                         \u001b[2m              \u001b[0m\n",
            "                                                                  \u001b[2m              \u001b[0m\n",
            "\n",
            "Annotating images:  53% 53/100 [01:07<00:59,  1.26s/it]\u001b[A\u001b[33mWARNING \u001b[0m \u001b[35m/usr/local/lib/python3.11/dist-packages/transformers/mod\u001b[0m \u001b]8;id=451989;file:///usr/local/lib/python3.11/dist-packages/luxonis_ml/utils/logging.py\u001b\\\u001b[2mlogging.py\u001b[0m\u001b]8;;\u001b\\\u001b[2m:\u001b[0m\u001b]8;id=371507;file:///usr/local/lib/python3.11/dist-packages/luxonis_ml/utils/logging.py#104\u001b\\\u001b[2m104\u001b[0m\u001b]8;;\u001b\\\n",
            "         \u001b[35mels/owlv2/\u001b[0m\u001b[95mprocessing_owlv2.py\u001b[0m:\u001b[1;36m201\u001b[0m: FutureWarning:        \u001b[2m              \u001b[0m\n",
            "         `post_process_object_detection` method is deprecated for \u001b[2m              \u001b[0m\n",
            "         OwlVitProcessor and will be removed in v5. Use           \u001b[2m              \u001b[0m\n",
            "         `post_process_grounded_object_detection` instead.        \u001b[2m              \u001b[0m\n",
            "           \u001b[1;35mwarnings.warn\u001b[0m\u001b[1m(\u001b[0m                                         \u001b[2m              \u001b[0m\n",
            "                                                                  \u001b[2m              \u001b[0m\n",
            "\n",
            "Annotating images:  54% 54/100 [01:09<00:57,  1.26s/it]\u001b[A\u001b[33mWARNING \u001b[0m \u001b[35m/usr/local/lib/python3.11/dist-packages/transformers/mod\u001b[0m \u001b]8;id=764491;file:///usr/local/lib/python3.11/dist-packages/luxonis_ml/utils/logging.py\u001b\\\u001b[2mlogging.py\u001b[0m\u001b]8;;\u001b\\\u001b[2m:\u001b[0m\u001b]8;id=56802;file:///usr/local/lib/python3.11/dist-packages/luxonis_ml/utils/logging.py#104\u001b\\\u001b[2m104\u001b[0m\u001b]8;;\u001b\\\n",
            "         \u001b[35mels/owlv2/\u001b[0m\u001b[95mprocessing_owlv2.py\u001b[0m:\u001b[1;36m201\u001b[0m: FutureWarning:        \u001b[2m              \u001b[0m\n",
            "         `post_process_object_detection` method is deprecated for \u001b[2m              \u001b[0m\n",
            "         OwlVitProcessor and will be removed in v5. Use           \u001b[2m              \u001b[0m\n",
            "         `post_process_grounded_object_detection` instead.        \u001b[2m              \u001b[0m\n",
            "           \u001b[1;35mwarnings.warn\u001b[0m\u001b[1m(\u001b[0m                                         \u001b[2m              \u001b[0m\n",
            "                                                                  \u001b[2m              \u001b[0m\n",
            "\n",
            "Annotating images:  55% 55/100 [01:10<00:56,  1.27s/it]\u001b[A\u001b[33mWARNING \u001b[0m \u001b[35m/usr/local/lib/python3.11/dist-packages/transformers/mod\u001b[0m \u001b]8;id=63556;file:///usr/local/lib/python3.11/dist-packages/luxonis_ml/utils/logging.py\u001b\\\u001b[2mlogging.py\u001b[0m\u001b]8;;\u001b\\\u001b[2m:\u001b[0m\u001b]8;id=422179;file:///usr/local/lib/python3.11/dist-packages/luxonis_ml/utils/logging.py#104\u001b\\\u001b[2m104\u001b[0m\u001b]8;;\u001b\\\n",
            "         \u001b[35mels/owlv2/\u001b[0m\u001b[95mprocessing_owlv2.py\u001b[0m:\u001b[1;36m201\u001b[0m: FutureWarning:        \u001b[2m              \u001b[0m\n",
            "         `post_process_object_detection` method is deprecated for \u001b[2m              \u001b[0m\n",
            "         OwlVitProcessor and will be removed in v5. Use           \u001b[2m              \u001b[0m\n",
            "         `post_process_grounded_object_detection` instead.        \u001b[2m              \u001b[0m\n",
            "           \u001b[1;35mwarnings.warn\u001b[0m\u001b[1m(\u001b[0m                                         \u001b[2m              \u001b[0m\n",
            "                                                                  \u001b[2m              \u001b[0m\n",
            "\n",
            "Annotating images:  56% 56/100 [01:11<00:55,  1.26s/it]\u001b[A\u001b[33mWARNING \u001b[0m \u001b[35m/usr/local/lib/python3.11/dist-packages/transformers/mod\u001b[0m \u001b]8;id=114576;file:///usr/local/lib/python3.11/dist-packages/luxonis_ml/utils/logging.py\u001b\\\u001b[2mlogging.py\u001b[0m\u001b]8;;\u001b\\\u001b[2m:\u001b[0m\u001b]8;id=260735;file:///usr/local/lib/python3.11/dist-packages/luxonis_ml/utils/logging.py#104\u001b\\\u001b[2m104\u001b[0m\u001b]8;;\u001b\\\n",
            "         \u001b[35mels/owlv2/\u001b[0m\u001b[95mprocessing_owlv2.py\u001b[0m:\u001b[1;36m201\u001b[0m: FutureWarning:        \u001b[2m              \u001b[0m\n",
            "         `post_process_object_detection` method is deprecated for \u001b[2m              \u001b[0m\n",
            "         OwlVitProcessor and will be removed in v5. Use           \u001b[2m              \u001b[0m\n",
            "         `post_process_grounded_object_detection` instead.        \u001b[2m              \u001b[0m\n",
            "           \u001b[1;35mwarnings.warn\u001b[0m\u001b[1m(\u001b[0m                                         \u001b[2m              \u001b[0m\n",
            "                                                                  \u001b[2m              \u001b[0m\n",
            "\n",
            "Annotating images:  57% 57/100 [01:12<00:54,  1.26s/it]\u001b[A\u001b[33mWARNING \u001b[0m \u001b[35m/usr/local/lib/python3.11/dist-packages/transformers/mod\u001b[0m \u001b]8;id=146991;file:///usr/local/lib/python3.11/dist-packages/luxonis_ml/utils/logging.py\u001b\\\u001b[2mlogging.py\u001b[0m\u001b]8;;\u001b\\\u001b[2m:\u001b[0m\u001b]8;id=442374;file:///usr/local/lib/python3.11/dist-packages/luxonis_ml/utils/logging.py#104\u001b\\\u001b[2m104\u001b[0m\u001b]8;;\u001b\\\n",
            "         \u001b[35mels/owlv2/\u001b[0m\u001b[95mprocessing_owlv2.py\u001b[0m:\u001b[1;36m201\u001b[0m: FutureWarning:        \u001b[2m              \u001b[0m\n",
            "         `post_process_object_detection` method is deprecated for \u001b[2m              \u001b[0m\n",
            "         OwlVitProcessor and will be removed in v5. Use           \u001b[2m              \u001b[0m\n",
            "         `post_process_grounded_object_detection` instead.        \u001b[2m              \u001b[0m\n",
            "           \u001b[1;35mwarnings.warn\u001b[0m\u001b[1m(\u001b[0m                                         \u001b[2m              \u001b[0m\n",
            "                                                                  \u001b[2m              \u001b[0m\n",
            "\n",
            "Annotating images:  58% 58/100 [01:14<00:53,  1.26s/it]\u001b[A\u001b[33mWARNING \u001b[0m \u001b[35m/usr/local/lib/python3.11/dist-packages/transformers/mod\u001b[0m \u001b]8;id=916964;file:///usr/local/lib/python3.11/dist-packages/luxonis_ml/utils/logging.py\u001b\\\u001b[2mlogging.py\u001b[0m\u001b]8;;\u001b\\\u001b[2m:\u001b[0m\u001b]8;id=968114;file:///usr/local/lib/python3.11/dist-packages/luxonis_ml/utils/logging.py#104\u001b\\\u001b[2m104\u001b[0m\u001b]8;;\u001b\\\n",
            "         \u001b[35mels/owlv2/\u001b[0m\u001b[95mprocessing_owlv2.py\u001b[0m:\u001b[1;36m201\u001b[0m: FutureWarning:        \u001b[2m              \u001b[0m\n",
            "         `post_process_object_detection` method is deprecated for \u001b[2m              \u001b[0m\n",
            "         OwlVitProcessor and will be removed in v5. Use           \u001b[2m              \u001b[0m\n",
            "         `post_process_grounded_object_detection` instead.        \u001b[2m              \u001b[0m\n",
            "           \u001b[1;35mwarnings.warn\u001b[0m\u001b[1m(\u001b[0m                                         \u001b[2m              \u001b[0m\n",
            "                                                                  \u001b[2m              \u001b[0m\n",
            "\n",
            "Annotating images:  59% 59/100 [01:15<00:52,  1.28s/it]\u001b[A\u001b[33mWARNING \u001b[0m \u001b[35m/usr/local/lib/python3.11/dist-packages/transformers/mod\u001b[0m \u001b]8;id=897546;file:///usr/local/lib/python3.11/dist-packages/luxonis_ml/utils/logging.py\u001b\\\u001b[2mlogging.py\u001b[0m\u001b]8;;\u001b\\\u001b[2m:\u001b[0m\u001b]8;id=577057;file:///usr/local/lib/python3.11/dist-packages/luxonis_ml/utils/logging.py#104\u001b\\\u001b[2m104\u001b[0m\u001b]8;;\u001b\\\n",
            "         \u001b[35mels/owlv2/\u001b[0m\u001b[95mprocessing_owlv2.py\u001b[0m:\u001b[1;36m201\u001b[0m: FutureWarning:        \u001b[2m              \u001b[0m\n",
            "         `post_process_object_detection` method is deprecated for \u001b[2m              \u001b[0m\n",
            "         OwlVitProcessor and will be removed in v5. Use           \u001b[2m              \u001b[0m\n",
            "         `post_process_grounded_object_detection` instead.        \u001b[2m              \u001b[0m\n",
            "           \u001b[1;35mwarnings.warn\u001b[0m\u001b[1m(\u001b[0m                                         \u001b[2m              \u001b[0m\n",
            "                                                                  \u001b[2m              \u001b[0m\n",
            "\n",
            "Annotating images:  60% 60/100 [01:16<00:50,  1.27s/it]\u001b[A\u001b[33mWARNING \u001b[0m \u001b[35m/usr/local/lib/python3.11/dist-packages/transformers/mod\u001b[0m \u001b]8;id=876638;file:///usr/local/lib/python3.11/dist-packages/luxonis_ml/utils/logging.py\u001b\\\u001b[2mlogging.py\u001b[0m\u001b]8;;\u001b\\\u001b[2m:\u001b[0m\u001b]8;id=15474;file:///usr/local/lib/python3.11/dist-packages/luxonis_ml/utils/logging.py#104\u001b\\\u001b[2m104\u001b[0m\u001b]8;;\u001b\\\n",
            "         \u001b[35mels/owlv2/\u001b[0m\u001b[95mprocessing_owlv2.py\u001b[0m:\u001b[1;36m201\u001b[0m: FutureWarning:        \u001b[2m              \u001b[0m\n",
            "         `post_process_object_detection` method is deprecated for \u001b[2m              \u001b[0m\n",
            "         OwlVitProcessor and will be removed in v5. Use           \u001b[2m              \u001b[0m\n",
            "         `post_process_grounded_object_detection` instead.        \u001b[2m              \u001b[0m\n",
            "           \u001b[1;35mwarnings.warn\u001b[0m\u001b[1m(\u001b[0m                                         \u001b[2m              \u001b[0m\n",
            "                                                                  \u001b[2m              \u001b[0m\n",
            "\n",
            "Annotating images:  61% 61/100 [01:17<00:49,  1.26s/it]\u001b[A\u001b[33mWARNING \u001b[0m \u001b[35m/usr/local/lib/python3.11/dist-packages/transformers/mod\u001b[0m \u001b]8;id=247861;file:///usr/local/lib/python3.11/dist-packages/luxonis_ml/utils/logging.py\u001b\\\u001b[2mlogging.py\u001b[0m\u001b]8;;\u001b\\\u001b[2m:\u001b[0m\u001b]8;id=174389;file:///usr/local/lib/python3.11/dist-packages/luxonis_ml/utils/logging.py#104\u001b\\\u001b[2m104\u001b[0m\u001b]8;;\u001b\\\n",
            "         \u001b[35mels/owlv2/\u001b[0m\u001b[95mprocessing_owlv2.py\u001b[0m:\u001b[1;36m201\u001b[0m: FutureWarning:        \u001b[2m              \u001b[0m\n",
            "         `post_process_object_detection` method is deprecated for \u001b[2m              \u001b[0m\n",
            "         OwlVitProcessor and will be removed in v5. Use           \u001b[2m              \u001b[0m\n",
            "         `post_process_grounded_object_detection` instead.        \u001b[2m              \u001b[0m\n",
            "           \u001b[1;35mwarnings.warn\u001b[0m\u001b[1m(\u001b[0m                                         \u001b[2m              \u001b[0m\n",
            "                                                                  \u001b[2m              \u001b[0m\n",
            "\n",
            "Annotating images:  62% 62/100 [01:19<00:47,  1.26s/it]\u001b[A\u001b[33mWARNING \u001b[0m \u001b[35m/usr/local/lib/python3.11/dist-packages/transformers/mod\u001b[0m \u001b]8;id=906651;file:///usr/local/lib/python3.11/dist-packages/luxonis_ml/utils/logging.py\u001b\\\u001b[2mlogging.py\u001b[0m\u001b]8;;\u001b\\\u001b[2m:\u001b[0m\u001b]8;id=420521;file:///usr/local/lib/python3.11/dist-packages/luxonis_ml/utils/logging.py#104\u001b\\\u001b[2m104\u001b[0m\u001b]8;;\u001b\\\n",
            "         \u001b[35mels/owlv2/\u001b[0m\u001b[95mprocessing_owlv2.py\u001b[0m:\u001b[1;36m201\u001b[0m: FutureWarning:        \u001b[2m              \u001b[0m\n",
            "         `post_process_object_detection` method is deprecated for \u001b[2m              \u001b[0m\n",
            "         OwlVitProcessor and will be removed in v5. Use           \u001b[2m              \u001b[0m\n",
            "         `post_process_grounded_object_detection` instead.        \u001b[2m              \u001b[0m\n",
            "           \u001b[1;35mwarnings.warn\u001b[0m\u001b[1m(\u001b[0m                                         \u001b[2m              \u001b[0m\n",
            "                                                                  \u001b[2m              \u001b[0m\n",
            "\n",
            "Annotating images:  63% 63/100 [01:20<00:46,  1.26s/it]\u001b[A\u001b[33mWARNING \u001b[0m \u001b[35m/usr/local/lib/python3.11/dist-packages/transformers/mod\u001b[0m \u001b]8;id=2260;file:///usr/local/lib/python3.11/dist-packages/luxonis_ml/utils/logging.py\u001b\\\u001b[2mlogging.py\u001b[0m\u001b]8;;\u001b\\\u001b[2m:\u001b[0m\u001b]8;id=409386;file:///usr/local/lib/python3.11/dist-packages/luxonis_ml/utils/logging.py#104\u001b\\\u001b[2m104\u001b[0m\u001b]8;;\u001b\\\n",
            "         \u001b[35mels/owlv2/\u001b[0m\u001b[95mprocessing_owlv2.py\u001b[0m:\u001b[1;36m201\u001b[0m: FutureWarning:        \u001b[2m              \u001b[0m\n",
            "         `post_process_object_detection` method is deprecated for \u001b[2m              \u001b[0m\n",
            "         OwlVitProcessor and will be removed in v5. Use           \u001b[2m              \u001b[0m\n",
            "         `post_process_grounded_object_detection` instead.        \u001b[2m              \u001b[0m\n",
            "           \u001b[1;35mwarnings.warn\u001b[0m\u001b[1m(\u001b[0m                                         \u001b[2m              \u001b[0m\n",
            "                                                                  \u001b[2m              \u001b[0m\n",
            "\n",
            "Annotating images:  64% 64/100 [01:21<00:45,  1.25s/it]\u001b[A\u001b[33mWARNING \u001b[0m \u001b[35m/usr/local/lib/python3.11/dist-packages/transformers/mod\u001b[0m \u001b]8;id=477110;file:///usr/local/lib/python3.11/dist-packages/luxonis_ml/utils/logging.py\u001b\\\u001b[2mlogging.py\u001b[0m\u001b]8;;\u001b\\\u001b[2m:\u001b[0m\u001b]8;id=299105;file:///usr/local/lib/python3.11/dist-packages/luxonis_ml/utils/logging.py#104\u001b\\\u001b[2m104\u001b[0m\u001b]8;;\u001b\\\n",
            "         \u001b[35mels/owlv2/\u001b[0m\u001b[95mprocessing_owlv2.py\u001b[0m:\u001b[1;36m201\u001b[0m: FutureWarning:        \u001b[2m              \u001b[0m\n",
            "         `post_process_object_detection` method is deprecated for \u001b[2m              \u001b[0m\n",
            "         OwlVitProcessor and will be removed in v5. Use           \u001b[2m              \u001b[0m\n",
            "         `post_process_grounded_object_detection` instead.        \u001b[2m              \u001b[0m\n",
            "           \u001b[1;35mwarnings.warn\u001b[0m\u001b[1m(\u001b[0m                                         \u001b[2m              \u001b[0m\n",
            "                                                                  \u001b[2m              \u001b[0m\n",
            "\n",
            "Annotating images:  65% 65/100 [01:22<00:43,  1.25s/it]\u001b[A\u001b[33mWARNING \u001b[0m \u001b[35m/usr/local/lib/python3.11/dist-packages/transformers/mod\u001b[0m \u001b]8;id=582765;file:///usr/local/lib/python3.11/dist-packages/luxonis_ml/utils/logging.py\u001b\\\u001b[2mlogging.py\u001b[0m\u001b]8;;\u001b\\\u001b[2m:\u001b[0m\u001b]8;id=694022;file:///usr/local/lib/python3.11/dist-packages/luxonis_ml/utils/logging.py#104\u001b\\\u001b[2m104\u001b[0m\u001b]8;;\u001b\\\n",
            "         \u001b[35mels/owlv2/\u001b[0m\u001b[95mprocessing_owlv2.py\u001b[0m:\u001b[1;36m201\u001b[0m: FutureWarning:        \u001b[2m              \u001b[0m\n",
            "         `post_process_object_detection` method is deprecated for \u001b[2m              \u001b[0m\n",
            "         OwlVitProcessor and will be removed in v5. Use           \u001b[2m              \u001b[0m\n",
            "         `post_process_grounded_object_detection` instead.        \u001b[2m              \u001b[0m\n",
            "           \u001b[1;35mwarnings.warn\u001b[0m\u001b[1m(\u001b[0m                                         \u001b[2m              \u001b[0m\n",
            "                                                                  \u001b[2m              \u001b[0m\n",
            "\n",
            "Annotating images:  66% 66/100 [01:24<00:42,  1.26s/it]\u001b[A\u001b[33mWARNING \u001b[0m \u001b[35m/usr/local/lib/python3.11/dist-packages/transformers/mod\u001b[0m \u001b]8;id=311120;file:///usr/local/lib/python3.11/dist-packages/luxonis_ml/utils/logging.py\u001b\\\u001b[2mlogging.py\u001b[0m\u001b]8;;\u001b\\\u001b[2m:\u001b[0m\u001b]8;id=228275;file:///usr/local/lib/python3.11/dist-packages/luxonis_ml/utils/logging.py#104\u001b\\\u001b[2m104\u001b[0m\u001b]8;;\u001b\\\n",
            "         \u001b[35mels/owlv2/\u001b[0m\u001b[95mprocessing_owlv2.py\u001b[0m:\u001b[1;36m201\u001b[0m: FutureWarning:        \u001b[2m              \u001b[0m\n",
            "         `post_process_object_detection` method is deprecated for \u001b[2m              \u001b[0m\n",
            "         OwlVitProcessor and will be removed in v5. Use           \u001b[2m              \u001b[0m\n",
            "         `post_process_grounded_object_detection` instead.        \u001b[2m              \u001b[0m\n",
            "           \u001b[1;35mwarnings.warn\u001b[0m\u001b[1m(\u001b[0m                                         \u001b[2m              \u001b[0m\n",
            "                                                                  \u001b[2m              \u001b[0m\n",
            "\n",
            "Annotating images:  67% 67/100 [01:25<00:41,  1.25s/it]\u001b[A\u001b[33mWARNING \u001b[0m \u001b[35m/usr/local/lib/python3.11/dist-packages/transformers/mod\u001b[0m \u001b]8;id=63918;file:///usr/local/lib/python3.11/dist-packages/luxonis_ml/utils/logging.py\u001b\\\u001b[2mlogging.py\u001b[0m\u001b]8;;\u001b\\\u001b[2m:\u001b[0m\u001b]8;id=784309;file:///usr/local/lib/python3.11/dist-packages/luxonis_ml/utils/logging.py#104\u001b\\\u001b[2m104\u001b[0m\u001b]8;;\u001b\\\n",
            "         \u001b[35mels/owlv2/\u001b[0m\u001b[95mprocessing_owlv2.py\u001b[0m:\u001b[1;36m201\u001b[0m: FutureWarning:        \u001b[2m              \u001b[0m\n",
            "         `post_process_object_detection` method is deprecated for \u001b[2m              \u001b[0m\n",
            "         OwlVitProcessor and will be removed in v5. Use           \u001b[2m              \u001b[0m\n",
            "         `post_process_grounded_object_detection` instead.        \u001b[2m              \u001b[0m\n",
            "           \u001b[1;35mwarnings.warn\u001b[0m\u001b[1m(\u001b[0m                                         \u001b[2m              \u001b[0m\n",
            "                                                                  \u001b[2m              \u001b[0m\n",
            "\n",
            "Annotating images:  68% 68/100 [01:26<00:40,  1.27s/it]\u001b[A\u001b[33mWARNING \u001b[0m \u001b[35m/usr/local/lib/python3.11/dist-packages/transformers/mod\u001b[0m \u001b]8;id=499948;file:///usr/local/lib/python3.11/dist-packages/luxonis_ml/utils/logging.py\u001b\\\u001b[2mlogging.py\u001b[0m\u001b]8;;\u001b\\\u001b[2m:\u001b[0m\u001b]8;id=527276;file:///usr/local/lib/python3.11/dist-packages/luxonis_ml/utils/logging.py#104\u001b\\\u001b[2m104\u001b[0m\u001b]8;;\u001b\\\n",
            "         \u001b[35mels/owlv2/\u001b[0m\u001b[95mprocessing_owlv2.py\u001b[0m:\u001b[1;36m201\u001b[0m: FutureWarning:        \u001b[2m              \u001b[0m\n",
            "         `post_process_object_detection` method is deprecated for \u001b[2m              \u001b[0m\n",
            "         OwlVitProcessor and will be removed in v5. Use           \u001b[2m              \u001b[0m\n",
            "         `post_process_grounded_object_detection` instead.        \u001b[2m              \u001b[0m\n",
            "           \u001b[1;35mwarnings.warn\u001b[0m\u001b[1m(\u001b[0m                                         \u001b[2m              \u001b[0m\n",
            "                                                                  \u001b[2m              \u001b[0m\n",
            "\n",
            "Annotating images:  69% 69/100 [01:28<00:39,  1.28s/it]\u001b[A\u001b[33mWARNING \u001b[0m \u001b[35m/usr/local/lib/python3.11/dist-packages/transformers/mod\u001b[0m \u001b]8;id=59642;file:///usr/local/lib/python3.11/dist-packages/luxonis_ml/utils/logging.py\u001b\\\u001b[2mlogging.py\u001b[0m\u001b]8;;\u001b\\\u001b[2m:\u001b[0m\u001b]8;id=532496;file:///usr/local/lib/python3.11/dist-packages/luxonis_ml/utils/logging.py#104\u001b\\\u001b[2m104\u001b[0m\u001b]8;;\u001b\\\n",
            "         \u001b[35mels/owlv2/\u001b[0m\u001b[95mprocessing_owlv2.py\u001b[0m:\u001b[1;36m201\u001b[0m: FutureWarning:        \u001b[2m              \u001b[0m\n",
            "         `post_process_object_detection` method is deprecated for \u001b[2m              \u001b[0m\n",
            "         OwlVitProcessor and will be removed in v5. Use           \u001b[2m              \u001b[0m\n",
            "         `post_process_grounded_object_detection` instead.        \u001b[2m              \u001b[0m\n",
            "           \u001b[1;35mwarnings.warn\u001b[0m\u001b[1m(\u001b[0m                                         \u001b[2m              \u001b[0m\n",
            "                                                                  \u001b[2m              \u001b[0m\n",
            "\n",
            "Annotating images:  70% 70/100 [01:29<00:38,  1.27s/it]\u001b[A\u001b[33mWARNING \u001b[0m \u001b[35m/usr/local/lib/python3.11/dist-packages/transformers/mod\u001b[0m \u001b]8;id=623939;file:///usr/local/lib/python3.11/dist-packages/luxonis_ml/utils/logging.py\u001b\\\u001b[2mlogging.py\u001b[0m\u001b]8;;\u001b\\\u001b[2m:\u001b[0m\u001b]8;id=71262;file:///usr/local/lib/python3.11/dist-packages/luxonis_ml/utils/logging.py#104\u001b\\\u001b[2m104\u001b[0m\u001b]8;;\u001b\\\n",
            "         \u001b[35mels/owlv2/\u001b[0m\u001b[95mprocessing_owlv2.py\u001b[0m:\u001b[1;36m201\u001b[0m: FutureWarning:        \u001b[2m              \u001b[0m\n",
            "         `post_process_object_detection` method is deprecated for \u001b[2m              \u001b[0m\n",
            "         OwlVitProcessor and will be removed in v5. Use           \u001b[2m              \u001b[0m\n",
            "         `post_process_grounded_object_detection` instead.        \u001b[2m              \u001b[0m\n",
            "           \u001b[1;35mwarnings.warn\u001b[0m\u001b[1m(\u001b[0m                                         \u001b[2m              \u001b[0m\n",
            "                                                                  \u001b[2m              \u001b[0m\n",
            "\n",
            "Annotating images:  71% 71/100 [01:30<00:36,  1.26s/it]\u001b[A\u001b[33mWARNING \u001b[0m \u001b[35m/usr/local/lib/python3.11/dist-packages/transformers/mod\u001b[0m \u001b]8;id=125710;file:///usr/local/lib/python3.11/dist-packages/luxonis_ml/utils/logging.py\u001b\\\u001b[2mlogging.py\u001b[0m\u001b]8;;\u001b\\\u001b[2m:\u001b[0m\u001b]8;id=987335;file:///usr/local/lib/python3.11/dist-packages/luxonis_ml/utils/logging.py#104\u001b\\\u001b[2m104\u001b[0m\u001b]8;;\u001b\\\n",
            "         \u001b[35mels/owlv2/\u001b[0m\u001b[95mprocessing_owlv2.py\u001b[0m:\u001b[1;36m201\u001b[0m: FutureWarning:        \u001b[2m              \u001b[0m\n",
            "         `post_process_object_detection` method is deprecated for \u001b[2m              \u001b[0m\n",
            "         OwlVitProcessor and will be removed in v5. Use           \u001b[2m              \u001b[0m\n",
            "         `post_process_grounded_object_detection` instead.        \u001b[2m              \u001b[0m\n",
            "           \u001b[1;35mwarnings.warn\u001b[0m\u001b[1m(\u001b[0m                                         \u001b[2m              \u001b[0m\n",
            "                                                                  \u001b[2m              \u001b[0m\n",
            "\n",
            "Annotating images:  72% 72/100 [01:31<00:35,  1.26s/it]\u001b[A\u001b[33mWARNING \u001b[0m \u001b[35m/usr/local/lib/python3.11/dist-packages/transformers/mod\u001b[0m \u001b]8;id=623398;file:///usr/local/lib/python3.11/dist-packages/luxonis_ml/utils/logging.py\u001b\\\u001b[2mlogging.py\u001b[0m\u001b]8;;\u001b\\\u001b[2m:\u001b[0m\u001b]8;id=41672;file:///usr/local/lib/python3.11/dist-packages/luxonis_ml/utils/logging.py#104\u001b\\\u001b[2m104\u001b[0m\u001b]8;;\u001b\\\n",
            "         \u001b[35mels/owlv2/\u001b[0m\u001b[95mprocessing_owlv2.py\u001b[0m:\u001b[1;36m201\u001b[0m: FutureWarning:        \u001b[2m              \u001b[0m\n",
            "         `post_process_object_detection` method is deprecated for \u001b[2m              \u001b[0m\n",
            "         OwlVitProcessor and will be removed in v5. Use           \u001b[2m              \u001b[0m\n",
            "         `post_process_grounded_object_detection` instead.        \u001b[2m              \u001b[0m\n",
            "           \u001b[1;35mwarnings.warn\u001b[0m\u001b[1m(\u001b[0m                                         \u001b[2m              \u001b[0m\n",
            "                                                                  \u001b[2m              \u001b[0m\n",
            "\n",
            "Annotating images:  73% 73/100 [01:33<00:33,  1.24s/it]\u001b[A\u001b[33mWARNING \u001b[0m \u001b[35m/usr/local/lib/python3.11/dist-packages/transformers/mod\u001b[0m \u001b]8;id=612024;file:///usr/local/lib/python3.11/dist-packages/luxonis_ml/utils/logging.py\u001b\\\u001b[2mlogging.py\u001b[0m\u001b]8;;\u001b\\\u001b[2m:\u001b[0m\u001b]8;id=592683;file:///usr/local/lib/python3.11/dist-packages/luxonis_ml/utils/logging.py#104\u001b\\\u001b[2m104\u001b[0m\u001b]8;;\u001b\\\n",
            "         \u001b[35mels/owlv2/\u001b[0m\u001b[95mprocessing_owlv2.py\u001b[0m:\u001b[1;36m201\u001b[0m: FutureWarning:        \u001b[2m              \u001b[0m\n",
            "         `post_process_object_detection` method is deprecated for \u001b[2m              \u001b[0m\n",
            "         OwlVitProcessor and will be removed in v5. Use           \u001b[2m              \u001b[0m\n",
            "         `post_process_grounded_object_detection` instead.        \u001b[2m              \u001b[0m\n",
            "           \u001b[1;35mwarnings.warn\u001b[0m\u001b[1m(\u001b[0m                                         \u001b[2m              \u001b[0m\n",
            "                                                                  \u001b[2m              \u001b[0m\n",
            "\n",
            "Annotating images:  74% 74/100 [01:34<00:32,  1.24s/it]\u001b[A\u001b[33mWARNING \u001b[0m \u001b[35m/usr/local/lib/python3.11/dist-packages/transformers/mod\u001b[0m \u001b]8;id=214181;file:///usr/local/lib/python3.11/dist-packages/luxonis_ml/utils/logging.py\u001b\\\u001b[2mlogging.py\u001b[0m\u001b]8;;\u001b\\\u001b[2m:\u001b[0m\u001b]8;id=702258;file:///usr/local/lib/python3.11/dist-packages/luxonis_ml/utils/logging.py#104\u001b\\\u001b[2m104\u001b[0m\u001b]8;;\u001b\\\n",
            "         \u001b[35mels/owlv2/\u001b[0m\u001b[95mprocessing_owlv2.py\u001b[0m:\u001b[1;36m201\u001b[0m: FutureWarning:        \u001b[2m              \u001b[0m\n",
            "         `post_process_object_detection` method is deprecated for \u001b[2m              \u001b[0m\n",
            "         OwlVitProcessor and will be removed in v5. Use           \u001b[2m              \u001b[0m\n",
            "         `post_process_grounded_object_detection` instead.        \u001b[2m              \u001b[0m\n",
            "           \u001b[1;35mwarnings.warn\u001b[0m\u001b[1m(\u001b[0m                                         \u001b[2m              \u001b[0m\n",
            "                                                                  \u001b[2m              \u001b[0m\n",
            "\n",
            "Annotating images:  75% 75/100 [01:35<00:31,  1.24s/it]\u001b[A\u001b[33mWARNING \u001b[0m \u001b[35m/usr/local/lib/python3.11/dist-packages/transformers/mod\u001b[0m \u001b]8;id=415011;file:///usr/local/lib/python3.11/dist-packages/luxonis_ml/utils/logging.py\u001b\\\u001b[2mlogging.py\u001b[0m\u001b]8;;\u001b\\\u001b[2m:\u001b[0m\u001b]8;id=137235;file:///usr/local/lib/python3.11/dist-packages/luxonis_ml/utils/logging.py#104\u001b\\\u001b[2m104\u001b[0m\u001b]8;;\u001b\\\n",
            "         \u001b[35mels/owlv2/\u001b[0m\u001b[95mprocessing_owlv2.py\u001b[0m:\u001b[1;36m201\u001b[0m: FutureWarning:        \u001b[2m              \u001b[0m\n",
            "         `post_process_object_detection` method is deprecated for \u001b[2m              \u001b[0m\n",
            "         OwlVitProcessor and will be removed in v5. Use           \u001b[2m              \u001b[0m\n",
            "         `post_process_grounded_object_detection` instead.        \u001b[2m              \u001b[0m\n",
            "           \u001b[1;35mwarnings.warn\u001b[0m\u001b[1m(\u001b[0m                                         \u001b[2m              \u001b[0m\n",
            "                                                                  \u001b[2m              \u001b[0m\n",
            "\n",
            "Annotating images:  76% 76/100 [01:36<00:29,  1.24s/it]\u001b[A\u001b[33mWARNING \u001b[0m \u001b[35m/usr/local/lib/python3.11/dist-packages/transformers/mod\u001b[0m \u001b]8;id=331535;file:///usr/local/lib/python3.11/dist-packages/luxonis_ml/utils/logging.py\u001b\\\u001b[2mlogging.py\u001b[0m\u001b]8;;\u001b\\\u001b[2m:\u001b[0m\u001b]8;id=974146;file:///usr/local/lib/python3.11/dist-packages/luxonis_ml/utils/logging.py#104\u001b\\\u001b[2m104\u001b[0m\u001b]8;;\u001b\\\n",
            "         \u001b[35mels/owlv2/\u001b[0m\u001b[95mprocessing_owlv2.py\u001b[0m:\u001b[1;36m201\u001b[0m: FutureWarning:        \u001b[2m              \u001b[0m\n",
            "         `post_process_object_detection` method is deprecated for \u001b[2m              \u001b[0m\n",
            "         OwlVitProcessor and will be removed in v5. Use           \u001b[2m              \u001b[0m\n",
            "         `post_process_grounded_object_detection` instead.        \u001b[2m              \u001b[0m\n",
            "           \u001b[1;35mwarnings.warn\u001b[0m\u001b[1m(\u001b[0m                                         \u001b[2m              \u001b[0m\n",
            "                                                                  \u001b[2m              \u001b[0m\n",
            "\n",
            "Annotating images:  77% 77/100 [01:37<00:28,  1.24s/it]\u001b[A\u001b[33mWARNING \u001b[0m \u001b[35m/usr/local/lib/python3.11/dist-packages/transformers/mod\u001b[0m \u001b]8;id=480547;file:///usr/local/lib/python3.11/dist-packages/luxonis_ml/utils/logging.py\u001b\\\u001b[2mlogging.py\u001b[0m\u001b]8;;\u001b\\\u001b[2m:\u001b[0m\u001b]8;id=651332;file:///usr/local/lib/python3.11/dist-packages/luxonis_ml/utils/logging.py#104\u001b\\\u001b[2m104\u001b[0m\u001b]8;;\u001b\\\n",
            "         \u001b[35mels/owlv2/\u001b[0m\u001b[95mprocessing_owlv2.py\u001b[0m:\u001b[1;36m201\u001b[0m: FutureWarning:        \u001b[2m              \u001b[0m\n",
            "         `post_process_object_detection` method is deprecated for \u001b[2m              \u001b[0m\n",
            "         OwlVitProcessor and will be removed in v5. Use           \u001b[2m              \u001b[0m\n",
            "         `post_process_grounded_object_detection` instead.        \u001b[2m              \u001b[0m\n",
            "           \u001b[1;35mwarnings.warn\u001b[0m\u001b[1m(\u001b[0m                                         \u001b[2m              \u001b[0m\n",
            "                                                                  \u001b[2m              \u001b[0m\n",
            "\n",
            "Annotating images:  78% 78/100 [01:39<00:27,  1.26s/it]\u001b[A\u001b[33mWARNING \u001b[0m \u001b[35m/usr/local/lib/python3.11/dist-packages/transformers/mod\u001b[0m \u001b]8;id=223508;file:///usr/local/lib/python3.11/dist-packages/luxonis_ml/utils/logging.py\u001b\\\u001b[2mlogging.py\u001b[0m\u001b]8;;\u001b\\\u001b[2m:\u001b[0m\u001b]8;id=530458;file:///usr/local/lib/python3.11/dist-packages/luxonis_ml/utils/logging.py#104\u001b\\\u001b[2m104\u001b[0m\u001b]8;;\u001b\\\n",
            "         \u001b[35mels/owlv2/\u001b[0m\u001b[95mprocessing_owlv2.py\u001b[0m:\u001b[1;36m201\u001b[0m: FutureWarning:        \u001b[2m              \u001b[0m\n",
            "         `post_process_object_detection` method is deprecated for \u001b[2m              \u001b[0m\n",
            "         OwlVitProcessor and will be removed in v5. Use           \u001b[2m              \u001b[0m\n",
            "         `post_process_grounded_object_detection` instead.        \u001b[2m              \u001b[0m\n",
            "           \u001b[1;35mwarnings.warn\u001b[0m\u001b[1m(\u001b[0m                                         \u001b[2m              \u001b[0m\n",
            "                                                                  \u001b[2m              \u001b[0m\n",
            "\n",
            "Annotating images:  79% 79/100 [01:40<00:26,  1.27s/it]\u001b[A\u001b[33mWARNING \u001b[0m \u001b[35m/usr/local/lib/python3.11/dist-packages/transformers/mod\u001b[0m \u001b]8;id=923653;file:///usr/local/lib/python3.11/dist-packages/luxonis_ml/utils/logging.py\u001b\\\u001b[2mlogging.py\u001b[0m\u001b]8;;\u001b\\\u001b[2m:\u001b[0m\u001b]8;id=72132;file:///usr/local/lib/python3.11/dist-packages/luxonis_ml/utils/logging.py#104\u001b\\\u001b[2m104\u001b[0m\u001b]8;;\u001b\\\n",
            "         \u001b[35mels/owlv2/\u001b[0m\u001b[95mprocessing_owlv2.py\u001b[0m:\u001b[1;36m201\u001b[0m: FutureWarning:        \u001b[2m              \u001b[0m\n",
            "         `post_process_object_detection` method is deprecated for \u001b[2m              \u001b[0m\n",
            "         OwlVitProcessor and will be removed in v5. Use           \u001b[2m              \u001b[0m\n",
            "         `post_process_grounded_object_detection` instead.        \u001b[2m              \u001b[0m\n",
            "           \u001b[1;35mwarnings.warn\u001b[0m\u001b[1m(\u001b[0m                                         \u001b[2m              \u001b[0m\n",
            "                                                                  \u001b[2m              \u001b[0m\n",
            "\n",
            "Annotating images:  80% 80/100 [01:41<00:25,  1.27s/it]\u001b[A\u001b[33mWARNING \u001b[0m \u001b[35m/usr/local/lib/python3.11/dist-packages/transformers/mod\u001b[0m \u001b]8;id=165409;file:///usr/local/lib/python3.11/dist-packages/luxonis_ml/utils/logging.py\u001b\\\u001b[2mlogging.py\u001b[0m\u001b]8;;\u001b\\\u001b[2m:\u001b[0m\u001b]8;id=459469;file:///usr/local/lib/python3.11/dist-packages/luxonis_ml/utils/logging.py#104\u001b\\\u001b[2m104\u001b[0m\u001b]8;;\u001b\\\n",
            "         \u001b[35mels/owlv2/\u001b[0m\u001b[95mprocessing_owlv2.py\u001b[0m:\u001b[1;36m201\u001b[0m: FutureWarning:        \u001b[2m              \u001b[0m\n",
            "         `post_process_object_detection` method is deprecated for \u001b[2m              \u001b[0m\n",
            "         OwlVitProcessor and will be removed in v5. Use           \u001b[2m              \u001b[0m\n",
            "         `post_process_grounded_object_detection` instead.        \u001b[2m              \u001b[0m\n",
            "           \u001b[1;35mwarnings.warn\u001b[0m\u001b[1m(\u001b[0m                                         \u001b[2m              \u001b[0m\n",
            "                                                                  \u001b[2m              \u001b[0m\n",
            "\n",
            "Annotating images:  81% 81/100 [01:43<00:24,  1.27s/it]\u001b[A\u001b[33mWARNING \u001b[0m \u001b[35m/usr/local/lib/python3.11/dist-packages/transformers/mod\u001b[0m \u001b]8;id=641390;file:///usr/local/lib/python3.11/dist-packages/luxonis_ml/utils/logging.py\u001b\\\u001b[2mlogging.py\u001b[0m\u001b]8;;\u001b\\\u001b[2m:\u001b[0m\u001b]8;id=846305;file:///usr/local/lib/python3.11/dist-packages/luxonis_ml/utils/logging.py#104\u001b\\\u001b[2m104\u001b[0m\u001b]8;;\u001b\\\n",
            "         \u001b[35mels/owlv2/\u001b[0m\u001b[95mprocessing_owlv2.py\u001b[0m:\u001b[1;36m201\u001b[0m: FutureWarning:        \u001b[2m              \u001b[0m\n",
            "         `post_process_object_detection` method is deprecated for \u001b[2m              \u001b[0m\n",
            "         OwlVitProcessor and will be removed in v5. Use           \u001b[2m              \u001b[0m\n",
            "         `post_process_grounded_object_detection` instead.        \u001b[2m              \u001b[0m\n",
            "           \u001b[1;35mwarnings.warn\u001b[0m\u001b[1m(\u001b[0m                                         \u001b[2m              \u001b[0m\n",
            "                                                                  \u001b[2m              \u001b[0m\n",
            "\n",
            "Annotating images:  82% 82/100 [01:44<00:22,  1.26s/it]\u001b[A\u001b[33mWARNING \u001b[0m \u001b[35m/usr/local/lib/python3.11/dist-packages/transformers/mod\u001b[0m \u001b]8;id=856795;file:///usr/local/lib/python3.11/dist-packages/luxonis_ml/utils/logging.py\u001b\\\u001b[2mlogging.py\u001b[0m\u001b]8;;\u001b\\\u001b[2m:\u001b[0m\u001b]8;id=581542;file:///usr/local/lib/python3.11/dist-packages/luxonis_ml/utils/logging.py#104\u001b\\\u001b[2m104\u001b[0m\u001b]8;;\u001b\\\n",
            "         \u001b[35mels/owlv2/\u001b[0m\u001b[95mprocessing_owlv2.py\u001b[0m:\u001b[1;36m201\u001b[0m: FutureWarning:        \u001b[2m              \u001b[0m\n",
            "         `post_process_object_detection` method is deprecated for \u001b[2m              \u001b[0m\n",
            "         OwlVitProcessor and will be removed in v5. Use           \u001b[2m              \u001b[0m\n",
            "         `post_process_grounded_object_detection` instead.        \u001b[2m              \u001b[0m\n",
            "           \u001b[1;35mwarnings.warn\u001b[0m\u001b[1m(\u001b[0m                                         \u001b[2m              \u001b[0m\n",
            "                                                                  \u001b[2m              \u001b[0m\n",
            "\n",
            "Annotating images:  83% 83/100 [01:45<00:21,  1.25s/it]\u001b[A\u001b[33mWARNING \u001b[0m \u001b[35m/usr/local/lib/python3.11/dist-packages/transformers/mod\u001b[0m \u001b]8;id=984539;file:///usr/local/lib/python3.11/dist-packages/luxonis_ml/utils/logging.py\u001b\\\u001b[2mlogging.py\u001b[0m\u001b]8;;\u001b\\\u001b[2m:\u001b[0m\u001b]8;id=920782;file:///usr/local/lib/python3.11/dist-packages/luxonis_ml/utils/logging.py#104\u001b\\\u001b[2m104\u001b[0m\u001b]8;;\u001b\\\n",
            "         \u001b[35mels/owlv2/\u001b[0m\u001b[95mprocessing_owlv2.py\u001b[0m:\u001b[1;36m201\u001b[0m: FutureWarning:        \u001b[2m              \u001b[0m\n",
            "         `post_process_object_detection` method is deprecated for \u001b[2m              \u001b[0m\n",
            "         OwlVitProcessor and will be removed in v5. Use           \u001b[2m              \u001b[0m\n",
            "         `post_process_grounded_object_detection` instead.        \u001b[2m              \u001b[0m\n",
            "           \u001b[1;35mwarnings.warn\u001b[0m\u001b[1m(\u001b[0m                                         \u001b[2m              \u001b[0m\n",
            "                                                                  \u001b[2m              \u001b[0m\n",
            "\n",
            "Annotating images:  84% 84/100 [01:46<00:20,  1.25s/it]\u001b[A\u001b[33mWARNING \u001b[0m \u001b[35m/usr/local/lib/python3.11/dist-packages/transformers/mod\u001b[0m \u001b]8;id=112235;file:///usr/local/lib/python3.11/dist-packages/luxonis_ml/utils/logging.py\u001b\\\u001b[2mlogging.py\u001b[0m\u001b]8;;\u001b\\\u001b[2m:\u001b[0m\u001b]8;id=778480;file:///usr/local/lib/python3.11/dist-packages/luxonis_ml/utils/logging.py#104\u001b\\\u001b[2m104\u001b[0m\u001b]8;;\u001b\\\n",
            "         \u001b[35mels/owlv2/\u001b[0m\u001b[95mprocessing_owlv2.py\u001b[0m:\u001b[1;36m201\u001b[0m: FutureWarning:        \u001b[2m              \u001b[0m\n",
            "         `post_process_object_detection` method is deprecated for \u001b[2m              \u001b[0m\n",
            "         OwlVitProcessor and will be removed in v5. Use           \u001b[2m              \u001b[0m\n",
            "         `post_process_grounded_object_detection` instead.        \u001b[2m              \u001b[0m\n",
            "           \u001b[1;35mwarnings.warn\u001b[0m\u001b[1m(\u001b[0m                                         \u001b[2m              \u001b[0m\n",
            "                                                                  \u001b[2m              \u001b[0m\n",
            "\n",
            "Annotating images:  85% 85/100 [01:48<00:18,  1.25s/it]\u001b[A\u001b[33mWARNING \u001b[0m \u001b[35m/usr/local/lib/python3.11/dist-packages/transformers/mod\u001b[0m \u001b]8;id=634210;file:///usr/local/lib/python3.11/dist-packages/luxonis_ml/utils/logging.py\u001b\\\u001b[2mlogging.py\u001b[0m\u001b]8;;\u001b\\\u001b[2m:\u001b[0m\u001b]8;id=220861;file:///usr/local/lib/python3.11/dist-packages/luxonis_ml/utils/logging.py#104\u001b\\\u001b[2m104\u001b[0m\u001b]8;;\u001b\\\n",
            "         \u001b[35mels/owlv2/\u001b[0m\u001b[95mprocessing_owlv2.py\u001b[0m:\u001b[1;36m201\u001b[0m: FutureWarning:        \u001b[2m              \u001b[0m\n",
            "         `post_process_object_detection` method is deprecated for \u001b[2m              \u001b[0m\n",
            "         OwlVitProcessor and will be removed in v5. Use           \u001b[2m              \u001b[0m\n",
            "         `post_process_grounded_object_detection` instead.        \u001b[2m              \u001b[0m\n",
            "           \u001b[1;35mwarnings.warn\u001b[0m\u001b[1m(\u001b[0m                                         \u001b[2m              \u001b[0m\n",
            "                                                                  \u001b[2m              \u001b[0m\n",
            "\n",
            "Annotating images:  86% 86/100 [01:49<00:17,  1.25s/it]\u001b[A\u001b[33mWARNING \u001b[0m \u001b[35m/usr/local/lib/python3.11/dist-packages/transformers/mod\u001b[0m \u001b]8;id=665046;file:///usr/local/lib/python3.11/dist-packages/luxonis_ml/utils/logging.py\u001b\\\u001b[2mlogging.py\u001b[0m\u001b]8;;\u001b\\\u001b[2m:\u001b[0m\u001b]8;id=894343;file:///usr/local/lib/python3.11/dist-packages/luxonis_ml/utils/logging.py#104\u001b\\\u001b[2m104\u001b[0m\u001b]8;;\u001b\\\n",
            "         \u001b[35mels/owlv2/\u001b[0m\u001b[95mprocessing_owlv2.py\u001b[0m:\u001b[1;36m201\u001b[0m: FutureWarning:        \u001b[2m              \u001b[0m\n",
            "         `post_process_object_detection` method is deprecated for \u001b[2m              \u001b[0m\n",
            "         OwlVitProcessor and will be removed in v5. Use           \u001b[2m              \u001b[0m\n",
            "         `post_process_grounded_object_detection` instead.        \u001b[2m              \u001b[0m\n",
            "           \u001b[1;35mwarnings.warn\u001b[0m\u001b[1m(\u001b[0m                                         \u001b[2m              \u001b[0m\n",
            "                                                                  \u001b[2m              \u001b[0m\n",
            "\n",
            "Annotating images:  87% 87/100 [01:50<00:16,  1.25s/it]\u001b[A\u001b[33mWARNING \u001b[0m \u001b[35m/usr/local/lib/python3.11/dist-packages/transformers/mod\u001b[0m \u001b]8;id=949314;file:///usr/local/lib/python3.11/dist-packages/luxonis_ml/utils/logging.py\u001b\\\u001b[2mlogging.py\u001b[0m\u001b]8;;\u001b\\\u001b[2m:\u001b[0m\u001b]8;id=952273;file:///usr/local/lib/python3.11/dist-packages/luxonis_ml/utils/logging.py#104\u001b\\\u001b[2m104\u001b[0m\u001b]8;;\u001b\\\n",
            "         \u001b[35mels/owlv2/\u001b[0m\u001b[95mprocessing_owlv2.py\u001b[0m:\u001b[1;36m201\u001b[0m: FutureWarning:        \u001b[2m              \u001b[0m\n",
            "         `post_process_object_detection` method is deprecated for \u001b[2m              \u001b[0m\n",
            "         OwlVitProcessor and will be removed in v5. Use           \u001b[2m              \u001b[0m\n",
            "         `post_process_grounded_object_detection` instead.        \u001b[2m              \u001b[0m\n",
            "           \u001b[1;35mwarnings.warn\u001b[0m\u001b[1m(\u001b[0m                                         \u001b[2m              \u001b[0m\n",
            "                                                                  \u001b[2m              \u001b[0m\n",
            "\n",
            "Annotating images:  88% 88/100 [01:51<00:15,  1.28s/it]\u001b[A\u001b[33mWARNING \u001b[0m \u001b[35m/usr/local/lib/python3.11/dist-packages/transformers/mod\u001b[0m \u001b]8;id=444151;file:///usr/local/lib/python3.11/dist-packages/luxonis_ml/utils/logging.py\u001b\\\u001b[2mlogging.py\u001b[0m\u001b]8;;\u001b\\\u001b[2m:\u001b[0m\u001b]8;id=869634;file:///usr/local/lib/python3.11/dist-packages/luxonis_ml/utils/logging.py#104\u001b\\\u001b[2m104\u001b[0m\u001b]8;;\u001b\\\n",
            "         \u001b[35mels/owlv2/\u001b[0m\u001b[95mprocessing_owlv2.py\u001b[0m:\u001b[1;36m201\u001b[0m: FutureWarning:        \u001b[2m              \u001b[0m\n",
            "         `post_process_object_detection` method is deprecated for \u001b[2m              \u001b[0m\n",
            "         OwlVitProcessor and will be removed in v5. Use           \u001b[2m              \u001b[0m\n",
            "         `post_process_grounded_object_detection` instead.        \u001b[2m              \u001b[0m\n",
            "           \u001b[1;35mwarnings.warn\u001b[0m\u001b[1m(\u001b[0m                                         \u001b[2m              \u001b[0m\n",
            "                                                                  \u001b[2m              \u001b[0m\n",
            "\n",
            "Annotating images:  89% 89/100 [01:53<00:13,  1.27s/it]\u001b[A\u001b[33mWARNING \u001b[0m \u001b[35m/usr/local/lib/python3.11/dist-packages/transformers/mod\u001b[0m \u001b]8;id=808577;file:///usr/local/lib/python3.11/dist-packages/luxonis_ml/utils/logging.py\u001b\\\u001b[2mlogging.py\u001b[0m\u001b]8;;\u001b\\\u001b[2m:\u001b[0m\u001b]8;id=137174;file:///usr/local/lib/python3.11/dist-packages/luxonis_ml/utils/logging.py#104\u001b\\\u001b[2m104\u001b[0m\u001b]8;;\u001b\\\n",
            "         \u001b[35mels/owlv2/\u001b[0m\u001b[95mprocessing_owlv2.py\u001b[0m:\u001b[1;36m201\u001b[0m: FutureWarning:        \u001b[2m              \u001b[0m\n",
            "         `post_process_object_detection` method is deprecated for \u001b[2m              \u001b[0m\n",
            "         OwlVitProcessor and will be removed in v5. Use           \u001b[2m              \u001b[0m\n",
            "         `post_process_grounded_object_detection` instead.        \u001b[2m              \u001b[0m\n",
            "           \u001b[1;35mwarnings.warn\u001b[0m\u001b[1m(\u001b[0m                                         \u001b[2m              \u001b[0m\n",
            "                                                                  \u001b[2m              \u001b[0m\n",
            "\n",
            "Annotating images:  90% 90/100 [01:54<00:12,  1.26s/it]\u001b[A\u001b[33mWARNING \u001b[0m \u001b[35m/usr/local/lib/python3.11/dist-packages/transformers/mod\u001b[0m \u001b]8;id=463298;file:///usr/local/lib/python3.11/dist-packages/luxonis_ml/utils/logging.py\u001b\\\u001b[2mlogging.py\u001b[0m\u001b]8;;\u001b\\\u001b[2m:\u001b[0m\u001b]8;id=578478;file:///usr/local/lib/python3.11/dist-packages/luxonis_ml/utils/logging.py#104\u001b\\\u001b[2m104\u001b[0m\u001b]8;;\u001b\\\n",
            "         \u001b[35mels/owlv2/\u001b[0m\u001b[95mprocessing_owlv2.py\u001b[0m:\u001b[1;36m201\u001b[0m: FutureWarning:        \u001b[2m              \u001b[0m\n",
            "         `post_process_object_detection` method is deprecated for \u001b[2m              \u001b[0m\n",
            "         OwlVitProcessor and will be removed in v5. Use           \u001b[2m              \u001b[0m\n",
            "         `post_process_grounded_object_detection` instead.        \u001b[2m              \u001b[0m\n",
            "           \u001b[1;35mwarnings.warn\u001b[0m\u001b[1m(\u001b[0m                                         \u001b[2m              \u001b[0m\n",
            "                                                                  \u001b[2m              \u001b[0m\n",
            "\n",
            "Annotating images:  91% 91/100 [01:55<00:11,  1.26s/it]\u001b[A\u001b[33mWARNING \u001b[0m \u001b[35m/usr/local/lib/python3.11/dist-packages/transformers/mod\u001b[0m \u001b]8;id=117308;file:///usr/local/lib/python3.11/dist-packages/luxonis_ml/utils/logging.py\u001b\\\u001b[2mlogging.py\u001b[0m\u001b]8;;\u001b\\\u001b[2m:\u001b[0m\u001b]8;id=78898;file:///usr/local/lib/python3.11/dist-packages/luxonis_ml/utils/logging.py#104\u001b\\\u001b[2m104\u001b[0m\u001b]8;;\u001b\\\n",
            "         \u001b[35mels/owlv2/\u001b[0m\u001b[95mprocessing_owlv2.py\u001b[0m:\u001b[1;36m201\u001b[0m: FutureWarning:        \u001b[2m              \u001b[0m\n",
            "         `post_process_object_detection` method is deprecated for \u001b[2m              \u001b[0m\n",
            "         OwlVitProcessor and will be removed in v5. Use           \u001b[2m              \u001b[0m\n",
            "         `post_process_grounded_object_detection` instead.        \u001b[2m              \u001b[0m\n",
            "           \u001b[1;35mwarnings.warn\u001b[0m\u001b[1m(\u001b[0m                                         \u001b[2m              \u001b[0m\n",
            "                                                                  \u001b[2m              \u001b[0m\n",
            "\n",
            "Annotating images:  92% 92/100 [01:56<00:10,  1.25s/it]\u001b[A\u001b[33mWARNING \u001b[0m \u001b[35m/usr/local/lib/python3.11/dist-packages/transformers/mod\u001b[0m \u001b]8;id=156294;file:///usr/local/lib/python3.11/dist-packages/luxonis_ml/utils/logging.py\u001b\\\u001b[2mlogging.py\u001b[0m\u001b]8;;\u001b\\\u001b[2m:\u001b[0m\u001b]8;id=572092;file:///usr/local/lib/python3.11/dist-packages/luxonis_ml/utils/logging.py#104\u001b\\\u001b[2m104\u001b[0m\u001b]8;;\u001b\\\n",
            "         \u001b[35mels/owlv2/\u001b[0m\u001b[95mprocessing_owlv2.py\u001b[0m:\u001b[1;36m201\u001b[0m: FutureWarning:        \u001b[2m              \u001b[0m\n",
            "         `post_process_object_detection` method is deprecated for \u001b[2m              \u001b[0m\n",
            "         OwlVitProcessor and will be removed in v5. Use           \u001b[2m              \u001b[0m\n",
            "         `post_process_grounded_object_detection` instead.        \u001b[2m              \u001b[0m\n",
            "           \u001b[1;35mwarnings.warn\u001b[0m\u001b[1m(\u001b[0m                                         \u001b[2m              \u001b[0m\n",
            "                                                                  \u001b[2m              \u001b[0m\n",
            "\n",
            "Annotating images:  93% 93/100 [01:58<00:08,  1.25s/it]\u001b[A\u001b[33mWARNING \u001b[0m \u001b[35m/usr/local/lib/python3.11/dist-packages/transformers/mod\u001b[0m \u001b]8;id=579364;file:///usr/local/lib/python3.11/dist-packages/luxonis_ml/utils/logging.py\u001b\\\u001b[2mlogging.py\u001b[0m\u001b]8;;\u001b\\\u001b[2m:\u001b[0m\u001b]8;id=155287;file:///usr/local/lib/python3.11/dist-packages/luxonis_ml/utils/logging.py#104\u001b\\\u001b[2m104\u001b[0m\u001b]8;;\u001b\\\n",
            "         \u001b[35mels/owlv2/\u001b[0m\u001b[95mprocessing_owlv2.py\u001b[0m:\u001b[1;36m201\u001b[0m: FutureWarning:        \u001b[2m              \u001b[0m\n",
            "         `post_process_object_detection` method is deprecated for \u001b[2m              \u001b[0m\n",
            "         OwlVitProcessor and will be removed in v5. Use           \u001b[2m              \u001b[0m\n",
            "         `post_process_grounded_object_detection` instead.        \u001b[2m              \u001b[0m\n",
            "           \u001b[1;35mwarnings.warn\u001b[0m\u001b[1m(\u001b[0m                                         \u001b[2m              \u001b[0m\n",
            "                                                                  \u001b[2m              \u001b[0m\n",
            "\n",
            "Annotating images:  94% 94/100 [01:59<00:07,  1.24s/it]\u001b[A\u001b[33mWARNING \u001b[0m \u001b[35m/usr/local/lib/python3.11/dist-packages/transformers/mod\u001b[0m \u001b]8;id=382364;file:///usr/local/lib/python3.11/dist-packages/luxonis_ml/utils/logging.py\u001b\\\u001b[2mlogging.py\u001b[0m\u001b]8;;\u001b\\\u001b[2m:\u001b[0m\u001b]8;id=942650;file:///usr/local/lib/python3.11/dist-packages/luxonis_ml/utils/logging.py#104\u001b\\\u001b[2m104\u001b[0m\u001b]8;;\u001b\\\n",
            "         \u001b[35mels/owlv2/\u001b[0m\u001b[95mprocessing_owlv2.py\u001b[0m:\u001b[1;36m201\u001b[0m: FutureWarning:        \u001b[2m              \u001b[0m\n",
            "         `post_process_object_detection` method is deprecated for \u001b[2m              \u001b[0m\n",
            "         OwlVitProcessor and will be removed in v5. Use           \u001b[2m              \u001b[0m\n",
            "         `post_process_grounded_object_detection` instead.        \u001b[2m              \u001b[0m\n",
            "           \u001b[1;35mwarnings.warn\u001b[0m\u001b[1m(\u001b[0m                                         \u001b[2m              \u001b[0m\n",
            "                                                                  \u001b[2m              \u001b[0m\n",
            "\n",
            "Annotating images:  95% 95/100 [02:00<00:06,  1.24s/it]\u001b[A\u001b[33mWARNING \u001b[0m \u001b[35m/usr/local/lib/python3.11/dist-packages/transformers/mod\u001b[0m \u001b]8;id=942590;file:///usr/local/lib/python3.11/dist-packages/luxonis_ml/utils/logging.py\u001b\\\u001b[2mlogging.py\u001b[0m\u001b]8;;\u001b\\\u001b[2m:\u001b[0m\u001b]8;id=375190;file:///usr/local/lib/python3.11/dist-packages/luxonis_ml/utils/logging.py#104\u001b\\\u001b[2m104\u001b[0m\u001b]8;;\u001b\\\n",
            "         \u001b[35mels/owlv2/\u001b[0m\u001b[95mprocessing_owlv2.py\u001b[0m:\u001b[1;36m201\u001b[0m: FutureWarning:        \u001b[2m              \u001b[0m\n",
            "         `post_process_object_detection` method is deprecated for \u001b[2m              \u001b[0m\n",
            "         OwlVitProcessor and will be removed in v5. Use           \u001b[2m              \u001b[0m\n",
            "         `post_process_grounded_object_detection` instead.        \u001b[2m              \u001b[0m\n",
            "           \u001b[1;35mwarnings.warn\u001b[0m\u001b[1m(\u001b[0m                                         \u001b[2m              \u001b[0m\n",
            "                                                                  \u001b[2m              \u001b[0m\n",
            "\n",
            "Annotating images:  96% 96/100 [02:01<00:04,  1.25s/it]\u001b[A\u001b[33mWARNING \u001b[0m \u001b[35m/usr/local/lib/python3.11/dist-packages/transformers/mod\u001b[0m \u001b]8;id=107786;file:///usr/local/lib/python3.11/dist-packages/luxonis_ml/utils/logging.py\u001b\\\u001b[2mlogging.py\u001b[0m\u001b]8;;\u001b\\\u001b[2m:\u001b[0m\u001b]8;id=370858;file:///usr/local/lib/python3.11/dist-packages/luxonis_ml/utils/logging.py#104\u001b\\\u001b[2m104\u001b[0m\u001b]8;;\u001b\\\n",
            "         \u001b[35mels/owlv2/\u001b[0m\u001b[95mprocessing_owlv2.py\u001b[0m:\u001b[1;36m201\u001b[0m: FutureWarning:        \u001b[2m              \u001b[0m\n",
            "         `post_process_object_detection` method is deprecated for \u001b[2m              \u001b[0m\n",
            "         OwlVitProcessor and will be removed in v5. Use           \u001b[2m              \u001b[0m\n",
            "         `post_process_grounded_object_detection` instead.        \u001b[2m              \u001b[0m\n",
            "           \u001b[1;35mwarnings.warn\u001b[0m\u001b[1m(\u001b[0m                                         \u001b[2m              \u001b[0m\n",
            "                                                                  \u001b[2m              \u001b[0m\n",
            "\n",
            "Annotating images:  97% 97/100 [02:03<00:03,  1.26s/it]\u001b[A\u001b[33mWARNING \u001b[0m \u001b[35m/usr/local/lib/python3.11/dist-packages/transformers/mod\u001b[0m \u001b]8;id=426117;file:///usr/local/lib/python3.11/dist-packages/luxonis_ml/utils/logging.py\u001b\\\u001b[2mlogging.py\u001b[0m\u001b]8;;\u001b\\\u001b[2m:\u001b[0m\u001b]8;id=650810;file:///usr/local/lib/python3.11/dist-packages/luxonis_ml/utils/logging.py#104\u001b\\\u001b[2m104\u001b[0m\u001b]8;;\u001b\\\n",
            "         \u001b[35mels/owlv2/\u001b[0m\u001b[95mprocessing_owlv2.py\u001b[0m:\u001b[1;36m201\u001b[0m: FutureWarning:        \u001b[2m              \u001b[0m\n",
            "         `post_process_object_detection` method is deprecated for \u001b[2m              \u001b[0m\n",
            "         OwlVitProcessor and will be removed in v5. Use           \u001b[2m              \u001b[0m\n",
            "         `post_process_grounded_object_detection` instead.        \u001b[2m              \u001b[0m\n",
            "           \u001b[1;35mwarnings.warn\u001b[0m\u001b[1m(\u001b[0m                                         \u001b[2m              \u001b[0m\n",
            "                                                                  \u001b[2m              \u001b[0m\n",
            "\n",
            "Annotating images:  98% 98/100 [02:04<00:02,  1.28s/it]\u001b[A\u001b[33mWARNING \u001b[0m \u001b[35m/usr/local/lib/python3.11/dist-packages/transformers/mod\u001b[0m \u001b]8;id=248237;file:///usr/local/lib/python3.11/dist-packages/luxonis_ml/utils/logging.py\u001b\\\u001b[2mlogging.py\u001b[0m\u001b]8;;\u001b\\\u001b[2m:\u001b[0m\u001b]8;id=906604;file:///usr/local/lib/python3.11/dist-packages/luxonis_ml/utils/logging.py#104\u001b\\\u001b[2m104\u001b[0m\u001b]8;;\u001b\\\n",
            "         \u001b[35mels/owlv2/\u001b[0m\u001b[95mprocessing_owlv2.py\u001b[0m:\u001b[1;36m201\u001b[0m: FutureWarning:        \u001b[2m              \u001b[0m\n",
            "         `post_process_object_detection` method is deprecated for \u001b[2m              \u001b[0m\n",
            "         OwlVitProcessor and will be removed in v5. Use           \u001b[2m              \u001b[0m\n",
            "         `post_process_grounded_object_detection` instead.        \u001b[2m              \u001b[0m\n",
            "           \u001b[1;35mwarnings.warn\u001b[0m\u001b[1m(\u001b[0m                                         \u001b[2m              \u001b[0m\n",
            "                                                                  \u001b[2m              \u001b[0m\n",
            "\n",
            "Annotating images:  99% 99/100 [02:05<00:01,  1.28s/it]\u001b[A\u001b[33mWARNING \u001b[0m \u001b[35m/usr/local/lib/python3.11/dist-packages/transformers/mod\u001b[0m \u001b]8;id=924231;file:///usr/local/lib/python3.11/dist-packages/luxonis_ml/utils/logging.py\u001b\\\u001b[2mlogging.py\u001b[0m\u001b]8;;\u001b\\\u001b[2m:\u001b[0m\u001b]8;id=432322;file:///usr/local/lib/python3.11/dist-packages/luxonis_ml/utils/logging.py#104\u001b\\\u001b[2m104\u001b[0m\u001b]8;;\u001b\\\n",
            "         \u001b[35mels/owlv2/\u001b[0m\u001b[95mprocessing_owlv2.py\u001b[0m:\u001b[1;36m201\u001b[0m: FutureWarning:        \u001b[2m              \u001b[0m\n",
            "         `post_process_object_detection` method is deprecated for \u001b[2m              \u001b[0m\n",
            "         OwlVitProcessor and will be removed in v5. Use           \u001b[2m              \u001b[0m\n",
            "         `post_process_grounded_object_detection` instead.        \u001b[2m              \u001b[0m\n",
            "           \u001b[1;35mwarnings.warn\u001b[0m\u001b[1m(\u001b[0m                                         \u001b[2m              \u001b[0m\n",
            "                                                                  \u001b[2m              \u001b[0m\n",
            "\n",
            "Annotating images: 100% 100/100 [02:06<00:00,  1.27s/it]\n"
          ]
        }
      ],
      "source": [
        "!datadreamer --save_dir generated_dataset \\\n",
        "             --class_names robot tractor horse car person bear \\\n",
        "             --prompts_number 100 \\\n",
        "             --disable_lm_filter \\\n",
        "             --prompt_generator simple \\\n",
        "             --num_objects_range 2 3 \\\n",
        "             --image_generator sdxl-turbo \\\n",
        "             --use_tta \\\n",
        "             --image_annotator owlv2 \\\n",
        "             --conf_threshold 0.15 \\\n",
        "             --vis_anns \\\n",
        "             --seed 42"
      ]
    },
    {
      "cell_type": "markdown",
      "id": "7a10755e",
      "metadata": {
        "id": "7a10755e"
      },
      "source": [
        "### Parameters\n",
        "- `--save_dir` (required): Path to the directory for saving generated images and annotations.\n",
        "- `--class_names` (required): Space-separated list of object names for image generation and annotation. Example: `person moon robot`.\n",
        "- `--prompts_number` (optional): Number of prompts to generate for each object. Defaults to `10`.\n",
        "- `--annotate_only` (optional): Only annotate the images without generating new ones, prompt and image generator will be skipped. Defaults to `False`.\n",
        "- `--task`: Choose between `detection`, `classification` and `instance-segmentation`. Default is `detection`.\n",
        "- `--dataset_format`: Format of the dataset. Defaults to `raw`. Supported values: `raw`, `yolo`, `coco`, `voc`, `luxonis-dataset`, `cls-single`.\n",
        "- `--split_ratios`: Split ratios for train, validation, and test sets. Defaults to `[0.8, 0.1, 0.1]`.\n",
        "- `--num_objects_range`: Range of objects in a prompt. Default is 1 to 3.\n",
        "- `--prompt_generator`: Choose between `simple`, `lm` (Mistral-7B), `tiny` (tiny LM), and `qwen2` (Qwen2.5 LM). Default is `qwen2`.\n",
        "- `--image_generator`: Choose image generator, e.g., `sdxl`, `sdxl-turbo`, `sdxl-lightning` or `shuttle-3`. Default is `sdxl-turbo`.\n",
        "- `--image_annotator`: Specify the image annotator, like `owlv2` for object detection or `aimv2` or `clip` for image classification or `owlv2-slimsam` and `owlv2-sam2` for instance segmentation. Default is `owlv2`.\n",
        "- `--conf_threshold`: Confidence threshold for annotation. Default is `0.15`.\n",
        "- `--annotation_iou_threshold`: Intersection over Union (IoU) threshold for annotation. Default is `0.2`.\n",
        "- `--prompt_prefix`: Prefix to add to every image generation prompt. Default is `\"\"`.\n",
        "- `--prompt_suffix`: Suffix to add to every image generation prompt, e.g., for adding details like resolution. Default is `\", hd, 8k, highly detailed\"`.\n",
        "- `--negative_prompt`: Negative prompts to guide the generation away from certain features. Default is `\"cartoon, blue skin, painting, scrispture, golden, illustration, worst quality, low quality, normal quality:2, unrealistic dream, low resolution,  static, sd character, low quality, low resolution, greyscale, monochrome, nose, cropped, lowres, jpeg artifacts, deformed iris, deformed pupils, bad eyes, semi-realistic worst quality, bad lips, deformed mouth, deformed face, deformed fingers, bad anatomy\"`.\n",
        "- `--use_tta`: Toggle test time augmentation for object detection. Default is `False`.\n",
        "- `--synonym_generator`: Enhance class names with synonyms. Default is `none`. Other options are `llm`, `wordnet`.\n",
        "- `--use_image_tester`: Use image tester for image generation. Default is `False`.\n",
        "- `--image_tester_patience`: Patience level for image tester. Default is `1`.\n",
        "- `--lm_quantization`: Quantization to use for Mistral language model. Choose between `none` and `4bit`. Default is `none`.\n",
        "- `--annotator_size`: Size of the annotator model to use. Choose between `base` and `large`. Default is `base`.\n",
        "- `--disable_lm_filter`: Use only a bad word list for profanity filtering. Default is `False`.\n",
        "- `--keep_unlabeled_images`: Whether to keep images without any annotations. Default if `False`.\n",
        "- `--batch_size_prompt`: Batch size for prompt generation. Default is 64.\n",
        "- `--batch_size_annotation`: Batch size for annotation. Default is `1`.\n",
        "- `--batch_size_image`: Batch size for image generation. Default is `1`.\n",
        "- `--raw_mask_format`: Format of segmentations masks when saved in raw dataset format. Default is `rle`.\n",
        "- `--vis_anns`: Whether to save visualizations of annotations. Default is `False`.\n",
        "- `--device`: Choose between `cuda` and `cpu`. Default is `cuda`.\n",
        "- `--seed`: Set a random seed for image and prompt generation. Default is `42`.\n",
        "- `--config`: A path to an optional `.yaml` config file specifying the pipeline's arguments.\n"
      ]
    },
    {
      "cell_type": "code",
      "execution_count": 3,
      "id": "7add74d9",
      "metadata": {
        "colab": {
          "base_uri": "https://localhost:8080/",
          "height": 330
        },
        "id": "7add74d9",
        "outputId": "a189a671-6e42-46e2-e345-a080ee23f502"
      },
      "outputs": [
        {
          "output_type": "error",
          "ename": "FileNotFoundError",
          "evalue": "[Errno 2] No such file or directory: 'generated_dataset/bboxes_visualization/bbox_0000070.jpg'",
          "traceback": [
            "\u001b[0;31m---------------------------------------------------------------------------\u001b[0m",
            "\u001b[0;31mFileNotFoundError\u001b[0m                         Traceback (most recent call last)",
            "\u001b[0;32m/tmp/ipython-input-1566661268.py\u001b[0m in \u001b[0;36m<cell line: 0>\u001b[0;34m()\u001b[0m\n\u001b[1;32m      3\u001b[0m \u001b[0;32mfrom\u001b[0m \u001b[0mIPython\u001b[0m\u001b[0;34m.\u001b[0m\u001b[0mdisplay\u001b[0m \u001b[0;32mimport\u001b[0m \u001b[0mImage\u001b[0m\u001b[0;34m\u001b[0m\u001b[0;34m\u001b[0m\u001b[0m\n\u001b[1;32m      4\u001b[0m \u001b[0;34m\u001b[0m\u001b[0m\n\u001b[0;32m----> 5\u001b[0;31m \u001b[0mImage\u001b[0m\u001b[0;34m(\u001b[0m\u001b[0mfilename\u001b[0m\u001b[0;34m=\u001b[0m\u001b[0mos\u001b[0m\u001b[0;34m.\u001b[0m\u001b[0mpath\u001b[0m\u001b[0;34m.\u001b[0m\u001b[0mjoin\u001b[0m\u001b[0;34m(\u001b[0m\u001b[0;34m\"generated_dataset/bboxes_visualization\"\u001b[0m\u001b[0;34m,\u001b[0m \u001b[0;34m\"bbox_0000070.jpg\"\u001b[0m\u001b[0;34m)\u001b[0m\u001b[0;34m)\u001b[0m\u001b[0;34m\u001b[0m\u001b[0;34m\u001b[0m\u001b[0m\n\u001b[0m",
            "\u001b[0;32m/usr/local/lib/python3.11/dist-packages/IPython/core/display.py\u001b[0m in \u001b[0;36m__init__\u001b[0;34m(self, data, url, filename, format, embed, width, height, retina, unconfined, metadata)\u001b[0m\n\u001b[1;32m   1229\u001b[0m         \u001b[0mself\u001b[0m\u001b[0;34m.\u001b[0m\u001b[0mretina\u001b[0m \u001b[0;34m=\u001b[0m \u001b[0mretina\u001b[0m\u001b[0;34m\u001b[0m\u001b[0;34m\u001b[0m\u001b[0m\n\u001b[1;32m   1230\u001b[0m         \u001b[0mself\u001b[0m\u001b[0;34m.\u001b[0m\u001b[0munconfined\u001b[0m \u001b[0;34m=\u001b[0m \u001b[0munconfined\u001b[0m\u001b[0;34m\u001b[0m\u001b[0;34m\u001b[0m\u001b[0m\n\u001b[0;32m-> 1231\u001b[0;31m         super(Image, self).__init__(data=data, url=url, filename=filename, \n\u001b[0m\u001b[1;32m   1232\u001b[0m                 metadata=metadata)\n\u001b[1;32m   1233\u001b[0m \u001b[0;34m\u001b[0m\u001b[0m\n",
            "\u001b[0;32m/usr/local/lib/python3.11/dist-packages/IPython/core/display.py\u001b[0m in \u001b[0;36m__init__\u001b[0;34m(self, data, url, filename, metadata)\u001b[0m\n\u001b[1;32m    635\u001b[0m             \u001b[0mself\u001b[0m\u001b[0;34m.\u001b[0m\u001b[0mmetadata\u001b[0m \u001b[0;34m=\u001b[0m \u001b[0;34m{\u001b[0m\u001b[0;34m}\u001b[0m\u001b[0;34m\u001b[0m\u001b[0;34m\u001b[0m\u001b[0m\n\u001b[1;32m    636\u001b[0m \u001b[0;34m\u001b[0m\u001b[0m\n\u001b[0;32m--> 637\u001b[0;31m         \u001b[0mself\u001b[0m\u001b[0;34m.\u001b[0m\u001b[0mreload\u001b[0m\u001b[0;34m(\u001b[0m\u001b[0;34m)\u001b[0m\u001b[0;34m\u001b[0m\u001b[0;34m\u001b[0m\u001b[0m\n\u001b[0m\u001b[1;32m    638\u001b[0m         \u001b[0mself\u001b[0m\u001b[0;34m.\u001b[0m\u001b[0m_check_data\u001b[0m\u001b[0;34m(\u001b[0m\u001b[0;34m)\u001b[0m\u001b[0;34m\u001b[0m\u001b[0;34m\u001b[0m\u001b[0m\n\u001b[1;32m    639\u001b[0m \u001b[0;34m\u001b[0m\u001b[0m\n",
            "\u001b[0;32m/usr/local/lib/python3.11/dist-packages/IPython/core/display.py\u001b[0m in \u001b[0;36mreload\u001b[0;34m(self)\u001b[0m\n\u001b[1;32m   1261\u001b[0m         \u001b[0;34m\"\"\"Reload the raw data from file or URL.\"\"\"\u001b[0m\u001b[0;34m\u001b[0m\u001b[0;34m\u001b[0m\u001b[0m\n\u001b[1;32m   1262\u001b[0m         \u001b[0;32mif\u001b[0m \u001b[0mself\u001b[0m\u001b[0;34m.\u001b[0m\u001b[0membed\u001b[0m\u001b[0;34m:\u001b[0m\u001b[0;34m\u001b[0m\u001b[0;34m\u001b[0m\u001b[0m\n\u001b[0;32m-> 1263\u001b[0;31m             \u001b[0msuper\u001b[0m\u001b[0;34m(\u001b[0m\u001b[0mImage\u001b[0m\u001b[0;34m,\u001b[0m\u001b[0mself\u001b[0m\u001b[0;34m)\u001b[0m\u001b[0;34m.\u001b[0m\u001b[0mreload\u001b[0m\u001b[0;34m(\u001b[0m\u001b[0;34m)\u001b[0m\u001b[0;34m\u001b[0m\u001b[0;34m\u001b[0m\u001b[0m\n\u001b[0m\u001b[1;32m   1264\u001b[0m             \u001b[0;32mif\u001b[0m \u001b[0mself\u001b[0m\u001b[0;34m.\u001b[0m\u001b[0mretina\u001b[0m\u001b[0;34m:\u001b[0m\u001b[0;34m\u001b[0m\u001b[0;34m\u001b[0m\u001b[0m\n\u001b[1;32m   1265\u001b[0m                 \u001b[0mself\u001b[0m\u001b[0;34m.\u001b[0m\u001b[0m_retina_shape\u001b[0m\u001b[0;34m(\u001b[0m\u001b[0;34m)\u001b[0m\u001b[0;34m\u001b[0m\u001b[0;34m\u001b[0m\u001b[0m\n",
            "\u001b[0;32m/usr/local/lib/python3.11/dist-packages/IPython/core/display.py\u001b[0m in \u001b[0;36mreload\u001b[0;34m(self)\u001b[0m\n\u001b[1;32m    660\u001b[0m         \u001b[0;34m\"\"\"Reload the raw data from file or URL.\"\"\"\u001b[0m\u001b[0;34m\u001b[0m\u001b[0;34m\u001b[0m\u001b[0m\n\u001b[1;32m    661\u001b[0m         \u001b[0;32mif\u001b[0m \u001b[0mself\u001b[0m\u001b[0;34m.\u001b[0m\u001b[0mfilename\u001b[0m \u001b[0;32mis\u001b[0m \u001b[0;32mnot\u001b[0m \u001b[0;32mNone\u001b[0m\u001b[0;34m:\u001b[0m\u001b[0;34m\u001b[0m\u001b[0;34m\u001b[0m\u001b[0m\n\u001b[0;32m--> 662\u001b[0;31m             \u001b[0;32mwith\u001b[0m \u001b[0mopen\u001b[0m\u001b[0;34m(\u001b[0m\u001b[0mself\u001b[0m\u001b[0;34m.\u001b[0m\u001b[0mfilename\u001b[0m\u001b[0;34m,\u001b[0m \u001b[0mself\u001b[0m\u001b[0;34m.\u001b[0m\u001b[0m_read_flags\u001b[0m\u001b[0;34m)\u001b[0m \u001b[0;32mas\u001b[0m \u001b[0mf\u001b[0m\u001b[0;34m:\u001b[0m\u001b[0;34m\u001b[0m\u001b[0;34m\u001b[0m\u001b[0m\n\u001b[0m\u001b[1;32m    663\u001b[0m                 \u001b[0mself\u001b[0m\u001b[0;34m.\u001b[0m\u001b[0mdata\u001b[0m \u001b[0;34m=\u001b[0m \u001b[0mf\u001b[0m\u001b[0;34m.\u001b[0m\u001b[0mread\u001b[0m\u001b[0;34m(\u001b[0m\u001b[0;34m)\u001b[0m\u001b[0;34m\u001b[0m\u001b[0;34m\u001b[0m\u001b[0m\n\u001b[1;32m    664\u001b[0m         \u001b[0;32melif\u001b[0m \u001b[0mself\u001b[0m\u001b[0;34m.\u001b[0m\u001b[0murl\u001b[0m \u001b[0;32mis\u001b[0m \u001b[0;32mnot\u001b[0m \u001b[0;32mNone\u001b[0m\u001b[0;34m:\u001b[0m\u001b[0;34m\u001b[0m\u001b[0;34m\u001b[0m\u001b[0m\n",
            "\u001b[0;31mFileNotFoundError\u001b[0m: [Errno 2] No such file or directory: 'generated_dataset/bboxes_visualization/bbox_0000070.jpg'"
          ]
        }
      ],
      "source": [
        "import os\n",
        "\n",
        "from IPython.display import Image\n",
        "\n",
        "Image(filename=os.path.join(\"generated_dataset/bboxes_visualization\", \"bbox_0000070.jpg\"))"
      ]
    },
    {
      "cell_type": "markdown",
      "id": "64fe2dc9",
      "metadata": {
        "id": "64fe2dc9"
      },
      "source": [
        "## ✍ Convert the dataset to YOLO format"
      ]
    },
    {
      "cell_type": "code",
      "execution_count": 4,
      "id": "3dd01a6a",
      "metadata": {
        "id": "3dd01a6a"
      },
      "outputs": [],
      "source": [
        "from datadreamer.utils.convert_dataset import convert_dataset"
      ]
    },
    {
      "cell_type": "code",
      "execution_count": 5,
      "id": "9b9bb74d",
      "metadata": {
        "id": "9b9bb74d"
      },
      "outputs": [],
      "source": [
        "convert_dataset(\n",
        "    input_dir=\"generated_dataset\",\n",
        "    output_dir=\"generated_dataset_yolo\",\n",
        "    dataset_format=\"yolo\",\n",
        "    split_ratios=[0.8, 0.1, 0.1],\n",
        "    copy_files=True,\n",
        ")"
      ]
    },
    {
      "cell_type": "code",
      "execution_count": 6,
      "id": "a167a842",
      "metadata": {
        "colab": {
          "base_uri": "https://localhost:8080/"
        },
        "id": "a167a842",
        "outputId": "d7fcbb64-2b5f-42b4-ce74-b9d366ebc321"
      },
      "outputs": [
        {
          "output_type": "stream",
          "name": "stdout",
          "text": [
            "data.yaml  test  train\tval\n"
          ]
        }
      ],
      "source": [
        "!ls generated_dataset_yolo"
      ]
    },
    {
      "cell_type": "markdown",
      "id": "d2d660b0",
      "metadata": {
        "id": "d2d660b0"
      },
      "source": [
        "## 🏋️‍♂️ Train your model (YOLOv8 as an example)"
      ]
    },
    {
      "cell_type": "code",
      "execution_count": 7,
      "id": "982e475e",
      "metadata": {
        "colab": {
          "base_uri": "https://localhost:8080/"
        },
        "id": "982e475e",
        "outputId": "0dfbec86-6f6d-4436-f212-b133f3936263",
        "scrolled": true
      },
      "outputs": [
        {
          "output_type": "stream",
          "name": "stdout",
          "text": [
            "Collecting ultralytics\n",
            "  Downloading ultralytics-8.3.176-py3-none-any.whl.metadata (37 kB)\n",
            "Requirement already satisfied: numpy>=1.23.0 in /usr/local/lib/python3.11/dist-packages (from ultralytics) (1.26.4)\n",
            "Requirement already satisfied: matplotlib>=3.3.0 in /usr/local/lib/python3.11/dist-packages (from ultralytics) (3.10.0)\n",
            "Requirement already satisfied: opencv-python>=4.6.0 in /usr/local/lib/python3.11/dist-packages (from ultralytics) (4.11.0.86)\n",
            "Requirement already satisfied: pillow>=7.1.2 in /usr/local/lib/python3.11/dist-packages (from ultralytics) (11.3.0)\n",
            "Requirement already satisfied: pyyaml>=5.3.1 in /usr/local/lib/python3.11/dist-packages (from ultralytics) (6.0.2)\n",
            "Requirement already satisfied: requests>=2.23.0 in /usr/local/lib/python3.11/dist-packages (from ultralytics) (2.32.3)\n",
            "Requirement already satisfied: scipy>=1.4.1 in /usr/local/lib/python3.11/dist-packages (from ultralytics) (1.16.1)\n",
            "Requirement already satisfied: torch>=1.8.0 in /usr/local/lib/python3.11/dist-packages (from ultralytics) (2.5.1)\n",
            "Requirement already satisfied: torchvision>=0.9.0 in /usr/local/lib/python3.11/dist-packages (from ultralytics) (0.20.1)\n",
            "Requirement already satisfied: tqdm>=4.64.0 in /usr/local/lib/python3.11/dist-packages (from ultralytics) (4.67.1)\n",
            "Requirement already satisfied: psutil in /usr/local/lib/python3.11/dist-packages (from ultralytics) (5.9.5)\n",
            "Requirement already satisfied: py-cpuinfo in /usr/local/lib/python3.11/dist-packages (from ultralytics) (9.0.0)\n",
            "Requirement already satisfied: pandas>=1.1.4 in /usr/local/lib/python3.11/dist-packages (from ultralytics) (2.2.2)\n",
            "Collecting ultralytics-thop>=2.0.0 (from ultralytics)\n",
            "  Downloading ultralytics_thop-2.0.15-py3-none-any.whl.metadata (14 kB)\n",
            "Requirement already satisfied: contourpy>=1.0.1 in /usr/local/lib/python3.11/dist-packages (from matplotlib>=3.3.0->ultralytics) (1.3.3)\n",
            "Requirement already satisfied: cycler>=0.10 in /usr/local/lib/python3.11/dist-packages (from matplotlib>=3.3.0->ultralytics) (0.12.1)\n",
            "Requirement already satisfied: fonttools>=4.22.0 in /usr/local/lib/python3.11/dist-packages (from matplotlib>=3.3.0->ultralytics) (4.59.0)\n",
            "Requirement already satisfied: kiwisolver>=1.3.1 in /usr/local/lib/python3.11/dist-packages (from matplotlib>=3.3.0->ultralytics) (1.4.8)\n",
            "Requirement already satisfied: packaging>=20.0 in /usr/local/lib/python3.11/dist-packages (from matplotlib>=3.3.0->ultralytics) (25.0)\n",
            "Requirement already satisfied: pyparsing>=2.3.1 in /usr/local/lib/python3.11/dist-packages (from matplotlib>=3.3.0->ultralytics) (3.2.3)\n",
            "Requirement already satisfied: python-dateutil>=2.7 in /usr/local/lib/python3.11/dist-packages (from matplotlib>=3.3.0->ultralytics) (2.9.0.post0)\n",
            "Requirement already satisfied: pytz>=2020.1 in /usr/local/lib/python3.11/dist-packages (from pandas>=1.1.4->ultralytics) (2025.2)\n",
            "Requirement already satisfied: tzdata>=2022.7 in /usr/local/lib/python3.11/dist-packages (from pandas>=1.1.4->ultralytics) (2025.2)\n",
            "Requirement already satisfied: charset-normalizer<4,>=2 in /usr/local/lib/python3.11/dist-packages (from requests>=2.23.0->ultralytics) (3.4.2)\n",
            "Requirement already satisfied: idna<4,>=2.5 in /usr/local/lib/python3.11/dist-packages (from requests>=2.23.0->ultralytics) (3.7)\n",
            "Requirement already satisfied: urllib3<3,>=1.21.1 in /usr/local/lib/python3.11/dist-packages (from requests>=2.23.0->ultralytics) (2.5.0)\n",
            "Requirement already satisfied: certifi>=2017.4.17 in /usr/local/lib/python3.11/dist-packages (from requests>=2.23.0->ultralytics) (2025.8.3)\n",
            "Requirement already satisfied: filelock in /usr/local/lib/python3.11/dist-packages (from torch>=1.8.0->ultralytics) (3.18.0)\n",
            "Requirement already satisfied: typing-extensions>=4.8.0 in /usr/local/lib/python3.11/dist-packages (from torch>=1.8.0->ultralytics) (4.14.1)\n",
            "Requirement already satisfied: networkx in /usr/local/lib/python3.11/dist-packages (from torch>=1.8.0->ultralytics) (3.5)\n",
            "Requirement already satisfied: jinja2 in /usr/local/lib/python3.11/dist-packages (from torch>=1.8.0->ultralytics) (3.1.6)\n",
            "Requirement already satisfied: fsspec in /usr/local/lib/python3.11/dist-packages (from torch>=1.8.0->ultralytics) (2025.3.0)\n",
            "Requirement already satisfied: nvidia-cuda-nvrtc-cu12==12.4.127 in /usr/local/lib/python3.11/dist-packages (from torch>=1.8.0->ultralytics) (12.4.127)\n",
            "Requirement already satisfied: nvidia-cuda-runtime-cu12==12.4.127 in /usr/local/lib/python3.11/dist-packages (from torch>=1.8.0->ultralytics) (12.4.127)\n",
            "Requirement already satisfied: nvidia-cuda-cupti-cu12==12.4.127 in /usr/local/lib/python3.11/dist-packages (from torch>=1.8.0->ultralytics) (12.4.127)\n",
            "Requirement already satisfied: nvidia-cudnn-cu12==9.1.0.70 in /usr/local/lib/python3.11/dist-packages (from torch>=1.8.0->ultralytics) (9.1.0.70)\n",
            "Requirement already satisfied: nvidia-cublas-cu12==12.4.5.8 in /usr/local/lib/python3.11/dist-packages (from torch>=1.8.0->ultralytics) (12.4.5.8)\n",
            "Requirement already satisfied: nvidia-cufft-cu12==11.2.1.3 in /usr/local/lib/python3.11/dist-packages (from torch>=1.8.0->ultralytics) (11.2.1.3)\n",
            "Requirement already satisfied: nvidia-curand-cu12==10.3.5.147 in /usr/local/lib/python3.11/dist-packages (from torch>=1.8.0->ultralytics) (10.3.5.147)\n",
            "Requirement already satisfied: nvidia-cusolver-cu12==11.6.1.9 in /usr/local/lib/python3.11/dist-packages (from torch>=1.8.0->ultralytics) (11.6.1.9)\n",
            "Requirement already satisfied: nvidia-cusparse-cu12==12.3.1.170 in /usr/local/lib/python3.11/dist-packages (from torch>=1.8.0->ultralytics) (12.3.1.170)\n",
            "Requirement already satisfied: nvidia-nccl-cu12==2.21.5 in /usr/local/lib/python3.11/dist-packages (from torch>=1.8.0->ultralytics) (2.21.5)\n",
            "Requirement already satisfied: nvidia-nvtx-cu12==12.4.127 in /usr/local/lib/python3.11/dist-packages (from torch>=1.8.0->ultralytics) (12.4.127)\n",
            "Requirement already satisfied: nvidia-nvjitlink-cu12==12.4.127 in /usr/local/lib/python3.11/dist-packages (from torch>=1.8.0->ultralytics) (12.4.127)\n",
            "Requirement already satisfied: triton==3.1.0 in /usr/local/lib/python3.11/dist-packages (from torch>=1.8.0->ultralytics) (3.1.0)\n",
            "Requirement already satisfied: sympy==1.13.1 in /usr/local/lib/python3.11/dist-packages (from torch>=1.8.0->ultralytics) (1.13.1)\n",
            "Requirement already satisfied: mpmath<1.4,>=1.1.0 in /usr/local/lib/python3.11/dist-packages (from sympy==1.13.1->torch>=1.8.0->ultralytics) (1.3.0)\n",
            "Requirement already satisfied: six>=1.5 in /usr/local/lib/python3.11/dist-packages (from python-dateutil>=2.7->matplotlib>=3.3.0->ultralytics) (1.17.0)\n",
            "Requirement already satisfied: MarkupSafe>=2.0 in /usr/local/lib/python3.11/dist-packages (from jinja2->torch>=1.8.0->ultralytics) (3.0.2)\n",
            "Downloading ultralytics-8.3.176-py3-none-any.whl (1.0 MB)\n",
            "\u001b[2K   \u001b[90m━━━━━━━━━━━━━━━━━━━━━━━━━━━━━━━━━━━━━━━━\u001b[0m \u001b[32m1.0/1.0 MB\u001b[0m \u001b[31m25.3 MB/s\u001b[0m eta \u001b[36m0:00:00\u001b[0m\n",
            "\u001b[?25hDownloading ultralytics_thop-2.0.15-py3-none-any.whl (28 kB)\n",
            "Installing collected packages: ultralytics-thop, ultralytics\n",
            "Successfully installed ultralytics-8.3.176 ultralytics-thop-2.0.15\n"
          ]
        }
      ],
      "source": [
        "!pip install ultralytics"
      ]
    },
    {
      "cell_type": "code",
      "execution_count": 8,
      "id": "184cf0fa",
      "metadata": {
        "colab": {
          "base_uri": "https://localhost:8080/"
        },
        "id": "184cf0fa",
        "outputId": "fb2fd644-79de-4bfd-e495-600341ffb7ff"
      },
      "outputs": [
        {
          "output_type": "stream",
          "name": "stdout",
          "text": [
            "Creating new Ultralytics Settings v0.0.6 file ✅ \n",
            "View Ultralytics Settings with 'yolo settings' or at '/root/.config/Ultralytics/settings.json'\n",
            "Update Settings with 'yolo settings key=value', i.e. 'yolo settings runs_dir=path/to/dir'. For help see https://docs.ultralytics.com/quickstart/#ultralytics-settings.\n"
          ]
        },
        {
          "output_type": "stream",
          "name": "stderr",
          "text": [
            "Downloading https://github.com/ultralytics/assets/releases/download/v8.3.0/yolov8n.pt to 'yolov8n.pt': 100%|██████████| 6.25M/6.25M [00:00<00:00, 57.2MB/s]\n"
          ]
        }
      ],
      "source": [
        "from ultralytics import YOLO\n",
        "\n",
        "model = YOLO(\"yolov8n.pt\")  # load a pretrained model"
      ]
    },
    {
      "cell_type": "code",
      "execution_count": 9,
      "id": "bb4e6754",
      "metadata": {
        "colab": {
          "base_uri": "https://localhost:8080/"
        },
        "id": "bb4e6754",
        "outputId": "eb9bc138-d318-4ea0-9e37-728d4816a808",
        "scrolled": true
      },
      "outputs": [
        {
          "output_type": "stream",
          "name": "stdout",
          "text": [
            "Ultralytics 8.3.176 🚀 Python-3.11.13 torch-2.5.1+cu124 CUDA:0 (Tesla T4, 15095MiB)\n",
            "\u001b[34m\u001b[1mengine/trainer: \u001b[0magnostic_nms=False, amp=True, augment=False, auto_augment=randaugment, batch=16, bgr=0.0, box=7.5, cache=False, cfg=None, classes=None, close_mosaic=10, cls=0.5, conf=None, copy_paste=0.0, copy_paste_mode=flip, cos_lr=False, cutmix=0.0, data=generated_dataset_yolo/data.yaml, degrees=0.0, deterministic=True, device=None, dfl=1.5, dnn=False, dropout=0.0, dynamic=False, embed=None, epochs=50, erasing=0.4, exist_ok=False, fliplr=0.5, flipud=0.0, format=torchscript, fraction=1.0, freeze=None, half=False, hsv_h=0.015, hsv_s=0.7, hsv_v=0.4, imgsz=640, int8=False, iou=0.7, keras=False, kobj=1.0, line_width=None, lr0=0.01, lrf=0.01, mask_ratio=4, max_det=300, mixup=0.0, mode=train, model=yolov8n.pt, momentum=0.937, mosaic=1.0, multi_scale=False, name=train, nbs=64, nms=False, opset=None, optimize=False, optimizer=auto, overlap_mask=True, patience=100, perspective=0.0, plots=True, pose=12.0, pretrained=True, profile=False, project=None, rect=False, resume=False, retina_masks=False, save=True, save_conf=False, save_crop=False, save_dir=runs/detect/train, save_frames=False, save_json=False, save_period=-1, save_txt=False, scale=0.5, seed=0, shear=0.0, show=False, show_boxes=True, show_conf=True, show_labels=True, simplify=True, single_cls=False, source=None, split=val, stream_buffer=False, task=detect, time=None, tracker=botsort.yaml, translate=0.1, val=True, verbose=True, vid_stride=1, visualize=False, warmup_bias_lr=0.1, warmup_epochs=3.0, warmup_momentum=0.8, weight_decay=0.0005, workers=8, workspace=None\n"
          ]
        },
        {
          "output_type": "stream",
          "name": "stderr",
          "text": [
            "Downloading https://ultralytics.com/assets/Arial.ttf to '/root/.config/Ultralytics/Arial.ttf': 100%|██████████| 755k/755k [00:00<00:00, 24.0MB/s]\n"
          ]
        },
        {
          "output_type": "stream",
          "name": "stdout",
          "text": [
            "Overriding model.yaml nc=80 with nc=6\n",
            "\n",
            "                   from  n    params  module                                       arguments                     \n",
            "  0                  -1  1       464  ultralytics.nn.modules.conv.Conv             [3, 16, 3, 2]                 \n",
            "  1                  -1  1      4672  ultralytics.nn.modules.conv.Conv             [16, 32, 3, 2]                \n",
            "  2                  -1  1      7360  ultralytics.nn.modules.block.C2f             [32, 32, 1, True]             \n",
            "  3                  -1  1     18560  ultralytics.nn.modules.conv.Conv             [32, 64, 3, 2]                \n",
            "  4                  -1  2     49664  ultralytics.nn.modules.block.C2f             [64, 64, 2, True]             \n",
            "  5                  -1  1     73984  ultralytics.nn.modules.conv.Conv             [64, 128, 3, 2]               \n",
            "  6                  -1  2    197632  ultralytics.nn.modules.block.C2f             [128, 128, 2, True]           \n",
            "  7                  -1  1    295424  ultralytics.nn.modules.conv.Conv             [128, 256, 3, 2]              \n",
            "  8                  -1  1    460288  ultralytics.nn.modules.block.C2f             [256, 256, 1, True]           \n",
            "  9                  -1  1    164608  ultralytics.nn.modules.block.SPPF            [256, 256, 5]                 \n",
            " 10                  -1  1         0  torch.nn.modules.upsampling.Upsample         [None, 2, 'nearest']          \n",
            " 11             [-1, 6]  1         0  ultralytics.nn.modules.conv.Concat           [1]                           \n",
            " 12                  -1  1    148224  ultralytics.nn.modules.block.C2f             [384, 128, 1]                 \n",
            " 13                  -1  1         0  torch.nn.modules.upsampling.Upsample         [None, 2, 'nearest']          \n",
            " 14             [-1, 4]  1         0  ultralytics.nn.modules.conv.Concat           [1]                           \n",
            " 15                  -1  1     37248  ultralytics.nn.modules.block.C2f             [192, 64, 1]                  \n",
            " 16                  -1  1     36992  ultralytics.nn.modules.conv.Conv             [64, 64, 3, 2]                \n",
            " 17            [-1, 12]  1         0  ultralytics.nn.modules.conv.Concat           [1]                           \n",
            " 18                  -1  1    123648  ultralytics.nn.modules.block.C2f             [192, 128, 1]                 \n",
            " 19                  -1  1    147712  ultralytics.nn.modules.conv.Conv             [128, 128, 3, 2]              \n",
            " 20             [-1, 9]  1         0  ultralytics.nn.modules.conv.Concat           [1]                           \n",
            " 21                  -1  1    493056  ultralytics.nn.modules.block.C2f             [384, 256, 1]                 \n",
            " 22        [15, 18, 21]  1    752482  ultralytics.nn.modules.head.Detect           [6, [64, 128, 256]]           \n",
            "Model summary: 129 layers, 3,012,018 parameters, 3,012,002 gradients, 8.2 GFLOPs\n",
            "\n",
            "Transferred 319/355 items from pretrained weights\n",
            "Freezing layer 'model.22.dfl.conv.weight'\n",
            "\u001b[34m\u001b[1mAMP: \u001b[0mrunning Automatic Mixed Precision (AMP) checks...\n"
          ]
        },
        {
          "output_type": "stream",
          "name": "stderr",
          "text": [
            "Downloading https://github.com/ultralytics/assets/releases/download/v8.3.0/yolo11n.pt to 'yolo11n.pt': 100%|██████████| 5.35M/5.35M [00:00<00:00, 37.3MB/s]\n"
          ]
        },
        {
          "output_type": "stream",
          "name": "stdout",
          "text": [
            "\u001b[34m\u001b[1mAMP: \u001b[0mchecks passed ✅\n",
            "\u001b[34m\u001b[1mtrain: \u001b[0mFast image access ✅ (ping: 0.0±0.0 ms, read: 951.3±270.9 MB/s, size: 41.4 KB)\n"
          ]
        },
        {
          "output_type": "stream",
          "name": "stderr",
          "text": [
            "\u001b[34m\u001b[1mtrain: \u001b[0mScanning /content/generated_dataset_yolo/train/labels... 80 images, 0 backgrounds, 0 corrupt: 100%|██████████| 80/80 [00:00<00:00, 1287.86it/s]"
          ]
        },
        {
          "output_type": "stream",
          "name": "stdout",
          "text": [
            "\u001b[34m\u001b[1mtrain: \u001b[0mNew cache created: /content/generated_dataset_yolo/train/labels.cache\n",
            "\u001b[34m\u001b[1malbumentations: \u001b[0mBlur(p=0.01, blur_limit=(3, 7)), MedianBlur(p=0.01, blur_limit=(3, 7)), ToGray(p=0.01, method='weighted_average', num_output_channels=3), CLAHE(p=0.01, clip_limit=(1.0, 4.0), tile_grid_size=(8, 8))\n"
          ]
        },
        {
          "output_type": "stream",
          "name": "stderr",
          "text": [
            "\n"
          ]
        },
        {
          "output_type": "stream",
          "name": "stdout",
          "text": [
            "\u001b[34m\u001b[1mval: \u001b[0mFast image access ✅ (ping: 0.0±0.0 ms, read: 290.9±148.5 MB/s, size: 36.4 KB)\n"
          ]
        },
        {
          "output_type": "stream",
          "name": "stderr",
          "text": [
            "\u001b[34m\u001b[1mval: \u001b[0mScanning /content/generated_dataset_yolo/val/labels... 10 images, 0 backgrounds, 0 corrupt: 100%|██████████| 10/10 [00:00<00:00, 761.88it/s]"
          ]
        },
        {
          "output_type": "stream",
          "name": "stdout",
          "text": [
            "\u001b[34m\u001b[1mval: \u001b[0mNew cache created: /content/generated_dataset_yolo/val/labels.cache\n"
          ]
        },
        {
          "output_type": "stream",
          "name": "stderr",
          "text": [
            "\n"
          ]
        },
        {
          "output_type": "stream",
          "name": "stdout",
          "text": [
            "Plotting labels to runs/detect/train/labels.jpg... \n",
            "\u001b[34m\u001b[1moptimizer:\u001b[0m 'optimizer=auto' found, ignoring 'lr0=0.01' and 'momentum=0.937' and determining best 'optimizer', 'lr0' and 'momentum' automatically... \n",
            "\u001b[34m\u001b[1moptimizer:\u001b[0m AdamW(lr=0.001, momentum=0.9) with parameter groups 57 weight(decay=0.0), 64 weight(decay=0.0005), 63 bias(decay=0.0)\n"
          ]
        },
        {
          "output_type": "stream",
          "name": "stderr",
          "text": [
            "2025/08/08 08:40:53 INFO mlflow.tracking.fluent: Experiment with name '/Shared/Ultralytics' does not exist. Creating a new experiment.\n",
            "2025/08/08 08:40:53 INFO mlflow.tracking.fluent: Autologging successfully enabled for keras.\n",
            "2025/08/08 08:40:54 INFO mlflow.tracking.fluent: Autologging successfully enabled for sklearn.\n",
            "2025/08/08 08:40:56 INFO mlflow.tracking.fluent: Autologging successfully enabled for statsmodels.\n",
            "2025/08/08 08:40:56 INFO mlflow.tracking.fluent: Autologging successfully enabled for tensorflow.\n",
            "2025/08/08 08:40:56 WARNING mlflow.utils.autologging_utils: MLflow transformers autologging is known to be compatible with 4.35.2 <= transformers <= 4.54.0, but the installed version is 4.54.1. If you encounter errors during autologging, try upgrading / downgrading transformers to a compatible version, or try upgrading MLflow.\n",
            "2025/08/08 08:40:58 INFO mlflow.tracking.fluent: Autologging successfully enabled for transformers.\n",
            "2025/08/08 08:40:58 WARNING mlflow.spark: With Pyspark >= 3.2, PYSPARK_PIN_THREAD environment variable must be set to false for Spark datasource autologging to work.\n",
            "2025/08/08 08:40:58 INFO mlflow.tracking.fluent: Autologging successfully enabled for pyspark.\n"
          ]
        },
        {
          "output_type": "stream",
          "name": "stdout",
          "text": [
            "\u001b[34m\u001b[1mMLflow: \u001b[0mlogging run_id(195cb91dbfd34a1e9351f3dd6b9bdfa4) to runs/mlflow\n",
            "\u001b[34m\u001b[1mMLflow: \u001b[0mview at http://127.0.0.1:5000 with 'mlflow server --backend-store-uri runs/mlflow'\n",
            "\u001b[34m\u001b[1mMLflow: \u001b[0mdisable with 'yolo settings mlflow=False'\n",
            "Image sizes 640 train, 640 val\n",
            "Using 2 dataloader workers\n",
            "Logging results to \u001b[1mruns/detect/train\u001b[0m\n",
            "Starting training for 50 epochs...\n",
            "\n",
            "      Epoch    GPU_mem   box_loss   cls_loss   dfl_loss  Instances       Size\n"
          ]
        },
        {
          "output_type": "stream",
          "name": "stderr",
          "text": [
            "       1/50      2.11G     0.9481      3.396      1.357        100        640: 100%|██████████| 5/5 [00:03<00:00,  1.63it/s]\n",
            "                 Class     Images  Instances      Box(P          R      mAP50  mAP50-95): 100%|██████████| 1/1 [00:01<00:00,  1.35s/it]"
          ]
        },
        {
          "output_type": "stream",
          "name": "stdout",
          "text": [
            "                   all         10         30    0.00975      0.806      0.136      0.112\n"
          ]
        },
        {
          "output_type": "stream",
          "name": "stderr",
          "text": [
            "\n"
          ]
        },
        {
          "output_type": "stream",
          "name": "stdout",
          "text": [
            "\n",
            "      Epoch    GPU_mem   box_loss   cls_loss   dfl_loss  Instances       Size\n"
          ]
        },
        {
          "output_type": "stream",
          "name": "stderr",
          "text": [
            "       2/50      2.11G     0.8061       3.31      1.262         81        640: 100%|██████████| 5/5 [00:01<00:00,  4.31it/s]\n",
            "                 Class     Images  Instances      Box(P          R      mAP50  mAP50-95): 100%|██████████| 1/1 [00:00<00:00,  4.79it/s]"
          ]
        },
        {
          "output_type": "stream",
          "name": "stdout",
          "text": [
            "                   all         10         30    0.00994      0.806      0.364      0.269\n"
          ]
        },
        {
          "output_type": "stream",
          "name": "stderr",
          "text": [
            "\n"
          ]
        },
        {
          "output_type": "stream",
          "name": "stdout",
          "text": [
            "\n",
            "      Epoch    GPU_mem   box_loss   cls_loss   dfl_loss  Instances       Size\n"
          ]
        },
        {
          "output_type": "stream",
          "name": "stderr",
          "text": [
            "       3/50      2.11G     0.8027      3.154      1.289         93        640: 100%|██████████| 5/5 [00:01<00:00,  4.23it/s]\n",
            "                 Class     Images  Instances      Box(P          R      mAP50  mAP50-95): 100%|██████████| 1/1 [00:00<00:00,  6.90it/s]\n"
          ]
        },
        {
          "output_type": "stream",
          "name": "stdout",
          "text": [
            "                   all         10         30      0.013       0.75      0.425      0.333\n",
            "\n",
            "      Epoch    GPU_mem   box_loss   cls_loss   dfl_loss  Instances       Size\n"
          ]
        },
        {
          "output_type": "stream",
          "name": "stderr",
          "text": [
            "       4/50      2.12G     0.7755      2.865      1.272         89        640: 100%|██████████| 5/5 [00:01<00:00,  3.88it/s]\n",
            "                 Class     Images  Instances      Box(P          R      mAP50  mAP50-95): 100%|██████████| 1/1 [00:00<00:00,  2.78it/s]"
          ]
        },
        {
          "output_type": "stream",
          "name": "stdout",
          "text": [
            "                   all         10         30     0.0157      0.806      0.389       0.32\n"
          ]
        },
        {
          "output_type": "stream",
          "name": "stderr",
          "text": [
            "\n"
          ]
        },
        {
          "output_type": "stream",
          "name": "stdout",
          "text": [
            "\n",
            "      Epoch    GPU_mem   box_loss   cls_loss   dfl_loss  Instances       Size\n"
          ]
        },
        {
          "output_type": "stream",
          "name": "stderr",
          "text": [
            "       5/50      2.12G     0.7485       2.62      1.234         90        640: 100%|██████████| 5/5 [00:01<00:00,  3.51it/s]\n",
            "                 Class     Images  Instances      Box(P          R      mAP50  mAP50-95): 100%|██████████| 1/1 [00:00<00:00,  4.18it/s]"
          ]
        },
        {
          "output_type": "stream",
          "name": "stdout",
          "text": [
            "                   all         10         30     0.0167      0.806      0.397      0.329\n"
          ]
        },
        {
          "output_type": "stream",
          "name": "stderr",
          "text": [
            "\n"
          ]
        },
        {
          "output_type": "stream",
          "name": "stdout",
          "text": [
            "\n",
            "      Epoch    GPU_mem   box_loss   cls_loss   dfl_loss  Instances       Size\n"
          ]
        },
        {
          "output_type": "stream",
          "name": "stderr",
          "text": [
            "       6/50      2.12G      0.811      2.401      1.275         79        640: 100%|██████████| 5/5 [00:00<00:00,  5.07it/s]\n",
            "                 Class     Images  Instances      Box(P          R      mAP50  mAP50-95): 100%|██████████| 1/1 [00:00<00:00,  7.89it/s]"
          ]
        },
        {
          "output_type": "stream",
          "name": "stdout",
          "text": [
            "                   all         10         30     0.0194      0.806      0.448      0.378\n"
          ]
        },
        {
          "output_type": "stream",
          "name": "stderr",
          "text": [
            "\n"
          ]
        },
        {
          "output_type": "stream",
          "name": "stdout",
          "text": [
            "\n",
            "      Epoch    GPU_mem   box_loss   cls_loss   dfl_loss  Instances       Size\n"
          ]
        },
        {
          "output_type": "stream",
          "name": "stderr",
          "text": [
            "       7/50      2.12G     0.7829      2.132      1.272         80        640: 100%|██████████| 5/5 [00:01<00:00,  3.57it/s]\n",
            "                 Class     Images  Instances      Box(P          R      mAP50  mAP50-95): 100%|██████████| 1/1 [00:00<00:00,  4.50it/s]"
          ]
        },
        {
          "output_type": "stream",
          "name": "stdout",
          "text": [
            "                   all         10         30       0.85      0.328      0.568      0.486\n"
          ]
        },
        {
          "output_type": "stream",
          "name": "stderr",
          "text": [
            "\n"
          ]
        },
        {
          "output_type": "stream",
          "name": "stdout",
          "text": [
            "\n",
            "      Epoch    GPU_mem   box_loss   cls_loss   dfl_loss  Instances       Size\n"
          ]
        },
        {
          "output_type": "stream",
          "name": "stderr",
          "text": [
            "       8/50      2.12G     0.7699      1.914      1.263        105        640: 100%|██████████| 5/5 [00:01<00:00,  3.77it/s]\n",
            "                 Class     Images  Instances      Box(P          R      mAP50  mAP50-95): 100%|██████████| 1/1 [00:00<00:00,  5.56it/s]"
          ]
        },
        {
          "output_type": "stream",
          "name": "stdout",
          "text": [
            "                   all         10         30          1      0.105      0.534      0.456\n"
          ]
        },
        {
          "output_type": "stream",
          "name": "stderr",
          "text": [
            "\n"
          ]
        },
        {
          "output_type": "stream",
          "name": "stdout",
          "text": [
            "\n",
            "      Epoch    GPU_mem   box_loss   cls_loss   dfl_loss  Instances       Size\n"
          ]
        },
        {
          "output_type": "stream",
          "name": "stderr",
          "text": [
            "       9/50      2.12G     0.8119      1.905      1.282         59        640: 100%|██████████| 5/5 [00:01<00:00,  4.64it/s]\n",
            "                 Class     Images  Instances      Box(P          R      mAP50  mAP50-95): 100%|██████████| 1/1 [00:00<00:00,  5.36it/s]\n"
          ]
        },
        {
          "output_type": "stream",
          "name": "stdout",
          "text": [
            "                   all         10         30      0.709      0.312      0.514      0.411\n",
            "\n",
            "      Epoch    GPU_mem   box_loss   cls_loss   dfl_loss  Instances       Size\n"
          ]
        },
        {
          "output_type": "stream",
          "name": "stderr",
          "text": [
            "      10/50      2.12G     0.7666      1.697      1.236        105        640: 100%|██████████| 5/5 [00:01<00:00,  4.63it/s]\n",
            "                 Class     Images  Instances      Box(P          R      mAP50  mAP50-95): 100%|██████████| 1/1 [00:00<00:00,  7.41it/s]\n"
          ]
        },
        {
          "output_type": "stream",
          "name": "stdout",
          "text": [
            "                   all         10         30      0.637      0.488      0.612      0.502\n",
            "\n",
            "      Epoch    GPU_mem   box_loss   cls_loss   dfl_loss  Instances       Size\n"
          ]
        },
        {
          "output_type": "stream",
          "name": "stderr",
          "text": [
            "      11/50      2.12G     0.7875       1.65      1.267         92        640: 100%|██████████| 5/5 [00:01<00:00,  4.11it/s]\n",
            "                 Class     Images  Instances      Box(P          R      mAP50  mAP50-95): 100%|██████████| 1/1 [00:00<00:00,  3.45it/s]"
          ]
        },
        {
          "output_type": "stream",
          "name": "stdout",
          "text": [
            "                   all         10         30      0.924      0.476      0.625      0.525\n"
          ]
        },
        {
          "output_type": "stream",
          "name": "stderr",
          "text": [
            "\n"
          ]
        },
        {
          "output_type": "stream",
          "name": "stdout",
          "text": [
            "\n",
            "      Epoch    GPU_mem   box_loss   cls_loss   dfl_loss  Instances       Size\n"
          ]
        },
        {
          "output_type": "stream",
          "name": "stderr",
          "text": [
            "      12/50      2.12G       0.78      1.588      1.255        104        640: 100%|██████████| 5/5 [00:01<00:00,  3.23it/s]\n",
            "                 Class     Images  Instances      Box(P          R      mAP50  mAP50-95): 100%|██████████| 1/1 [00:00<00:00, 10.14it/s]"
          ]
        },
        {
          "output_type": "stream",
          "name": "stdout",
          "text": [
            "                   all         10         30      0.821      0.562      0.596      0.499\n"
          ]
        },
        {
          "output_type": "stream",
          "name": "stderr",
          "text": [
            "\n"
          ]
        },
        {
          "output_type": "stream",
          "name": "stdout",
          "text": [
            "\n",
            "      Epoch    GPU_mem   box_loss   cls_loss   dfl_loss  Instances       Size\n"
          ]
        },
        {
          "output_type": "stream",
          "name": "stderr",
          "text": [
            "      13/50      2.12G     0.7992      1.534      1.289         75        640: 100%|██████████| 5/5 [00:01<00:00,  4.48it/s]\n",
            "                 Class     Images  Instances      Box(P          R      mAP50  mAP50-95): 100%|██████████| 1/1 [00:00<00:00, 11.15it/s]"
          ]
        },
        {
          "output_type": "stream",
          "name": "stdout",
          "text": [
            "                   all         10         30      0.824      0.576      0.666      0.515\n"
          ]
        },
        {
          "output_type": "stream",
          "name": "stderr",
          "text": [
            "\n"
          ]
        },
        {
          "output_type": "stream",
          "name": "stdout",
          "text": [
            "\n",
            "      Epoch    GPU_mem   box_loss   cls_loss   dfl_loss  Instances       Size\n"
          ]
        },
        {
          "output_type": "stream",
          "name": "stderr",
          "text": [
            "      14/50      2.12G     0.7909      1.521       1.27        113        640: 100%|██████████| 5/5 [00:01<00:00,  4.51it/s]\n",
            "                 Class     Images  Instances      Box(P          R      mAP50  mAP50-95): 100%|██████████| 1/1 [00:00<00:00,  5.56it/s]\n"
          ]
        },
        {
          "output_type": "stream",
          "name": "stdout",
          "text": [
            "                   all         10         30       0.77      0.682      0.694      0.539\n",
            "\n",
            "      Epoch    GPU_mem   box_loss   cls_loss   dfl_loss  Instances       Size\n"
          ]
        },
        {
          "output_type": "stream",
          "name": "stderr",
          "text": [
            "      15/50      2.12G     0.7611      1.393      1.227         96        640: 100%|██████████| 5/5 [00:01<00:00,  4.54it/s]\n",
            "                 Class     Images  Instances      Box(P          R      mAP50  mAP50-95): 100%|██████████| 1/1 [00:00<00:00,  6.67it/s]"
          ]
        },
        {
          "output_type": "stream",
          "name": "stdout",
          "text": [
            "                   all         10         30      0.679      0.611      0.619      0.457\n"
          ]
        },
        {
          "output_type": "stream",
          "name": "stderr",
          "text": [
            "\n"
          ]
        },
        {
          "output_type": "stream",
          "name": "stdout",
          "text": [
            "\n",
            "      Epoch    GPU_mem   box_loss   cls_loss   dfl_loss  Instances       Size\n"
          ]
        },
        {
          "output_type": "stream",
          "name": "stderr",
          "text": [
            "      16/50      2.12G     0.7589      1.427      1.232         93        640: 100%|██████████| 5/5 [00:01<00:00,  4.82it/s]\n",
            "                 Class     Images  Instances      Box(P          R      mAP50  mAP50-95): 100%|██████████| 1/1 [00:00<00:00,  4.95it/s]"
          ]
        },
        {
          "output_type": "stream",
          "name": "stdout",
          "text": [
            "                   all         10         30      0.615      0.631      0.558      0.406\n"
          ]
        },
        {
          "output_type": "stream",
          "name": "stderr",
          "text": [
            "\n"
          ]
        },
        {
          "output_type": "stream",
          "name": "stdout",
          "text": [
            "\n",
            "      Epoch    GPU_mem   box_loss   cls_loss   dfl_loss  Instances       Size\n"
          ]
        },
        {
          "output_type": "stream",
          "name": "stderr",
          "text": [
            "      17/50      2.12G     0.7956      1.425      1.235         94        640: 100%|██████████| 5/5 [00:01<00:00,  4.49it/s]\n",
            "                 Class     Images  Instances      Box(P          R      mAP50  mAP50-95): 100%|██████████| 1/1 [00:00<00:00,  7.81it/s]"
          ]
        },
        {
          "output_type": "stream",
          "name": "stdout",
          "text": [
            "                   all         10         30       0.73      0.544      0.676      0.502\n"
          ]
        },
        {
          "output_type": "stream",
          "name": "stderr",
          "text": [
            "\n"
          ]
        },
        {
          "output_type": "stream",
          "name": "stdout",
          "text": [
            "\n",
            "      Epoch    GPU_mem   box_loss   cls_loss   dfl_loss  Instances       Size\n"
          ]
        },
        {
          "output_type": "stream",
          "name": "stderr",
          "text": [
            "      18/50      2.12G     0.7669      1.419      1.212         92        640: 100%|██████████| 5/5 [00:01<00:00,  4.63it/s]\n",
            "                 Class     Images  Instances      Box(P          R      mAP50  mAP50-95): 100%|██████████| 1/1 [00:00<00:00,  6.82it/s]\n"
          ]
        },
        {
          "output_type": "stream",
          "name": "stdout",
          "text": [
            "                   all         10         30      0.753      0.514      0.664      0.523\n",
            "\n",
            "      Epoch    GPU_mem   box_loss   cls_loss   dfl_loss  Instances       Size\n"
          ]
        },
        {
          "output_type": "stream",
          "name": "stderr",
          "text": [
            "      19/50      2.12G     0.7491       1.38      1.177         80        640: 100%|██████████| 5/5 [00:01<00:00,  3.61it/s]\n",
            "                 Class     Images  Instances      Box(P          R      mAP50  mAP50-95): 100%|██████████| 1/1 [00:00<00:00,  3.52it/s]"
          ]
        },
        {
          "output_type": "stream",
          "name": "stdout",
          "text": [
            "                   all         10         30      0.793       0.57      0.678      0.533\n"
          ]
        },
        {
          "output_type": "stream",
          "name": "stderr",
          "text": [
            "\n"
          ]
        },
        {
          "output_type": "stream",
          "name": "stdout",
          "text": [
            "\n",
            "      Epoch    GPU_mem   box_loss   cls_loss   dfl_loss  Instances       Size\n"
          ]
        },
        {
          "output_type": "stream",
          "name": "stderr",
          "text": [
            "      20/50      2.12G      0.722       1.34      1.163         93        640: 100%|██████████| 5/5 [00:00<00:00,  5.59it/s]\n",
            "                 Class     Images  Instances      Box(P          R      mAP50  mAP50-95): 100%|██████████| 1/1 [00:00<00:00,  8.89it/s]"
          ]
        },
        {
          "output_type": "stream",
          "name": "stdout",
          "text": [
            "                   all         10         30      0.931      0.508      0.724      0.558\n"
          ]
        },
        {
          "output_type": "stream",
          "name": "stderr",
          "text": [
            "\n"
          ]
        },
        {
          "output_type": "stream",
          "name": "stdout",
          "text": [
            "\n",
            "      Epoch    GPU_mem   box_loss   cls_loss   dfl_loss  Instances       Size\n"
          ]
        },
        {
          "output_type": "stream",
          "name": "stderr",
          "text": [
            "      21/50      2.12G     0.7246      1.219      1.193        100        640: 100%|██████████| 5/5 [00:01<00:00,  4.65it/s]\n",
            "                 Class     Images  Instances      Box(P          R      mAP50  mAP50-95): 100%|██████████| 1/1 [00:00<00:00,  7.50it/s]\n"
          ]
        },
        {
          "output_type": "stream",
          "name": "stdout",
          "text": [
            "                   all         10         30      0.929      0.516      0.763      0.604\n",
            "\n",
            "      Epoch    GPU_mem   box_loss   cls_loss   dfl_loss  Instances       Size\n"
          ]
        },
        {
          "output_type": "stream",
          "name": "stderr",
          "text": [
            "      22/50      2.12G     0.7562      1.288      1.207         81        640: 100%|██████████| 5/5 [00:01<00:00,  4.61it/s]\n",
            "                 Class     Images  Instances      Box(P          R      mAP50  mAP50-95): 100%|██████████| 1/1 [00:00<00:00,  8.52it/s]\n"
          ]
        },
        {
          "output_type": "stream",
          "name": "stdout",
          "text": [
            "                   all         10         30      0.863      0.575      0.765      0.639\n",
            "\n",
            "      Epoch    GPU_mem   box_loss   cls_loss   dfl_loss  Instances       Size\n"
          ]
        },
        {
          "output_type": "stream",
          "name": "stderr",
          "text": [
            "      23/50      2.12G     0.6893      1.215      1.167         91        640: 100%|██████████| 5/5 [00:01<00:00,  4.98it/s]\n",
            "                 Class     Images  Instances      Box(P          R      mAP50  mAP50-95): 100%|██████████| 1/1 [00:00<00:00, 12.15it/s]"
          ]
        },
        {
          "output_type": "stream",
          "name": "stdout",
          "text": [
            "                   all         10         30      0.873      0.641       0.79      0.631\n"
          ]
        },
        {
          "output_type": "stream",
          "name": "stderr",
          "text": [
            "\n"
          ]
        },
        {
          "output_type": "stream",
          "name": "stdout",
          "text": [
            "\n",
            "      Epoch    GPU_mem   box_loss   cls_loss   dfl_loss  Instances       Size\n"
          ]
        },
        {
          "output_type": "stream",
          "name": "stderr",
          "text": [
            "      24/50      2.12G     0.6792       1.25      1.153         96        640: 100%|██████████| 5/5 [00:01<00:00,  4.55it/s]\n",
            "                 Class     Images  Instances      Box(P          R      mAP50  mAP50-95): 100%|██████████| 1/1 [00:00<00:00,  4.68it/s]"
          ]
        },
        {
          "output_type": "stream",
          "name": "stdout",
          "text": [
            "                   all         10         30       0.64      0.728      0.713      0.566\n"
          ]
        },
        {
          "output_type": "stream",
          "name": "stderr",
          "text": [
            "\n"
          ]
        },
        {
          "output_type": "stream",
          "name": "stdout",
          "text": [
            "\n",
            "      Epoch    GPU_mem   box_loss   cls_loss   dfl_loss  Instances       Size\n"
          ]
        },
        {
          "output_type": "stream",
          "name": "stderr",
          "text": [
            "      25/50      2.12G     0.7441      1.279       1.17         88        640: 100%|██████████| 5/5 [00:01<00:00,  4.58it/s]\n",
            "                 Class     Images  Instances      Box(P          R      mAP50  mAP50-95): 100%|██████████| 1/1 [00:00<00:00,  9.36it/s]"
          ]
        },
        {
          "output_type": "stream",
          "name": "stdout",
          "text": [
            "                   all         10         30      0.689      0.733      0.699      0.548\n"
          ]
        },
        {
          "output_type": "stream",
          "name": "stderr",
          "text": [
            "\n"
          ]
        },
        {
          "output_type": "stream",
          "name": "stdout",
          "text": [
            "\n",
            "      Epoch    GPU_mem   box_loss   cls_loss   dfl_loss  Instances       Size\n"
          ]
        },
        {
          "output_type": "stream",
          "name": "stderr",
          "text": [
            "      26/50      2.12G     0.7045      1.228      1.168         93        640: 100%|██████████| 5/5 [00:01<00:00,  4.07it/s]\n",
            "                 Class     Images  Instances      Box(P          R      mAP50  mAP50-95): 100%|██████████| 1/1 [00:00<00:00,  4.43it/s]"
          ]
        },
        {
          "output_type": "stream",
          "name": "stdout",
          "text": [
            "                   all         10         30      0.717      0.738       0.73      0.582\n"
          ]
        },
        {
          "output_type": "stream",
          "name": "stderr",
          "text": [
            "\n"
          ]
        },
        {
          "output_type": "stream",
          "name": "stdout",
          "text": [
            "\n",
            "      Epoch    GPU_mem   box_loss   cls_loss   dfl_loss  Instances       Size\n"
          ]
        },
        {
          "output_type": "stream",
          "name": "stderr",
          "text": [
            "      27/50      2.12G     0.6712       1.19      1.142        107        640: 100%|██████████| 5/5 [00:01<00:00,  3.84it/s]\n",
            "                 Class     Images  Instances      Box(P          R      mAP50  mAP50-95): 100%|██████████| 1/1 [00:00<00:00,  3.06it/s]"
          ]
        },
        {
          "output_type": "stream",
          "name": "stdout",
          "text": [
            "                   all         10         30      0.721      0.716      0.743      0.584\n"
          ]
        },
        {
          "output_type": "stream",
          "name": "stderr",
          "text": [
            "\n"
          ]
        },
        {
          "output_type": "stream",
          "name": "stdout",
          "text": [
            "\n",
            "      Epoch    GPU_mem   box_loss   cls_loss   dfl_loss  Instances       Size\n"
          ]
        },
        {
          "output_type": "stream",
          "name": "stderr",
          "text": [
            "      28/50      2.12G     0.6335      1.106      1.124         88        640: 100%|██████████| 5/5 [00:01<00:00,  4.45it/s]\n",
            "                 Class     Images  Instances      Box(P          R      mAP50  mAP50-95): 100%|██████████| 1/1 [00:00<00:00,  6.98it/s]\n"
          ]
        },
        {
          "output_type": "stream",
          "name": "stdout",
          "text": [
            "                   all         10         30      0.839      0.742      0.805      0.634\n",
            "\n",
            "      Epoch    GPU_mem   box_loss   cls_loss   dfl_loss  Instances       Size\n"
          ]
        },
        {
          "output_type": "stream",
          "name": "stderr",
          "text": [
            "      29/50      2.12G     0.6269      1.115      1.132        104        640: 100%|██████████| 5/5 [00:01<00:00,  4.84it/s]\n",
            "                 Class     Images  Instances      Box(P          R      mAP50  mAP50-95): 100%|██████████| 1/1 [00:00<00:00,  8.64it/s]"
          ]
        },
        {
          "output_type": "stream",
          "name": "stdout",
          "text": [
            "                   all         10         30      0.858      0.746      0.803      0.637\n"
          ]
        },
        {
          "output_type": "stream",
          "name": "stderr",
          "text": [
            "\n"
          ]
        },
        {
          "output_type": "stream",
          "name": "stdout",
          "text": [
            "\n",
            "      Epoch    GPU_mem   box_loss   cls_loss   dfl_loss  Instances       Size\n"
          ]
        },
        {
          "output_type": "stream",
          "name": "stderr",
          "text": [
            "      30/50      2.12G     0.6251      1.179      1.123         65        640: 100%|██████████| 5/5 [00:00<00:00,  5.13it/s]\n",
            "                 Class     Images  Instances      Box(P          R      mAP50  mAP50-95): 100%|██████████| 1/1 [00:00<00:00,  5.39it/s]"
          ]
        },
        {
          "output_type": "stream",
          "name": "stdout",
          "text": [
            "                   all         10         30      0.853       0.72      0.794      0.611\n"
          ]
        },
        {
          "output_type": "stream",
          "name": "stderr",
          "text": [
            "\n"
          ]
        },
        {
          "output_type": "stream",
          "name": "stdout",
          "text": [
            "\n",
            "      Epoch    GPU_mem   box_loss   cls_loss   dfl_loss  Instances       Size\n"
          ]
        },
        {
          "output_type": "stream",
          "name": "stderr",
          "text": [
            "      31/50      2.12G     0.6557      1.073      1.144         79        640: 100%|██████████| 5/5 [00:01<00:00,  4.72it/s]\n",
            "                 Class     Images  Instances      Box(P          R      mAP50  mAP50-95): 100%|██████████| 1/1 [00:00<00:00,  3.60it/s]"
          ]
        },
        {
          "output_type": "stream",
          "name": "stdout",
          "text": [
            "                   all         10         30      0.875       0.75      0.807      0.615\n"
          ]
        },
        {
          "output_type": "stream",
          "name": "stderr",
          "text": [
            "\n"
          ]
        },
        {
          "output_type": "stream",
          "name": "stdout",
          "text": [
            "\n",
            "      Epoch    GPU_mem   box_loss   cls_loss   dfl_loss  Instances       Size\n"
          ]
        },
        {
          "output_type": "stream",
          "name": "stderr",
          "text": [
            "      32/50      2.12G     0.5905      1.067       1.08         73        640: 100%|██████████| 5/5 [00:00<00:00,  5.15it/s]\n",
            "                 Class     Images  Instances      Box(P          R      mAP50  mAP50-95): 100%|██████████| 1/1 [00:00<00:00,  6.33it/s]"
          ]
        },
        {
          "output_type": "stream",
          "name": "stdout",
          "text": [
            "                   all         10         30      0.759      0.734      0.792      0.603\n"
          ]
        },
        {
          "output_type": "stream",
          "name": "stderr",
          "text": [
            "\n"
          ]
        },
        {
          "output_type": "stream",
          "name": "stdout",
          "text": [
            "\n",
            "      Epoch    GPU_mem   box_loss   cls_loss   dfl_loss  Instances       Size\n"
          ]
        },
        {
          "output_type": "stream",
          "name": "stderr",
          "text": [
            "      33/50      2.12G     0.6239      1.058      1.103         70        640: 100%|██████████| 5/5 [00:01<00:00,  4.95it/s]\n",
            "                 Class     Images  Instances      Box(P          R      mAP50  mAP50-95): 100%|██████████| 1/1 [00:00<00:00,  4.84it/s]"
          ]
        },
        {
          "output_type": "stream",
          "name": "stdout",
          "text": [
            "                   all         10         30      0.783      0.758      0.807      0.617\n"
          ]
        },
        {
          "output_type": "stream",
          "name": "stderr",
          "text": [
            "\n"
          ]
        },
        {
          "output_type": "stream",
          "name": "stdout",
          "text": [
            "\n",
            "      Epoch    GPU_mem   box_loss   cls_loss   dfl_loss  Instances       Size\n"
          ]
        },
        {
          "output_type": "stream",
          "name": "stderr",
          "text": [
            "      34/50      2.12G     0.6081      1.061      1.112         87        640: 100%|██████████| 5/5 [00:01<00:00,  3.85it/s]\n",
            "                 Class     Images  Instances      Box(P          R      mAP50  mAP50-95): 100%|██████████| 1/1 [00:00<00:00,  3.25it/s]"
          ]
        },
        {
          "output_type": "stream",
          "name": "stdout",
          "text": [
            "                   all         10         30      0.773      0.733      0.802      0.626\n"
          ]
        },
        {
          "output_type": "stream",
          "name": "stderr",
          "text": [
            "\n"
          ]
        },
        {
          "output_type": "stream",
          "name": "stdout",
          "text": [
            "\n",
            "      Epoch    GPU_mem   box_loss   cls_loss   dfl_loss  Instances       Size\n"
          ]
        },
        {
          "output_type": "stream",
          "name": "stderr",
          "text": [
            "      35/50      2.12G     0.6226      1.099      1.104         99        640: 100%|██████████| 5/5 [00:01<00:00,  3.43it/s]\n",
            "                 Class     Images  Instances      Box(P          R      mAP50  mAP50-95): 100%|██████████| 1/1 [00:00<00:00,  5.76it/s]"
          ]
        },
        {
          "output_type": "stream",
          "name": "stdout",
          "text": [
            "                   all         10         30      0.791      0.733      0.797      0.623\n"
          ]
        },
        {
          "output_type": "stream",
          "name": "stderr",
          "text": [
            "\n"
          ]
        },
        {
          "output_type": "stream",
          "name": "stdout",
          "text": [
            "\n",
            "      Epoch    GPU_mem   box_loss   cls_loss   dfl_loss  Instances       Size\n"
          ]
        },
        {
          "output_type": "stream",
          "name": "stderr",
          "text": [
            "      36/50      2.12G     0.5853     0.9987      1.101         83        640: 100%|██████████| 5/5 [00:01<00:00,  3.23it/s]\n",
            "                 Class     Images  Instances      Box(P          R      mAP50  mAP50-95): 100%|██████████| 1/1 [00:00<00:00, 10.21it/s]"
          ]
        },
        {
          "output_type": "stream",
          "name": "stdout",
          "text": [
            "                   all         10         30      0.861      0.745      0.799      0.648\n"
          ]
        },
        {
          "output_type": "stream",
          "name": "stderr",
          "text": [
            "\n"
          ]
        },
        {
          "output_type": "stream",
          "name": "stdout",
          "text": [
            "\n",
            "      Epoch    GPU_mem   box_loss   cls_loss   dfl_loss  Instances       Size\n"
          ]
        },
        {
          "output_type": "stream",
          "name": "stderr",
          "text": [
            "      37/50      2.12G     0.5924     0.9913       1.09         96        640: 100%|██████████| 5/5 [00:01<00:00,  4.44it/s]\n",
            "                 Class     Images  Instances      Box(P          R      mAP50  mAP50-95): 100%|██████████| 1/1 [00:00<00:00,  6.50it/s]"
          ]
        },
        {
          "output_type": "stream",
          "name": "stdout",
          "text": [
            "                   all         10         30      0.864      0.775       0.81      0.649\n"
          ]
        },
        {
          "output_type": "stream",
          "name": "stderr",
          "text": [
            "\n"
          ]
        },
        {
          "output_type": "stream",
          "name": "stdout",
          "text": [
            "\n",
            "      Epoch    GPU_mem   box_loss   cls_loss   dfl_loss  Instances       Size\n"
          ]
        },
        {
          "output_type": "stream",
          "name": "stderr",
          "text": [
            "      38/50      2.12G      0.581     0.9579      1.083         81        640: 100%|██████████| 5/5 [00:01<00:00,  4.50it/s]\n",
            "                 Class     Images  Instances      Box(P          R      mAP50  mAP50-95): 100%|██████████| 1/1 [00:00<00:00,  6.02it/s]"
          ]
        },
        {
          "output_type": "stream",
          "name": "stdout",
          "text": [
            "                   all         10         30      0.877       0.78      0.799      0.654\n"
          ]
        },
        {
          "output_type": "stream",
          "name": "stderr",
          "text": [
            "\n"
          ]
        },
        {
          "output_type": "stream",
          "name": "stdout",
          "text": [
            "\n",
            "      Epoch    GPU_mem   box_loss   cls_loss   dfl_loss  Instances       Size\n"
          ]
        },
        {
          "output_type": "stream",
          "name": "stderr",
          "text": [
            "      39/50      2.12G     0.5858     0.9621      1.079        100        640: 100%|██████████| 5/5 [00:01<00:00,  4.63it/s]\n",
            "                 Class     Images  Instances      Box(P          R      mAP50  mAP50-95): 100%|██████████| 1/1 [00:00<00:00, 11.89it/s]"
          ]
        },
        {
          "output_type": "stream",
          "name": "stdout",
          "text": [
            "                   all         10         30      0.894       0.77      0.799      0.664\n"
          ]
        },
        {
          "output_type": "stream",
          "name": "stderr",
          "text": [
            "\n"
          ]
        },
        {
          "output_type": "stream",
          "name": "stdout",
          "text": [
            "\n",
            "      Epoch    GPU_mem   box_loss   cls_loss   dfl_loss  Instances       Size\n"
          ]
        },
        {
          "output_type": "stream",
          "name": "stderr",
          "text": [
            "      40/50      2.12G     0.5455     0.9447      1.098         93        640: 100%|██████████| 5/5 [00:00<00:00,  5.31it/s]\n",
            "                 Class     Images  Instances      Box(P          R      mAP50  mAP50-95): 100%|██████████| 1/1 [00:00<00:00,  3.91it/s]"
          ]
        },
        {
          "output_type": "stream",
          "name": "stdout",
          "text": [
            "                   all         10         30      0.961      0.697      0.782      0.641\n"
          ]
        },
        {
          "output_type": "stream",
          "name": "stderr",
          "text": [
            "\n"
          ]
        },
        {
          "output_type": "stream",
          "name": "stdout",
          "text": [
            "Closing dataloader mosaic\n",
            "\u001b[34m\u001b[1malbumentations: \u001b[0mBlur(p=0.01, blur_limit=(3, 7)), MedianBlur(p=0.01, blur_limit=(3, 7)), ToGray(p=0.01, method='weighted_average', num_output_channels=3), CLAHE(p=0.01, clip_limit=(1.0, 4.0), tile_grid_size=(8, 8))\n",
            "\n",
            "      Epoch    GPU_mem   box_loss   cls_loss   dfl_loss  Instances       Size\n"
          ]
        },
        {
          "output_type": "stream",
          "name": "stderr",
          "text": [
            "      41/50      2.12G     0.5659      1.174      1.111         42        640: 100%|██████████| 5/5 [00:03<00:00,  1.38it/s]\n",
            "                 Class     Images  Instances      Box(P          R      mAP50  mAP50-95): 100%|██████████| 1/1 [00:00<00:00,  5.92it/s]\n"
          ]
        },
        {
          "output_type": "stream",
          "name": "stdout",
          "text": [
            "                   all         10         30      0.925      0.719      0.783      0.637\n",
            "\n",
            "      Epoch    GPU_mem   box_loss   cls_loss   dfl_loss  Instances       Size\n"
          ]
        },
        {
          "output_type": "stream",
          "name": "stderr",
          "text": [
            "      42/50      2.12G      0.496      1.103       1.05         45        640: 100%|██████████| 5/5 [00:01<00:00,  4.66it/s]\n",
            "                 Class     Images  Instances      Box(P          R      mAP50  mAP50-95): 100%|██████████| 1/1 [00:00<00:00,  7.53it/s]"
          ]
        },
        {
          "output_type": "stream",
          "name": "stdout",
          "text": [
            "                   all         10         30      0.912       0.72      0.774      0.652\n"
          ]
        },
        {
          "output_type": "stream",
          "name": "stderr",
          "text": [
            "\n"
          ]
        },
        {
          "output_type": "stream",
          "name": "stdout",
          "text": [
            "\n",
            "      Epoch    GPU_mem   box_loss   cls_loss   dfl_loss  Instances       Size\n"
          ]
        },
        {
          "output_type": "stream",
          "name": "stderr",
          "text": [
            "      43/50      2.12G     0.4877       1.06      0.987         45        640: 100%|██████████| 5/5 [00:01<00:00,  4.78it/s]\n",
            "                 Class     Images  Instances      Box(P          R      mAP50  mAP50-95): 100%|██████████| 1/1 [00:00<00:00,  5.67it/s]"
          ]
        },
        {
          "output_type": "stream",
          "name": "stdout",
          "text": [
            "                   all         10         30      0.957      0.686      0.761      0.636\n"
          ]
        },
        {
          "output_type": "stream",
          "name": "stderr",
          "text": [
            "\n"
          ]
        },
        {
          "output_type": "stream",
          "name": "stdout",
          "text": [
            "\n",
            "      Epoch    GPU_mem   box_loss   cls_loss   dfl_loss  Instances       Size\n"
          ]
        },
        {
          "output_type": "stream",
          "name": "stderr",
          "text": [
            "      44/50      2.12G     0.5153      1.111       1.07         44        640: 100%|██████████| 5/5 [00:00<00:00,  5.07it/s]\n",
            "                 Class     Images  Instances      Box(P          R      mAP50  mAP50-95): 100%|██████████| 1/1 [00:00<00:00,  5.31it/s]\n"
          ]
        },
        {
          "output_type": "stream",
          "name": "stdout",
          "text": [
            "                   all         10         30      0.949      0.664      0.778      0.598\n",
            "\n",
            "      Epoch    GPU_mem   box_loss   cls_loss   dfl_loss  Instances       Size\n"
          ]
        },
        {
          "output_type": "stream",
          "name": "stderr",
          "text": [
            "      45/50      2.12G     0.4734      1.063     0.9989         34        640: 100%|██████████| 5/5 [00:01<00:00,  4.98it/s]\n",
            "                 Class     Images  Instances      Box(P          R      mAP50  mAP50-95): 100%|██████████| 1/1 [00:00<00:00, 12.24it/s]"
          ]
        },
        {
          "output_type": "stream",
          "name": "stdout",
          "text": [
            "                   all         10         30       0.93      0.663       0.77      0.589\n"
          ]
        },
        {
          "output_type": "stream",
          "name": "stderr",
          "text": [
            "\n"
          ]
        },
        {
          "output_type": "stream",
          "name": "stdout",
          "text": [
            "\n",
            "      Epoch    GPU_mem   box_loss   cls_loss   dfl_loss  Instances       Size\n"
          ]
        },
        {
          "output_type": "stream",
          "name": "stderr",
          "text": [
            "      46/50      2.12G     0.4975      1.086       1.05         39        640: 100%|██████████| 5/5 [00:01<00:00,  4.81it/s]\n",
            "                 Class     Images  Instances      Box(P          R      mAP50  mAP50-95): 100%|██████████| 1/1 [00:00<00:00,  8.20it/s]"
          ]
        },
        {
          "output_type": "stream",
          "name": "stdout",
          "text": [
            "                   all         10         30      0.936      0.661      0.765      0.597\n"
          ]
        },
        {
          "output_type": "stream",
          "name": "stderr",
          "text": [
            "\n"
          ]
        },
        {
          "output_type": "stream",
          "name": "stdout",
          "text": [
            "\n",
            "      Epoch    GPU_mem   box_loss   cls_loss   dfl_loss  Instances       Size\n"
          ]
        },
        {
          "output_type": "stream",
          "name": "stderr",
          "text": [
            "      47/50      2.12G     0.5199       1.11      1.026         43        640: 100%|██████████| 5/5 [00:00<00:00,  5.30it/s]\n",
            "                 Class     Images  Instances      Box(P          R      mAP50  mAP50-95): 100%|██████████| 1/1 [00:00<00:00,  5.42it/s]"
          ]
        },
        {
          "output_type": "stream",
          "name": "stdout",
          "text": [
            "                   all         10         30      0.953      0.661      0.777      0.602\n"
          ]
        },
        {
          "output_type": "stream",
          "name": "stderr",
          "text": [
            "\n"
          ]
        },
        {
          "output_type": "stream",
          "name": "stdout",
          "text": [
            "\n",
            "      Epoch    GPU_mem   box_loss   cls_loss   dfl_loss  Instances       Size\n"
          ]
        },
        {
          "output_type": "stream",
          "name": "stderr",
          "text": [
            "      48/50      2.12G     0.4838      1.059      1.032         46        640: 100%|██████████| 5/5 [00:01<00:00,  3.97it/s]\n",
            "                 Class     Images  Instances      Box(P          R      mAP50  mAP50-95): 100%|██████████| 1/1 [00:00<00:00,  3.22it/s]"
          ]
        },
        {
          "output_type": "stream",
          "name": "stdout",
          "text": [
            "                   all         10         30       0.96      0.664      0.778       0.61\n"
          ]
        },
        {
          "output_type": "stream",
          "name": "stderr",
          "text": [
            "\n"
          ]
        },
        {
          "output_type": "stream",
          "name": "stdout",
          "text": [
            "\n",
            "      Epoch    GPU_mem   box_loss   cls_loss   dfl_loss  Instances       Size\n"
          ]
        },
        {
          "output_type": "stream",
          "name": "stderr",
          "text": [
            "      49/50      2.12G     0.4319      1.006     0.9921         55        640: 100%|██████████| 5/5 [00:01<00:00,  3.91it/s]\n",
            "                 Class     Images  Instances      Box(P          R      mAP50  mAP50-95): 100%|██████████| 1/1 [00:00<00:00,  5.24it/s]\n"
          ]
        },
        {
          "output_type": "stream",
          "name": "stdout",
          "text": [
            "                   all         10         30      0.928      0.686      0.788      0.624\n",
            "\n",
            "      Epoch    GPU_mem   box_loss   cls_loss   dfl_loss  Instances       Size\n"
          ]
        },
        {
          "output_type": "stream",
          "name": "stderr",
          "text": [
            "      50/50      2.12G     0.4594     0.9811      1.011         42        640: 100%|██████████| 5/5 [00:00<00:00,  5.36it/s]\n",
            "                 Class     Images  Instances      Box(P          R      mAP50  mAP50-95): 100%|██████████| 1/1 [00:00<00:00,  4.88it/s]"
          ]
        },
        {
          "output_type": "stream",
          "name": "stdout",
          "text": [
            "                   all         10         30      0.942      0.686      0.789      0.628\n"
          ]
        },
        {
          "output_type": "stream",
          "name": "stderr",
          "text": [
            "\n"
          ]
        },
        {
          "output_type": "stream",
          "name": "stdout",
          "text": [
            "\n",
            "50 epochs completed in 0.026 hours.\n",
            "Optimizer stripped from runs/detect/train/weights/last.pt, 6.3MB\n",
            "Optimizer stripped from runs/detect/train/weights/best.pt, 6.3MB\n",
            "\n",
            "Validating runs/detect/train/weights/best.pt...\n",
            "Ultralytics 8.3.176 🚀 Python-3.11.13 torch-2.5.1+cu124 CUDA:0 (Tesla T4, 15095MiB)\n",
            "Model summary (fused): 72 layers, 3,006,818 parameters, 0 gradients, 8.1 GFLOPs\n"
          ]
        },
        {
          "output_type": "stream",
          "name": "stderr",
          "text": [
            "                 Class     Images  Instances      Box(P          R      mAP50  mAP50-95): 100%|██████████| 1/1 [00:00<00:00, 11.23it/s]\n"
          ]
        },
        {
          "output_type": "stream",
          "name": "stdout",
          "text": [
            "                   all         10         30      0.894       0.77        0.8       0.67\n",
            "                 robot          2          3      0.708      0.667      0.668      0.635\n",
            "               tractor          5         13          1        0.9      0.979      0.817\n",
            "                 horse          3          4      0.912       0.75      0.747      0.483\n",
            "                   car          2          4      0.892       0.75      0.746      0.746\n",
            "                person          3          3          1      0.555      0.665      0.345\n",
            "                  bear          3          3      0.851          1      0.995      0.995\n",
            "Speed: 0.2ms preprocess, 2.0ms inference, 0.0ms loss, 2.0ms postprocess per image\n",
            "Results saved to \u001b[1mruns/detect/train\u001b[0m\n",
            "\u001b[34m\u001b[1mMLflow: \u001b[0mresults logged to runs/mlflow\n",
            "\u001b[34m\u001b[1mMLflow: \u001b[0mdisable with 'yolo settings mlflow=False'\n"
          ]
        }
      ],
      "source": [
        "results = model.train(data=\"generated_dataset_yolo/data.yaml\", epochs=50)"
      ]
    },
    {
      "cell_type": "markdown",
      "id": "d8b05e33",
      "metadata": {
        "id": "d8b05e33"
      },
      "source": [
        "### 🧠 Show the predictions"
      ]
    },
    {
      "cell_type": "code",
      "execution_count": 11,
      "id": "b559b1f9",
      "metadata": {
        "colab": {
          "base_uri": "https://localhost:8080/",
          "height": 145
        },
        "id": "b559b1f9",
        "outputId": "9d3eb8e0-283c-4377-fa63-a8f5c76936e3"
      },
      "outputs": [
        {
          "output_type": "error",
          "ename": "NameError",
          "evalue": "name 'Image' is not defined",
          "traceback": [
            "\u001b[0;31m---------------------------------------------------------------------------\u001b[0m",
            "\u001b[0;31mNameError\u001b[0m                                 Traceback (most recent call last)",
            "\u001b[0;32m/tmp/ipython-input-1131733575.py\u001b[0m in \u001b[0;36m<cell line: 0>\u001b[0;34m()\u001b[0m\n\u001b[0;32m----> 1\u001b[0;31m \u001b[0mImage\u001b[0m\u001b[0;34m(\u001b[0m\u001b[0mfilename\u001b[0m\u001b[0;34m=\u001b[0m\u001b[0mos\u001b[0m\u001b[0;34m.\u001b[0m\u001b[0mpath\u001b[0m\u001b[0;34m.\u001b[0m\u001b[0mjoin\u001b[0m\u001b[0;34m(\u001b[0m\u001b[0mresults\u001b[0m\u001b[0;34m.\u001b[0m\u001b[0msave_dir\u001b[0m\u001b[0;34m,\u001b[0m \u001b[0;34m\"val_batch0_pred.jpg\"\u001b[0m\u001b[0;34m)\u001b[0m\u001b[0;34m)\u001b[0m\u001b[0;34m\u001b[0m\u001b[0;34m\u001b[0m\u001b[0m\n\u001b[0m",
            "\u001b[0;31mNameError\u001b[0m: name 'Image' is not defined"
          ]
        }
      ],
      "source": [
        "Image(filename=os.path.join(results.save_dir, \"val_batch0_pred.jpg\"))"
      ]
    },
    {
      "cell_type": "code",
      "execution_count": 12,
      "id": "dec0cb11",
      "metadata": {
        "colab": {
          "base_uri": "https://localhost:8080/"
        },
        "id": "dec0cb11",
        "outputId": "6d95676b-3623-469c-c4c2-9cc218d1bbb5"
      },
      "outputs": [
        {
          "output_type": "stream",
          "name": "stdout",
          "text": [
            "Ultralytics 8.3.176 🚀 Python-3.11.13 torch-2.5.1+cu124 CUDA:0 (Tesla T4, 15095MiB)\n",
            "Model summary (fused): 72 layers, 3,006,818 parameters, 0 gradients, 8.1 GFLOPs\n",
            "\u001b[34m\u001b[1mval: \u001b[0mFast image access ✅ (ping: 0.0±0.0 ms, read: 1312.9±490.8 MB/s, size: 42.3 KB)\n"
          ]
        },
        {
          "output_type": "stream",
          "name": "stderr",
          "text": [
            "\u001b[34m\u001b[1mval: \u001b[0mScanning /content/generated_dataset_yolo/val/labels.cache... 10 images, 0 backgrounds, 0 corrupt: 100%|██████████| 10/10 [00:00<?, ?it/s]\n",
            "                 Class     Images  Instances      Box(P          R      mAP50  mAP50-95): 100%|██████████| 1/1 [00:00<00:00,  3.11it/s]\n"
          ]
        },
        {
          "output_type": "stream",
          "name": "stdout",
          "text": [
            "                   all         10         30      0.894       0.77      0.799      0.664\n",
            "                 robot          2          3      0.707      0.667      0.668      0.601\n",
            "               tractor          5         13          1      0.899      0.976      0.814\n",
            "                 horse          3          4      0.912       0.75      0.747      0.483\n",
            "                   car          2          4      0.892       0.75      0.746      0.746\n",
            "                person          3          3          1      0.554      0.665      0.345\n",
            "                  bear          3          3      0.851          1      0.995      0.995\n",
            "Speed: 0.3ms preprocess, 16.4ms inference, 0.0ms loss, 3.6ms postprocess per image\n",
            "Results saved to \u001b[1mruns/detect/train2\u001b[0m\n"
          ]
        }
      ],
      "source": [
        "metrics = model.val()"
      ]
    },
    {
      "cell_type": "markdown",
      "id": "901bd74c",
      "metadata": {
        "id": "901bd74c"
      },
      "source": [
        "## 💾 Weights Download\n",
        "\n",
        "By default, the library saves the weights with the best performance into the `best.pt` file inside the corresponding run folder. We'll rename it to reflect the model better."
      ]
    },
    {
      "cell_type": "code",
      "execution_count": 13,
      "id": "l7sTTf01i6XP",
      "metadata": {
        "id": "l7sTTf01i6XP"
      },
      "outputs": [],
      "source": [
        "!cp runs/detect/train/weights/best.pt yolov8n_trained_datadreamer.pt"
      ]
    },
    {
      "cell_type": "markdown",
      "id": "6b0036e6",
      "metadata": {
        "id": "6b0036e6"
      },
      "source": [
        "We'll download the weights to convert them in the next step."
      ]
    },
    {
      "cell_type": "code",
      "execution_count": 14,
      "id": "5ExzeyP2XZsy",
      "metadata": {
        "colab": {
          "base_uri": "https://localhost:8080/",
          "height": 17
        },
        "id": "5ExzeyP2XZsy",
        "outputId": "d16d7b85-12e7-4aae-8676-4efd958c3160"
      },
      "outputs": [
        {
          "output_type": "display_data",
          "data": {
            "text/plain": [
              "<IPython.core.display.Javascript object>"
            ],
            "application/javascript": [
              "\n",
              "    async function download(id, filename, size) {\n",
              "      if (!google.colab.kernel.accessAllowed) {\n",
              "        return;\n",
              "      }\n",
              "      const div = document.createElement('div');\n",
              "      const label = document.createElement('label');\n",
              "      label.textContent = `Downloading \"${filename}\": `;\n",
              "      div.appendChild(label);\n",
              "      const progress = document.createElement('progress');\n",
              "      progress.max = size;\n",
              "      div.appendChild(progress);\n",
              "      document.body.appendChild(div);\n",
              "\n",
              "      const buffers = [];\n",
              "      let downloaded = 0;\n",
              "\n",
              "      const channel = await google.colab.kernel.comms.open(id);\n",
              "      // Send a message to notify the kernel that we're ready.\n",
              "      channel.send({})\n",
              "\n",
              "      for await (const message of channel.messages) {\n",
              "        // Send a message to notify the kernel that we're ready.\n",
              "        channel.send({})\n",
              "        if (message.buffers) {\n",
              "          for (const buffer of message.buffers) {\n",
              "            buffers.push(buffer);\n",
              "            downloaded += buffer.byteLength;\n",
              "            progress.value = downloaded;\n",
              "          }\n",
              "        }\n",
              "      }\n",
              "      const blob = new Blob(buffers, {type: 'application/binary'});\n",
              "      const a = document.createElement('a');\n",
              "      a.href = window.URL.createObjectURL(blob);\n",
              "      a.download = filename;\n",
              "      div.appendChild(a);\n",
              "      a.click();\n",
              "      div.remove();\n",
              "    }\n",
              "  "
            ]
          },
          "metadata": {}
        },
        {
          "output_type": "display_data",
          "data": {
            "text/plain": [
              "<IPython.core.display.Javascript object>"
            ],
            "application/javascript": [
              "download(\"download_5d4ec65d-0d18-4d02-ab8d-71f9b2c0e092\", \"yolov8n_trained_datadreamer.pt\", 6250275)"
            ]
          },
          "metadata": {}
        }
      ],
      "source": [
        "from google.colab import files\n",
        "files.download(\"yolov8n_trained_datadreamer.pt\")"
      ]
    },
    {
      "cell_type": "markdown",
      "id": "f169e60d",
      "metadata": {
        "id": "f169e60d"
      },
      "source": [
        "<a name=\"conversion\"></a>\n",
        "\n",
        "## 🗂️ Conversion"
      ]
    },
    {
      "cell_type": "markdown",
      "id": "93ca103d",
      "metadata": {
        "id": "93ca103d"
      },
      "source": [
        "Now that we have successfully trained the model, we aim to deploy it to the Luxonis device. The model's specific format depends on the Luxonis device series you have. We will show you how to use our [`ModelConverter`](https://github.com/luxonis/modelconverter) to convert the model as simply as possible.\n",
        "\n",
        "We'll start by installing the `ModelConverter`."
      ]
    },
    {
      "cell_type": "code",
      "execution_count": 15,
      "id": "81bb486e",
      "metadata": {
        "id": "81bb486e",
        "outputId": "62cbd080-a363-49a7-f754-9babf347557f",
        "colab": {
          "base_uri": "https://localhost:8080/"
        }
      },
      "outputs": [
        {
          "output_type": "stream",
          "name": "stdout",
          "text": [
            "  Preparing metadata (setup.py) ... \u001b[?25l\u001b[?25hdone\n",
            "\u001b[2K   \u001b[90m━━━━━━━━━━━━━━━━━━━━━━━━━━━━━━━━━━━━━━━━\u001b[0m \u001b[32m129.4/129.4 kB\u001b[0m \u001b[31m8.9 MB/s\u001b[0m eta \u001b[36m0:00:00\u001b[0m\n",
            "\u001b[2K   \u001b[90m━━━━━━━━━━━━━━━━━━━━━━━━━━━━━━━━━━━━━━━━\u001b[0m \u001b[32m98.2/98.2 kB\u001b[0m \u001b[31m10.3 MB/s\u001b[0m eta \u001b[36m0:00:00\u001b[0m\n",
            "\u001b[2K   \u001b[90m━━━━━━━━━━━━━━━━━━━━━━━━━━━━━━━━━━━━━━━━\u001b[0m \u001b[32m228.3/228.3 kB\u001b[0m \u001b[31m16.7 MB/s\u001b[0m eta \u001b[36m0:00:00\u001b[0m\n",
            "\u001b[2K   \u001b[90m━━━━━━━━━━━━━━━━━━━━━━━━━━━━━━━━━━━━━━━━\u001b[0m \u001b[32m85.0/85.0 kB\u001b[0m \u001b[31m8.8 MB/s\u001b[0m eta \u001b[36m0:00:00\u001b[0m\n",
            "\u001b[2K   \u001b[90m━━━━━━━━━━━━━━━━━━━━━━━━━━━━━━━━━━━━━━━━\u001b[0m \u001b[32m57.9/57.9 kB\u001b[0m \u001b[31m6.0 MB/s\u001b[0m eta \u001b[36m0:00:00\u001b[0m\n",
            "\u001b[2K   \u001b[90m━━━━━━━━━━━━━━━━━━━━━━━━━━━━━━━━━━━━━━━━\u001b[0m \u001b[32m678.1/678.1 kB\u001b[0m \u001b[31m40.7 MB/s\u001b[0m eta \u001b[36m0:00:00\u001b[0m\n",
            "\u001b[2K   \u001b[90m━━━━━━━━━━━━━━━━━━━━━━━━━━━━━━━━━━━━━━━━\u001b[0m \u001b[32m16.5/16.5 MB\u001b[0m \u001b[31m98.4 MB/s\u001b[0m eta \u001b[36m0:00:00\u001b[0m\n",
            "\u001b[2K   \u001b[90m━━━━━━━━━━━━━━━━━━━━━━━━━━━━━━━━━━━━━━━━\u001b[0m \u001b[32m2.3/2.3 MB\u001b[0m \u001b[31m88.8 MB/s\u001b[0m eta \u001b[36m0:00:00\u001b[0m\n",
            "\u001b[2K   \u001b[90m━━━━━━━━━━━━━━━━━━━━━━━━━━━━━━━━━━━━━━━━\u001b[0m \u001b[32m84.1/84.1 kB\u001b[0m \u001b[31m8.7 MB/s\u001b[0m eta \u001b[36m0:00:00\u001b[0m\n",
            "\u001b[?25h  Building wheel for wget (setup.py) ... \u001b[?25l\u001b[?25hdone\n"
          ]
        }
      ],
      "source": [
        "%pip install -q modelconv==0.4.0 -U"
      ]
    },
    {
      "cell_type": "markdown",
      "id": "93afcb8d",
      "metadata": {
        "id": "93afcb8d"
      },
      "source": [
        "\n",
        "We will use the `ModelConverter` Python API, which leverages our [`HubAI`](https://hub.luxonis.com) platform to perform model conversion in the background. To get started, you'll need to create an account on `HubAI` and obtain your team’s API key."
      ]
    },
    {
      "cell_type": "code",
      "execution_count": 16,
      "id": "41a2524d",
      "metadata": {
        "id": "41a2524d"
      },
      "outputs": [],
      "source": [
        "HUBAI_API_KEY = \"tapi.Jy3cIxbaPLjxd_GNx4iYAQ.F121pKngvWUKsivGZUiVzy5a9oqT2hp2knZK1pnQl38ZLuY52wym3WsD8wjzZEcax1UAlmbNZefIufGULrh1Pg\""
      ]
    },
    {
      "cell_type": "markdown",
      "id": "c983ee74",
      "metadata": {
        "id": "c983ee74"
      },
      "source": [
        "Model conversion can be done via either the CLI or the Python API — here, we'll use the latter. For more information, see the [online usage section](https://github.com/luxonis/modelconverter?tab=readme-ov-file#online-usage) of the documentation.\n",
        "\n",
        "The call below creates a new model card within your team on `HubAI`, uploads the model file and metadata, then performs cloud-side conversion to the selected target platform (e.g., [`RVC2`](https://rvc4.docs.luxonis.com/hardware/platform/rvc/rvc2/), [`RVC4`](https://rvc4.docs.luxonis.com/hardware/platform/rvc/rvc4/)). Once completed, the converted model is automatically downloaded to your device.\n",
        "\n",
        "For HubAI-specific conversion parameters, refer to the [online conversion section](https://github.com/luxonis/modelconverter/tree/e6a3478ba47d8f92d4d60217f2aee0f4f468cb14/modelconverter/hub#online-conversion) of the ModelConverter documentation. Platform-specific parameters are also documented there.\n"
      ]
    },
    {
      "cell_type": "code",
      "source": [
        "!pip install modelconverter"
      ],
      "metadata": {
        "id": "jfSl_xRK7BUH",
        "outputId": "fc7b9412-3cfd-427a-c88a-a9d1389a19c8",
        "colab": {
          "base_uri": "https://localhost:8080/"
        }
      },
      "id": "jfSl_xRK7BUH",
      "execution_count": 20,
      "outputs": [
        {
          "output_type": "stream",
          "name": "stdout",
          "text": [
            "\u001b[31mERROR: Could not find a version that satisfies the requirement modelconverter (from versions: none)\u001b[0m\u001b[31m\n",
            "\u001b[0m\u001b[31mERROR: No matching distribution found for modelconverter\u001b[0m\u001b[31m\n",
            "\u001b[0m"
          ]
        }
      ]
    },
    {
      "cell_type": "code",
      "execution_count": 21,
      "id": "e05e8539",
      "metadata": {
        "id": "e05e8539",
        "outputId": "9155230e-b412-4b88-9f3a-57051a99d06d",
        "colab": {
          "base_uri": "https://localhost:8080/",
          "height": 562
        }
      },
      "outputs": [
        {
          "output_type": "error",
          "ename": "ImportError",
          "evalue": "cannot import name 'split_arg_string' from partially initialized module 'click.shell_completion' (most likely due to a circular import) (/usr/local/lib/python3.11/dist-packages/click/shell_completion.py)",
          "traceback": [
            "\u001b[0;31m---------------------------------------------------------------------------\u001b[0m",
            "\u001b[0;31mImportError\u001b[0m                               Traceback (most recent call last)",
            "\u001b[0;32m/tmp/ipython-input-272520084.py\u001b[0m in \u001b[0;36m<cell line: 0>\u001b[0;34m()\u001b[0m\n\u001b[0;32m----> 1\u001b[0;31m \u001b[0;32mfrom\u001b[0m \u001b[0mmodelconverter\u001b[0m \u001b[0;32mimport\u001b[0m \u001b[0mconvert\u001b[0m\u001b[0;34m\u001b[0m\u001b[0;34m\u001b[0m\u001b[0m\n\u001b[0m\u001b[1;32m      2\u001b[0m \u001b[0;34m\u001b[0m\u001b[0m\n\u001b[1;32m      3\u001b[0m \u001b[0mlabels\u001b[0m \u001b[0;34m=\u001b[0m \u001b[0;34m[\u001b[0m\u001b[0;34m\"robot\"\u001b[0m\u001b[0;34m,\u001b[0m \u001b[0;34m\"tractor\"\u001b[0m\u001b[0;34m,\u001b[0m \u001b[0;34m\"horse\"\u001b[0m\u001b[0;34m,\u001b[0m \u001b[0;34m\"car\"\u001b[0m\u001b[0;34m,\u001b[0m \u001b[0;34m\"person\"\u001b[0m\u001b[0;34m,\u001b[0m \u001b[0;34m\"bear\"\u001b[0m\u001b[0;34m]\u001b[0m\u001b[0;34m\u001b[0m\u001b[0;34m\u001b[0m\u001b[0m\n\u001b[1;32m      4\u001b[0m \u001b[0;34m\u001b[0m\u001b[0m\n\u001b[1;32m      5\u001b[0m converted_model = convert.RVC2(\n",
            "\u001b[0;32m/usr/local/lib/python3.11/dist-packages/modelconverter/__init__.py\u001b[0m in \u001b[0;36m<module>\u001b[0;34m\u001b[0m\n\u001b[1;32m      2\u001b[0m \u001b[0;32mfrom\u001b[0m \u001b[0mluxonis_ml\u001b[0m\u001b[0;34m.\u001b[0m\u001b[0mutils\u001b[0m \u001b[0;32mimport\u001b[0m \u001b[0mPUT_FILE_REGISTRY\u001b[0m\u001b[0;34m\u001b[0m\u001b[0;34m\u001b[0m\u001b[0m\n\u001b[1;32m      3\u001b[0m \u001b[0;34m\u001b[0m\u001b[0m\n\u001b[0;32m----> 4\u001b[0;31m \u001b[0;32mfrom\u001b[0m \u001b[0;34m.\u001b[0m\u001b[0mhub\u001b[0m \u001b[0;32mimport\u001b[0m \u001b[0mconvert\u001b[0m\u001b[0;34m\u001b[0m\u001b[0;34m\u001b[0m\u001b[0m\n\u001b[0m\u001b[1;32m      5\u001b[0m \u001b[0;34m\u001b[0m\u001b[0m\n\u001b[1;32m      6\u001b[0m \u001b[0m__version__\u001b[0m \u001b[0;34m=\u001b[0m \u001b[0;34m\"0.4.0\"\u001b[0m\u001b[0;34m\u001b[0m\u001b[0;34m\u001b[0m\u001b[0m\n",
            "\u001b[0;32m/usr/local/lib/python3.11/dist-packages/modelconverter/hub/__init__.py\u001b[0m in \u001b[0;36m<module>\u001b[0;34m\u001b[0m\n\u001b[0;32m----> 1\u001b[0;31m \u001b[0;32mfrom\u001b[0m \u001b[0;34m.\u001b[0m\u001b[0mconvert\u001b[0m \u001b[0;32mimport\u001b[0m \u001b[0mconvert\u001b[0m\u001b[0;34m\u001b[0m\u001b[0;34m\u001b[0m\u001b[0m\n\u001b[0m\u001b[1;32m      2\u001b[0m \u001b[0;34m\u001b[0m\u001b[0m\n\u001b[1;32m      3\u001b[0m \u001b[0m__all__\u001b[0m \u001b[0;34m=\u001b[0m \u001b[0;34m[\u001b[0m\u001b[0;34m\"convert\"\u001b[0m\u001b[0;34m]\u001b[0m\u001b[0;34m\u001b[0m\u001b[0;34m\u001b[0m\u001b[0m\n",
            "\u001b[0;32m/usr/local/lib/python3.11/dist-packages/modelconverter/hub/convert.py\u001b[0m in \u001b[0;36m<module>\u001b[0;34m\u001b[0m\n\u001b[1;32m      6\u001b[0m \u001b[0;32mfrom\u001b[0m \u001b[0mmodelconverter\u001b[0m\u001b[0;34m.\u001b[0m\u001b[0mutils\u001b[0m\u001b[0;34m.\u001b[0m\u001b[0mtypes\u001b[0m \u001b[0;32mimport\u001b[0m \u001b[0mPotDevice\u001b[0m\u001b[0;34m,\u001b[0m \u001b[0mTarget\u001b[0m\u001b[0;34m\u001b[0m\u001b[0;34m\u001b[0m\u001b[0m\n\u001b[1;32m      7\u001b[0m \u001b[0;34m\u001b[0m\u001b[0m\n\u001b[0;32m----> 8\u001b[0;31m \u001b[0;32mfrom\u001b[0m \u001b[0;34m.\u001b[0m\u001b[0m__main__\u001b[0m \u001b[0;32mimport\u001b[0m \u001b[0mconvert\u001b[0m \u001b[0;32mas\u001b[0m \u001b[0mcli_convert\u001b[0m\u001b[0;34m\u001b[0m\u001b[0;34m\u001b[0m\u001b[0m\n\u001b[0m\u001b[1;32m      9\u001b[0m \u001b[0;34m\u001b[0m\u001b[0m\n\u001b[1;32m     10\u001b[0m \u001b[0;34m\u001b[0m\u001b[0m\n",
            "\u001b[0;32m/usr/local/lib/python3.11/dist-packages/modelconverter/hub/__main__.py\u001b[0m in \u001b[0;36m<module>\u001b[0;34m\u001b[0m\n\u001b[1;32m     17\u001b[0m \u001b[0;32mfrom\u001b[0m \u001b[0mrich\u001b[0m\u001b[0;34m.\u001b[0m\u001b[0mprompt\u001b[0m \u001b[0;32mimport\u001b[0m \u001b[0mPrompt\u001b[0m\u001b[0;34m\u001b[0m\u001b[0;34m\u001b[0m\u001b[0m\n\u001b[1;32m     18\u001b[0m \u001b[0;34m\u001b[0m\u001b[0m\n\u001b[0;32m---> 19\u001b[0;31m from modelconverter.cli import (\n\u001b[0m\u001b[1;32m     20\u001b[0m     \u001b[0mModelType\u001b[0m\u001b[0;34m,\u001b[0m\u001b[0;34m\u001b[0m\u001b[0;34m\u001b[0m\u001b[0m\n\u001b[1;32m     21\u001b[0m     \u001b[0mget_configs\u001b[0m\u001b[0;34m,\u001b[0m\u001b[0;34m\u001b[0m\u001b[0;34m\u001b[0m\u001b[0m\n",
            "\u001b[0;32m/usr/local/lib/python3.11/dist-packages/modelconverter/cli/__init__.py\u001b[0m in \u001b[0;36m<module>\u001b[0;34m\u001b[0m\n\u001b[0;32m----> 1\u001b[0;31m \u001b[0;32mfrom\u001b[0m \u001b[0;34m.\u001b[0m\u001b[0mutils\u001b[0m \u001b[0;32mimport\u001b[0m \u001b[0;34m*\u001b[0m\u001b[0;34m\u001b[0m\u001b[0;34m\u001b[0m\u001b[0m\n\u001b[0m",
            "\u001b[0;32m/usr/local/lib/python3.11/dist-packages/modelconverter/cli/utils.py\u001b[0m in \u001b[0;36m<module>\u001b[0;34m\u001b[0m\n\u001b[1;32m     10\u001b[0m \u001b[0;32mfrom\u001b[0m \u001b[0muuid\u001b[0m \u001b[0;32mimport\u001b[0m \u001b[0mUUID\u001b[0m\u001b[0;34m\u001b[0m\u001b[0;34m\u001b[0m\u001b[0m\n\u001b[1;32m     11\u001b[0m \u001b[0;34m\u001b[0m\u001b[0m\n\u001b[0;32m---> 12\u001b[0;31m \u001b[0;32mimport\u001b[0m \u001b[0mtyper\u001b[0m\u001b[0;34m\u001b[0m\u001b[0;34m\u001b[0m\u001b[0m\n\u001b[0m\u001b[1;32m     13\u001b[0m \u001b[0;32mfrom\u001b[0m \u001b[0mloguru\u001b[0m \u001b[0;32mimport\u001b[0m \u001b[0mlogger\u001b[0m\u001b[0;34m\u001b[0m\u001b[0;34m\u001b[0m\u001b[0m\n\u001b[1;32m     14\u001b[0m \u001b[0;32mfrom\u001b[0m \u001b[0mluxonis_ml\u001b[0m\u001b[0;34m.\u001b[0m\u001b[0mnn_archive\u001b[0m \u001b[0;32mimport\u001b[0m \u001b[0mis_nn_archive\u001b[0m\u001b[0;34m\u001b[0m\u001b[0;34m\u001b[0m\u001b[0m\n",
            "\u001b[0;32m/usr/local/lib/python3.11/dist-packages/typer/__init__.py\u001b[0m in \u001b[0;36m<module>\u001b[0;34m\u001b[0m\n\u001b[1;32m     27\u001b[0m \u001b[0;34m\u001b[0m\u001b[0m\n\u001b[1;32m     28\u001b[0m \u001b[0;32mfrom\u001b[0m \u001b[0;34m.\u001b[0m \u001b[0;32mimport\u001b[0m \u001b[0mcolors\u001b[0m \u001b[0;32mas\u001b[0m \u001b[0mcolors\u001b[0m\u001b[0;34m\u001b[0m\u001b[0;34m\u001b[0m\u001b[0m\n\u001b[0;32m---> 29\u001b[0;31m \u001b[0;32mfrom\u001b[0m \u001b[0;34m.\u001b[0m\u001b[0mmain\u001b[0m \u001b[0;32mimport\u001b[0m \u001b[0mTyper\u001b[0m \u001b[0;32mas\u001b[0m \u001b[0mTyper\u001b[0m\u001b[0;34m\u001b[0m\u001b[0;34m\u001b[0m\u001b[0m\n\u001b[0m\u001b[1;32m     30\u001b[0m \u001b[0;32mfrom\u001b[0m \u001b[0;34m.\u001b[0m\u001b[0mmain\u001b[0m \u001b[0;32mimport\u001b[0m \u001b[0mlaunch\u001b[0m \u001b[0;32mas\u001b[0m \u001b[0mlaunch\u001b[0m\u001b[0;34m\u001b[0m\u001b[0;34m\u001b[0m\u001b[0m\n\u001b[1;32m     31\u001b[0m \u001b[0;32mfrom\u001b[0m \u001b[0;34m.\u001b[0m\u001b[0mmain\u001b[0m \u001b[0;32mimport\u001b[0m \u001b[0mrun\u001b[0m \u001b[0;32mas\u001b[0m \u001b[0mrun\u001b[0m\u001b[0;34m\u001b[0m\u001b[0;34m\u001b[0m\u001b[0m\n",
            "\u001b[0;32m/usr/local/lib/python3.11/dist-packages/typer/main.py\u001b[0m in \u001b[0;36m<module>\u001b[0;34m\u001b[0m\n\u001b[1;32m     19\u001b[0m \u001b[0;34m\u001b[0m\u001b[0m\n\u001b[1;32m     20\u001b[0m \u001b[0;32mfrom\u001b[0m \u001b[0;34m.\u001b[0m\u001b[0m_typing\u001b[0m \u001b[0;32mimport\u001b[0m \u001b[0mget_args\u001b[0m\u001b[0;34m,\u001b[0m \u001b[0mget_origin\u001b[0m\u001b[0;34m,\u001b[0m \u001b[0mis_union\u001b[0m\u001b[0;34m\u001b[0m\u001b[0;34m\u001b[0m\u001b[0m\n\u001b[0;32m---> 21\u001b[0;31m \u001b[0;32mfrom\u001b[0m \u001b[0;34m.\u001b[0m\u001b[0mcompletion\u001b[0m \u001b[0;32mimport\u001b[0m \u001b[0mget_completion_inspect_parameters\u001b[0m\u001b[0;34m\u001b[0m\u001b[0;34m\u001b[0m\u001b[0m\n\u001b[0m\u001b[1;32m     22\u001b[0m from .core import (\n\u001b[1;32m     23\u001b[0m     \u001b[0mDEFAULT_MARKUP_MODE\u001b[0m\u001b[0;34m,\u001b[0m\u001b[0;34m\u001b[0m\u001b[0;34m\u001b[0m\u001b[0m\n",
            "\u001b[0;32m/usr/local/lib/python3.11/dist-packages/typer/completion.py\u001b[0m in \u001b[0;36m<module>\u001b[0;34m\u001b[0m\n\u001b[1;32m      5\u001b[0m \u001b[0;32mimport\u001b[0m \u001b[0mclick\u001b[0m\u001b[0;34m\u001b[0m\u001b[0;34m\u001b[0m\u001b[0m\n\u001b[1;32m      6\u001b[0m \u001b[0;34m\u001b[0m\u001b[0m\n\u001b[0;32m----> 7\u001b[0;31m \u001b[0;32mfrom\u001b[0m \u001b[0;34m.\u001b[0m\u001b[0m_completion_classes\u001b[0m \u001b[0;32mimport\u001b[0m \u001b[0mcompletion_init\u001b[0m\u001b[0;34m\u001b[0m\u001b[0;34m\u001b[0m\u001b[0m\n\u001b[0m\u001b[1;32m      8\u001b[0m \u001b[0;32mfrom\u001b[0m \u001b[0;34m.\u001b[0m\u001b[0m_completion_shared\u001b[0m \u001b[0;32mimport\u001b[0m \u001b[0mShells\u001b[0m\u001b[0;34m,\u001b[0m \u001b[0mget_completion_script\u001b[0m\u001b[0;34m,\u001b[0m \u001b[0minstall\u001b[0m\u001b[0;34m\u001b[0m\u001b[0;34m\u001b[0m\u001b[0m\n\u001b[1;32m      9\u001b[0m \u001b[0;32mfrom\u001b[0m \u001b[0;34m.\u001b[0m\u001b[0mmodels\u001b[0m \u001b[0;32mimport\u001b[0m \u001b[0mParamMeta\u001b[0m\u001b[0;34m\u001b[0m\u001b[0;34m\u001b[0m\u001b[0m\n",
            "\u001b[0;32m/usr/local/lib/python3.11/dist-packages/typer/_completion_classes.py\u001b[0m in \u001b[0;36m<module>\u001b[0;34m\u001b[0m\n\u001b[1;32m      7\u001b[0m \u001b[0;32mimport\u001b[0m \u001b[0mclick\u001b[0m\u001b[0;34m\u001b[0m\u001b[0;34m\u001b[0m\u001b[0m\n\u001b[1;32m      8\u001b[0m \u001b[0;32mimport\u001b[0m \u001b[0mclick\u001b[0m\u001b[0;34m.\u001b[0m\u001b[0mparser\u001b[0m\u001b[0;34m\u001b[0m\u001b[0;34m\u001b[0m\u001b[0m\n\u001b[0;32m----> 9\u001b[0;31m \u001b[0;32mimport\u001b[0m \u001b[0mclick\u001b[0m\u001b[0;34m.\u001b[0m\u001b[0mshell_completion\u001b[0m\u001b[0;34m\u001b[0m\u001b[0;34m\u001b[0m\u001b[0m\n\u001b[0m\u001b[1;32m     10\u001b[0m \u001b[0;34m\u001b[0m\u001b[0m\n\u001b[1;32m     11\u001b[0m from ._completion_shared import (\n",
            "\u001b[0;32m/usr/local/lib/python3.11/dist-packages/click/shell_completion.py\u001b[0m in \u001b[0;36m<module>\u001b[0;34m\u001b[0m\n\u001b[1;32m     11\u001b[0m \u001b[0;32mfrom\u001b[0m \u001b[0;34m.\u001b[0m\u001b[0mcore\u001b[0m \u001b[0;32mimport\u001b[0m \u001b[0mParameter\u001b[0m\u001b[0;34m\u001b[0m\u001b[0;34m\u001b[0m\u001b[0m\n\u001b[1;32m     12\u001b[0m \u001b[0;32mfrom\u001b[0m \u001b[0;34m.\u001b[0m\u001b[0mcore\u001b[0m \u001b[0;32mimport\u001b[0m \u001b[0mParameterSource\u001b[0m\u001b[0;34m\u001b[0m\u001b[0;34m\u001b[0m\u001b[0m\n\u001b[0;32m---> 13\u001b[0;31m \u001b[0;32mfrom\u001b[0m \u001b[0;34m.\u001b[0m\u001b[0mparser\u001b[0m \u001b[0;32mimport\u001b[0m \u001b[0msplit_arg_string\u001b[0m\u001b[0;34m\u001b[0m\u001b[0;34m\u001b[0m\u001b[0m\n\u001b[0m\u001b[1;32m     14\u001b[0m \u001b[0;32mfrom\u001b[0m \u001b[0;34m.\u001b[0m\u001b[0mutils\u001b[0m \u001b[0;32mimport\u001b[0m \u001b[0mecho\u001b[0m\u001b[0;34m\u001b[0m\u001b[0;34m\u001b[0m\u001b[0m\n\u001b[1;32m     15\u001b[0m \u001b[0;34m\u001b[0m\u001b[0m\n",
            "\u001b[0;32m/usr/local/lib/python3.11/dist-packages/click/parser.py\u001b[0m in \u001b[0;36m__getattr__\u001b[0;34m(name)\u001b[0m\n\u001b[1;32m    520\u001b[0m             \u001b[0;31m# which says, that if we have a two character options prefix\u001b[0m\u001b[0;34m\u001b[0m\u001b[0;34m\u001b[0m\u001b[0m\n\u001b[1;32m    521\u001b[0m             \u001b[0;31m# (applies to \"--foo\" for instance), we do not dispatch to the\u001b[0m\u001b[0;34m\u001b[0m\u001b[0;34m\u001b[0m\u001b[0m\n\u001b[0;32m--> 522\u001b[0;31m             \u001b[0;31m# short option code and will instead raise the no option\u001b[0m\u001b[0;34m\u001b[0m\u001b[0;34m\u001b[0m\u001b[0m\n\u001b[0m\u001b[1;32m    523\u001b[0m             \u001b[0;31m# error.\u001b[0m\u001b[0;34m\u001b[0m\u001b[0;34m\u001b[0m\u001b[0m\n\u001b[1;32m    524\u001b[0m             \u001b[0;32mif\u001b[0m \u001b[0marg\u001b[0m\u001b[0;34m[\u001b[0m\u001b[0;34m:\u001b[0m\u001b[0;36m2\u001b[0m\u001b[0;34m]\u001b[0m \u001b[0;32mnot\u001b[0m \u001b[0;32min\u001b[0m \u001b[0mself\u001b[0m\u001b[0;34m.\u001b[0m\u001b[0m_opt_prefixes\u001b[0m\u001b[0;34m:\u001b[0m\u001b[0;34m\u001b[0m\u001b[0;34m\u001b[0m\u001b[0m\n",
            "\u001b[0;31mImportError\u001b[0m: cannot import name 'split_arg_string' from partially initialized module 'click.shell_completion' (most likely due to a circular import) (/usr/local/lib/python3.11/dist-packages/click/shell_completion.py)",
            "",
            "\u001b[0;31m---------------------------------------------------------------------------\u001b[0;32m\nNOTE: If your import is failing due to a missing package, you can\nmanually install dependencies using either !pip or !apt.\n\nTo view examples of installing some common dependencies, click the\n\"Open Examples\" button below.\n\u001b[0;31m---------------------------------------------------------------------------\u001b[0m\n"
          ],
          "errorDetails": {
            "actions": [
              {
                "action": "open_url",
                "actionText": "Open Examples",
                "url": "/notebooks/snippets/importing_libraries.ipynb"
              }
            ]
          }
        }
      ],
      "source": [
        "from modelconverter import convert\n",
        "\n",
        "labels = [\"robot\", \"tractor\", \"horse\", \"car\", \"person\", \"bear\"]\n",
        "\n",
        "converted_model = convert.RVC2(\n",
        "    api_key=HUBAI_API_KEY,\n",
        "    path=\"yolov8n_trained_datadreamer.pt\",\n",
        "    name=\"YOLOv8n DataDreamer\",\n",
        "    description_short=\"Detection model trained on a synthetic dataset generated with DataDreamer.\",\n",
        "    yolo_version=\"yolov8\",\n",
        "    yolo_input_shape=\"512 288\",\n",
        "    yolo_class_names=labels,\n",
        "    tasks=[\"OBJECT_DETECTION\"],\n",
        "    license_type=\"MIT\",\n",
        "    is_public=False\n",
        ")"
      ]
    },
    {
      "cell_type": "markdown",
      "id": "d3a48fce",
      "metadata": {
        "id": "d3a48fce"
      },
      "source": [
        "We have successfully converted our trained model for an RVC2 device, so let's test it! Please copy the path to the downloaded archive with the converted model from the output log of the last code cell; we will use it in the next section."
      ]
    },
    {
      "cell_type": "code",
      "execution_count": null,
      "id": "e1603940",
      "metadata": {
        "id": "e1603940"
      },
      "outputs": [],
      "source": [
        "MODEL_PATH = \"<YOUR_DOWNLOADED_MODEL_ARCHIVE_PATH>\""
      ]
    },
    {
      "cell_type": "markdown",
      "id": "45da0825",
      "metadata": {
        "id": "45da0825"
      },
      "source": [
        "<a name=\"depthai-script\"></a>\n",
        "\n",
        "## 📷 DepthAI Script"
      ]
    },
    {
      "cell_type": "markdown",
      "id": "03e2edae",
      "metadata": {
        "id": "03e2edae"
      },
      "source": [
        "To test our model on one of our cameras, we first need to install [`DepthAI`](https://rvc4.docs.luxonis.com/software/) in version 3 and [`DepthAI Nodes`](https://rvc4.docs.luxonis.com/software/ai-inference/depthai-nodes/). Moreover, the script we'll write must run locally and require a Luxonis device connected to your machine."
      ]
    },
    {
      "cell_type": "code",
      "execution_count": null,
      "id": "5012f4e8",
      "metadata": {
        "id": "5012f4e8"
      },
      "outputs": [],
      "source": [
        "%pip install -q depthai==3.0.0rc2 -U\n",
        "%pip install -q depthai-nodes==0.3.0 -U"
      ]
    },
    {
      "cell_type": "markdown",
      "id": "00c1952c",
      "metadata": {
        "id": "00c1952c"
      },
      "source": [
        "To run the model on a DepthAI device using the script below, please note the following:\n",
        "\n",
        "- You can view the output stream by opening [http://localhost:8082](http://localhost:8082) in your browser.\n",
        "\n",
        "- If you're running the script from a Jupyter Notebook, the output may not appear directly within the notebook. The script should print a link pointing to [http://localhost:8082](http://localhost:8082) for accessing the stream.\n",
        "\n",
        "- To stop the video stream, press **`q`** while focused on the visualizer page."
      ]
    },
    {
      "cell_type": "code",
      "execution_count": null,
      "id": "40b8eb58",
      "metadata": {
        "id": "40b8eb58"
      },
      "outputs": [],
      "source": [
        "DEVICE = None # Set to None to use the default device, or you can specify a specific device IP"
      ]
    },
    {
      "cell_type": "code",
      "execution_count": null,
      "id": "809a0fea",
      "metadata": {
        "id": "809a0fea"
      },
      "outputs": [],
      "source": [
        "import depthai as dai\n",
        "from depthai_nodes.node import ParsingNeuralNetwork, ImgDetectionsBridge\n",
        "\n",
        "device = dai.Device(dai.DeviceInfo(DEVICE)) if DEVICE else dai.Device()\n",
        "platform = device.getPlatform()\n",
        "img_frame_type = dai.ImgFrame.Type.BGR888i if platform.name == \"RVC4\" else dai.ImgFrame.Type.BGR888p\n",
        "visualizer = dai.RemoteConnection(httpPort=8082)\n",
        "\n",
        "with dai.Pipeline(device) as pipeline:\n",
        "    cam = pipeline.create(dai.node.Camera).build()\n",
        "    nn_archive = dai.NNArchive(MODEL_PATH)\n",
        "    # Create the neural network node\n",
        "    nn_with_parser = pipeline.create(ParsingNeuralNetwork).build(\n",
        "        cam.requestOutput((512, 288), type=img_frame_type, fps=30),\n",
        "        nn_archive\n",
        "    )\n",
        "\n",
        "    # Bridge the detections to the visualizer\n",
        "    label_encoding = {k: v for k, v in enumerate(nn_archive.getConfig().model.heads[0].metadata.classes)}\n",
        "    bridge = pipeline.create(ImgDetectionsBridge).build(nn_with_parser.out)\n",
        "    bridge.setLabelEncoding(label_encoding)\n",
        "\n",
        "    # Configure the visualizer node\n",
        "    visualizer.addTopic(\"Video\", nn_with_parser.passthrough, \"images\")\n",
        "    visualizer.addTopic(\"Detections\", bridge.out, \"detections\")\n",
        "\n",
        "    pipeline.start()\n",
        "    visualizer.registerPipeline(pipeline)\n",
        "\n",
        "    while pipeline.isRunning():\n",
        "        key = visualizer.waitKey(1)\n",
        "        if key == ord(\"q\"):\n",
        "            print(\"Got q key from the remote connection!\")\n",
        "            break"
      ]
    }
  ],
  "metadata": {
    "accelerator": "GPU",
    "colab": {
      "gpuType": "T4",
      "provenance": []
    },
    "kernelspec": {
      "display_name": ".venv",
      "language": "python",
      "name": "python3"
    },
    "language_info": {
      "codemirror_mode": {
        "name": "ipython",
        "version": 3
      },
      "file_extension": ".py",
      "mimetype": "text/x-python",
      "name": "python",
      "nbconvert_exporter": "python",
      "pygments_lexer": "ipython3",
      "version": "3.10.11"
    }
  },
  "nbformat": 4,
  "nbformat_minor": 5
}